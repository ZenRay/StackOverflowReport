{
 "cells": [
  {
   "cell_type": "markdown",
   "metadata": {},
   "source": [
    "\n",
    "# 项目：Stack OverFlow2018年数据处理\n",
    "\n",
    "## 目录\n",
    "<ul>\n",
    "<li><a href=\"#1\">17年18年数据对比查看</a></li>\n",
    "<li><a href=\"#2\">从原数据中提取需要的2018年数据</a></li>\n",
    "<li><a href=\"#3\">数据清洗步骤</a></li>\n",
    "<li><a href=\"#4\">结论</a></li>\n",
    "</ul>"
   ]
  },
  {
   "cell_type": "code",
   "execution_count": 1,
   "metadata": {},
   "outputs": [],
   "source": [
    "import pandas as pd\n",
    "import numpy as np\n",
    "import re\n",
    "import sys\n",
    "\n",
    "sys.path.append(\"preprocess.py\")\n",
    "\n",
    "import preprocess"
   ]
  },
  {
   "cell_type": "code",
   "execution_count": 53,
   "metadata": {},
   "outputs": [
    {
     "name": "stderr",
     "output_type": "stream",
     "text": [
      "D:\\anaconda3\\lib\\site-packages\\IPython\\core\\interactiveshell.py:2728: DtypeWarning: Columns (8,12,13,14,15,16,50,51,52,53,55,56,57,58,59,60,61,62,63,64,65,66,67,68,69,70,71,72,73,74,75,76,77,78,79,80,81,82,83,84,85,93,94,95,96,97,98,99,100,101,102,103,104,105,106,107,108,109,110,111,112,113,114,115,116,117,118,119,120,121,122,123,124,125,126,127,128) have mixed types. Specify dtype option on import or set low_memory=False.\n",
      "  interactivity=interactivity, compiler=compiler, result=result)\n"
     ]
    }
   ],
   "source": [
    "df_2018 = pd.read_csv('survey_results_public.csv')"
   ]
  },
  {
   "cell_type": "code",
   "execution_count": 3,
   "metadata": {
    "scrolled": false
   },
   "outputs": [
    {
     "data": {
      "text/plain": [
       "Index(['Respondent', 'Hobby', 'OpenSource', 'Country', 'Student', 'Employment',\n",
       "       'FormalEducation', 'UndergradMajor', 'CompanySize', 'DevType',\n",
       "       ...\n",
       "       'Exercise', 'Gender', 'SexualOrientation', 'EducationParents',\n",
       "       'RaceEthnicity', 'Age', 'Dependents', 'MilitaryUS', 'SurveyTooLong',\n",
       "       'SurveyEasy'],\n",
       "      dtype='object', length=129)"
      ]
     },
     "execution_count": 3,
     "metadata": {},
     "output_type": "execute_result"
    }
   ],
   "source": [
    "df_2018.columns"
   ]
  },
  {
   "cell_type": "code",
   "execution_count": 16,
   "metadata": {},
   "outputs": [
    {
     "data": {
      "text/plain": [
       "(98855, 129)"
      ]
     },
     "execution_count": 16,
     "metadata": {},
     "output_type": "execute_result"
    }
   ],
   "source": [
    "df_2018.shape"
   ]
  },
  {
   "cell_type": "code",
   "execution_count": 17,
   "metadata": {},
   "outputs": [],
   "source": [
    "df_2018.drop(['Currency','MilitaryUS','SurveyTooLong','SurveyEasy','SexualOrientation','HoursOutside','ErgonomicDevices','Dependents', 'EducationParents','HopeFiveYears','SalaryType','NumberMonitors','NumberMonitors','VersionControl','CheckInCode', 'EthicsChoice','EthicsReport','EthicsResponsible','EthicalImplications','JobContactPriorities1','JobContactPriorities2', 'JobContactPriorities3','JobContactPriorities4','JobContactPriorities5','JobEmailPriorities1','JobEmailPriorities2', 'JobEmailPriorities3','JobEmailPriorities4','JobEmailPriorities5','JobEmailPriorities6','JobEmailPriorities7'],axis= 1, inplace=True)"
   ]
  },
  {
   "cell_type": "code",
   "execution_count": 18,
   "metadata": {
    "scrolled": true
   },
   "outputs": [
    {
     "data": {
      "text/plain": [
       "Index(['Respondent', 'Hobby', 'OpenSource', 'Country', 'Student', 'Employment',\n",
       "       'FormalEducation', 'UndergradMajor', 'CompanySize', 'DevType',\n",
       "       'YearsCoding', 'YearsCodingProf', 'JobSatisfaction',\n",
       "       'CareerSatisfaction', 'JobSearchStatus', 'LastNewJob', 'AssessJob1',\n",
       "       'AssessJob2', 'AssessJob3', 'AssessJob4', 'AssessJob5', 'AssessJob6',\n",
       "       'AssessJob7', 'AssessJob8', 'AssessJob9', 'AssessJob10',\n",
       "       'AssessBenefits1', 'AssessBenefits2', 'AssessBenefits3',\n",
       "       'AssessBenefits4', 'AssessBenefits5', 'AssessBenefits6',\n",
       "       'AssessBenefits7', 'AssessBenefits8', 'AssessBenefits9',\n",
       "       'AssessBenefits10', 'AssessBenefits11', 'UpdateCV', 'Salary',\n",
       "       'ConvertedSalary', 'CurrencySymbol', 'CommunicationTools',\n",
       "       'TimeFullyProductive', 'EducationTypes', 'SelfTaughtTypes',\n",
       "       'TimeAfterBootcamp', 'HackathonReasons', 'AgreeDisagree1',\n",
       "       'AgreeDisagree2', 'AgreeDisagree3', 'LanguageWorkedWith',\n",
       "       'LanguageDesireNextYear', 'DatabaseWorkedWith',\n",
       "       'DatabaseDesireNextYear', 'PlatformWorkedWith',\n",
       "       'PlatformDesireNextYear', 'FrameworkWorkedWith',\n",
       "       'FrameworkDesireNextYear', 'IDE', 'OperatingSystem', 'Methodology',\n",
       "       'AdBlocker', 'AdBlockerDisable', 'AdBlockerReasons',\n",
       "       'AdsAgreeDisagree1', 'AdsAgreeDisagree2', 'AdsAgreeDisagree3',\n",
       "       'AdsActions', 'AdsPriorities1', 'AdsPriorities2', 'AdsPriorities3',\n",
       "       'AdsPriorities4', 'AdsPriorities5', 'AdsPriorities6', 'AdsPriorities7',\n",
       "       'AIDangerous', 'AIInteresting', 'AIResponsible', 'AIFuture',\n",
       "       'StackOverflowRecommend', 'StackOverflowVisit',\n",
       "       'StackOverflowHasAccount', 'StackOverflowParticipate',\n",
       "       'StackOverflowJobs', 'StackOverflowDevStory',\n",
       "       'StackOverflowJobsRecommend', 'StackOverflowConsiderMember',\n",
       "       'HypotheticalTools1', 'HypotheticalTools2', 'HypotheticalTools3',\n",
       "       'HypotheticalTools4', 'HypotheticalTools5', 'WakeTime', 'HoursComputer',\n",
       "       'SkipMeals', 'Exercise', 'Gender', 'RaceEthnicity', 'Age'],\n",
       "      dtype='object')"
      ]
     },
     "execution_count": 18,
     "metadata": {},
     "output_type": "execute_result"
    }
   ],
   "source": [
    "df_2018.columns"
   ]
  },
  {
   "cell_type": "code",
   "execution_count": 19,
   "metadata": {
    "scrolled": true
   },
   "outputs": [
    {
     "data": {
      "text/plain": [
       "(98855, 99)"
      ]
     },
     "execution_count": 19,
     "metadata": {},
     "output_type": "execute_result"
    }
   ],
   "source": [
    "df_2018.shape"
   ]
  },
  {
   "cell_type": "markdown",
   "metadata": {},
   "source": [
    "<a id='1'></a>\n",
    "### 17年18年数据对比查看"
   ]
  },
  {
   "cell_type": "code",
   "execution_count": 3,
   "metadata": {
    "scrolled": true
   },
   "outputs": [
    {
     "name": "stderr",
     "output_type": "stream",
     "text": [
      "D:\\anaconda3\\lib\\site-packages\\IPython\\core\\interactiveshell.py:2728: DtypeWarning: Columns (8,12,13,14,15,16,50,51,52,53,55,56,57,58,59,60,61,62,63,64,65,66,67,68,69,70,71,72,73,74,75,76,77,78,79,80,81,82,83,84,85,93,94,95,96,97,98,99,100,101,102,103,104,105,106,107,108,109,110,111,112,113,114,115,116,117,118,119,120,121,122,123,124,125,126,127,128) have mixed types. Specify dtype option on import or set low_memory=False.\n",
      "  interactivity=interactivity, compiler=compiler, result=result)\n"
     ]
    }
   ],
   "source": [
    "df_2018 = pd.read_csv('survey_results_public.csv')"
   ]
  },
  {
   "cell_type": "code",
   "execution_count": 5,
   "metadata": {},
   "outputs": [
    {
     "data": {
      "text/html": [
       "<div>\n",
       "<style scoped>\n",
       "    .dataframe tbody tr th:only-of-type {\n",
       "        vertical-align: middle;\n",
       "    }\n",
       "\n",
       "    .dataframe tbody tr th {\n",
       "        vertical-align: top;\n",
       "    }\n",
       "\n",
       "    .dataframe thead th {\n",
       "        text-align: right;\n",
       "    }\n",
       "</style>\n",
       "<table border=\"1\" class=\"dataframe\">\n",
       "  <thead>\n",
       "    <tr style=\"text-align: right;\">\n",
       "      <th></th>\n",
       "      <th>Respondent</th>\n",
       "      <th>Hobby</th>\n",
       "      <th>OpenSource</th>\n",
       "      <th>Country</th>\n",
       "      <th>Student</th>\n",
       "      <th>Employment</th>\n",
       "      <th>FormalEducation</th>\n",
       "      <th>UndergradMajor</th>\n",
       "      <th>CompanySize</th>\n",
       "      <th>DevType</th>\n",
       "      <th>...</th>\n",
       "      <th>Exercise</th>\n",
       "      <th>Gender</th>\n",
       "      <th>SexualOrientation</th>\n",
       "      <th>EducationParents</th>\n",
       "      <th>RaceEthnicity</th>\n",
       "      <th>Age</th>\n",
       "      <th>Dependents</th>\n",
       "      <th>MilitaryUS</th>\n",
       "      <th>SurveyTooLong</th>\n",
       "      <th>SurveyEasy</th>\n",
       "    </tr>\n",
       "  </thead>\n",
       "  <tbody>\n",
       "    <tr>\n",
       "      <th>0</th>\n",
       "      <td>1</td>\n",
       "      <td>Yes</td>\n",
       "      <td>No</td>\n",
       "      <td>Kenya</td>\n",
       "      <td>No</td>\n",
       "      <td>Employed part-time</td>\n",
       "      <td>Bachelor’s degree (BA, BS, B.Eng., etc.)</td>\n",
       "      <td>Mathematics or statistics</td>\n",
       "      <td>20 to 99 employees</td>\n",
       "      <td>Full-stack developer</td>\n",
       "      <td>...</td>\n",
       "      <td>3 - 4 times per week</td>\n",
       "      <td>Male</td>\n",
       "      <td>Straight or heterosexual</td>\n",
       "      <td>Bachelor’s degree (BA, BS, B.Eng., etc.)</td>\n",
       "      <td>Black or of African descent</td>\n",
       "      <td>25 - 34 years old</td>\n",
       "      <td>Yes</td>\n",
       "      <td>NaN</td>\n",
       "      <td>The survey was an appropriate length</td>\n",
       "      <td>Very easy</td>\n",
       "    </tr>\n",
       "    <tr>\n",
       "      <th>1</th>\n",
       "      <td>3</td>\n",
       "      <td>Yes</td>\n",
       "      <td>Yes</td>\n",
       "      <td>United Kingdom</td>\n",
       "      <td>No</td>\n",
       "      <td>Employed full-time</td>\n",
       "      <td>Bachelor’s degree (BA, BS, B.Eng., etc.)</td>\n",
       "      <td>A natural science (ex. biology, chemistry, phy...</td>\n",
       "      <td>10,000 or more employees</td>\n",
       "      <td>Database administrator;DevOps specialist;Full-...</td>\n",
       "      <td>...</td>\n",
       "      <td>Daily or almost every day</td>\n",
       "      <td>Male</td>\n",
       "      <td>Straight or heterosexual</td>\n",
       "      <td>Bachelor’s degree (BA, BS, B.Eng., etc.)</td>\n",
       "      <td>White or of European descent</td>\n",
       "      <td>35 - 44 years old</td>\n",
       "      <td>Yes</td>\n",
       "      <td>NaN</td>\n",
       "      <td>The survey was an appropriate length</td>\n",
       "      <td>Somewhat easy</td>\n",
       "    </tr>\n",
       "    <tr>\n",
       "      <th>2</th>\n",
       "      <td>4</td>\n",
       "      <td>Yes</td>\n",
       "      <td>Yes</td>\n",
       "      <td>United States</td>\n",
       "      <td>No</td>\n",
       "      <td>Employed full-time</td>\n",
       "      <td>Associate degree</td>\n",
       "      <td>Computer science, computer engineering, or sof...</td>\n",
       "      <td>20 to 99 employees</td>\n",
       "      <td>Engineering manager;Full-stack developer</td>\n",
       "      <td>...</td>\n",
       "      <td>NaN</td>\n",
       "      <td>NaN</td>\n",
       "      <td>NaN</td>\n",
       "      <td>NaN</td>\n",
       "      <td>NaN</td>\n",
       "      <td>NaN</td>\n",
       "      <td>NaN</td>\n",
       "      <td>NaN</td>\n",
       "      <td>NaN</td>\n",
       "      <td>NaN</td>\n",
       "    </tr>\n",
       "    <tr>\n",
       "      <th>3</th>\n",
       "      <td>5</td>\n",
       "      <td>No</td>\n",
       "      <td>No</td>\n",
       "      <td>United States</td>\n",
       "      <td>No</td>\n",
       "      <td>Employed full-time</td>\n",
       "      <td>Bachelor’s degree (BA, BS, B.Eng., etc.)</td>\n",
       "      <td>Computer science, computer engineering, or sof...</td>\n",
       "      <td>100 to 499 employees</td>\n",
       "      <td>Full-stack developer</td>\n",
       "      <td>...</td>\n",
       "      <td>I don't typically exercise</td>\n",
       "      <td>Male</td>\n",
       "      <td>Straight or heterosexual</td>\n",
       "      <td>Some college/university study without earning ...</td>\n",
       "      <td>White or of European descent</td>\n",
       "      <td>35 - 44 years old</td>\n",
       "      <td>No</td>\n",
       "      <td>No</td>\n",
       "      <td>The survey was an appropriate length</td>\n",
       "      <td>Somewhat easy</td>\n",
       "    </tr>\n",
       "    <tr>\n",
       "      <th>4</th>\n",
       "      <td>7</td>\n",
       "      <td>Yes</td>\n",
       "      <td>No</td>\n",
       "      <td>South Africa</td>\n",
       "      <td>Yes, part-time</td>\n",
       "      <td>Employed full-time</td>\n",
       "      <td>Some college/university study without earning ...</td>\n",
       "      <td>Computer science, computer engineering, or sof...</td>\n",
       "      <td>10,000 or more employees</td>\n",
       "      <td>Data or business analyst;Desktop or enterprise...</td>\n",
       "      <td>...</td>\n",
       "      <td>3 - 4 times per week</td>\n",
       "      <td>Male</td>\n",
       "      <td>Straight or heterosexual</td>\n",
       "      <td>Some college/university study without earning ...</td>\n",
       "      <td>White or of European descent</td>\n",
       "      <td>18 - 24 years old</td>\n",
       "      <td>Yes</td>\n",
       "      <td>NaN</td>\n",
       "      <td>The survey was an appropriate length</td>\n",
       "      <td>Somewhat easy</td>\n",
       "    </tr>\n",
       "  </tbody>\n",
       "</table>\n",
       "<p>5 rows × 129 columns</p>\n",
       "</div>"
      ],
      "text/plain": [
       "   Respondent Hobby OpenSource         Country         Student  \\\n",
       "0           1   Yes         No           Kenya              No   \n",
       "1           3   Yes        Yes  United Kingdom              No   \n",
       "2           4   Yes        Yes   United States              No   \n",
       "3           5    No         No   United States              No   \n",
       "4           7   Yes         No    South Africa  Yes, part-time   \n",
       "\n",
       "           Employment                                    FormalEducation  \\\n",
       "0  Employed part-time           Bachelor’s degree (BA, BS, B.Eng., etc.)   \n",
       "1  Employed full-time           Bachelor’s degree (BA, BS, B.Eng., etc.)   \n",
       "2  Employed full-time                                   Associate degree   \n",
       "3  Employed full-time           Bachelor’s degree (BA, BS, B.Eng., etc.)   \n",
       "4  Employed full-time  Some college/university study without earning ...   \n",
       "\n",
       "                                      UndergradMajor  \\\n",
       "0                          Mathematics or statistics   \n",
       "1  A natural science (ex. biology, chemistry, phy...   \n",
       "2  Computer science, computer engineering, or sof...   \n",
       "3  Computer science, computer engineering, or sof...   \n",
       "4  Computer science, computer engineering, or sof...   \n",
       "\n",
       "                CompanySize  \\\n",
       "0        20 to 99 employees   \n",
       "1  10,000 or more employees   \n",
       "2        20 to 99 employees   \n",
       "3      100 to 499 employees   \n",
       "4  10,000 or more employees   \n",
       "\n",
       "                                             DevType      ...        \\\n",
       "0                               Full-stack developer      ...         \n",
       "1  Database administrator;DevOps specialist;Full-...      ...         \n",
       "2           Engineering manager;Full-stack developer      ...         \n",
       "3                               Full-stack developer      ...         \n",
       "4  Data or business analyst;Desktop or enterprise...      ...         \n",
       "\n",
       "                     Exercise Gender         SexualOrientation  \\\n",
       "0        3 - 4 times per week   Male  Straight or heterosexual   \n",
       "1   Daily or almost every day   Male  Straight or heterosexual   \n",
       "2                         NaN    NaN                       NaN   \n",
       "3  I don't typically exercise   Male  Straight or heterosexual   \n",
       "4        3 - 4 times per week   Male  Straight or heterosexual   \n",
       "\n",
       "                                    EducationParents  \\\n",
       "0           Bachelor’s degree (BA, BS, B.Eng., etc.)   \n",
       "1           Bachelor’s degree (BA, BS, B.Eng., etc.)   \n",
       "2                                                NaN   \n",
       "3  Some college/university study without earning ...   \n",
       "4  Some college/university study without earning ...   \n",
       "\n",
       "                  RaceEthnicity                Age Dependents  MilitaryUS  \\\n",
       "0   Black or of African descent  25 - 34 years old        Yes         NaN   \n",
       "1  White or of European descent  35 - 44 years old        Yes         NaN   \n",
       "2                           NaN                NaN        NaN         NaN   \n",
       "3  White or of European descent  35 - 44 years old         No          No   \n",
       "4  White or of European descent  18 - 24 years old        Yes         NaN   \n",
       "\n",
       "                          SurveyTooLong     SurveyEasy  \n",
       "0  The survey was an appropriate length      Very easy  \n",
       "1  The survey was an appropriate length  Somewhat easy  \n",
       "2                                   NaN            NaN  \n",
       "3  The survey was an appropriate length  Somewhat easy  \n",
       "4  The survey was an appropriate length  Somewhat easy  \n",
       "\n",
       "[5 rows x 129 columns]"
      ]
     },
     "execution_count": 5,
     "metadata": {},
     "output_type": "execute_result"
    }
   ],
   "source": [
    "df_2018.head()"
   ]
  },
  {
   "cell_type": "code",
   "execution_count": 48,
   "metadata": {},
   "outputs": [],
   "source": [
    "df_2017 = pd.read_csv('survey_results_public_2017.csv')"
   ]
  },
  {
   "cell_type": "code",
   "execution_count": 5,
   "metadata": {
    "scrolled": true
   },
   "outputs": [
    {
     "data": {
      "text/html": [
       "<div>\n",
       "<style scoped>\n",
       "    .dataframe tbody tr th:only-of-type {\n",
       "        vertical-align: middle;\n",
       "    }\n",
       "\n",
       "    .dataframe tbody tr th {\n",
       "        vertical-align: top;\n",
       "    }\n",
       "\n",
       "    .dataframe thead th {\n",
       "        text-align: right;\n",
       "    }\n",
       "</style>\n",
       "<table border=\"1\" class=\"dataframe\">\n",
       "  <thead>\n",
       "    <tr style=\"text-align: right;\">\n",
       "      <th></th>\n",
       "      <th>Respondent</th>\n",
       "      <th>Professional</th>\n",
       "      <th>ProgramHobby</th>\n",
       "      <th>Country</th>\n",
       "      <th>University</th>\n",
       "      <th>EmploymentStatus</th>\n",
       "      <th>FormalEducation</th>\n",
       "      <th>MajorUndergrad</th>\n",
       "      <th>HomeRemote</th>\n",
       "      <th>CompanySize</th>\n",
       "      <th>...</th>\n",
       "      <th>StackOverflowMakeMoney</th>\n",
       "      <th>Gender</th>\n",
       "      <th>HighestEducationParents</th>\n",
       "      <th>Race</th>\n",
       "      <th>SurveyLong</th>\n",
       "      <th>QuestionsInteresting</th>\n",
       "      <th>QuestionsConfusing</th>\n",
       "      <th>InterestedAnswers</th>\n",
       "      <th>Salary</th>\n",
       "      <th>ExpectedSalary</th>\n",
       "    </tr>\n",
       "  </thead>\n",
       "  <tbody>\n",
       "    <tr>\n",
       "      <th>0</th>\n",
       "      <td>1</td>\n",
       "      <td>Student</td>\n",
       "      <td>Yes, both</td>\n",
       "      <td>United States</td>\n",
       "      <td>No</td>\n",
       "      <td>Not employed, and not looking for work</td>\n",
       "      <td>Secondary school</td>\n",
       "      <td>NaN</td>\n",
       "      <td>NaN</td>\n",
       "      <td>NaN</td>\n",
       "      <td>...</td>\n",
       "      <td>Strongly disagree</td>\n",
       "      <td>Male</td>\n",
       "      <td>High school</td>\n",
       "      <td>White or of European descent</td>\n",
       "      <td>Strongly disagree</td>\n",
       "      <td>Strongly agree</td>\n",
       "      <td>Disagree</td>\n",
       "      <td>Strongly agree</td>\n",
       "      <td>NaN</td>\n",
       "      <td>NaN</td>\n",
       "    </tr>\n",
       "    <tr>\n",
       "      <th>1</th>\n",
       "      <td>2</td>\n",
       "      <td>Student</td>\n",
       "      <td>Yes, both</td>\n",
       "      <td>United Kingdom</td>\n",
       "      <td>Yes, full-time</td>\n",
       "      <td>Employed part-time</td>\n",
       "      <td>Some college/university study without earning ...</td>\n",
       "      <td>Computer science or software engineering</td>\n",
       "      <td>More than half, but not all, the time</td>\n",
       "      <td>20 to 99 employees</td>\n",
       "      <td>...</td>\n",
       "      <td>Strongly disagree</td>\n",
       "      <td>Male</td>\n",
       "      <td>A master's degree</td>\n",
       "      <td>White or of European descent</td>\n",
       "      <td>Somewhat agree</td>\n",
       "      <td>Somewhat agree</td>\n",
       "      <td>Disagree</td>\n",
       "      <td>Strongly agree</td>\n",
       "      <td>NaN</td>\n",
       "      <td>37500.0</td>\n",
       "    </tr>\n",
       "    <tr>\n",
       "      <th>2</th>\n",
       "      <td>3</td>\n",
       "      <td>Professional developer</td>\n",
       "      <td>Yes, both</td>\n",
       "      <td>United Kingdom</td>\n",
       "      <td>No</td>\n",
       "      <td>Employed full-time</td>\n",
       "      <td>Bachelor's degree</td>\n",
       "      <td>Computer science or software engineering</td>\n",
       "      <td>Less than half the time, but at least one day ...</td>\n",
       "      <td>10,000 or more employees</td>\n",
       "      <td>...</td>\n",
       "      <td>Disagree</td>\n",
       "      <td>Male</td>\n",
       "      <td>A professional degree</td>\n",
       "      <td>White or of European descent</td>\n",
       "      <td>Somewhat agree</td>\n",
       "      <td>Agree</td>\n",
       "      <td>Disagree</td>\n",
       "      <td>Agree</td>\n",
       "      <td>113750.0</td>\n",
       "      <td>NaN</td>\n",
       "    </tr>\n",
       "    <tr>\n",
       "      <th>3</th>\n",
       "      <td>4</td>\n",
       "      <td>Professional non-developer who sometimes write...</td>\n",
       "      <td>Yes, both</td>\n",
       "      <td>United States</td>\n",
       "      <td>No</td>\n",
       "      <td>Employed full-time</td>\n",
       "      <td>Doctoral degree</td>\n",
       "      <td>A non-computer-focused engineering discipline</td>\n",
       "      <td>Less than half the time, but at least one day ...</td>\n",
       "      <td>10,000 or more employees</td>\n",
       "      <td>...</td>\n",
       "      <td>Disagree</td>\n",
       "      <td>Male</td>\n",
       "      <td>A doctoral degree</td>\n",
       "      <td>White or of European descent</td>\n",
       "      <td>Agree</td>\n",
       "      <td>Agree</td>\n",
       "      <td>Somewhat agree</td>\n",
       "      <td>Strongly agree</td>\n",
       "      <td>NaN</td>\n",
       "      <td>NaN</td>\n",
       "    </tr>\n",
       "    <tr>\n",
       "      <th>4</th>\n",
       "      <td>5</td>\n",
       "      <td>Professional developer</td>\n",
       "      <td>Yes, I program as a hobby</td>\n",
       "      <td>Switzerland</td>\n",
       "      <td>No</td>\n",
       "      <td>Employed full-time</td>\n",
       "      <td>Master's degree</td>\n",
       "      <td>Computer science or software engineering</td>\n",
       "      <td>Never</td>\n",
       "      <td>10 to 19 employees</td>\n",
       "      <td>...</td>\n",
       "      <td>NaN</td>\n",
       "      <td>NaN</td>\n",
       "      <td>NaN</td>\n",
       "      <td>NaN</td>\n",
       "      <td>NaN</td>\n",
       "      <td>NaN</td>\n",
       "      <td>NaN</td>\n",
       "      <td>NaN</td>\n",
       "      <td>NaN</td>\n",
       "      <td>NaN</td>\n",
       "    </tr>\n",
       "  </tbody>\n",
       "</table>\n",
       "<p>5 rows × 154 columns</p>\n",
       "</div>"
      ],
      "text/plain": [
       "   Respondent                                       Professional  \\\n",
       "0           1                                            Student   \n",
       "1           2                                            Student   \n",
       "2           3                             Professional developer   \n",
       "3           4  Professional non-developer who sometimes write...   \n",
       "4           5                             Professional developer   \n",
       "\n",
       "                ProgramHobby         Country      University  \\\n",
       "0                  Yes, both   United States              No   \n",
       "1                  Yes, both  United Kingdom  Yes, full-time   \n",
       "2                  Yes, both  United Kingdom              No   \n",
       "3                  Yes, both   United States              No   \n",
       "4  Yes, I program as a hobby     Switzerland              No   \n",
       "\n",
       "                         EmploymentStatus  \\\n",
       "0  Not employed, and not looking for work   \n",
       "1                      Employed part-time   \n",
       "2                      Employed full-time   \n",
       "3                      Employed full-time   \n",
       "4                      Employed full-time   \n",
       "\n",
       "                                     FormalEducation  \\\n",
       "0                                   Secondary school   \n",
       "1  Some college/university study without earning ...   \n",
       "2                                  Bachelor's degree   \n",
       "3                                    Doctoral degree   \n",
       "4                                    Master's degree   \n",
       "\n",
       "                                  MajorUndergrad  \\\n",
       "0                                            NaN   \n",
       "1       Computer science or software engineering   \n",
       "2       Computer science or software engineering   \n",
       "3  A non-computer-focused engineering discipline   \n",
       "4       Computer science or software engineering   \n",
       "\n",
       "                                          HomeRemote  \\\n",
       "0                                                NaN   \n",
       "1              More than half, but not all, the time   \n",
       "2  Less than half the time, but at least one day ...   \n",
       "3  Less than half the time, but at least one day ...   \n",
       "4                                              Never   \n",
       "\n",
       "                CompanySize       ...       StackOverflowMakeMoney Gender  \\\n",
       "0                       NaN       ...            Strongly disagree   Male   \n",
       "1        20 to 99 employees       ...            Strongly disagree   Male   \n",
       "2  10,000 or more employees       ...                     Disagree   Male   \n",
       "3  10,000 or more employees       ...                     Disagree   Male   \n",
       "4        10 to 19 employees       ...                          NaN    NaN   \n",
       "\n",
       "  HighestEducationParents                          Race         SurveyLong  \\\n",
       "0             High school  White or of European descent  Strongly disagree   \n",
       "1       A master's degree  White or of European descent     Somewhat agree   \n",
       "2   A professional degree  White or of European descent     Somewhat agree   \n",
       "3       A doctoral degree  White or of European descent              Agree   \n",
       "4                     NaN                           NaN                NaN   \n",
       "\n",
       "  QuestionsInteresting QuestionsConfusing InterestedAnswers    Salary  \\\n",
       "0       Strongly agree           Disagree    Strongly agree       NaN   \n",
       "1       Somewhat agree           Disagree    Strongly agree       NaN   \n",
       "2                Agree           Disagree             Agree  113750.0   \n",
       "3                Agree     Somewhat agree    Strongly agree       NaN   \n",
       "4                  NaN                NaN               NaN       NaN   \n",
       "\n",
       "   ExpectedSalary  \n",
       "0             NaN  \n",
       "1         37500.0  \n",
       "2             NaN  \n",
       "3             NaN  \n",
       "4             NaN  \n",
       "\n",
       "[5 rows x 154 columns]"
      ]
     },
     "execution_count": 5,
     "metadata": {},
     "output_type": "execute_result"
    }
   ],
   "source": [
    "df_2017.head()"
   ]
  },
  {
   "cell_type": "code",
   "execution_count": 6,
   "metadata": {
    "scrolled": true
   },
   "outputs": [
    {
     "data": {
      "text/plain": [
       "Index(['Respondent', 'Hobby', 'OpenSource', 'Country', 'Student', 'Employment',\n",
       "       'FormalEducation', 'UndergradMajor', 'CompanySize', 'DevType',\n",
       "       ...\n",
       "       'Exercise', 'Gender', 'SexualOrientation', 'EducationParents',\n",
       "       'RaceEthnicity', 'Age', 'Dependents', 'MilitaryUS', 'SurveyTooLong',\n",
       "       'SurveyEasy'],\n",
       "      dtype='object', length=129)"
      ]
     },
     "execution_count": 6,
     "metadata": {},
     "output_type": "execute_result"
    }
   ],
   "source": [
    "df_2018.columns"
   ]
  },
  {
   "cell_type": "code",
   "execution_count": 38,
   "metadata": {},
   "outputs": [
    {
     "data": {
      "text/plain": [
       "(98855, 129)"
      ]
     },
     "execution_count": 38,
     "metadata": {},
     "output_type": "execute_result"
    }
   ],
   "source": [
    "df_2018.shape"
   ]
  },
  {
   "cell_type": "code",
   "execution_count": 12,
   "metadata": {},
   "outputs": [
    {
     "data": {
      "text/plain": [
       "No                70399\n",
       "Yes, full-time    18394\n",
       "Yes, part-time     6108\n",
       "Name: Student, dtype: int64"
      ]
     },
     "execution_count": 12,
     "metadata": {},
     "output_type": "execute_result"
    }
   ],
   "source": [
    "df_2018['Student'].value_counts()"
   ]
  },
  {
   "cell_type": "code",
   "execution_count": 15,
   "metadata": {
    "scrolled": true
   },
   "outputs": [
    {
     "data": {
      "text/plain": [
       "No                     37543\n",
       "Yes, full-time          9369\n",
       "Yes, part-time          3352\n",
       "I prefer not to say     1128\n",
       "Name: University, dtype: int64"
      ]
     },
     "execution_count": 15,
     "metadata": {},
     "output_type": "execute_result"
    }
   ],
   "source": [
    "df_2017['University'].value_counts()"
   ]
  },
  {
   "cell_type": "code",
   "execution_count": 17,
   "metadata": {
    "scrolled": true
   },
   "outputs": [
    {
     "data": {
      "text/plain": [
       "Employed full-time                                      70495\n",
       "Independent contractor, freelancer, or self-employed     9282\n",
       "Not employed, but looking for work                       5805\n",
       "Employed part-time                                       5380\n",
       "Not employed, and not looking for work                   4132\n",
       "Retired                                                   227\n",
       "Name: Employment, dtype: int64"
      ]
     },
     "execution_count": 17,
     "metadata": {},
     "output_type": "execute_result"
    }
   ],
   "source": [
    "df_2018['Employment'].value_counts()"
   ]
  },
  {
   "cell_type": "code",
   "execution_count": 18,
   "metadata": {
    "scrolled": true
   },
   "outputs": [
    {
     "data": {
      "text/plain": [
       "Employed full-time                                      36148\n",
       "Independent contractor, freelancer, or self-employed     5233\n",
       "Employed part-time                                       3180\n",
       "Not employed, and not looking for work                   2791\n",
       "Not employed, but looking for work                       2786\n",
       "I prefer not to say                                      1086\n",
       "Retired                                                   168\n",
       "Name: EmploymentStatus, dtype: int64"
      ]
     },
     "execution_count": 18,
     "metadata": {},
     "output_type": "execute_result"
    }
   ],
   "source": [
    "df_2017['EmploymentStatus'].value_counts()"
   ]
  },
  {
   "cell_type": "code",
   "execution_count": 19,
   "metadata": {
    "scrolled": false
   },
   "outputs": [
    {
     "data": {
      "text/plain": [
       "Bachelor’s degree (BA, BS, B.Eng., etc.)                                              43659\n",
       "Master’s degree (MA, MS, M.Eng., MBA, etc.)                                           21396\n",
       "Some college/university study without earning a degree                                11710\n",
       "Secondary school (e.g. American high school, German Realschule or Gymnasium, etc.)     8951\n",
       "Associate degree                                                                       2970\n",
       "Other doctoral degree (Ph.D, Ed.D., etc.)                                              2214\n",
       "Primary/elementary school                                                              1656\n",
       "Professional degree (JD, MD, etc.)                                                     1447\n",
       "I never completed any formal education                                                  700\n",
       "Name: FormalEducation, dtype: int64"
      ]
     },
     "execution_count": 19,
     "metadata": {},
     "output_type": "execute_result"
    }
   ],
   "source": [
    "df_2018['FormalEducation'].value_counts()"
   ]
  },
  {
   "cell_type": "code",
   "execution_count": 21,
   "metadata": {
    "scrolled": true
   },
   "outputs": [
    {
     "data": {
      "text/plain": [
       "Bachelor's degree                                                    21609\n",
       "Master's degree                                                      11141\n",
       "Some college/university study without earning a bachelor's degree     8129\n",
       "Secondary school                                                      5908\n",
       "Doctoral degree                                                       1308\n",
       "I prefer not to answer                                                1109\n",
       "Primary/elementary school                                             1047\n",
       "Professional degree                                                    715\n",
       "I never completed any formal education                                 426\n",
       "Name: FormalEducation, dtype: int64"
      ]
     },
     "execution_count": 21,
     "metadata": {},
     "output_type": "execute_result"
    }
   ],
   "source": [
    "df_2017['FormalEducation'].value_counts()"
   ]
  },
  {
   "cell_type": "code",
   "execution_count": 20,
   "metadata": {
    "scrolled": true
   },
   "outputs": [
    {
     "data": {
      "text/plain": [
       "Computer science, computer engineering, or software engineering          50336\n",
       "Another engineering discipline (ex. civil, electrical, mechanical)        6945\n",
       "Information systems, information technology, or system administration     6507\n",
       "A natural science (ex. biology, chemistry, physics)                       3050\n",
       "Mathematics or statistics                                                 2818\n",
       "Web development or web design                                             2418\n",
       "A business discipline (ex. accounting, finance, marketing)                1921\n",
       "A humanities discipline (ex. literature, history, philosophy)             1590\n",
       "A social science (ex. anthropology, psychology, political science)        1377\n",
       "Fine arts or performing arts (ex. graphic design, music, studio art)      1135\n",
       "I never declared a major                                                   693\n",
       "A health science (ex. nursing, pharmacy, radiology)                        246\n",
       "Name: UndergradMajor, dtype: int64"
      ]
     },
     "execution_count": 20,
     "metadata": {},
     "output_type": "execute_result"
    }
   ],
   "source": [
    "df_2018['UndergradMajor'].value_counts()"
   ]
  },
  {
   "cell_type": "code",
   "execution_count": 22,
   "metadata": {
    "scrolled": false
   },
   "outputs": [
    {
     "data": {
      "text/plain": [
       "Computer science or software engineering                        21409\n",
       "Computer engineering or electrical/electronics engineering       4364\n",
       "Computer programming or Web development                          3883\n",
       "Information technology, networking, or system administration     2140\n",
       "A natural science                                                1865\n",
       "A non-computer-focused engineering discipline                    1789\n",
       "Mathematics or statistics                                        1648\n",
       "Something else                                                   1060\n",
       "A humanities discipline                                           901\n",
       "A business discipline                                             900\n",
       "Management information systems                                    654\n",
       "Fine arts or performing arts                                      646\n",
       "A social science                                                  633\n",
       "I never declared a major                                          592\n",
       "Psychology                                                        215\n",
       "A health science                                                  142\n",
       "Name: MajorUndergrad, dtype: int64"
      ]
     },
     "execution_count": 22,
     "metadata": {},
     "output_type": "execute_result"
    }
   ],
   "source": [
    "df_2017['MajorUndergrad'].value_counts()"
   ]
  },
  {
   "cell_type": "code",
   "execution_count": 23,
   "metadata": {
    "scrolled": true
   },
   "outputs": [
    {
     "data": {
      "text/plain": [
       "Male                                                                         59458\n",
       "Female                                                                        4025\n",
       "Non-binary, genderqueer, or gender non-conforming                              284\n",
       "Female;Transgender                                                             145\n",
       "Male;Non-binary, genderqueer, or gender non-conforming                         128\n",
       "Transgender                                                                    105\n",
       "Female;Male                                                                     98\n",
       "Transgender;Non-binary, genderqueer, or gender non-conforming                   51\n",
       "Female;Non-binary, genderqueer, or gender non-conforming                        50\n",
       "Female;Male;Transgender;Non-binary, genderqueer, or gender non-conforming       50\n",
       "Male;Transgender                                                                29\n",
       "Female;Transgender;Non-binary, genderqueer, or gender non-conforming            24\n",
       "Female;Male;Transgender                                                         14\n",
       "Male;Transgender;Non-binary, genderqueer, or gender non-conforming               5\n",
       "Female;Male;Non-binary, genderqueer, or gender non-conforming                    3\n",
       "Name: Gender, dtype: int64"
      ]
     },
     "execution_count": 23,
     "metadata": {},
     "output_type": "execute_result"
    }
   ],
   "source": [
    "df_2018['Gender'].value_counts()"
   ]
  },
  {
   "cell_type": "code",
   "execution_count": 24,
   "metadata": {
    "scrolled": true
   },
   "outputs": [
    {
     "data": {
      "text/plain": [
       "Male                                                       31589\n",
       "Female                                                      2600\n",
       "Other                                                        225\n",
       "Male; Other                                                  171\n",
       "Gender non-conforming                                        160\n",
       "Male; Gender non-conforming                                   65\n",
       "Female; Transgender                                           56\n",
       "Transgender                                                   55\n",
       "Female; Gender non-conforming                                 29\n",
       "Transgender; Gender non-conforming                            15\n",
       "Male; Female; Transgender; Gender non-conforming; Other       15\n",
       "Male; Female                                                  15\n",
       "Male; Transgender                                             11\n",
       "Female; Transgender; Gender non-conforming                     8\n",
       "Male; Female; Transgender; Gender non-conforming               7\n",
       "Gender non-conforming; Other                                   4\n",
       "Male; Transgender; Gender non-conforming                       4\n",
       "Male; Female; Transgender                                      4\n",
       "Male; Gender non-conforming; Other                             3\n",
       "Male; Female; Other                                            2\n",
       "Transgender; Other                                             1\n",
       "Female; Transgender; Gender non-conforming; Other              1\n",
       "Female; Other                                                  1\n",
       "Female; Gender non-conforming; Other                           1\n",
       "Male; Female; Transgender; Other                               1\n",
       "Male; Female; Gender non-conforming; Other                     1\n",
       "Male; Female; Gender non-conforming                            1\n",
       "Male; Transgender; Other                                       1\n",
       "Female; Transgender; Other                                     1\n",
       "Name: Gender, dtype: int64"
      ]
     },
     "execution_count": 24,
     "metadata": {},
     "output_type": "execute_result"
    }
   ],
   "source": [
    "df_2017['Gender'].value_counts()"
   ]
  },
  {
   "cell_type": "code",
   "execution_count": 25,
   "metadata": {
    "scrolled": true
   },
   "outputs": [
    {
     "data": {
      "text/plain": [
       "Never                        45772\n",
       "1 - 2 times per week         18164\n",
       "3 - 4 times per week          4303\n",
       "Daily or almost every day     3707\n",
       "Name: SkipMeals, dtype: int64"
      ]
     },
     "execution_count": 25,
     "metadata": {},
     "output_type": "execute_result"
    }
   ],
   "source": [
    "df_2018['SkipMeals'].value_counts()"
   ]
  },
  {
   "cell_type": "code",
   "execution_count": 26,
   "metadata": {
    "scrolled": true
   },
   "outputs": [
    {
     "data": {
      "text/plain": [
       "White or of European descent                                                                                                                                                            40541\n",
       "South Asian                                                                                                                                                                              6213\n",
       "Hispanic or Latino/Latina                                                                                                                                                                2718\n",
       "East Asian                                                                                                                                                                               2350\n",
       "Middle Eastern                                                                                                                                                                           1774\n",
       "Black or of African descent                                                                                                                                                              1224\n",
       "Hispanic or Latino/Latina;White or of European descent                                                                                                                                    900\n",
       "Middle Eastern;White or of European descent                                                                                                                                               424\n",
       "East Asian;South Asian                                                                                                                                                                    204\n",
       "East Asian;White or of European descent                                                                                                                                                   199\n",
       "Native American, Pacific Islander, or Indigenous Australian;White or of European descent                                                                                                  163\n",
       "Black or of African descent;White or of European descent                                                                                                                                  124\n",
       "Native American, Pacific Islander, or Indigenous Australian                                                                                                                               123\n",
       "South Asian;White or of European descent                                                                                                                                                   88\n",
       "Black or of African descent;Hispanic or Latino/Latina                                                                                                                                      62\n",
       "Black or of African descent;East Asian;Hispanic or Latino/Latina;Middle Eastern;Native American, Pacific Islander, or Indigenous Australian;South Asian;White or of European descent       48\n",
       "Black or of African descent;Middle Eastern                                                                                                                                                 29\n",
       "East Asian;Middle Eastern                                                                                                                                                                  21\n",
       "Black or of African descent;Hispanic or Latino/Latina;White or of European descent                                                                                                         20\n",
       "Middle Eastern;South Asian                                                                                                                                                                 19\n",
       "Hispanic or Latino/Latina;Native American, Pacific Islander, or Indigenous Australian;White or of European descent                                                                         17\n",
       "East Asian;Native American, Pacific Islander, or Indigenous Australian;White or of European descent                                                                                        14\n",
       "East Asian;South Asian;White or of European descent                                                                                                                                        13\n",
       "East Asian;Hispanic or Latino/Latina                                                                                                                                                       13\n",
       "Hispanic or Latino/Latina;Middle Eastern                                                                                                                                                   11\n",
       "Black or of African descent;Native American, Pacific Islander, or Indigenous Australian;White or of European descent                                                                       10\n",
       "Hispanic or Latino/Latina;South Asian                                                                                                                                                      10\n",
       "East Asian;Native American, Pacific Islander, or Indigenous Australian                                                                                                                      9\n",
       "Black or of African descent;East Asian;White or of European descent                                                                                                                         8\n",
       "East Asian;Hispanic or Latino/Latina;White or of European descent                                                                                                                           8\n",
       "                                                                                                                                                                                        ...  \n",
       "Black or of African descent;Hispanic or Latino/Latina;Native American, Pacific Islander, or Indigenous Australian                                                                           4\n",
       "Native American, Pacific Islander, or Indigenous Australian;South Asian                                                                                                                     4\n",
       "East Asian;Hispanic or Latino/Latina;Native American, Pacific Islander, or Indigenous Australian;White or of European descent                                                               3\n",
       "Black or of African descent;Hispanic or Latino/Latina;Middle Eastern                                                                                                                        3\n",
       "East Asian;Middle Eastern;South Asian                                                                                                                                                       3\n",
       "Black or of African descent;East Asian;Middle Eastern;Native American, Pacific Islander, or Indigenous Australian;South Asian;White or of European descent                                  3\n",
       "Hispanic or Latino/Latina;Middle Eastern;Native American, Pacific Islander, or Indigenous Australian;White or of European descent                                                           3\n",
       "Black or of African descent;East Asian;Native American, Pacific Islander, or Indigenous Australian;White or of European descent                                                             3\n",
       "Middle Eastern;South Asian;White or of European descent                                                                                                                                     2\n",
       "East Asian;Hispanic or Latino/Latina;Native American, Pacific Islander, or Indigenous Australian                                                                                            2\n",
       "East Asian;Hispanic or Latino/Latina;Middle Eastern;Native American, Pacific Islander, or Indigenous Australian;South Asian;White or of European descent                                    2\n",
       "Native American, Pacific Islander, or Indigenous Australian;South Asian;White or of European descent                                                                                        2\n",
       "Black or of African descent;East Asian;Hispanic or Latino/Latina                                                                                                                            2\n",
       "Middle Eastern;Native American, Pacific Islander, or Indigenous Australian                                                                                                                  2\n",
       "Black or of African descent;East Asian;Native American, Pacific Islander, or Indigenous Australian                                                                                          1\n",
       "East Asian;Hispanic or Latino/Latina;Middle Eastern;Native American, Pacific Islander, or Indigenous Australian;White or of European descent                                                1\n",
       "East Asian;Hispanic or Latino/Latina;Middle Eastern                                                                                                                                         1\n",
       "Black or of African descent;East Asian;Native American, Pacific Islander, or Indigenous Australian;South Asian;White or of European descent                                                 1\n",
       "East Asian;Middle Eastern;South Asian;White or of European descent                                                                                                                          1\n",
       "Hispanic or Latino/Latina;Middle Eastern;Native American, Pacific Islander, or Indigenous Australian                                                                                        1\n",
       "Black or of African descent;East Asian;Hispanic or Latino/Latina;Middle Eastern;Native American, Pacific Islander, or Indigenous Australian                                                 1\n",
       "Black or of African descent;East Asian;Hispanic or Latino/Latina;White or of European descent                                                                                               1\n",
       "Black or of African descent;East Asian;South Asian                                                                                                                                          1\n",
       "Black or of African descent;Hispanic or Latino/Latina;South Asian                                                                                                                           1\n",
       "Black or of African descent;Middle Eastern;Native American, Pacific Islander, or Indigenous Australian;White or of European descent                                                         1\n",
       "Black or of African descent;Hispanic or Latino/Latina;Middle Eastern;Native American, Pacific Islander, or Indigenous Australian;White or of European descent                               1\n",
       "Black or of African descent;East Asian;Hispanic or Latino/Latina;Middle Eastern;Native American, Pacific Islander, or Indigenous Australian;South Asian                                     1\n",
       "Black or of African descent;East Asian;Hispanic or Latino/Latina;Middle Eastern;Native American, Pacific Islander, or Indigenous Australian;White or of European descent                    1\n",
       "Black or of African descent;Hispanic or Latino/Latina;Native American, Pacific Islander, or Indigenous Australian;South Asian                                                               1\n",
       "East Asian;Hispanic or Latino/Latina;Native American, Pacific Islander, or Indigenous Australian;South Asian;White or of European descent                                                   1\n",
       "Name: RaceEthnicity, Length: 71, dtype: int64"
      ]
     },
     "execution_count": 26,
     "metadata": {},
     "output_type": "execute_result"
    }
   ],
   "source": [
    "df_2018['RaceEthnicity'].value_counts()"
   ]
  },
  {
   "cell_type": "code",
   "execution_count": 27,
   "metadata": {
    "scrolled": true
   },
   "outputs": [
    {
     "data": {
      "text/plain": [
       "White or of European descent                                                                                                                                                                                                     23415\n",
       "South Asian                                                                                                                                                                                                                       2657\n",
       "Hispanic or Latino/Latina                                                                                                                                                                                                         1289\n",
       "East Asian                                                                                                                                                                                                                        1285\n",
       "Middle Eastern                                                                                                                                                                                                                     899\n",
       "I prefer not to say                                                                                                                                                                                                                810\n",
       "Black or of African descent                                                                                                                                                                                                        648\n",
       "I don’t know                                                                                                                                                                                                                       518\n",
       "Hispanic or Latino/Latina; White or of European descent                                                                                                                                                                            429\n",
       "Middle Eastern; White or of European descent                                                                                                                                                                                       196\n",
       "East Asian; White or of European descent                                                                                                                                                                                           134\n",
       "Native American, Pacific Islander, or Indigenous Australian; White or of European descent                                                                                                                                          110\n",
       "East Asian; South Asian                                                                                                                                                                                                            108\n",
       "Native American, Pacific Islander, or Indigenous Australian                                                                                                                                                                         83\n",
       "Black or of African descent; White or of European descent                                                                                                                                                                           59\n",
       "South Asian; White or of European descent                                                                                                                                                                                           46\n",
       "White or of European descent; I don’t know                                                                                                                                                                                          44\n",
       "Black or of African descent; Hispanic or Latino/Latina                                                                                                                                                                              25\n",
       "I don’t know; I prefer not to say                                                                                                                                                                                                   18\n",
       "White or of European descent; I prefer not to say                                                                                                                                                                                   17\n",
       "Black or of African descent; East Asian; Hispanic or Latino/Latina; Middle Eastern; Native American, Pacific Islander, or Indigenous Australian; South Asian; White or of European descent; I don’t know; I prefer not to say       13\n",
       "Hispanic or Latino/Latina; Native American, Pacific Islander, or Indigenous Australian; White or of European descent                                                                                                                12\n",
       "Middle Eastern; South Asian                                                                                                                                                                                                         11\n",
       "Black or of African descent; East Asian; Hispanic or Latino/Latina; Middle Eastern; Native American, Pacific Islander, or Indigenous Australian; South Asian; White or of European descent                                          11\n",
       "East Asian; Hispanic or Latino/Latina                                                                                                                                                                                                9\n",
       "South Asian; I don’t know                                                                                                                                                                                                            8\n",
       "Black or of African descent; Native American, Pacific Islander, or Indigenous Australian; White or of European descent                                                                                                               8\n",
       "Black or of African descent; South Asian                                                                                                                                                                                             7\n",
       "Hispanic or Latino/Latina; Native American, Pacific Islander, or Indigenous Australian                                                                                                                                               7\n",
       "Black or of African descent; Middle Eastern                                                                                                                                                                                          7\n",
       "                                                                                                                                                                                                                                 ...  \n",
       "East Asian; Hispanic or Latino/Latina; Middle Eastern; Native American, Pacific Islander, or Indigenous Australian; White or of European descent                                                                                     1\n",
       "Black or of African descent; Middle Eastern; South Asian                                                                                                                                                                             1\n",
       "East Asian; Hispanic or Latino/Latina; Native American, Pacific Islander, or Indigenous Australian; White or of European descent                                                                                                     1\n",
       "East Asian; White or of European descent; I don’t know                                                                                                                                                                               1\n",
       "Black or of African descent; Hispanic or Latino/Latina; White or of European descent; I don’t know                                                                                                                                   1\n",
       "Black or of African descent; East Asian; Middle Eastern; White or of European descent                                                                                                                                                1\n",
       "East Asian; I prefer not to say                                                                                                                                                                                                      1\n",
       "Middle Eastern; I prefer not to say                                                                                                                                                                                                  1\n",
       "South Asian; White or of European descent; I don’t know                                                                                                                                                                              1\n",
       "Black or of African descent; Hispanic or Latino/Latina; South Asian; I don’t know                                                                                                                                                    1\n",
       "East Asian; Native American, Pacific Islander, or Indigenous Australian; South Asian                                                                                                                                                 1\n",
       "Middle Eastern; Native American, Pacific Islander, or Indigenous Australian                                                                                                                                                          1\n",
       "Native American, Pacific Islander, or Indigenous Australian; South Asian; White or of European descent                                                                                                                               1\n",
       "Black or of African descent; East Asian; Hispanic or Latino/Latina; Middle Eastern; Native American, Pacific Islander, or Indigenous Australian; South Asian; I don’t know; I prefer not to say                                      1\n",
       "Middle Eastern; White or of European descent; I don’t know; I prefer not to say                                                                                                                                                      1\n",
       "East Asian; Middle Eastern; South Asian                                                                                                                                                                                              1\n",
       "Black or of African descent; East Asian; South Asian; White or of European descent                                                                                                                                                   1\n",
       "Native American, Pacific Islander, or Indigenous Australian; I don’t know                                                                                                                                                            1\n",
       "Black or of African descent; Native American, Pacific Islander, or Indigenous Australian; South Asian; White or of European descent                                                                                                  1\n",
       "East Asian; Middle Eastern; South Asian; I prefer not to say                                                                                                                                                                         1\n",
       "Black or of African descent; White or of European descent; I don’t know                                                                                                                                                              1\n",
       "Native American, Pacific Islander, or Indigenous Australian; South Asian                                                                                                                                                             1\n",
       "Black or of African descent; I don’t know; I prefer not to say                                                                                                                                                                       1\n",
       "Black or of African descent; East Asian; Middle Eastern; I don’t know                                                                                                                                                                1\n",
       "Black or of African descent; Middle Eastern; Native American, Pacific Islander, or Indigenous Australian; White or of European descent                                                                                               1\n",
       "Black or of African descent; Hispanic or Latino/Latina; Native American, Pacific Islander, or Indigenous Australian                                                                                                                  1\n",
       "East Asian; Native American, Pacific Islander, or Indigenous Australian; I don’t know                                                                                                                                                1\n",
       "Black or of African descent; White or of European descent; I prefer not to say                                                                                                                                                       1\n",
       "East Asian; Hispanic or Latino/Latina; Native American, Pacific Islander, or Indigenous Australian                                                                                                                                   1\n",
       "East Asian; Hispanic or Latino/Latina; Native American, Pacific Islander, or Indigenous Australian; South Asian; White or of European descent                                                                                        1\n",
       "Name: Race, Length: 97, dtype: int64"
      ]
     },
     "execution_count": 27,
     "metadata": {},
     "output_type": "execute_result"
    }
   ],
   "source": [
    "df_2017['Race'].value_counts()"
   ]
  },
  {
   "cell_type": "code",
   "execution_count": 28,
   "metadata": {
    "scrolled": true
   },
   "outputs": [
    {
     "data": {
      "text/plain": [
       "25 - 34 years old     31759\n",
       "18 - 24 years old     15249\n",
       "35 - 44 years old     11477\n",
       "45 - 54 years old      3313\n",
       "Under 18 years old     1638\n",
       "55 - 64 years old       959\n",
       "65 years or older       179\n",
       "Name: Age, dtype: int64"
      ]
     },
     "execution_count": 28,
     "metadata": {},
     "output_type": "execute_result"
    }
   ],
   "source": [
    "df_2018['Age'].value_counts()"
   ]
  },
  {
   "cell_type": "code",
   "execution_count": 29,
   "metadata": {
    "scrolled": true
   },
   "outputs": [
    {
     "data": {
      "text/plain": [
       "United States                            20309\n",
       "India                                    13721\n",
       "Germany                                   6459\n",
       "United Kingdom                            6221\n",
       "Canada                                    3393\n",
       "Russian Federation                        2869\n",
       "France                                    2572\n",
       "Brazil                                    2505\n",
       "Poland                                    2122\n",
       "Australia                                 2018\n",
       "Netherlands                               1841\n",
       "Spain                                     1769\n",
       "Italy                                     1535\n",
       "Ukraine                                   1279\n",
       "Sweden                                    1164\n",
       "Pakistan                                  1050\n",
       "China                                     1037\n",
       "Switzerland                               1010\n",
       "Turkey                                    1004\n",
       "Israel                                    1003\n",
       "Iran, Islamic Republic of...               921\n",
       "Romania                                    793\n",
       "Austria                                    788\n",
       "Czech Republic                             784\n",
       "Belgium                                    743\n",
       "Mexico                                     736\n",
       "Bangladesh                                 697\n",
       "Denmark                                    653\n",
       "South Africa                               637\n",
       "Indonesia                                  630\n",
       "                                         ...  \n",
       "Botswana                                     4\n",
       "Liberia                                      3\n",
       "Mauritania                                   3\n",
       "Swaziland                                    3\n",
       "Cape Verde                                   3\n",
       "Guinea                                       3\n",
       "Guyana                                       2\n",
       "Suriname                                     2\n",
       "Micronesia, Federated States of...           2\n",
       "Marshall Islands                             2\n",
       "Democratic People's Republic of Korea        2\n",
       "Palau                                        2\n",
       "Dominica                                     2\n",
       "Lesotho                                      2\n",
       "Central African Republic                     2\n",
       "Niger                                        2\n",
       "Brunei Darussalam                            1\n",
       "Eritrea                                      1\n",
       "Saint Lucia                                  1\n",
       "Djibouti                                     1\n",
       "Timor-Leste                                  1\n",
       "Nauru                                        1\n",
       "Mali                                         1\n",
       "Guinea-Bissau                                1\n",
       "San Marino                                   1\n",
       "Burundi                                      1\n",
       "Solomon Islands                              1\n",
       "Belize                                       1\n",
       "Grenada                                      1\n",
       "Sierra Leone                                 1\n",
       "Name: Country, Length: 183, dtype: int64"
      ]
     },
     "execution_count": 29,
     "metadata": {},
     "output_type": "execute_result"
    }
   ],
   "source": [
    "df_2018['Country'].value_counts()"
   ]
  },
  {
   "cell_type": "code",
   "execution_count": 30,
   "metadata": {
    "scrolled": true
   },
   "outputs": [
    {
     "data": {
      "text/plain": [
       "0.0          842\n",
       "120000.0     524\n",
       "100000.0     497\n",
       "80000.0      396\n",
       "1000000.0    382\n",
       "110000.0     371\n",
       "90000.0      364\n",
       "150000.0     357\n",
       "60000.0      351\n",
       "75000.0      337\n",
       "130000.0     333\n",
       "70000.0      319\n",
       "73433.0      317\n",
       "61194.0      308\n",
       "85000.0      288\n",
       "125000.0     276\n",
       "115000.0     255\n",
       "105000.0     255\n",
       "48955.0      246\n",
       "44064.0      245\n",
       "140000.0     243\n",
       "65000.0      237\n",
       "2000000.0    227\n",
       "95000.0      218\n",
       "50000.0      215\n",
       "29376.0      214\n",
       "55075.0      211\n",
       "135000.0     182\n",
       "58752.0      181\n",
       "36716.0      181\n",
       "            ... \n",
       "42444.0        1\n",
       "40488.0        1\n",
       "1236.0         1\n",
       "180939.0       1\n",
       "22620.0        1\n",
       "328740.0       1\n",
       "37050.0        1\n",
       "723876.0       1\n",
       "592860.0       1\n",
       "25386.0        1\n",
       "37848.0        1\n",
       "90405.0        1\n",
       "74020.0        1\n",
       "36936.0        1\n",
       "41316.0        1\n",
       "591720.0       1\n",
       "9463.0         1\n",
       "2652.0         1\n",
       "13140.0        1\n",
       "165312.0       1\n",
       "147951.0       1\n",
       "36995.0        1\n",
       "36996.0        1\n",
       "45189.0        1\n",
       "156748.0       1\n",
       "19284.0        1\n",
       "43716.0        1\n",
       "15396.0        1\n",
       "180803.0       1\n",
       "163838.0       1\n",
       "Name: ConvertedSalary, Length: 7473, dtype: int64"
      ]
     },
     "execution_count": 30,
     "metadata": {},
     "output_type": "execute_result"
    }
   ],
   "source": [
    "df_2018['ConvertedSalary'].value_counts()"
   ]
  },
  {
   "cell_type": "code",
   "execution_count": 31,
   "metadata": {
    "scrolled": true
   },
   "outputs": [
    {
     "data": {
      "text/plain": [
       "Monthly    26252\n",
       "Yearly     22556\n",
       "Weekly      2262\n",
       "Name: SalaryType, dtype: int64"
      ]
     },
     "execution_count": 31,
     "metadata": {},
     "output_type": "execute_result"
    }
   ],
   "source": [
    "df_2018['SalaryType'].value_counts()"
   ]
  },
  {
   "cell_type": "code",
   "execution_count": 7,
   "metadata": {
    "scrolled": true
   },
   "outputs": [
    {
     "data": {
      "text/plain": [
       "USD    17330\n",
       "EUR    12781\n",
       "INR     6633\n",
       "GBP     4196\n",
       "CAD     2122\n",
       "RUB     1484\n",
       "BRL     1477\n",
       "AUD     1308\n",
       "PLN     1232\n",
       "SEK      789\n",
       "CHF      639\n",
       "ILS      515\n",
       "ZAR      423\n",
       "TRY      421\n",
       "MXN      408\n",
       "DKK      404\n",
       "CNY      389\n",
       "CZK      388\n",
       "NOK      372\n",
       "IRR      350\n",
       "PKR      348\n",
       "NZD      302\n",
       "IDR      247\n",
       "UAH      242\n",
       "RON      218\n",
       "ARS      216\n",
       "SGD      215\n",
       "BDT      209\n",
       "HUF      205\n",
       "JPY      200\n",
       "       ...  \n",
       "BHD        5\n",
       "SDG        5\n",
       "MNT        4\n",
       "FJD        4\n",
       "CUC        4\n",
       "OMR        3\n",
       "HNL        3\n",
       "CUP        3\n",
       "IQD        3\n",
       "LYD        3\n",
       "KGS        3\n",
       "MGA        3\n",
       "PYG        3\n",
       "ZMW        2\n",
       "MVR        2\n",
       "NAD        2\n",
       "AFN        2\n",
       "BTN        2\n",
       "UZS        2\n",
       "NIO        2\n",
       "RWF        1\n",
       "LBP        1\n",
       "CRC        1\n",
       "YER        1\n",
       "XCD        1\n",
       "GMD        1\n",
       "QAR        1\n",
       "MOP        1\n",
       "XPF        1\n",
       "JMD        1\n",
       "Name: CurrencySymbol, Length: 112, dtype: int64"
      ]
     },
     "execution_count": 7,
     "metadata": {},
     "output_type": "execute_result"
    }
   ],
   "source": [
    "df_2018['CurrencySymbol'].value_counts()"
   ]
  },
  {
   "cell_type": "code",
   "execution_count": 8,
   "metadata": {
    "scrolled": false
   },
   "outputs": [
    {
     "data": {
      "text/plain": [
       "U.S. dollars ($)               7073\n",
       "Euros (€)                      5849\n",
       "Indian rupees (?)              2176\n",
       "British pounds sterling (£)    2176\n",
       "Canadian dollars (C$)          1062\n",
       "Polish zloty (zl)               564\n",
       "Australian dollars (A$)         469\n",
       "Russian rubles (?)              366\n",
       "Brazilian reais (R$)            359\n",
       "Swedish kroner (SEK)            306\n",
       "Swiss francs                    300\n",
       "South African rands (R)         174\n",
       "Mexican pesos (MXN$)            144\n",
       "Japanese yen (¥)                123\n",
       "Chinese yuan renminbi (¥)       121\n",
       "Singapore dollars (S$)           79\n",
       "Bitcoin (btc)                    67\n",
       "Name: Currency, dtype: int64"
      ]
     },
     "execution_count": 8,
     "metadata": {},
     "output_type": "execute_result"
    }
   ],
   "source": [
    "df_2017['Currency'].value_counts()"
   ]
  },
  {
   "cell_type": "code",
   "execution_count": 9,
   "metadata": {
    "scrolled": true
   },
   "outputs": [
    {
     "data": {
      "text/plain": [
       "Employed full-time                                      70495\n",
       "Independent contractor, freelancer, or self-employed     9282\n",
       "Not employed, but looking for work                       5805\n",
       "Employed part-time                                       5380\n",
       "Not employed, and not looking for work                   4132\n",
       "Retired                                                   227\n",
       "Name: Employment, dtype: int64"
      ]
     },
     "execution_count": 9,
     "metadata": {},
     "output_type": "execute_result"
    }
   ],
   "source": [
    "df_2018['Employment'].value_counts()"
   ]
  },
  {
   "cell_type": "code",
   "execution_count": 10,
   "metadata": {
    "scrolled": true
   },
   "outputs": [
    {
     "data": {
      "text/plain": [
       "Employed full-time                                      36148\n",
       "Independent contractor, freelancer, or self-employed     5233\n",
       "Employed part-time                                       3180\n",
       "Not employed, and not looking for work                   2791\n",
       "Not employed, but looking for work                       2786\n",
       "I prefer not to say                                      1086\n",
       "Retired                                                   168\n",
       "Name: EmploymentStatus, dtype: int64"
      ]
     },
     "execution_count": 10,
     "metadata": {},
     "output_type": "execute_result"
    }
   ],
   "source": [
    "df_2017['EmploymentStatus'].value_counts()"
   ]
  },
  {
   "cell_type": "code",
   "execution_count": 11,
   "metadata": {
    "scrolled": true
   },
   "outputs": [
    {
     "data": {
      "text/plain": [
       "20 to 99 employees          16996\n",
       "100 to 499 employees        14011\n",
       "10,000 or more employees     9757\n",
       "10 to 19 employees           8007\n",
       "1,000 to 4,999 employees     7634\n",
       "Fewer than 10 employees      7479\n",
       "500 to 999 employees         4630\n",
       "5,000 to 9,999 employees     3017\n",
       "Name: CompanySize, dtype: int64"
      ]
     },
     "execution_count": 11,
     "metadata": {},
     "output_type": "execute_result"
    }
   ],
   "source": [
    "df_2018['CompanySize'].value_counts()"
   ]
  },
  {
   "cell_type": "code",
   "execution_count": 12,
   "metadata": {
    "scrolled": true
   },
   "outputs": [
    {
     "data": {
      "text/plain": [
       "20 to 99 employees          8587\n",
       "100 to 499 employees        7274\n",
       "10,000 or more employees    5680\n",
       "10 to 19 employees          4103\n",
       "1,000 to 4,999 employees    3831\n",
       "Fewer than 10 employees     3807\n",
       "500 to 999 employees        2486\n",
       "5,000 to 9,999 employees    1604\n",
       "I don't know                 869\n",
       "I prefer not to answer       681\n",
       "Name: CompanySize, dtype: int64"
      ]
     },
     "execution_count": 12,
     "metadata": {},
     "output_type": "execute_result"
    }
   ],
   "source": [
    "df_2017['CompanySize'].value_counts()"
   ]
  },
  {
   "cell_type": "code",
   "execution_count": 13,
   "metadata": {
    "scrolled": true
   },
   "outputs": [
    {
     "data": {
      "text/plain": [
       "Back-end developer                                                                                                                                                                                                                                                                                                                                                                                                                                                                       6417\n",
       "Full-stack developer                                                                                                                                                                                                                                                                                                                                                                                                                                                                     6104\n",
       "Back-end developer;Front-end developer;Full-stack developer                                                                                                                                                                                                                                                                                                                                                                                                                              4460\n",
       "Mobile developer                                                                                                                                                                                                                                                                                                                                                                                                                                                                         3518\n",
       "Student                                                                                                                                                                                                                                                                                                                                                                                                                                                                                  3222\n",
       "Back-end developer;Full-stack developer                                                                                                                                                                                                                                                                                                                                                                                                                                                  3128\n",
       "Front-end developer                                                                                                                                                                                                                                                                                                                                                                                                                                                                      2608\n",
       "Front-end developer;Full-stack developer                                                                                                                                                                                                                                                                                                                                                                                                                                                 1117\n",
       "Back-end developer;Front-end developer                                                                                                                                                                                                                                                                                                                                                                                                                                                   1030\n",
       "Back-end developer;Front-end developer;Full-stack developer;Mobile developer                                                                                                                                                                                                                                                                                                                                                                                                             1008\n",
       "Back-end developer;Desktop or enterprise applications developer;Front-end developer;Full-stack developer                                                                                                                                                                                                                                                                                                                                                                                  981\n",
       "Desktop or enterprise applications developer                                                                                                                                                                                                                                                                                                                                                                                                                                              896\n",
       "Data scientist or machine learning specialist                                                                                                                                                                                                                                                                                                                                                                                                                                             869\n",
       "Back-end developer;Desktop or enterprise applications developer                                                                                                                                                                                                                                                                                                                                                                                                                           779\n",
       "Embedded applications or devices developer                                                                                                                                                                                                                                                                                                                                                                                                                                                708\n",
       "Back-end developer;Desktop or enterprise applications developer;Full-stack developer                                                                                                                                                                                                                                                                                                                                                                                                      677\n",
       "Back-end developer;Student                                                                                                                                                                                                                                                                                                                                                                                                                                                                624\n",
       "Back-end developer;Designer;Front-end developer;Full-stack developer                                                                                                                                                                                                                                                                                                                                                                                                                      597\n",
       "Back-end developer;DevOps specialist                                                                                                                                                                                                                                                                                                                                                                                                                                                      593\n",
       "Back-end developer;Front-end developer;Full-stack developer;Student                                                                                                                                                                                                                                                                                                                                                                                                                       567\n",
       "QA or test developer                                                                                                                                                                                                                                                                                                                                                                                                                                                                      552\n",
       "Front-end developer;Mobile developer                                                                                                                                                                                                                                                                                                                                                                                                                                                      528\n",
       "Back-end developer;Mobile developer                                                                                                                                                                                                                                                                                                                                                                                                                                                       517\n",
       "Data or business analyst                                                                                                                                                                                                                                                                                                                                                                                                                                                                  499\n",
       "Back-end developer;Database administrator;Front-end developer;Full-stack developer                                                                                                                                                                                                                                                                                                                                                                                                        497\n",
       "Back-end developer;DevOps specialist;Full-stack developer                                                                                                                                                                                                                                                                                                                                                                                                                                 490\n",
       "Full-stack developer;Mobile developer                                                                                                                                                                                                                                                                                                                                                                                                                                                     456\n",
       "Data or business analyst;Data scientist or machine learning specialist                                                                                                                                                                                                                                                                                                                                                                                                                    448\n",
       "C-suite executive (CEO, CTO, etc.)                                                                                                                                                                                                                                                                                                                                                                                                                                                        438\n",
       "Back-end developer;DevOps specialist;Front-end developer;Full-stack developer                                                                                                                                                                                                                                                                                                                                                                                                             428\n",
       "                                                                                                                                                                                                                                                                                                                                                                                                                                                                                         ... \n",
       "Database administrator;Designer;Desktop or enterprise applications developer;DevOps specialist;Full-stack developer;Mobile developer;Product manager;QA or test developer;System administrator                                                                                                                                                                                                                                                                                              1\n",
       "Back-end developer;Data or business analyst;Designer;Front-end developer;Game or graphics developer;Mobile developer;Student                                                                                                                                                                                                                                                                                                                                                                1\n",
       "Back-end developer;Data or business analyst;Data scientist or machine learning specialist;Designer;Front-end developer;Full-stack developer;Game or graphics developer;Mobile developer;Product manager;QA or test developer                                                                                                                                                                                                                                                                1\n",
       "Data or business analyst;Designer;Desktop or enterprise applications developer;DevOps specialist;Front-end developer                                                                                                                                                                                                                                                                                                                                                                        1\n",
       "Back-end developer;Data or business analyst;Database administrator;Designer;Front-end developer;Full-stack developer;Product manager;System administrator                                                                                                                                                                                                                                                                                                                                   1\n",
       "Back-end developer;Data or business analyst;Database administrator;Engineering manager;Full-stack developer;Mobile developer                                                                                                                                                                                                                                                                                                                                                                1\n",
       "Back-end developer;C-suite executive (CEO, CTO, etc.);Designer;Desktop or enterprise applications developer;Engineering manager;Front-end developer;Student                                                                                                                                                                                                                                                                                                                                 1\n",
       "Back-end developer;C-suite executive (CEO, CTO, etc.);DevOps specialist;Embedded applications or devices developer;Full-stack developer;Mobile developer                                                                                                                                                                                                                                                                                                                                    1\n",
       "Back-end developer;Database administrator;Designer;Front-end developer;Product manager;Student                                                                                                                                                                                                                                                                                                                                                                                              1\n",
       "Back-end developer;Data or business analyst;Front-end developer;Full-stack developer;Mobile developer;Product manager;QA or test developer;Student                                                                                                                                                                                                                                                                                                                                          1\n",
       "Back-end developer;Data or business analyst;Desktop or enterprise applications developer;Front-end developer;Full-stack developer;Student;System administrator                                                                                                                                                                                                                                                                                                                              1\n",
       "Back-end developer;C-suite executive (CEO, CTO, etc.);Data or business analyst;Database administrator;Desktop or enterprise applications developer;DevOps specialist;Front-end developer;Marketing or sales professional;Product manager;Student;System administrator                                                                                                                                                                                                                       1\n",
       "Back-end developer;Desktop or enterprise applications developer;Educator or academic researcher;Full-stack developer;Game or graphics developer                                                                                                                                                                                                                                                                                                                                             1\n",
       "Back-end developer;Desktop or enterprise applications developer;DevOps specialist;Front-end developer;Mobile developer;Product manager;System administrator                                                                                                                                                                                                                                                                                                                                 1\n",
       "Back-end developer;Database administrator;Educator or academic researcher;Full-stack developer;Mobile developer;System administrator                                                                                                                                                                                                                                                                                                                                                        1\n",
       "Back-end developer;Data scientist or machine learning specialist;Database administrator;Designer;Front-end developer;Game or graphics developer;Student                                                                                                                                                                                                                                                                                                                                     1\n",
       "Back-end developer;Data or business analyst;Desktop or enterprise applications developer;Educator or academic researcher;Full-stack developer;Product manager                                                                                                                                                                                                                                                                                                                               1\n",
       "Back-end developer;C-suite executive (CEO, CTO, etc.);Data or business analyst;Data scientist or machine learning specialist;Database administrator;Designer;Desktop or enterprise applications developer;DevOps specialist;Educator or academic researcher;Embedded applications or devices developer;Front-end developer;Full-stack developer;Game or graphics developer;Marketing or sales professional;Mobile developer;Product manager;QA or test developer;System administrator       1\n",
       "Back-end developer;Data or business analyst;Database administrator;Designer;Front-end developer;Marketing or sales professional;Product manager;Student                                                                                                                                                                                                                                                                                                                                     1\n",
       "Data or business analyst;Designer;Front-end developer;Marketing or sales professional;QA or test developer                                                                                                                                                                                                                                                                                                                                                                                  1\n",
       "Data scientist or machine learning specialist;Desktop or enterprise applications developer;Educator or academic researcher;Game or graphics developer                                                                                                                                                                                                                                                                                                                                       1\n",
       "Back-end developer;Data scientist or machine learning specialist;Database administrator;Designer;Desktop or enterprise applications developer;DevOps specialist;Engineering manager;Front-end developer;Full-stack developer;System administrator                                                                                                                                                                                                                                           1\n",
       "Back-end developer;Data or business analyst;Data scientist or machine learning specialist;Desktop or enterprise applications developer;DevOps specialist;Full-stack developer                                                                                                                                                                                                                                                                                                               1\n",
       "Back-end developer;Database administrator;Designer;Educator or academic researcher;Front-end developer;Full-stack developer;Game or graphics developer;Mobile developer;QA or test developer;Student;System administrator                                                                                                                                                                                                                                                                   1\n",
       "Data or business analyst;Designer;DevOps specialist;System administrator                                                                                                                                                                                                                                                                                                                                                                                                                    1\n",
       "Back-end developer;Data or business analyst;Desktop or enterprise applications developer;Engineering manager;Front-end developer;Full-stack developer;Product manager                                                                                                                                                                                                                                                                                                                       1\n",
       "Data or business analyst;Database administrator;Desktop or enterprise applications developer;Engineering manager;Mobile developer;System administrator                                                                                                                                                                                                                                                                                                                                      1\n",
       "Back-end developer;Data scientist or machine learning specialist;Desktop or enterprise applications developer;Educator or academic researcher;Front-end developer;Full-stack developer;Mobile developer;Student                                                                                                                                                                                                                                                                             1\n",
       "Back-end developer;Data scientist or machine learning specialist;Designer;Desktop or enterprise applications developer;Front-end developer;Full-stack developer;Product manager;System administrator                                                                                                                                                                                                                                                                                        1\n",
       "Back-end developer;Data or business analyst;Data scientist or machine learning specialist;Desktop or enterprise applications developer;Front-end developer;Full-stack developer;Product manager                                                                                                                                                                                                                                                                                             1\n",
       "Name: DevType, Length: 9568, dtype: int64"
      ]
     },
     "execution_count": 13,
     "metadata": {},
     "output_type": "execute_result"
    }
   ],
   "source": [
    "df_2018['DevType'].value_counts()"
   ]
  },
  {
   "cell_type": "code",
   "execution_count": 14,
   "metadata": {
    "scrolled": true
   },
   "outputs": [
    {
     "data": {
      "text/plain": [
       "Web developer                                                                                                                                                                                                                                                                                                    10683\n",
       "Web developer; Desktop applications developer                                                                                                                                                                                                                                                                     1849\n",
       "Mobile developer                                                                                                                                                                                                                                                                                                  1556\n",
       "Web developer; Mobile developer                                                                                                                                                                                                                                                                                   1503\n",
       "Desktop applications developer                                                                                                                                                                                                                                                                                    1433\n",
       "Other                                                                                                                                                                                                                                                                                                             1174\n",
       "Web developer; Mobile developer; Desktop applications developer                                                                                                                                                                                                                                                    754\n",
       "Web developer; DevOps specialist                                                                                                                                                                                                                                                                                   713\n",
       "Embedded applications/devices developer                                                                                                                                                                                                                                                                            664\n",
       "Web developer; Database administrator                                                                                                                                                                                                                                                                              505\n",
       "Developer with a statistics or mathematics background                                                                                                                                                                                                                                                              485\n",
       "Web developer; Developer with a statistics or mathematics background                                                                                                                                                                                                                                               453\n",
       "Web developer; Desktop applications developer; Database administrator                                                                                                                                                                                                                                              381\n",
       "Web developer; Database administrator; Systems administrator                                                                                                                                                                                                                                                       295\n",
       "Web developer; Systems administrator                                                                                                                                                                                                                                                                               279\n",
       "Web developer; Other                                                                                                                                                                                                                                                                                               276\n",
       "Data scientist                                                                                                                                                                                                                                                                                                     249\n",
       "Mobile developer; Desktop applications developer                                                                                                                                                                                                                                                                   244\n",
       "Embedded applications/devices developer; Desktop applications developer                                                                                                                                                                                                                                            228\n",
       "Web developer; Systems administrator; DevOps specialist                                                                                                                                                                                                                                                            226\n",
       "Web developer; Database administrator; Systems administrator; DevOps specialist                                                                                                                                                                                                                                    205\n",
       "Web developer; Graphic designer                                                                                                                                                                                                                                                                                    204\n",
       "Web developer; Data scientist                                                                                                                                                                                                                                                                                      198\n",
       "DevOps specialist                                                                                                                                                                                                                                                                                                  192\n",
       "Web developer; Developer with a statistics or mathematics background; Desktop applications developer                                                                                                                                                                                                               183\n",
       "Web developer; Desktop applications developer; DevOps specialist                                                                                                                                                                                                                                                   178\n",
       "Web developer; Desktop applications developer; Database administrator; Systems administrator                                                                                                                                                                                                                       161\n",
       "Developer with a statistics or mathematics background; Desktop applications developer                                                                                                                                                                                                                              147\n",
       "Web developer; Embedded applications/devices developer; Desktop applications developer                                                                                                                                                                                                                             141\n",
       "Web developer; Mobile developer; Desktop applications developer; Database administrator                                                                                                                                                                                                                            138\n",
       "                                                                                                                                                                                                                                                                                                                 ...  \n",
       "Web developer; Mobile developer; Embedded applications/devices developer; Graphics programming; Developer with a statistics or mathematics background; Graphic designer; Desktop applications developer; Database administrator                                                                                      1\n",
       "Embedded applications/devices developer; Database administrator; Systems administrator; DevOps specialist                                                                                                                                                                                                            1\n",
       "Mobile developer; Database administrator; Systems administrator; DevOps specialist; Other                                                                                                                                                                                                                            1\n",
       "Web developer; Developer with a statistics or mathematics background; Data scientist; Quality assurance engineer; Other                                                                                                                                                                                              1\n",
       "Web developer; Embedded applications/devices developer; Machine learning specialist; Data scientist; Desktop applications developer; Database administrator; Systems administrator; DevOps specialist                                                                                                                1\n",
       "Mobile developer; Machine learning specialist; Data scientist; Quality assurance engineer                                                                                                                                                                                                                            1\n",
       "Web developer; Machine learning specialist; Data scientist; Database administrator; Systems administrator; DevOps specialist; Quality assurance engineer                                                                                                                                                             1\n",
       "Graphic designer; Database administrator; Systems administrator                                                                                                                                                                                                                                                      1\n",
       "Web developer; Mobile developer; Graphics programming; Machine learning specialist; Developer with a statistics or mathematics background; Data scientist                                                                                                                                                            1\n",
       "Web developer; Machine learning specialist; Systems administrator; DevOps specialist; Quality assurance engineer                                                                                                                                                                                                     1\n",
       "Web developer; Embedded applications/devices developer; Graphic designer; Database administrator; Systems administrator; Quality assurance engineer                                                                                                                                                                  1\n",
       "Web developer; Embedded applications/devices developer; Graphics programming; Machine learning specialist; Developer with a statistics or mathematics background; Data scientist; Desktop applications developer; Systems administrator                                                                              1\n",
       "Web developer; Mobile developer; Embedded applications/devices developer; Graphics programming; Machine learning specialist; Developer with a statistics or mathematics background; Desktop applications developer; Database administrator                                                                           1\n",
       "Mobile developer; Embedded applications/devices developer; Graphics programming; Machine learning specialist; Developer with a statistics or mathematics background; Data scientist; Graphic designer; Desktop applications developer; Database administrator; DevOps specialist                                     1\n",
       "Developer with a statistics or mathematics background; Data scientist; Desktop applications developer; Systems administrator; DevOps specialist                                                                                                                                                                      1\n",
       "Web developer; Graphics programming; Desktop applications developer; Quality assurance engineer; Other                                                                                                                                                                                                               1\n",
       "Web developer; Mobile developer; Embedded applications/devices developer; Graphics programming; Database administrator; Systems administrator; DevOps specialist                                                                                                                                                     1\n",
       "Web developer; Mobile developer; Graphics programming; Data scientist; Graphic designer; Database administrator                                                                                                                                                                                                      1\n",
       "Mobile developer; Embedded applications/devices developer; Data scientist; Desktop applications developer; Database administrator                                                                                                                                                                                    1\n",
       "Web developer; Mobile developer; Developer with a statistics or mathematics background; Desktop applications developer; Database administrator; Systems administrator; Quality assurance engineer                                                                                                                    1\n",
       "Web developer; Graphic designer; Desktop applications developer; Database administrator; Systems administrator; DevOps specialist; Quality assurance engineer; Other                                                                                                                                                 1\n",
       "Web developer; Graphics programming; Developer with a statistics or mathematics background; Desktop applications developer; Systems administrator; DevOps specialist; Other                                                                                                                                          1\n",
       "Web developer; Mobile developer; Developer with a statistics or mathematics background; Graphic designer; Database administrator; Systems administrator                                                                                                                                                              1\n",
       "Web developer; Mobile developer; Embedded applications/devices developer; Graphics programming; Machine learning specialist; Developer with a statistics or mathematics background; Data scientist; Desktop applications developer; Database administrator; Systems administrator; Quality assurance engineer        1\n",
       "Web developer; Graphics programming; Machine learning specialist; Data scientist; Desktop applications developer; Database administrator; DevOps specialist                                                                                                                                                          1\n",
       "Web developer; Mobile developer; Developer with a statistics or mathematics background; Database administrator; Systems administrator; Quality assurance engineer                                                                                                                                                    1\n",
       "Web developer; Embedded applications/devices developer; Machine learning specialist; Data scientist; Database administrator; Systems administrator                                                                                                                                                                   1\n",
       "Web developer; Mobile developer; Quality assurance engineer; Other                                                                                                                                                                                                                                                   1\n",
       "Web developer; Machine learning specialist; Developer with a statistics or mathematics background; Quality assurance engineer                                                                                                                                                                                        1\n",
       "Embedded applications/devices developer; Graphic designer; Desktop applications developer; Database administrator; DevOps specialist                                                                                                                                                                                 1\n",
       "Name: DeveloperType, Length: 1823, dtype: int64"
      ]
     },
     "execution_count": 14,
     "metadata": {},
     "output_type": "execute_result"
    }
   ],
   "source": [
    "df_2017['DeveloperType'].value_counts()"
   ]
  },
  {
   "cell_type": "code",
   "execution_count": 15,
   "metadata": {
    "scrolled": true
   },
   "outputs": [
    {
     "data": {
      "text/plain": [
       "Moderately satisfied                  26005\n",
       "Extremely satisfied                   12436\n",
       "Slightly satisfied                    10012\n",
       "Slightly dissatisfied                  7057\n",
       "Moderately dissatisfied                6318\n",
       "Neither satisfied nor dissatisfied     4966\n",
       "Extremely dissatisfied                 2482\n",
       "Name: JobSatisfaction, dtype: int64"
      ]
     },
     "execution_count": 15,
     "metadata": {},
     "output_type": "execute_result"
    }
   ],
   "source": [
    "df_2018['JobSatisfaction'].value_counts()"
   ]
  },
  {
   "cell_type": "code",
   "execution_count": 16,
   "metadata": {},
   "outputs": [
    {
     "data": {
      "text/plain": [
       "8.0     8983\n",
       "7.0     7969\n",
       "9.0     5573\n",
       "6.0     4726\n",
       "10.0    4148\n",
       "5.0     3749\n",
       "4.0     1865\n",
       "3.0     1635\n",
       "2.0      888\n",
       "0.0      467\n",
       "1.0      373\n",
       "Name: JobSatisfaction, dtype: int64"
      ]
     },
     "execution_count": 16,
     "metadata": {},
     "output_type": "execute_result"
    }
   ],
   "source": [
    "df_2017['JobSatisfaction'].value_counts()"
   ]
  },
  {
   "cell_type": "code",
   "execution_count": 17,
   "metadata": {
    "scrolled": true
   },
   "outputs": [
    {
     "data": {
      "text/plain": [
       "Moderately satisfied                  27926\n",
       "Extremely satisfied                   14316\n",
       "Slightly satisfied                    13484\n",
       "Slightly dissatisfied                  6587\n",
       "Neither satisfied nor dissatisfied     6316\n",
       "Moderately dissatisfied                5262\n",
       "Extremely dissatisfied                 2613\n",
       "Name: CareerSatisfaction, dtype: int64"
      ]
     },
     "execution_count": 17,
     "metadata": {},
     "output_type": "execute_result"
    }
   ],
   "source": [
    "df_2018['CareerSatisfaction'].value_counts()"
   ]
  },
  {
   "cell_type": "code",
   "execution_count": 18,
   "metadata": {
    "scrolled": false
   },
   "outputs": [
    {
     "data": {
      "text/plain": [
       "I’m not actively looking, but I am open to new opportunities    47556\n",
       "I am not interested in new job opportunities                    19296\n",
       "I am actively looking for a job                                 12636\n",
       "Name: JobSearchStatus, dtype: int64"
      ]
     },
     "execution_count": 18,
     "metadata": {},
     "output_type": "execute_result"
    }
   ],
   "source": [
    "df_2018['JobSearchStatus'].value_counts()"
   ]
  },
  {
   "cell_type": "code",
   "execution_count": 19,
   "metadata": {
    "scrolled": false
   },
   "outputs": [
    {
     "data": {
      "text/plain": [
       "I'm not actively looking, but I am open to new opportunities    20729\n",
       "I am not interested in new job opportunities                     8280\n",
       "I am actively looking for a job                                  4371\n",
       "Name: JobSeekingStatus, dtype: int64"
      ]
     },
     "execution_count": 19,
     "metadata": {},
     "output_type": "execute_result"
    }
   ],
   "source": [
    "df_2017['JobSeekingStatus'].value_counts()"
   ]
  },
  {
   "cell_type": "code",
   "execution_count": 20,
   "metadata": {
    "scrolled": false
   },
   "outputs": [
    {
     "data": {
      "text/plain": [
       "Office / productivity suite (Microsoft Office, Google Suite, etc.)                                                                                                                                                                   3523\n",
       "Slack                                                                                                                                                                                                                                3391\n",
       "Confluence;Jira;Slack                                                                                                                                                                                                                2256\n",
       "Other chat system (IRC, proprietary software, etc.)                                                                                                                                                                                  1444\n",
       "Jira;Slack                                                                                                                                                                                                                           1402\n",
       "Slack;Other wiki tool (Github, Google Sites, proprietary software, etc.)                                                                                                                                                             1193\n",
       "Slack;Trello                                                                                                                                                                                                                         1174\n",
       "Confluence;Jira;Office / productivity suite (Microsoft Office, Google Suite, etc.);Slack                                                                                                                                             1053\n",
       "Office / productivity suite (Microsoft Office, Google Suite, etc.);Slack                                                                                                                                                             1035\n",
       "Other wiki tool (Github, Google Sites, proprietary software, etc.)                                                                                                                                                                    975\n",
       "Other chat system (IRC, proprietary software, etc.);Other wiki tool (Github, Google Sites, proprietary software, etc.)                                                                                                                968\n",
       "Office / productivity suite (Microsoft Office, Google Suite, etc.);Other chat system (IRC, proprietary software, etc.)                                                                                                                959\n",
       "Confluence;Jira;Office / productivity suite (Microsoft Office, Google Suite, etc.)                                                                                                                                                    949\n",
       "Google Hangouts/Chat                                                                                                                                                                                                                  896\n",
       "Confluence;Jira                                                                                                                                                                                                                       890\n",
       "Jira                                                                                                                                                                                                                                  744\n",
       "Google Hangouts/Chat;Slack                                                                                                                                                                                                            728\n",
       "Office / productivity suite (Microsoft Office, Google Suite, etc.);Other wiki tool (Github, Google Sites, proprietary software, etc.)                                                                                                 687\n",
       "Office / productivity suite (Microsoft Office, Google Suite, etc.);Other chat system (IRC, proprietary software, etc.);Other wiki tool (Github, Google Sites, proprietary software, etc.)                                             651\n",
       "Jira;Office / productivity suite (Microsoft Office, Google Suite, etc.)                                                                                                                                                               625\n",
       "Confluence;Jira;Other chat system (IRC, proprietary software, etc.)                                                                                                                                                                   584\n",
       "Facebook                                                                                                                                                                                                                              558\n",
       "Office / productivity suite (Microsoft Office, Google Suite, etc.);Slack;Other wiki tool (Github, Google Sites, proprietary software, etc.)                                                                                           555\n",
       "Confluence;Google Hangouts/Chat;Jira;Slack                                                                                                                                                                                            536\n",
       "Slack;Trello;Other wiki tool (Github, Google Sites, proprietary software, etc.)                                                                                                                                                       520\n",
       "Jira;Office / productivity suite (Microsoft Office, Google Suite, etc.);Slack                                                                                                                                                         519\n",
       "Confluence;Jira;Office / productivity suite (Microsoft Office, Google Suite, etc.);Other chat system (IRC, proprietary software, etc.)                                                                                                485\n",
       "Confluence;HipChat;Jira                                                                                                                                                                                                               479\n",
       "Jira;Slack;Other wiki tool (Github, Google Sites, proprietary software, etc.)                                                                                                                                                         467\n",
       "Confluence;Jira;Slack;Other wiki tool (Github, Google Sites, proprietary software, etc.)                                                                                                                                              463\n",
       "                                                                                                                                                                                                                                     ... \n",
       "Facebook;HipChat;Jira;Office / productivity suite (Microsoft Office, Google Suite, etc.);Slack                                                                                                                                          1\n",
       "Confluence;Google Hangouts/Chat;HipChat;Office / productivity suite (Microsoft Office, Google Suite, etc.);Trello;Other wiki tool (Github, Google Sites, proprietary software, etc.)                                                    1\n",
       "Facebook;HipChat;Office / productivity suite (Microsoft Office, Google Suite, etc.);Trello;Other wiki tool (Github, Google Sites, proprietary software, etc.)                                                                           1\n",
       "Facebook;HipChat;Office / productivity suite (Microsoft Office, Google Suite, etc.);Trello                                                                                                                                              1\n",
       "Confluence;Facebook;Office / productivity suite (Microsoft Office, Google Suite, etc.);Trello;Other wiki tool (Github, Google Sites, proprietary software, etc.)                                                                        1\n",
       "HipChat;Jira;Stack Overflow Enterprise                                                                                                                                                                                                  1\n",
       "Confluence;Facebook;Jira;Stack Overflow Enterprise;Other wiki tool (Github, Google Sites, proprietary software, etc.)                                                                                                                   1\n",
       "Confluence;Facebook;Jira;Slack;Stack Overflow Enterprise;Trello                                                                                                                                                                         1\n",
       "Google Hangouts/Chat;HipChat;Jira;Office / productivity suite (Microsoft Office, Google Suite, etc.);Slack;Other chat system (IRC, proprietary software, etc.);Other wiki tool (Github, Google Sites, proprietary software, etc.)       1\n",
       "Facebook;Google Hangouts/Chat;Jira;Office / productivity suite (Microsoft Office, Google Suite, etc.);Slack;Stack Overflow Enterprise                                                                                                   1\n",
       "Google Hangouts/Chat;Jira;Stack Overflow Enterprise;Trello;Other chat system (IRC, proprietary software, etc.);Other wiki tool (Github, Google Sites, proprietary software, etc.)                                                       1\n",
       "Google Hangouts/Chat;HipChat;Office / productivity suite (Microsoft Office, Google Suite, etc.);Slack;Other chat system (IRC, proprietary software, etc.);Other wiki tool (Github, Google Sites, proprietary software, etc.)            1\n",
       "Facebook;HipChat;Slack;Trello;Other chat system (IRC, proprietary software, etc.)                                                                                                                                                       1\n",
       "Confluence;Jira;Stack Overflow Enterprise;Trello;Other wiki tool (Github, Google Sites, proprietary software, etc.)                                                                                                                     1\n",
       "Facebook;Slack;Stack Overflow Enterprise;Other chat system (IRC, proprietary software, etc.);Other wiki tool (Github, Google Sites, proprietary software, etc.)                                                                         1\n",
       "Confluence;Facebook;HipChat;Jira;Slack;Trello;Other wiki tool (Github, Google Sites, proprietary software, etc.)                                                                                                                        1\n",
       "Confluence;Office / productivity suite (Microsoft Office, Google Suite, etc.);Stack Overflow Enterprise;Other chat system (IRC, proprietary software, etc.);Other wiki tool (Github, Google Sites, proprietary software, etc.)          1\n",
       "Confluence;Jira;Slack;Stack Overflow Enterprise;Trello;Other chat system (IRC, proprietary software, etc.)                                                                                                                              1\n",
       "Facebook;Google Hangouts/Chat;HipChat;Jira;Trello;Other wiki tool (Github, Google Sites, proprietary software, etc.)                                                                                                                    1\n",
       "Confluence;Google Hangouts/Chat;HipChat;Slack;Trello;Other wiki tool (Github, Google Sites, proprietary software, etc.)                                                                                                                 1\n",
       "Facebook;Jira;Office / productivity suite (Microsoft Office, Google Suite, etc.);Slack;Stack Overflow Enterprise                                                                                                                        1\n",
       "HipChat;Jira;Slack;Trello;Other chat system (IRC, proprietary software, etc.);Other wiki tool (Github, Google Sites, proprietary software, etc.)                                                                                        1\n",
       "HipChat;Office / productivity suite (Microsoft Office, Google Suite, etc.);Slack;Trello                                                                                                                                                 1\n",
       "Confluence;Facebook;Stack Overflow Enterprise;Other wiki tool (Github, Google Sites, proprietary software, etc.)                                                                                                                        1\n",
       "Facebook;Google Hangouts/Chat;Jira;Office / productivity suite (Microsoft Office, Google Suite, etc.);Other chat system (IRC, proprietary software, etc.)                                                                               1\n",
       "Google Hangouts/Chat;Office / productivity suite (Microsoft Office, Google Suite, etc.);Slack;Stack Overflow Enterprise;Trello;Other chat system (IRC, proprietary software, etc.)                                                      1\n",
       "Confluence;Facebook;Trello;Other wiki tool (Github, Google Sites, proprietary software, etc.)                                                                                                                                           1\n",
       "Facebook;HipChat;Other wiki tool (Github, Google Sites, proprietary software, etc.)                                                                                                                                                     1\n",
       "Facebook;Jira;Office / productivity suite (Microsoft Office, Google Suite, etc.);Slack;Trello;Other chat system (IRC, proprietary software, etc.);Other wiki tool (Github, Google Sites, proprietary software, etc.)                    1\n",
       "Facebook;Google Hangouts/Chat;HipChat;Office / productivity suite (Microsoft Office, Google Suite, etc.);Stack Overflow Enterprise;Other chat system (IRC, proprietary software, etc.)                                                  1\n",
       "Name: CommunicationTools, Length: 1149, dtype: int64"
      ]
     },
     "execution_count": 20,
     "metadata": {},
     "output_type": "execute_result"
    }
   ],
   "source": [
    "df_2018['CommunicationTools'].value_counts()"
   ]
  },
  {
   "cell_type": "code",
   "execution_count": 21,
   "metadata": {
    "scrolled": true
   },
   "outputs": [
    {
     "data": {
      "text/plain": [
       "To improve my general technical skills or programming ability;To improve my knowledge of a specific programming language, framework, or other technology;Because I find it enjoyable                                                                                                                                                                       3160\n",
       "Because I find it enjoyable                                                                                                                                                                                                                                                                                                                                3048\n",
       "To improve my general technical skills or programming ability;Because I find it enjoyable                                                                                                                                                                                                                                                                  1902\n",
       "To improve my general technical skills or programming ability;To improve my knowledge of a specific programming language, framework, or other technology;To improve my ability to work on a team with other programmers;Because I find it enjoyable                                                                                                        1061\n",
       "To improve my general technical skills or programming ability                                                                                                                                                                                                                                                                                               875\n",
       "To improve my general technical skills or programming ability;To improve my knowledge of a specific programming language, framework, or other technology                                                                                                                                                                                                    816\n",
       "To improve my knowledge of a specific programming language, framework, or other technology;Because I find it enjoyable                                                                                                                                                                                                                                      700\n",
       "To improve my general technical skills or programming ability;To improve my knowledge of a specific programming language, framework, or other technology;To improve my ability to work on a team with other programmers;To build my professional network;To help me find new job opportunities;To win prizes or cash awards;Because I find it enjoyable     649\n",
       "To improve my general technical skills or programming ability;To improve my knowledge of a specific programming language, framework, or other technology;To improve my ability to work on a team with other programmers;To build my professional network;Because I find it enjoyable                                                                        617\n",
       "To improve my general technical skills or programming ability;To improve my ability to work on a team with other programmers;Because I find it enjoyable                                                                                                                                                                                                    542\n",
       "To improve my general technical skills or programming ability;To improve my knowledge of a specific programming language, framework, or other technology;To help me find new job opportunities;Because I find it enjoyable                                                                                                                                  495\n",
       "To improve my general technical skills or programming ability;To improve my knowledge of a specific programming language, framework, or other technology;To improve my ability to work on a team with other programmers;To build my professional network;To help me find new job opportunities;Because I find it enjoyable                                  483\n",
       "To improve my knowledge of a specific programming language, framework, or other technology                                                                                                                                                                                                                                                                  465\n",
       "To improve my general technical skills or programming ability;To improve my knowledge of a specific programming language, framework, or other technology;To build my professional network;Because I find it enjoyable                                                                                                                                       408\n",
       "To build my professional network;Because I find it enjoyable                                                                                                                                                                                                                                                                                                406\n",
       "To win prizes or cash awards;Because I find it enjoyable                                                                                                                                                                                                                                                                                                    395\n",
       "To improve my general technical skills or programming ability;To improve my knowledge of a specific programming language, framework, or other technology;To win prizes or cash awards;Because I find it enjoyable                                                                                                                                           377\n",
       "To improve my general technical skills or programming ability;To build my professional network;Because I find it enjoyable                                                                                                                                                                                                                                  338\n",
       "To improve my general technical skills or programming ability;To win prizes or cash awards;Because I find it enjoyable                                                                                                                                                                                                                                      338\n",
       "To improve my ability to work on a team with other programmers;Because I find it enjoyable                                                                                                                                                                                                                                                                  314\n",
       "To build my professional network                                                                                                                                                                                                                                                                                                                            302\n",
       "To improve my general technical skills or programming ability;To improve my knowledge of a specific programming language, framework, or other technology;To improve my ability to work on a team with other programmers;To win prizes or cash awards;Because I find it enjoyable                                                                            264\n",
       "To improve my general technical skills or programming ability;To improve my knowledge of a specific programming language, framework, or other technology;To improve my ability to work on a team with other programmers                                                                                                                                     262\n",
       "To improve my general technical skills or programming ability;To improve my ability to work on a team with other programmers;To build my professional network;Because I find it enjoyable                                                                                                                                                                   252\n",
       "To improve my general technical skills or programming ability;To improve my knowledge of a specific programming language, framework, or other technology;To help me find new job opportunities                                                                                                                                                              246\n",
       "To help me find new job opportunities                                                                                                                                                                                                                                                                                                                       242\n",
       "To improve my general technical skills or programming ability;To improve my knowledge of a specific programming language, framework, or other technology;To improve my ability to work on a team with other programmers;To help me find new job opportunities;Because I find it enjoyable                                                                   238\n",
       "To improve my general technical skills or programming ability;To help me find new job opportunities;Because I find it enjoyable                                                                                                                                                                                                                             238\n",
       "To improve my general technical skills or programming ability;To improve my knowledge of a specific programming language, framework, or other technology;To improve my ability to work on a team with other programmers;To build my professional network;To win prizes or cash awards;Because I find it enjoyable                                           236\n",
       "To improve my ability to work on a team with other programmers                                                                                                                                                                                                                                                                                              211\n",
       "                                                                                                                                                                                                                                                                                                                                                           ... \n",
       "To improve my general technical skills or programming ability;To build my professional network;To help me find new job opportunities;To win prizes or cash awards                                                                                                                                                                                            24\n",
       "To improve my general technical skills or programming ability;To build my professional network;To win prizes or cash awards                                                                                                                                                                                                                                  22\n",
       "To improve my ability to work on a team with other programmers;To win prizes or cash awards                                                                                                                                                                                                                                                                  21\n",
       "To improve my ability to work on a team with other programmers;To build my professional network;To help me find new job opportunities;To win prizes or cash awards;Because I find it enjoyable                                                                                                                                                               21\n",
       "To improve my knowledge of a specific programming language, framework, or other technology;To build my professional network;To help me find new job opportunities;To win prizes or cash awards;Because I find it enjoyable                                                                                                                                   21\n",
       "To improve my knowledge of a specific programming language, framework, or other technology;To improve my ability to work on a team with other programmers;To build my professional network;To help me find new job opportunities                                                                                                                             21\n",
       "To improve my knowledge of a specific programming language, framework, or other technology;To improve my ability to work on a team with other programmers;To help me find new job opportunities;Because I find it enjoyable                                                                                                                                  20\n",
       "To improve my ability to work on a team with other programmers;To help me find new job opportunities;Because I find it enjoyable                                                                                                                                                                                                                             19\n",
       "To improve my knowledge of a specific programming language, framework, or other technology;To help me find new job opportunities;To win prizes or cash awards;Because I find it enjoyable                                                                                                                                                                    18\n",
       "To improve my general technical skills or programming ability;To improve my ability to work on a team with other programmers;To build my professional network;To help me find new job opportunities;To win prizes or cash awards                                                                                                                             17\n",
       "To improve my general technical skills or programming ability;To improve my knowledge of a specific programming language, framework, or other technology;To build my professional network;To win prizes or cash awards                                                                                                                                       17\n",
       "To improve my general technical skills or programming ability;To improve my knowledge of a specific programming language, framework, or other technology;To help me find new job opportunities;To win prizes or cash awards                                                                                                                                  16\n",
       "To improve my knowledge of a specific programming language, framework, or other technology;To improve my ability to work on a team with other programmers;To build my professional network;To win prizes or cash awards;Because I find it enjoyable                                                                                                          16\n",
       "To improve my knowledge of a specific programming language, framework, or other technology;To improve my ability to work on a team with other programmers;To help me find new job opportunities                                                                                                                                                              16\n",
       "To improve my ability to work on a team with other programmers;To help me find new job opportunities;To win prizes or cash awards;Because I find it enjoyable                                                                                                                                                                                                16\n",
       "To improve my ability to work on a team with other programmers;To build my professional network;To win prizes or cash awards                                                                                                                                                                                                                                 15\n",
       "To improve my general technical skills or programming ability;To improve my knowledge of a specific programming language, framework, or other technology;To build my professional network;To help me find new job opportunities;To win prizes or cash awards                                                                                                 13\n",
       "To improve my knowledge of a specific programming language, framework, or other technology;To improve my ability to work on a team with other programmers;To build my professional network;To help me find new job opportunities;To win prizes or cash awards;Because I find it enjoyable                                                                    13\n",
       "To improve my knowledge of a specific programming language, framework, or other technology;To build my professional network;To win prizes or cash awards                                                                                                                                                                                                     12\n",
       "To improve my knowledge of a specific programming language, framework, or other technology;To help me find new job opportunities;To win prizes or cash awards                                                                                                                                                                                                12\n",
       "To improve my general technical skills or programming ability;To improve my knowledge of a specific programming language, framework, or other technology;To improve my ability to work on a team with other programmers;To help me find new job opportunities;To win prizes or cash awards                                                                   12\n",
       "To improve my knowledge of a specific programming language, framework, or other technology;To improve my ability to work on a team with other programmers;To win prizes or cash awards                                                                                                                                                                       10\n",
       "To improve my knowledge of a specific programming language, framework, or other technology;To improve my ability to work on a team with other programmers;To help me find new job opportunities;To win prizes or cash awards;Because I find it enjoyable                                                                                                      8\n",
       "To improve my knowledge of a specific programming language, framework, or other technology;To improve my ability to work on a team with other programmers;To help me find new job opportunities;To win prizes or cash awards                                                                                                                                  7\n",
       "To improve my knowledge of a specific programming language, framework, or other technology;To improve my ability to work on a team with other programmers;To build my professional network;To win prizes or cash awards                                                                                                                                       6\n",
       "To improve my knowledge of a specific programming language, framework, or other technology;To build my professional network;To help me find new job opportunities;To win prizes or cash awards                                                                                                                                                                6\n",
       "To improve my ability to work on a team with other programmers;To build my professional network;To help me find new job opportunities;To win prizes or cash awards                                                                                                                                                                                            5\n",
       "To improve my knowledge of a specific programming language, framework, or other technology;To improve my ability to work on a team with other programmers;To build my professional network;To help me find new job opportunities;To win prizes or cash awards                                                                                                 5\n",
       "To improve my ability to work on a team with other programmers;To help me find new job opportunities;To win prizes or cash awards                                                                                                                                                                                                                             3\n",
       "To improve my general technical skills or programming ability;To improve my ability to work on a team with other programmers;To help me find new job opportunities;To win prizes or cash awards                                                                                                                                                               3\n",
       "Name: HackathonReasons, Length: 127, dtype: int64"
      ]
     },
     "execution_count": 21,
     "metadata": {},
     "output_type": "execute_result"
    }
   ],
   "source": [
    "df_2018['HackathonReasons'].value_counts()"
   ]
  },
  {
   "cell_type": "code",
   "execution_count": 26,
   "metadata": {
    "scrolled": true
   },
   "outputs": [
    {
     "data": {
      "text/plain": [
       "3-5 years           23313\n",
       "6-8 years           19338\n",
       "9-11 years          12169\n",
       "0-2 years           10682\n",
       "12-14 years          8030\n",
       "15-17 years          6117\n",
       "18-20 years          5072\n",
       "30 or more years     3544\n",
       "21-23 years          2648\n",
       "24-26 years          1862\n",
       "27-29 years          1060\n",
       "Name: YearsCoding, dtype: int64"
      ]
     },
     "execution_count": 26,
     "metadata": {},
     "output_type": "execute_result"
    }
   ],
   "source": [
    "df_2018['YearsCoding'].value_counts()"
   ]
  },
  {
   "cell_type": "code",
   "execution_count": 28,
   "metadata": {
    "scrolled": true
   },
   "outputs": [
    {
     "data": {
      "text/plain": [
       "1 to 2 years        5289\n",
       "2 to 3 years        4767\n",
       "3 to 4 years        4003\n",
       "4 to 5 years        3405\n",
       "20 or more years    3067\n",
       "Less than a year    3034\n",
       "5 to 6 years        2990\n",
       "9 to 10 years       1956\n",
       "6 to 7 years        1912\n",
       "10 to 11 years      1678\n",
       "7 to 8 years        1638\n",
       "8 to 9 years        1287\n",
       "15 to 16 years       845\n",
       "14 to 15 years       840\n",
       "11 to 12 years       838\n",
       "12 to 13 years       741\n",
       "16 to 17 years       694\n",
       "17 to 18 years       545\n",
       "13 to 14 years       531\n",
       "19 to 20 years       427\n",
       "18 to 19 years       403\n",
       "Name: YearsCodedJob, dtype: int64"
      ]
     },
     "execution_count": 28,
     "metadata": {},
     "output_type": "execute_result"
    }
   ],
   "source": [
    "df_2017['YearsCodedJob'].value_counts()"
   ]
  },
  {
   "cell_type": "code",
   "execution_count": 29,
   "metadata": {
    "scrolled": true
   },
   "outputs": [
    {
     "data": {
      "text/plain": [
       "20 or more years    154\n",
       "1 to 2 years         80\n",
       "2 to 3 years         78\n",
       "4 to 5 years         66\n",
       "3 to 4 years         65\n",
       "9 to 10 years        59\n",
       "Less than a year     57\n",
       "10 to 11 years       50\n",
       "5 to 6 years         48\n",
       "7 to 8 years         46\n",
       "15 to 16 years       42\n",
       "14 to 15 years       39\n",
       "6 to 7 years         30\n",
       "8 to 9 years         28\n",
       "11 to 12 years       28\n",
       "19 to 20 years       23\n",
       "12 to 13 years       20\n",
       "16 to 17 years       19\n",
       "17 to 18 years       19\n",
       "13 to 14 years       17\n",
       "18 to 19 years        6\n",
       "Name: YearsCodedJobPast, dtype: int64"
      ]
     },
     "execution_count": 29,
     "metadata": {},
     "output_type": "execute_result"
    }
   ],
   "source": [
    "df_2017['YearsCodedJobPast'].value_counts()"
   ]
  },
  {
   "cell_type": "code",
   "execution_count": 30,
   "metadata": {
    "scrolled": true
   },
   "outputs": [
    {
     "data": {
      "text/plain": [
       "Python                                                                                                                             908\n",
       "Java                                                                                                                               608\n",
       "C#;JavaScript;SQL;TypeScript;HTML;CSS                                                                                              605\n",
       "C#                                                                                                                                 594\n",
       "JavaScript;HTML;CSS                                                                                                                550\n",
       "C#;JavaScript;SQL;HTML;CSS                                                                                                         548\n",
       "Go                                                                                                                                 446\n",
       "Swift                                                                                                                              443\n",
       "Kotlin                                                                                                                             434\n",
       "JavaScript;TypeScript;HTML;CSS                                                                                                     431\n",
       "JavaScript;PHP;SQL;HTML;CSS                                                                                                        420\n",
       "JavaScript                                                                                                                         416\n",
       "Java;Kotlin                                                                                                                        336\n",
       "JavaScript;PHP;HTML;CSS                                                                                                            321\n",
       "C++                                                                                                                                311\n",
       "C#;SQL                                                                                                                             287\n",
       "TypeScript                                                                                                                         264\n",
       "C++;Python                                                                                                                         248\n",
       "C#;JavaScript;TypeScript;HTML;CSS                                                                                                  236\n",
       "JavaScript;Python;HTML;CSS                                                                                                         227\n",
       "Java;Python                                                                                                                        225\n",
       "C#;JavaScript;HTML;CSS                                                                                                             218\n",
       "JavaScript;Python                                                                                                                  207\n",
       "JavaScript;PHP;SQL;HTML;CSS;Bash/Shell                                                                                             206\n",
       "Java;JavaScript                                                                                                                    205\n",
       "Python;R                                                                                                                           199\n",
       "Rust                                                                                                                               198\n",
       "Java;JavaScript;SQL;HTML;CSS                                                                                                       188\n",
       "Objective-C;Swift                                                                                                                  188\n",
       "Go;Python                                                                                                                          188\n",
       "                                                                                                                                  ... \n",
       "JavaScript;Scala;SQL;Ocaml;Bash/Shell                                                                                                1\n",
       "Java;JavaScript;PHP;SQL;Visual Basic 6;HTML;CSS                                                                                      1\n",
       "C#;F#;Go;SQL;TypeScript;CSS                                                                                                          1\n",
       "Java;JavaScript;Julia;Python;R                                                                                                       1\n",
       "C;C++;Go;Java;Python;SQL;HTML;CSS                                                                                                    1\n",
       "C++;Go;Haskell;Julia;Python                                                                                                          1\n",
       "JavaScript;Ruby;SQL;Kotlin;HTML;CSS;Bash/Shell                                                                                       1\n",
       "C;C#;Java;JavaScript;Python;R;Scala;SQL;HTML;CSS;Bash/Shell                                                                          1\n",
       "Java;JavaScript;Objective-C;PHP;HTML;CSS;Bash/Shell                                                                                  1\n",
       "Assembly;C;C++;Go;Haskell;JavaScript;Rust                                                                                            1\n",
       "C++;C#;F#;Java;PHP;SQL;Bash/Shell                                                                                                    1\n",
       "C++;C#;JavaScript;Lua;PHP;Python;SQL;HTML;CSS;Bash/Shell                                                                             1\n",
       "C#;Haskell;Swift;TypeScript;Kotlin                                                                                                   1\n",
       "Java;JavaScript;Lua;Python;R;SQL;Kotlin;HTML;CSS;Bash/Shell                                                                          1\n",
       "Hack;Kotlin                                                                                                                          1\n",
       "C;C++;C#;Erlang;Java;JavaScript;Lua;Perl;Python;Rust;SQL;Kotlin;HTML;CSS;Bash/Shell                                                  1\n",
       "C;C#;Python;Delphi/Object Pascal                                                                                                     1\n",
       "CoffeeScript;Go;Hack;Java;JavaScript;PHP;Python;Ruby;SQL;TypeScript;HTML;CSS                                                         1\n",
       "C;Groovy;Java;JavaScript;Python;Scala;SQL;TypeScript;Kotlin                                                                          1\n",
       "Assembly;C;Go;Java;JavaScript;Python;R;Rust;SQL;TypeScript                                                                           1\n",
       "Erlang;Haskell;JavaScript;Python;R;SQL;TypeScript;HTML;CSS;Bash/Shell                                                                1\n",
       "Java;JavaScript;Ruby;Scala;HTML;CSS;Bash/Shell                                                                                       1\n",
       "Go;Haskell;PHP;SQL;HTML;CSS;Bash/Shell                                                                                               1\n",
       "Assembly;C;C++;CoffeeScript;Clojure;Erlang;F#;Go;Groovy;Hack;Haskell;Julia;Lua;Matlab;Rust;TypeScript;VBA;Kotlin;Ocaml;HTML;CSS      1\n",
       "Assembly;C;C++;Erlang;Go;Perl;Python;Rust;Bash/Shell                                                                                 1\n",
       "Clojure;Ruby;Ocaml;Bash/Shell                                                                                                        1\n",
       "Java;JavaScript;VB.NET;CSS                                                                                                           1\n",
       "Haskell;Ruby;Rust;Swift;TypeScript;Kotlin                                                                                            1\n",
       "C;C++;C#;Erlang;JavaScript;Lua;PHP;Python;SQL;HTML;CSS;Bash/Shell                                                                    1\n",
       "JavaScript;Objective-C;PHP;SQL;TypeScript;HTML;CSS;Bash/Shell                                                                        1\n",
       "Name: LanguageDesireNextYear, Length: 28657, dtype: int64"
      ]
     },
     "execution_count": 30,
     "metadata": {},
     "output_type": "execute_result"
    }
   ],
   "source": [
    "df_2018['LanguageDesireNextYear'].value_counts()"
   ]
  },
  {
   "cell_type": "code",
   "execution_count": 31,
   "metadata": {
    "scrolled": false
   },
   "outputs": [
    {
     "data": {
      "text/plain": [
       "C#;JavaScript;SQL;HTML;CSS                                                                                                                   1347\n",
       "JavaScript;PHP;SQL;HTML;CSS                                                                                                                  1235\n",
       "Java                                                                                                                                         1030\n",
       "JavaScript;HTML;CSS                                                                                                                           881\n",
       "C#;JavaScript;SQL;TypeScript;HTML;CSS                                                                                                         828\n",
       "JavaScript;PHP;SQL;HTML;CSS;Bash/Shell                                                                                                        768\n",
       "JavaScript;PHP;HTML;CSS                                                                                                                       725\n",
       "Java;JavaScript;SQL;HTML;CSS                                                                                                                  530\n",
       "C#                                                                                                                                            491\n",
       "Python                                                                                                                                        399\n",
       "JavaScript;TypeScript;HTML;CSS                                                                                                                394\n",
       "Java;JavaScript;HTML;CSS                                                                                                                      377\n",
       "C#;SQL                                                                                                                                        365\n",
       "Java;JavaScript;PHP;SQL;HTML;CSS                                                                                                              350\n",
       "C#;JavaScript;HTML;CSS                                                                                                                        336\n",
       "Java;JavaScript;SQL;HTML;CSS;Bash/Shell                                                                                                       326\n",
       "Objective-C;Swift                                                                                                                             326\n",
       "JavaScript;PHP;Python;SQL;HTML;CSS;Bash/Shell                                                                                                 323\n",
       "C#;JavaScript;PHP;SQL;HTML;CSS                                                                                                                310\n",
       "Java;SQL                                                                                                                                      271\n",
       "C#;JavaScript;SQL;VB.NET;HTML;CSS                                                                                                             262\n",
       "JavaScript;Python;SQL;HTML;CSS;Bash/Shell                                                                                                     260\n",
       "C#;JavaScript;TypeScript;HTML;CSS                                                                                                             257\n",
       "JavaScript;Python;HTML;CSS                                                                                                                    251\n",
       "Java;JavaScript                                                                                                                               241\n",
       "JavaScript;Python;HTML;CSS;Bash/Shell                                                                                                         231\n",
       "C#;Java;JavaScript;SQL;HTML;CSS                                                                                                               226\n",
       "JavaScript;HTML;CSS;Bash/Shell                                                                                                                224\n",
       "JavaScript;PHP;HTML;CSS;Bash/Shell                                                                                                            222\n",
       "JavaScript                                                                                                                                    215\n",
       "                                                                                                                                             ... \n",
       "C#;Java;JavaScript;Objective-C;Swift;VBA;HTML;CSS                                                                                               1\n",
       "Assembly;C;C++;C#;Java;JavaScript;Lua;PHP;Python;Ruby;Scala;SQL;VBA;HTML;CSS;Bash/Shell                                                         1\n",
       "C#;Java;JavaScript;Objective-C;PHP;Swift;TypeScript;HTML;CSS;Bash/Shell                                                                         1\n",
       "C++;JavaScript;Python;R;Bash/Shell                                                                                                              1\n",
       "Groovy;Python;R;SQL;HTML;CSS;Bash/Shell                                                                                                         1\n",
       "VBA;Delphi/Object Pascal;HTML                                                                                                                   1\n",
       "C++;C#;Haskell;Java;JavaScript;Python;HTML;CSS                                                                                                  1\n",
       "Java;JavaScript;Lua;PHP;Python;SQL;TypeScript;HTML;CSS                                                                                          1\n",
       "C;CoffeeScript;Erlang;Go;Python;SQL;HTML;CSS;Bash/Shell                                                                                         1\n",
       "C;C++;C#;Matlab;Python;R;SQL;VBA                                                                                                                1\n",
       "Assembly;C;C++;Haskell;Java;Lua;SQL;Delphi/Object Pascal                                                                                        1\n",
       "Assembly;C;C++;Go;Java;Lua;PHP;Python;Ruby;Bash/Shell                                                                                           1\n",
       "C;C#;Java;R;Scala;HTML;CSS;Bash/Shell                                                                                                           1\n",
       "Assembly;C;C++;C#;Java;JavaScript;Perl;PHP;Python;R;SQL;TypeScript;VBA;VB.NET;Visual Basic 6;HTML;CSS;Bash/Shell                                1\n",
       "Java;TypeScript;Bash/Shell                                                                                                                      1\n",
       "CoffeeScript;JavaScript;PHP;Python;R;Ruby;SQL;TypeScript;HTML;CSS;Bash/Shell                                                                    1\n",
       "C#;CoffeeScript;Groovy;Hack;Haskell;Java;JavaScript;Objective-C;PHP;Python;SQL;TypeScript;Kotlin;Delphi/Object Pascal;HTML;CSS;Bash/Shell       1\n",
       "Assembly;C;C++;Haskell;Python;R;Bash/Shell                                                                                                      1\n",
       "Assembly;C;C++;C#;Clojure;F#;Go;Java;Lua;R;Scala;SQL;Swift;Bash/Shell                                                                           1\n",
       "Assembly;C++;CoffeeScript;JavaScript;Lua;Matlab;PHP;Python;SQL;Visual Basic 6;HTML;CSS;Bash/Shell                                               1\n",
       "Assembly;C;Java;SQL;Swift                                                                                                                       1\n",
       "Java;JavaScript;Python;Ruby;Rust;HTML;CSS;Bash/Shell                                                                                            1\n",
       "C;C++;C#;JavaScript;Objective-C;SQL;Swift;VB.NET;HTML;CSS;Bash/Shell                                                                            1\n",
       "Assembly;C;C++;C#;Haskell;Java;JavaScript;PHP;Python;HTML;CSS;Bash/Shell                                                                        1\n",
       "Assembly;C;C++;C#;Java;JavaScript;Python;SQL;Bash/Shell                                                                                         1\n",
       "C;C#;JavaScript;Objective-C;SQL;Swift;HTML;CSS                                                                                                  1\n",
       "C;CoffeeScript;Java;JavaScript;Objective-C;SQL;Swift;TypeScript;Kotlin                                                                          1\n",
       "Java;Scala;HTML                                                                                                                                 1\n",
       "Haskell;Java;JavaScript;Matlab;SQL;Visual Basic 6;HTML;CSS                                                                                      1\n",
       "Go;Haskell;JavaScript;R;SQL;VBA;Ocaml;HTML;CSS;Bash/Shell                                                                                       1\n",
       "Name: LanguageWorkedWith, Length: 26678, dtype: int64"
      ]
     },
     "execution_count": 31,
     "metadata": {},
     "output_type": "execute_result"
    }
   ],
   "source": [
    "df_2018['LanguageWorkedWith'].value_counts()"
   ]
  },
  {
   "cell_type": "code",
   "execution_count": 32,
   "metadata": {
    "scrolled": true
   },
   "outputs": [
    {
     "data": {
      "text/plain": [
       "Agile;Scrum                                                                                                                                                                                              9724\n",
       "Agile                                                                                                                                                                                                    8632\n",
       "Agile;Kanban;Scrum                                                                                                                                                                                       5351\n",
       "Agile;Kanban;Pair programming;Scrum                                                                                                                                                                      2476\n",
       "Agile;Pair programming;Scrum                                                                                                                                                                             2461\n",
       "Scrum                                                                                                                                                                                                    2152\n",
       "Agile;Kanban                                                                                                                                                                                             1968\n",
       "Agile;Formal standard such as ISO 9001 or IEEE 12207 (aka “waterfall” methodologies);Scrum                                                                                                               1321\n",
       "Agile;Pair programming                                                                                                                                                                                   1273\n",
       "Agile;Extreme programming (XP);Kanban;Pair programming;Scrum                                                                                                                                             1155\n",
       "Agile;Formal standard such as ISO 9001 or IEEE 12207 (aka “waterfall” methodologies)                                                                                                                     1038\n",
       "Formal standard such as ISO 9001 or IEEE 12207 (aka “waterfall” methodologies)                                                                                                                           1016\n",
       "Agile;Extreme programming (XP);Scrum                                                                                                                                                                      883\n",
       "Agile;Extreme programming (XP);Pair programming;Scrum                                                                                                                                                     847\n",
       "Pair programming                                                                                                                                                                                          827\n",
       "Kanban                                                                                                                                                                                                    800\n",
       "Agile;Formal standard such as ISO 9001 or IEEE 12207 (aka “waterfall” methodologies);Kanban;Scrum                                                                                                         733\n",
       "Agile;Kanban;Lean;Scrum                                                                                                                                                                                   689\n",
       "Agile;Extreme programming (XP);Kanban;Scrum                                                                                                                                                               661\n",
       "Agile;Kanban;Pair programming                                                                                                                                                                             558\n",
       "Agile;Kanban;Lean;Pair programming;Scrum                                                                                                                                                                  546\n",
       "Agile;Extreme programming (XP)                                                                                                                                                                            533\n",
       "Agile;Extreme programming (XP);Kanban;Lean;Pair programming;Scrum                                                                                                                                         515\n",
       "Kanban;Scrum                                                                                                                                                                                              506\n",
       "Agile;Lean;Scrum                                                                                                                                                                                          487\n",
       "Agile;Formal standard such as ISO 9001 or IEEE 12207 (aka “waterfall” methodologies);Kanban;Pair programming;Scrum                                                                                        439\n",
       "Agile;Formal standard such as ISO 9001 or IEEE 12207 (aka “waterfall” methodologies);Pair programming;Scrum                                                                                               406\n",
       "Extreme programming (XP)                                                                                                                                                                                  359\n",
       "Evidence-based software engineering                                                                                                                                                                       321\n",
       "Agile;Extreme programming (XP);Formal standard such as ISO 9001 or IEEE 12207 (aka “waterfall” methodologies);Kanban;Pair programming;Scrum                                                               318\n",
       "                                                                                                                                                                                                         ... \n",
       "Extreme programming (XP);Kanban;PRINCE2                                                                                                                                                                     1\n",
       "Agile;Extreme programming (XP);Kanban;PRINCE2                                                                                                                                                               1\n",
       "Agile;Evidence-based software engineering;Mob programming;Lean;Scrum                                                                                                                                        1\n",
       "Extreme programming (XP);Formal standard such as ISO 9001 or IEEE 12207 (aka “waterfall” methodologies);Mob programming;Pair programming                                                                    1\n",
       "Agile;Evidence-based software engineering;Extreme programming (XP);Formal standard such as ISO 9001 or IEEE 12207 (aka “waterfall” methodologies);Lean;Pair programming;PRINCE2;Scrum                       1\n",
       "Extreme programming (XP);Formal standard such as ISO 9001 or IEEE 12207 (aka “waterfall” methodologies);PRINCE2;Scrum                                                                                       1\n",
       "Extreme programming (XP);Kanban;PRINCE2;Scrum                                                                                                                                                               1\n",
       "Evidence-based software engineering;Extreme programming (XP);Kanban;Lean;Pair programming                                                                                                                   1\n",
       "Agile;Evidence-based software engineering;Extreme programming (XP);Mob programming;Lean                                                                                                                     1\n",
       "Agile;Evidence-based software engineering;Kanban;PRINCE2                                                                                                                                                    1\n",
       "Agile;Extreme programming (XP);Formal standard such as ISO 9001 or IEEE 12207 (aka “waterfall” methodologies);Lean;PRINCE2;Scrum                                                                            1\n",
       "Agile;Formal standard such as ISO 9001 or IEEE 12207 (aka “waterfall” methodologies);Kanban;Mob programming;Lean;Pair programming;PRINCE2;Scrum                                                             1\n",
       "Agile;Evidence-based software engineering;Extreme programming (XP);Formal standard such as ISO 9001 or IEEE 12207 (aka “waterfall” methodologies);Mob programming;Pair programming;Scrum                    1\n",
       "Formal standard such as ISO 9001 or IEEE 12207 (aka “waterfall” methodologies);Kanban;Mob programming;Pair programming                                                                                      1\n",
       "Agile;Formal standard such as ISO 9001 or IEEE 12207 (aka “waterfall” methodologies);Mob programming;Lean                                                                                                   1\n",
       "Kanban;Pair programming;PRINCE2;Scrum                                                                                                                                                                       1\n",
       "Agile;Evidence-based software engineering;Formal standard such as ISO 9001 or IEEE 12207 (aka “waterfall” methodologies);Kanban;Mob programming;Scrum                                                       1\n",
       "Formal standard such as ISO 9001 or IEEE 12207 (aka “waterfall” methodologies);Kanban;PRINCE2                                                                                                               1\n",
       "Extreme programming (XP);Formal standard such as ISO 9001 or IEEE 12207 (aka “waterfall” methodologies);Kanban;Mob programming;PRINCE2                                                                      1\n",
       "Evidence-based software engineering;Formal standard such as ISO 9001 or IEEE 12207 (aka “waterfall” methodologies);Kanban;Mob programming;Lean;Pair programming                                             1\n",
       "Evidence-based software engineering;Extreme programming (XP);Formal standard such as ISO 9001 or IEEE 12207 (aka “waterfall” methodologies);Mob programming;Lean;Pair programming;PRINCE2;Scrum             1\n",
       "Agile;Extreme programming (XP);Formal standard such as ISO 9001 or IEEE 12207 (aka “waterfall” methodologies);Mob programming;Lean;Scrum                                                                    1\n",
       "Evidence-based software engineering;Mob programming;Pair programming;Scrum                                                                                                                                  1\n",
       "Extreme programming (XP);Kanban;Pair programming;PRINCE2;Scrum                                                                                                                                              1\n",
       "Formal standard such as ISO 9001 or IEEE 12207 (aka “waterfall” methodologies);Mob programming;Pair programming;Scrum                                                                                       1\n",
       "Extreme programming (XP);Formal standard such as ISO 9001 or IEEE 12207 (aka “waterfall” methodologies);Mob programming;Lean                                                                                1\n",
       "Agile;Extreme programming (XP);Formal standard such as ISO 9001 or IEEE 12207 (aka “waterfall” methodologies);Kanban;Mob programming;Pair programming;PRINCE2;Scrum                                         1\n",
       "Evidence-based software engineering;Extreme programming (XP);Kanban;Scrum                                                                                                                                   1\n",
       "Agile;Evidence-based software engineering;Mob programming;Lean                                                                                                                                              1\n",
       "Agile;Evidence-based software engineering;Extreme programming (XP);Formal standard such as ISO 9001 or IEEE 12207 (aka “waterfall” methodologies);Mob programming;Lean;Pair programming;PRINCE2;Scrum       1\n",
       "Name: Methodology, Length: 480, dtype: int64"
      ]
     },
     "execution_count": 32,
     "metadata": {},
     "output_type": "execute_result"
    }
   ],
   "source": [
    "df_2018['Methodology'].value_counts()"
   ]
  },
  {
   "cell_type": "code",
   "execution_count": 33,
   "metadata": {
    "scrolled": true
   },
   "outputs": [
    {
     "data": {
      "text/plain": [
       "Yes    79897\n",
       "No     18958\n",
       "Name: Hobby, dtype: int64"
      ]
     },
     "execution_count": 33,
     "metadata": {},
     "output_type": "execute_result"
    }
   ],
   "source": [
    "df_2018['Hobby'].value_counts()"
   ]
  },
  {
   "cell_type": "code",
   "execution_count": 34,
   "metadata": {
    "scrolled": false
   },
   "outputs": [
    {
     "data": {
      "text/plain": [
       "No     55769\n",
       "Yes    43086\n",
       "Name: OpenSource, dtype: int64"
      ]
     },
     "execution_count": 34,
     "metadata": {},
     "output_type": "execute_result"
    }
   ],
   "source": [
    "df_2018['OpenSource'].value_counts()"
   ]
  },
  {
   "cell_type": "code",
   "execution_count": 35,
   "metadata": {
    "scrolled": true
   },
   "outputs": [
    {
     "data": {
      "text/plain": [
       "Yes, I program as a hobby                    24801\n",
       "Yes, both                                    13756\n",
       "No                                            9787\n",
       "Yes, I contribute to open source projects     3048\n",
       "Name: ProgramHobby, dtype: int64"
      ]
     },
     "execution_count": 35,
     "metadata": {},
     "output_type": "execute_result"
    }
   ],
   "source": [
    "df_2017['ProgramHobby'].value_counts()"
   ]
  },
  {
   "cell_type": "code",
   "execution_count": 36,
   "metadata": {
    "scrolled": true
   },
   "outputs": [
    {
     "data": {
      "text/plain": [
       "Agree                         36777\n",
       "Neither Agree nor Disagree    14676\n",
       "Strongly agree                11332\n",
       "Disagree                       3941\n",
       "Strongly disagree              1491\n",
       "Name: AgreeDisagree1, dtype: int64"
      ]
     },
     "execution_count": 36,
     "metadata": {},
     "output_type": "execute_result"
    }
   ],
   "source": [
    "df_2018['AgreeDisagree1'].value_counts()"
   ]
  },
  {
   "cell_type": "code",
   "execution_count": 37,
   "metadata": {
    "scrolled": true
   },
   "outputs": [
    {
     "data": {
      "text/plain": [
       "Agree                13160\n",
       "Somewhat agree       10309\n",
       "Strongly agree        3707\n",
       "Disagree              2978\n",
       "Strongly disagree      548\n",
       "Name: KinshipDevelopers, dtype: int64"
      ]
     },
     "execution_count": 37,
     "metadata": {},
     "output_type": "execute_result"
    }
   ],
   "source": [
    "df_2017['KinshipDevelopers'].value_counts()"
   ]
  },
  {
   "cell_type": "code",
   "execution_count": 38,
   "metadata": {},
   "outputs": [
    {
     "data": {
      "text/plain": [
       "Disagree             9803\n",
       "Somewhat agree       8840\n",
       "Agree                6541\n",
       "Strongly disagree    3323\n",
       "Strongly agree       2303\n",
       "Name: CompetePeers, dtype: int64"
      ]
     },
     "execution_count": 38,
     "metadata": {},
     "output_type": "execute_result"
    }
   ],
   "source": [
    "df_2017['CompetePeers'].value_counts()"
   ]
  },
  {
   "cell_type": "code",
   "execution_count": 39,
   "metadata": {
    "scrolled": false
   },
   "outputs": [
    {
     "data": {
      "text/plain": [
       "My job status or other personal status changed                      27344\n",
       "A recruiter contacted me                                             9071\n",
       "I had a negative experience or interaction at work                   7339\n",
       "A friend told me about a job opportunity                             6997\n",
       "I saw an employer’s advertisement                                    6756\n",
       "I did not receive an expected change in compensation                 4362\n",
       "I received bad news about the future of my company or department     3220\n",
       "I received negative feedback on my job performance                    450\n",
       "Name: UpdateCV, dtype: int64"
      ]
     },
     "execution_count": 39,
     "metadata": {},
     "output_type": "execute_result"
    }
   ],
   "source": [
    "df_2018['UpdateCV'].value_counts()"
   ]
  },
  {
   "cell_type": "code",
   "execution_count": 40,
   "metadata": {
    "scrolled": true
   },
   "outputs": [
    {
     "data": {
      "text/plain": [
       "I was just giving it a regular update                           6737\n",
       "A recruiter contacted me                                        3590\n",
       "Something else                                                  2648\n",
       "I saw an employer's advertisement                               2558\n",
       "I completed a major project, assignment, or contract            2359\n",
       "A friend told me about a job opportunity                        2247\n",
       "I received bad news about the future of my company or depart    2014\n",
       "I received negative feedback on my job performance               308\n",
       "Name: ResumePrompted, dtype: int64"
      ]
     },
     "execution_count": 40,
     "metadata": {},
     "output_type": "execute_result"
    }
   ],
   "source": [
    "df_2017['ResumePrompted'].value_counts()"
   ]
  },
  {
   "cell_type": "code",
   "execution_count": 41,
   "metadata": {
    "scrolled": false
   },
   "outputs": [
    {
     "data": {
      "text/plain": [
       "Less than a year ago         27321\n",
       "Between 1 and 2 years ago    17332\n",
       "More than 4 years ago        14871\n",
       "Between 2 and 4 years ago    14792\n",
       "I've never had a job          4573\n",
       "Name: LastNewJob, dtype: int64"
      ]
     },
     "execution_count": 41,
     "metadata": {},
     "output_type": "execute_result"
    }
   ],
   "source": [
    "df_2018['LastNewJob'].value_counts()"
   ]
  },
  {
   "cell_type": "code",
   "execution_count": 42,
   "metadata": {
    "scrolled": false
   },
   "outputs": [
    {
     "data": {
      "text/plain": [
       "Less than a year ago         10359\n",
       "Between 1 and 2 years ago     6339\n",
       "More than 4 years ago         6211\n",
       "Between 2 and 4 years ago     5927\n",
       "Not applicable/ never         3874\n",
       "Name: LastNewJob, dtype: int64"
      ]
     },
     "execution_count": 42,
     "metadata": {},
     "output_type": "execute_result"
    }
   ],
   "source": [
    "df_2017['LastNewJob'].value_counts()"
   ]
  },
  {
   "cell_type": "code",
   "execution_count": 43,
   "metadata": {
    "scrolled": false
   },
   "outputs": [
    {
     "data": {
      "text/plain": [
       "The official documentation and/or standards for the technology;Questions & answers on Stack Overflow                                                                                                                                                                                                                                                                                                                                                                                                                                       3426\n",
       "The official documentation and/or standards for the technology;Questions & answers on Stack Overflow;The technology’s online help system                                                                                                                                                                                                                                                                                                                                                                                                   3123\n",
       "The official documentation and/or standards for the technology;Questions & answers on Stack Overflow;Online developer communities other than Stack Overflow (ex. forums, listservs, IRC channels, etc.);The technology’s online help system                                                                                                                                                                                                                                                                                                3054\n",
       "The official documentation and/or standards for the technology;Questions & answers on Stack Overflow;Online developer communities other than Stack Overflow (ex. forums, listservs, IRC channels, etc.)                                                                                                                                                                                                                                                                                                                                    3010\n",
       "The official documentation and/or standards for the technology;A book or e-book from O’Reilly, Apress, or a similar publisher;Questions & answers on Stack Overflow                                                                                                                                                                                                                                                                                                                                                                        2897\n",
       "The official documentation and/or standards for the technology;A book or e-book from O’Reilly, Apress, or a similar publisher;Questions & answers on Stack Overflow;Online developer communities other than Stack Overflow (ex. forums, listservs, IRC channels, etc.);The technology’s online help system                                                                                                                                                                                                                                 2497\n",
       "The official documentation and/or standards for the technology;A book or e-book from O’Reilly, Apress, or a similar publisher;Questions & answers on Stack Overflow;The technology’s online help system                                                                                                                                                                                                                                                                                                                                    2301\n",
       "The official documentation and/or standards for the technology;A book or e-book from O’Reilly, Apress, or a similar publisher;Questions & answers on Stack Overflow;Online developer communities other than Stack Overflow (ex. forums, listservs, IRC channels, etc.)                                                                                                                                                                                                                                                                     2028\n",
       "The official documentation and/or standards for the technology;A book or e-book from O’Reilly, Apress, or a similar publisher                                                                                                                                                                                                                                                                                                                                                                                                               930\n",
       "The official documentation and/or standards for the technology;A book or e-book from O’Reilly, Apress, or a similar publisher;A college/university computer science or software engineering book;Questions & answers on Stack Overflow;Online developer communities other than Stack Overflow (ex. forums, listservs, IRC channels, etc.);The technology’s online help system                                                                                                                                                               926\n",
       "The official documentation and/or standards for the technology                                                                                                                                                                                                                                                                                                                                                                                                                                                                              830\n",
       "The official documentation and/or standards for the technology;A book or e-book from O’Reilly, Apress, or a similar publisher;A college/university computer science or software engineering book;Questions & answers on Stack Overflow                                                                                                                                                                                                                                                                                                      745\n",
       "The official documentation and/or standards for the technology;Questions & answers on Stack Overflow;Tapping your network of friends, family, and peers versed in the technology                                                                                                                                                                                                                                                                                                                                                            733\n",
       "The official documentation and/or standards for the technology;Questions & answers on Stack Overflow;Online developer communities other than Stack Overflow (ex. forums, listservs, IRC channels, etc.);Tapping your network of friends, family, and peers versed in the technology;The technology’s online help system                                                                                                                                                                                                                     723\n",
       "The official documentation and/or standards for the technology;A book or e-book from O’Reilly, Apress, or a similar publisher;Questions & answers on Stack Overflow;Online developer communities other than Stack Overflow (ex. forums, listservs, IRC channels, etc.);Tapping your network of friends, family, and peers versed in the technology;The technology’s online help system                                                                                                                                                      654\n",
       "The official documentation and/or standards for the technology;A book or e-book from O’Reilly, Apress, or a similar publisher;A college/university computer science or software engineering book;Questions & answers on Stack Overflow;Online developer communities other than Stack Overflow (ex. forums, listservs, IRC channels, etc.)                                                                                                                                                                                                   631\n",
       "A book or e-book from O’Reilly, Apress, or a similar publisher;Questions & answers on Stack Overflow                                                                                                                                                                                                                                                                                                                                                                                                                                        625\n",
       "The official documentation and/or standards for the technology;A book or e-book from O’Reilly, Apress, or a similar publisher;A college/university computer science or software engineering book;Questions & answers on Stack Overflow;The technology’s online help system                                                                                                                                                                                                                                                                  624\n",
       "The official documentation and/or standards for the technology;Questions & answers on Stack Overflow;Online developer communities other than Stack Overflow (ex. forums, listservs, IRC channels, etc.);Tapping your network of friends, family, and peers versed in the technology                                                                                                                                                                                                                                                         616\n",
       "Questions & answers on Stack Overflow                                                                                                                                                                                                                                                                                                                                                                                                                                                                                                       604\n",
       "A book or e-book from O’Reilly, Apress, or a similar publisher                                                                                                                                                                                                                                                                                                                                                                                                                                                                              600\n",
       "The official documentation and/or standards for the technology;Questions & answers on Stack Overflow;Tapping your network of friends, family, and peers versed in the technology;The technology’s online help system                                                                                                                                                                                                                                                                                                                        598\n",
       "The official documentation and/or standards for the technology;A book or e-book from O’Reilly, Apress, or a similar publisher;Questions & answers on Stack Overflow;Online developer communities other than Stack Overflow (ex. forums, listservs, IRC channels, etc.);Internal Wikis, chat rooms, or documentation set up by my company for employees;The technology’s online help system                                                                                                                                                  597\n",
       "Questions & answers on Stack Overflow;Online developer communities other than Stack Overflow (ex. forums, listservs, IRC channels, etc.)                                                                                                                                                                                                                                                                                                                                                                                                    593\n",
       "The official documentation and/or standards for the technology;Questions & answers on Stack Overflow;Online developer communities other than Stack Overflow (ex. forums, listservs, IRC channels, etc.);Internal Wikis, chat rooms, or documentation set up by my company for employees;The technology’s online help system                                                                                                                                                                                                                 563\n",
       "The official documentation and/or standards for the technology;A book or e-book from O’Reilly, Apress, or a similar publisher;The technology’s online help system                                                                                                                                                                                                                                                                                                                                                                           557\n",
       "The official documentation and/or standards for the technology;Online developer communities other than Stack Overflow (ex. forums, listservs, IRC channels, etc.)                                                                                                                                                                                                                                                                                                                                                                           554\n",
       "The official documentation and/or standards for the technology;The technology’s online help system                                                                                                                                                                                                                                                                                                                                                                                                                                          498\n",
       "The official documentation and/or standards for the technology;A book or e-book from O’Reilly, Apress, or a similar publisher;Online developer communities other than Stack Overflow (ex. forums, listservs, IRC channels, etc.)                                                                                                                                                                                                                                                                                                            493\n",
       "The official documentation and/or standards for the technology;Questions & answers on Stack Overflow;Online developer communities other than Stack Overflow (ex. forums, listservs, IRC channels, etc.);Internal Wikis, chat rooms, or documentation set up by my company for employees                                                                                                                                                                                                                                                     473\n",
       "                                                                                                                                                                                                                                                                                                                                                                                                                                                                                                                                           ... \n",
       "A book or e-book from O’Reilly, Apress, or a similar publisher;A college/university computer science or software engineering book;Questions & answers on Stack Overflow;Online developer communities other than Stack Overflow (ex. forums, listservs, IRC channels, etc.);Internal Wikis, chat rooms, or documentation set up by my company for employees;Pre-scheduled tutoring or mentoring sessions with a friend or colleague;Tapping your network of friends, family, and peers versed in the technology                                1\n",
       "A book or e-book from O’Reilly, Apress, or a similar publisher;Questions & answers on Stack Overflow;Internal Wikis, chat rooms, or documentation set up by my company for employees;Pre-scheduled tutoring or mentoring sessions with a friend or colleague;Tapping your network of friends, family, and peers versed in the technology                                                                                                                                                                                                      1\n",
       "A book or e-book from O’Reilly, Apress, or a similar publisher;A college/university computer science or software engineering book;Questions & answers on Stack Overflow;Internal Wikis, chat rooms, or documentation set up by my company for employees;Pre-scheduled tutoring or mentoring sessions with a friend or colleague                                                                                                                                                                                                               1\n",
       "A college/university computer science or software engineering book;Online developer communities other than Stack Overflow (ex. forums, listservs, IRC channels, etc.);Internal Wikis, chat rooms, or documentation set up by my company for employees;Pre-scheduled tutoring or mentoring sessions with a friend or colleague                                                                                                                                                                                                                 1\n",
       "The official documentation and/or standards for the technology;A college/university computer science or software engineering book;Online developer communities other than Stack Overflow (ex. forums, listservs, IRC channels, etc.);Pre-scheduled tutoring or mentoring sessions with a friend or colleague                                                                                                                                                                                                                                  1\n",
       "The official documentation and/or standards for the technology;A college/university computer science or software engineering book;Online developer communities other than Stack Overflow (ex. forums, listservs, IRC channels, etc.);Pre-scheduled tutoring or mentoring sessions with a friend or colleague;Tapping your network of friends, family, and peers versed in the technology;The technology’s online help system                                                                                                                  1\n",
       "A college/university computer science or software engineering book;Pre-scheduled tutoring or mentoring sessions with a friend or colleague;Tapping your network of friends, family, and peers versed in the technology;The technology’s online help system                                                                                                                                                                                                                                                                                    1\n",
       "The official documentation and/or standards for the technology;A book or e-book from O’Reilly, Apress, or a similar publisher;A college/university computer science or software engineering book;Online developer communities other than Stack Overflow (ex. forums, listservs, IRC channels, etc.);Pre-scheduled tutoring or mentoring sessions with a friend or colleague                                                                                                                                                                   1\n",
       "A book or e-book from O’Reilly, Apress, or a similar publisher;A college/university computer science or software engineering book;Online developer communities other than Stack Overflow (ex. forums, listservs, IRC channels, etc.);Internal Wikis, chat rooms, or documentation set up by my company for employees;Pre-scheduled tutoring or mentoring sessions with a friend or colleague;Tapping your network of friends, family, and peers versed in the technology;The technology’s online help system                                  1\n",
       "A book or e-book from O’Reilly, Apress, or a similar publisher;Internal Wikis, chat rooms, or documentation set up by my company for employees;Tapping your network of friends, family, and peers versed in the technology;The technology’s online help system                                                                                                                                                                                                                                                                                1\n",
       "A book or e-book from O’Reilly, Apress, or a similar publisher;A college/university computer science or software engineering book;Questions & answers on Stack Overflow;Internal Wikis, chat rooms, or documentation set up by my company for employees;Pre-scheduled tutoring or mentoring sessions with a friend or colleague;The technology’s online help system                                                                                                                                                                           1\n",
       "The official documentation and/or standards for the technology;A book or e-book from O’Reilly, Apress, or a similar publisher;A college/university computer science or software engineering book;Online developer communities other than Stack Overflow (ex. forums, listservs, IRC channels, etc.);Internal Wikis, chat rooms, or documentation set up by my company for employees;Pre-scheduled tutoring or mentoring sessions with a friend or colleague;Tapping your network of friends, family, and peers versed in the technology       1\n",
       "Questions & answers on Stack Overflow;Online developer communities other than Stack Overflow (ex. forums, listservs, IRC channels, etc.);Internal Wikis, chat rooms, or documentation set up by my company for employees;Pre-scheduled tutoring or mentoring sessions with a friend or colleague;Tapping your network of friends, family, and peers versed in the technology;The technology’s online help system                                                                                                                              1\n",
       "Online developer communities other than Stack Overflow (ex. forums, listservs, IRC channels, etc.);Internal Wikis, chat rooms, or documentation set up by my company for employees;Pre-scheduled tutoring or mentoring sessions with a friend or colleague                                                                                                                                                                                                                                                                                    1\n",
       "The official documentation and/or standards for the technology;A college/university computer science or software engineering book;Pre-scheduled tutoring or mentoring sessions with a friend or colleague;Tapping your network of friends, family, and peers versed in the technology;The technology’s online help system                                                                                                                                                                                                                     1\n",
       "A college/university computer science or software engineering book;Internal Wikis, chat rooms, or documentation set up by my company for employees;Pre-scheduled tutoring or mentoring sessions with a friend or colleague;The technology’s online help system                                                                                                                                                                                                                                                                                1\n",
       "A book or e-book from O’Reilly, Apress, or a similar publisher;Internal Wikis, chat rooms, or documentation set up by my company for employees;Pre-scheduled tutoring or mentoring sessions with a friend or colleague                                                                                                                                                                                                                                                                                                                        1\n",
       "Questions & answers on Stack Overflow;Online developer communities other than Stack Overflow (ex. forums, listservs, IRC channels, etc.);Internal Wikis, chat rooms, or documentation set up by my company for employees;Pre-scheduled tutoring or mentoring sessions with a friend or colleague;Tapping your network of friends, family, and peers versed in the technology                                                                                                                                                                  1\n",
       "The official documentation and/or standards for the technology;A college/university computer science or software engineering book;Questions & answers on Stack Overflow;Internal Wikis, chat rooms, or documentation set up by my company for employees;Pre-scheduled tutoring or mentoring sessions with a friend or colleague;Tapping your network of friends, family, and peers versed in the technology;The technology’s online help system                                                                                               1\n",
       "The official documentation and/or standards for the technology;A college/university computer science or software engineering book;Online developer communities other than Stack Overflow (ex. forums, listservs, IRC channels, etc.);Pre-scheduled tutoring or mentoring sessions with a friend or colleague;Tapping your network of friends, family, and peers versed in the technology                                                                                                                                                      1\n",
       "Internal Wikis, chat rooms, or documentation set up by my company for employees;Pre-scheduled tutoring or mentoring sessions with a friend or colleague;Tapping your network of friends, family, and peers versed in the technology                                                                                                                                                                                                                                                                                                           1\n",
       "The official documentation and/or standards for the technology;A book or e-book from O’Reilly, Apress, or a similar publisher;Internal Wikis, chat rooms, or documentation set up by my company for employees;Pre-scheduled tutoring or mentoring sessions with a friend or colleague                                                                                                                                                                                                                                                         1\n",
       "The official documentation and/or standards for the technology;A college/university computer science or software engineering book;Online developer communities other than Stack Overflow (ex. forums, listservs, IRC channels, etc.);Internal Wikis, chat rooms, or documentation set up by my company for employees;Pre-scheduled tutoring or mentoring sessions with a friend or colleague;The technology’s online help system                                                                                                              1\n",
       "A book or e-book from O’Reilly, Apress, or a similar publisher;A college/university computer science or software engineering book;Internal Wikis, chat rooms, or documentation set up by my company for employees;Pre-scheduled tutoring or mentoring sessions with a friend or colleague;The technology’s online help system                                                                                                                                                                                                                 1\n",
       "A college/university computer science or software engineering book;Questions & answers on Stack Overflow;Online developer communities other than Stack Overflow (ex. forums, listservs, IRC channels, etc.);Internal Wikis, chat rooms, or documentation set up by my company for employees;Pre-scheduled tutoring or mentoring sessions with a friend or colleague;Tapping your network of friends, family, and peers versed in the technology;The technology’s online help system                                                           1\n",
       "The official documentation and/or standards for the technology;A book or e-book from O’Reilly, Apress, or a similar publisher;A college/university computer science or software engineering book;Pre-scheduled tutoring or mentoring sessions with a friend or colleague;Tapping your network of friends, family, and peers versed in the technology;The technology’s online help system                                                                                                                                                      1\n",
       "The official documentation and/or standards for the technology;A college/university computer science or software engineering book;Pre-scheduled tutoring or mentoring sessions with a friend or colleague;The technology’s online help system                                                                                                                                                                                                                                                                                                 1\n",
       "A college/university computer science or software engineering book;Online developer communities other than Stack Overflow (ex. forums, listservs, IRC channels, etc.);Internal Wikis, chat rooms, or documentation set up by my company for employees;Pre-scheduled tutoring or mentoring sessions with a friend or colleague;Tapping your network of friends, family, and peers versed in the technology;The technology’s online help system                                                                                                 1\n",
       "A book or e-book from O’Reilly, Apress, or a similar publisher;A college/university computer science or software engineering book;Online developer communities other than Stack Overflow (ex. forums, listservs, IRC channels, etc.);Internal Wikis, chat rooms, or documentation set up by my company for employees;Tapping your network of friends, family, and peers versed in the technology                                                                                                                                              1\n",
       "A book or e-book from O’Reilly, Apress, or a similar publisher;A college/university computer science or software engineering book;Online developer communities other than Stack Overflow (ex. forums, listservs, IRC channels, etc.);Pre-scheduled tutoring or mentoring sessions with a friend or colleague;The technology’s online help system                                                                                                                                                                                              1\n",
       "Name: SelfTaughtTypes, Length: 471, dtype: int64"
      ]
     },
     "execution_count": 43,
     "metadata": {},
     "output_type": "execute_result"
    }
   ],
   "source": [
    "df_2018['SelfTaughtTypes'].value_counts()"
   ]
  },
  {
   "cell_type": "code",
   "execution_count": 44,
   "metadata": {
    "scrolled": true
   },
   "outputs": [
    {
     "data": {
      "text/plain": [
       "I already had a full-time job as a developer when I began the program    3025\n",
       "Immediately after graduating                                             1085\n",
       "One to three months                                                       668\n",
       "I haven’t gotten a developer job                                          581\n",
       "Less than a month                                                         496\n",
       "Four to six months                                                        347\n",
       "Six months to a year                                                      239\n",
       "Longer than a year                                                        211\n",
       "Name: TimeAfterBootcamp, dtype: int64"
      ]
     },
     "execution_count": 44,
     "metadata": {},
     "output_type": "execute_result"
    }
   ],
   "source": [
    "df_2018['TimeAfterBootcamp'].value_counts()"
   ]
  },
  {
   "cell_type": "code",
   "execution_count": 45,
   "metadata": {
    "scrolled": true
   },
   "outputs": [
    {
     "data": {
      "text/plain": [
       "I already had a job as a developer when I started the program    1193\n",
       "Immediately upon graduating                                       294\n",
       "I got a job as a developer before completing the program          252\n",
       "One to three months                                               228\n",
       "I haven't gotten a job as a developer yet                         211\n",
       "Less than a month                                                 156\n",
       "Four to six months                                                105\n",
       "Longer than a year                                                 85\n",
       "Six months to a year                                               78\n",
       "Name: TimeAfterBootcamp, dtype: int64"
      ]
     },
     "execution_count": 45,
     "metadata": {},
     "output_type": "execute_result"
    }
   ],
   "source": [
    "df_2017['TimeAfterBootcamp'].value_counts()"
   ]
  },
  {
   "cell_type": "code",
   "execution_count": 46,
   "metadata": {
    "scrolled": false
   },
   "outputs": [
    {
     "data": {
      "text/plain": [
       "Taught yourself a new language, framework, or tool without taking a formal course                                                                                                                                                                                                                                                                                                                                                                             6900\n",
       "Taken an online course in programming or software development (e.g. a MOOC);Taught yourself a new language, framework, or tool without taking a formal course                                                                                                                                                                                                                                                                                                 4509\n",
       "Taught yourself a new language, framework, or tool without taking a formal course;Contributed to open source software                                                                                                                                                                                                                                                                                                                                         4082\n",
       "Received on-the-job training in software development;Taught yourself a new language, framework, or tool without taking a formal course                                                                                                                                                                                                                                                                                                                        2375\n",
       "Taken an online course in programming or software development (e.g. a MOOC);Taught yourself a new language, framework, or tool without taking a formal course;Contributed to open source software                                                                                                                                                                                                                                                             2205\n",
       "Taken an online course in programming or software development (e.g. a MOOC);Received on-the-job training in software development;Taught yourself a new language, framework, or tool without taking a formal course                                                                                                                                                                                                                                            1994\n",
       "Received on-the-job training in software development;Taught yourself a new language, framework, or tool without taking a formal course;Contributed to open source software                                                                                                                                                                                                                                                                                    1381\n",
       "Taken an online course in programming or software development (e.g. a MOOC)                                                                                                                                                                                                                                                                                                                                                                                   1245\n",
       "Taught yourself a new language, framework, or tool without taking a formal course;Participated in a hackathon;Contributed to open source software                                                                                                                                                                                                                                                                                                             1237\n",
       "Taken an online course in programming or software development (e.g. a MOOC);Taught yourself a new language, framework, or tool without taking a formal course;Participated in online coding competitions (e.g. HackerRank, CodeChef, TopCoder)                                                                                                                                                                                                                1151\n",
       "Taken an online course in programming or software development (e.g. a MOOC);Received on-the-job training in software development;Taught yourself a new language, framework, or tool without taking a formal course;Contributed to open source software                                                                                                                                                                                                        1048\n",
       "Taught yourself a new language, framework, or tool without taking a formal course;Participated in online coding competitions (e.g. HackerRank, CodeChef, TopCoder)                                                                                                                                                                                                                                                                                             987\n",
       "Taken an online course in programming or software development (e.g. a MOOC);Taught yourself a new language, framework, or tool without taking a formal course;Participated in a hackathon;Contributed to open source software                                                                                                                                                                                                                                  920\n",
       "Taught yourself a new language, framework, or tool without taking a formal course;Participated in a hackathon                                                                                                                                                                                                                                                                                                                                                  916\n",
       "Taken an online course in programming or software development (e.g. a MOOC);Taught yourself a new language, framework, or tool without taking a formal course;Participated in online coding competitions (e.g. HackerRank, CodeChef, TopCoder);Contributed to open source software                                                                                                                                                                             875\n",
       "Taught yourself a new language, framework, or tool without taking a formal course;Participated in online coding competitions (e.g. HackerRank, CodeChef, TopCoder);Contributed to open source software                                                                                                                                                                                                                                                         855\n",
       "Taken an online course in programming or software development (e.g. a MOOC);Taken a part-time in-person course in programming or software development;Taught yourself a new language, framework, or tool without taking a formal course                                                                                                                                                                                                                        803\n",
       "Taken an online course in programming or software development (e.g. a MOOC);Taught yourself a new language, framework, or tool without taking a formal course;Participated in online coding competitions (e.g. HackerRank, CodeChef, TopCoder);Participated in a hackathon;Contributed to open source software                                                                                                                                                 782\n",
       "Taken an online course in programming or software development (e.g. a MOOC);Taught yourself a new language, framework, or tool without taking a formal course;Participated in a hackathon                                                                                                                                                                                                                                                                      767\n",
       "Received on-the-job training in software development                                                                                                                                                                                                                                                                                                                                                                                                           714\n",
       "Received on-the-job training in software development;Taught yourself a new language, framework, or tool without taking a formal course;Participated in a hackathon;Contributed to open source software                                                                                                                                                                                                                                                         676\n",
       "Contributed to open source software                                                                                                                                                                                                                                                                                                                                                                                                                            675\n",
       "Taught yourself a new language, framework, or tool without taking a formal course;Participated in online coding competitions (e.g. HackerRank, CodeChef, TopCoder);Participated in a hackathon;Contributed to open source software                                                                                                                                                                                                                             659\n",
       "Taken a part-time in-person course in programming or software development;Taught yourself a new language, framework, or tool without taking a formal course                                                                                                                                                                                                                                                                                                    644\n",
       "Taken an online course in programming or software development (e.g. a MOOC);Taught yourself a new language, framework, or tool without taking a formal course;Participated in online coding competitions (e.g. HackerRank, CodeChef, TopCoder);Participated in a hackathon                                                                                                                                                                                     598\n",
       "Taken an online course in programming or software development (e.g. a MOOC);Received on-the-job training in software development;Taught yourself a new language, framework, or tool without taking a formal course;Participated in a hackathon;Contributed to open source software                                                                                                                                                                             598\n",
       "Taken an online course in programming or software development (e.g. a MOOC);Taken a part-time in-person course in programming or software development;Received on-the-job training in software development;Taught yourself a new language, framework, or tool without taking a formal course                                                                                                                                                                   569\n",
       "Taken an online course in programming or software development (e.g. a MOOC);Completed an industry certification program (e.g. MCPD);Taught yourself a new language, framework, or tool without taking a formal course                                                                                                                                                                                                                                          545\n",
       "Taken an online course in programming or software development (e.g. a MOOC);Received on-the-job training in software development;Taught yourself a new language, framework, or tool without taking a formal course;Participated in online coding competitions (e.g. HackerRank, CodeChef, TopCoder);Participated in a hackathon;Contributed to open source software                                                                                            493\n",
       "Received on-the-job training in software development;Taught yourself a new language, framework, or tool without taking a formal course;Participated in a hackathon                                                                                                                                                                                                                                                                                             486\n",
       "                                                                                                                                                                                                                                                                                                                                                                                                                                                              ... \n",
       "Participated in a full-time developer training program or bootcamp;Completed an industry certification program (e.g. MCPD);Participated in online coding competitions (e.g. HackerRank, CodeChef, TopCoder);Participated in a hackathon;Contributed to open source software                                                                                                                                                                                      1\n",
       "Taken an online course in programming or software development (e.g. a MOOC);Participated in a full-time developer training program or bootcamp;Completed an industry certification program (e.g. MCPD);Received on-the-job training in software development;Participated in online coding competitions (e.g. HackerRank, CodeChef, TopCoder);Participated in a hackathon                                                                                         1\n",
       "Taken an online course in programming or software development (e.g. a MOOC);Taken a part-time in-person course in programming or software development;Completed an industry certification program (e.g. MCPD);Received on-the-job training in software development;Participated in online coding competitions (e.g. HackerRank, CodeChef, TopCoder);Participated in a hackathon;Contributed to open source software                                              1\n",
       "Taken a part-time in-person course in programming or software development;Completed an industry certification program (e.g. MCPD);Received on-the-job training in software development;Participated in a hackathon;Contributed to open source software                                                                                                                                                                                                           1\n",
       "Participated in a full-time developer training program or bootcamp;Taken a part-time in-person course in programming or software development;Completed an industry certification program (e.g. MCPD);Participated in online coding competitions (e.g. HackerRank, CodeChef, TopCoder)                                                                                                                                                                            1\n",
       "Taken a part-time in-person course in programming or software development;Completed an industry certification program (e.g. MCPD);Received on-the-job training in software development;Participated in online coding competitions (e.g. HackerRank, CodeChef, TopCoder);Participated in a hackathon;Contributed to open source software                                                                                                                          1\n",
       "Taken an online course in programming or software development (e.g. a MOOC);Taken a part-time in-person course in programming or software development;Completed an industry certification program (e.g. MCPD);Participated in online coding competitions (e.g. HackerRank, CodeChef, TopCoder);Participated in a hackathon                                                                                                                                       1\n",
       "Taken an online course in programming or software development (e.g. a MOOC);Participated in a full-time developer training program or bootcamp;Taken a part-time in-person course in programming or software development;Completed an industry certification program (e.g. MCPD);Received on-the-job training in software development;Participated in online coding competitions (e.g. HackerRank, CodeChef, TopCoder);Contributed to open source software       1\n",
       "Participated in a full-time developer training program or bootcamp;Taken a part-time in-person course in programming or software development;Completed an industry certification program (e.g. MCPD);Taught yourself a new language, framework, or tool without taking a formal course;Participated in online coding competitions (e.g. HackerRank, CodeChef, TopCoder);Participated in a hackathon                                                              1\n",
       "Participated in a full-time developer training program or bootcamp;Taken a part-time in-person course in programming or software development;Completed an industry certification program (e.g. MCPD);Received on-the-job training in software development;Participated in online coding competitions (e.g. HackerRank, CodeChef, TopCoder);Contributed to open source software                                                                                   1\n",
       "Taken a part-time in-person course in programming or software development;Completed an industry certification program (e.g. MCPD);Received on-the-job training in software development;Participated in online coding competitions (e.g. HackerRank, CodeChef, TopCoder);Participated in a hackathon                                                                                                                                                              1\n",
       "Participated in a full-time developer training program or bootcamp;Completed an industry certification program (e.g. MCPD);Received on-the-job training in software development;Participated in online coding competitions (e.g. HackerRank, CodeChef, TopCoder)                                                                                                                                                                                                 1\n",
       "Taken an online course in programming or software development (e.g. a MOOC);Participated in a full-time developer training program or bootcamp;Completed an industry certification program (e.g. MCPD);Received on-the-job training in software development;Participated in online coding competitions (e.g. HackerRank, CodeChef, TopCoder);Participated in a hackathon;Contributed to open source software                                                     1\n",
       "Participated in a full-time developer training program or bootcamp;Taken a part-time in-person course in programming or software development;Completed an industry certification program (e.g. MCPD);Taught yourself a new language, framework, or tool without taking a formal course;Participated in a hackathon                                                                                                                                               1\n",
       "Participated in a full-time developer training program or bootcamp;Taken a part-time in-person course in programming or software development;Completed an industry certification program (e.g. MCPD);Participated in online coding competitions (e.g. HackerRank, CodeChef, TopCoder);Contributed to open source software                                                                                                                                        1\n",
       "Taken an online course in programming or software development (e.g. a MOOC);Participated in a full-time developer training program or bootcamp;Completed an industry certification program (e.g. MCPD);Participated in a hackathon;Contributed to open source software                                                                                                                                                                                           1\n",
       "Participated in a full-time developer training program or bootcamp;Completed an industry certification program (e.g. MCPD);Participated in a hackathon                                                                                                                                                                                                                                                                                                           1\n",
       "Participated in a full-time developer training program or bootcamp;Taken a part-time in-person course in programming or software development;Completed an industry certification program (e.g. MCPD);Received on-the-job training in software development;Participated in online coding competitions (e.g. HackerRank, CodeChef, TopCoder);Participated in a hackathon;Contributed to open source software                                                       1\n",
       "Taken an online course in programming or software development (e.g. a MOOC);Participated in a full-time developer training program or bootcamp;Taken a part-time in-person course in programming or software development;Completed an industry certification program (e.g. MCPD);Received on-the-job training in software development;Participated in a hackathon;Contributed to open source software                                                            1\n",
       "Taken an online course in programming or software development (e.g. a MOOC);Participated in a full-time developer training program or bootcamp;Taken a part-time in-person course in programming or software development;Completed an industry certification program (e.g. MCPD);Received on-the-job training in software development;Participated in online coding competitions (e.g. HackerRank, CodeChef, TopCoder);Participated in a hackathon               1\n",
       "Taken an online course in programming or software development (e.g. a MOOC);Taken a part-time in-person course in programming or software development;Completed an industry certification program (e.g. MCPD);Participated in a hackathon;Contributed to open source software                                                                                                                                                                                    1\n",
       "Taken an online course in programming or software development (e.g. a MOOC);Participated in a full-time developer training program or bootcamp;Taken a part-time in-person course in programming or software development;Participated in online coding competitions (e.g. HackerRank, CodeChef, TopCoder);Contributed to open source software                                                                                                                    1\n",
       "Participated in a full-time developer training program or bootcamp;Completed an industry certification program (e.g. MCPD);Received on-the-job training in software development;Participated in online coding competitions (e.g. HackerRank, CodeChef, TopCoder);Participated in a hackathon;Contributed to open source software                                                                                                                                 1\n",
       "Participated in a full-time developer training program or bootcamp;Taken a part-time in-person course in programming or software development;Completed an industry certification program (e.g. MCPD);Received on-the-job training in software development;Participated in a hackathon;Contributed to open source software                                                                                                                                        1\n",
       "Participated in a full-time developer training program or bootcamp;Taken a part-time in-person course in programming or software development;Completed an industry certification program (e.g. MCPD);Received on-the-job training in software development;Participated in a hackathon                                                                                                                                                                            1\n",
       "Taken an online course in programming or software development (e.g. a MOOC);Participated in a full-time developer training program or bootcamp;Taken a part-time in-person course in programming or software development;Completed an industry certification program (e.g. MCPD);Participated in online coding competitions (e.g. HackerRank, CodeChef, TopCoder);Participated in a hackathon;Contributed to open source software                                1\n",
       "Participated in a full-time developer training program or bootcamp;Taken a part-time in-person course in programming or software development;Received on-the-job training in software development;Participated in online coding competitions (e.g. HackerRank, CodeChef, TopCoder);Participated in a hackathon;Contributed to open source software                                                                                                               1\n",
       "Participated in a full-time developer training program or bootcamp;Taken a part-time in-person course in programming or software development;Completed an industry certification program (e.g. MCPD);Participated in a hackathon                                                                                                                                                                                                                                 1\n",
       "Participated in a full-time developer training program or bootcamp;Completed an industry certification program (e.g. MCPD);Received on-the-job training in software development;Participated in online coding competitions (e.g. HackerRank, CodeChef, TopCoder);Contributed to open source software                                                                                                                                                             1\n",
       "Participated in a full-time developer training program or bootcamp;Taken a part-time in-person course in programming or software development;Completed an industry certification program (e.g. MCPD);Received on-the-job training in software development;Participated in online coding competitions (e.g. HackerRank, CodeChef, TopCoder)                                                                                                                       1\n",
       "Name: EducationTypes, Length: 494, dtype: int64"
      ]
     },
     "execution_count": 46,
     "metadata": {},
     "output_type": "execute_result"
    }
   ],
   "source": [
    "df_2018['EducationTypes'].value_counts()"
   ]
  },
  {
   "cell_type": "code",
   "execution_count": 47,
   "metadata": {
    "scrolled": true
   },
   "outputs": [
    {
     "data": {
      "text/plain": [
       "Self-taught                                                                                                                             3691\n",
       "Online course; Self-taught                                                                                                              1875\n",
       "Self-taught; Open source contributions                                                                                                  1751\n",
       "On-the-job training; Self-taught                                                                                                        1687\n",
       "Online course; On-the-job training; Self-taught                                                                                         1276\n",
       "Online course; Self-taught; Open source contributions                                                                                    856\n",
       "On-the-job training; Self-taught; Open source contributions                                                                              780\n",
       "Self-taught; Hackathon; Open source contributions                                                                                        521\n",
       "Online course; On-the-job training; Self-taught; Open source contributions                                                               496\n",
       "Online course; Self-taught; Coding competition                                                                                           479\n",
       "Self-taught; Coding competition                                                                                                          430\n",
       "Self-taught; Hackathon                                                                                                                   413\n",
       "Online course                                                                                                                            402\n",
       "On-the-job training                                                                                                                      365\n",
       "On-the-job training; Self-taught; Hackathon; Open source contributions                                                                   342\n",
       "Self-taught; Coding competition; Open source contributions                                                                               334\n",
       "Online course; Self-taught; Coding competition; Open source contributions                                                                320\n",
       "Online course; Part-time/evening course; On-the-job training; Self-taught                                                                308\n",
       "Online course; Self-taught; Hackathon; Open source contributions                                                                         307\n",
       "Part-time/evening course; Self-taught                                                                                                    306\n",
       "Online course; Industry certification; On-the-job training; Self-taught                                                                  302\n",
       "Online course; Part-time/evening course; Self-taught                                                                                     295\n",
       "On-the-job training; Self-taught; Hackathon                                                                                              292\n",
       "Online course; Self-taught; Hackathon                                                                                                    290\n",
       "Self-taught; Coding competition; Hackathon; Open source contributions                                                                    289\n",
       "Industry certification; Self-taught                                                                                                      282\n",
       "Online course; Self-taught; Coding competition; Hackathon; Open source contributions                                                     269\n",
       "Online course; On-the-job training; Self-taught; Coding competition                                                                      256\n",
       "Industry certification; On-the-job training; Self-taught                                                                                 255\n",
       "Part-time/evening course; On-the-job training; Self-taught                                                                               247\n",
       "                                                                                                                                        ... \n",
       "Online course; Bootcamp; Part-time/evening course; On-the-job training; Hackathon; Open source contributions                               1\n",
       "Bootcamp; Part-time/evening course; Industry certification; Coding competition                                                             1\n",
       "Bootcamp; On-the-job training; Coding competition; Open source contributions                                                               1\n",
       "Online course; Bootcamp; On-the-job training; Coding competition; Hackathon                                                                1\n",
       "Bootcamp; Industry certification; Coding competition; Hackathon                                                                            1\n",
       "Online course; Bootcamp; Industry certification; On-the-job training; Hackathon; Open source contributions                                 1\n",
       "Bootcamp; Part-time/evening course; On-the-job training; Open source contributions                                                         1\n",
       "Bootcamp; Industry certification; On-the-job training; Coding competition; Open source contributions                                       1\n",
       "Online course; Bootcamp; Part-time/evening course; Industry certification; On-the-job training                                             1\n",
       "Online course; Part-time/evening course; On-the-job training; Coding competition; Hackathon                                                1\n",
       "Bootcamp; Part-time/evening course; On-the-job training; Coding competition; Open source contributions                                     1\n",
       "Online course; Part-time/evening course; Industry certification; On-the-job training; Open source contributions                            1\n",
       "Bootcamp; Part-time/evening course; Industry certification; Self-taught; Coding competition                                                1\n",
       "Online course; Bootcamp; Part-time/evening course; Industry certification; On-the-job training; Hackathon; Open source contributions       1\n",
       "Part-time/evening course; Industry certification; On-the-job training; Coding competition                                                  1\n",
       "Online course; Bootcamp; Part-time/evening course; Coding competition; Open source contributions                                           1\n",
       "Online course; Bootcamp; Part-time/evening course; Industry certification; Self-taught; Hackathon; Open source contributions               1\n",
       "Bootcamp; Part-time/evening course; Industry certification; Self-taught; Coding competition; Hackathon                                     1\n",
       "Bootcamp; Part-time/evening course; Coding competition                                                                                     1\n",
       "Bootcamp; Coding competition; Hackathon                                                                                                    1\n",
       "Part-time/evening course; Coding competition; Hackathon; Open source contributions                                                         1\n",
       "Online course; Bootcamp; Industry certification; Coding competition; Hackathon; Open source contributions                                  1\n",
       "Bootcamp; Industry certification; On-the-job training; Hackathon                                                                           1\n",
       "Bootcamp; Part-time/evening course; Industry certification; On-the-job training; Self-taught; Coding competition; Hackathon                1\n",
       "Online course; Part-time/evening course; Industry certification; Open source contributions                                                 1\n",
       "Online course; Bootcamp; Part-time/evening course; Industry certification; On-the-job training; Open source contributions                  1\n",
       "Bootcamp; Part-time/evening course; On-the-job training; Hackathon; Open source contributions                                              1\n",
       "Bootcamp; Part-time/evening course; Industry certification; On-the-job training                                                            1\n",
       "Bootcamp; Part-time/evening course; Industry certification; Hackathon; Open source contributions                                           1\n",
       "Bootcamp; Part-time/evening course; Coding competition; Hackathon                                                                          1\n",
       "Name: EducationTypes, Length: 447, dtype: int64"
      ]
     },
     "execution_count": 47,
     "metadata": {},
     "output_type": "execute_result"
    }
   ],
   "source": [
    "df_2017['EducationTypes'].value_counts()"
   ]
  },
  {
   "cell_type": "code",
   "execution_count": 48,
   "metadata": {
    "scrolled": true
   },
   "outputs": [
    {
     "data": {
      "text/plain": [
       "9 - 12 hours        37983\n",
       "5 - 8 hours         22070\n",
       "Over 12 hours        9549\n",
       "1 - 4 hours          2349\n",
       "Less than 1 hour      182\n",
       "Name: HoursComputer, dtype: int64"
      ]
     },
     "execution_count": 48,
     "metadata": {},
     "output_type": "execute_result"
    }
   ],
   "source": [
    "df_2018['HoursComputer'].value_counts()"
   ]
  },
  {
   "cell_type": "markdown",
   "metadata": {},
   "source": [
    "<a id='2'></a>\n",
    "### 从原数据中提取需要的2018年数据"
   ]
  },
  {
   "cell_type": "code",
   "execution_count": 54,
   "metadata": {},
   "outputs": [],
   "source": [
    "df_2018_clean = pd.DataFrame()"
   ]
  },
  {
   "cell_type": "code",
   "execution_count": 55,
   "metadata": {},
   "outputs": [],
   "source": [
    "out_columns = ['Student','Employment','FormalEducation','UndergradMajor','Gender','SkipMeals','RaceEthnicity','Age','Country',\n",
    "              'ConvertedSalary','SalaryType','CurrencySymbol','Employment','CompanySize','DevType','JobSatisfaction','CareerSatisfaction',\n",
    "              'JobSearchStatus','CommunicationTools','YearsCoding','LanguageWorkedWith','LanguageDesireNextYear',\n",
    "              'DatabaseWorkedWith','DatabaseDesireNextYear','PlatformWorkedWith','PlatformDesireNextYear','Methodology','Hobby',\n",
    "              'OpenSource','AgreeDisagree1','AgreeDisagree2','AgreeDisagree3','UpdateCV','LastNewJob','SelfTaughtTypes','HackathonReasons',\n",
    "               'TimeAfterBootcamp','EducationTypes','HoursComputer']"
   ]
  },
  {
   "cell_type": "code",
   "execution_count": 56,
   "metadata": {},
   "outputs": [
    {
     "name": "stderr",
     "output_type": "stream",
     "text": [
      "D:\\anaconda3\\lib\\site-packages\\ipykernel_launcher.py:2: SettingWithCopyWarning: \n",
      "A value is trying to be set on a copy of a slice from a DataFrame.\n",
      "Try using .loc[row_indexer,col_indexer] = value instead\n",
      "\n",
      "See the caveats in the documentation: http://pandas.pydata.org/pandas-docs/stable/indexing.html#indexing-view-versus-copy\n",
      "  \n"
     ]
    }
   ],
   "source": [
    "df_2018_clean = df_2018[out_columns]\n",
    "df_2018_clean['year'] = 2017"
   ]
  },
  {
   "cell_type": "code",
   "execution_count": 57,
   "metadata": {},
   "outputs": [
    {
     "data": {
      "text/html": [
       "<div>\n",
       "<style scoped>\n",
       "    .dataframe tbody tr th:only-of-type {\n",
       "        vertical-align: middle;\n",
       "    }\n",
       "\n",
       "    .dataframe tbody tr th {\n",
       "        vertical-align: top;\n",
       "    }\n",
       "\n",
       "    .dataframe thead th {\n",
       "        text-align: right;\n",
       "    }\n",
       "</style>\n",
       "<table border=\"1\" class=\"dataframe\">\n",
       "  <thead>\n",
       "    <tr style=\"text-align: right;\">\n",
       "      <th></th>\n",
       "      <th>Student</th>\n",
       "      <th>Employment</th>\n",
       "      <th>FormalEducation</th>\n",
       "      <th>UndergradMajor</th>\n",
       "      <th>Gender</th>\n",
       "      <th>SkipMeals</th>\n",
       "      <th>RaceEthnicity</th>\n",
       "      <th>Age</th>\n",
       "      <th>Country</th>\n",
       "      <th>ConvertedSalary</th>\n",
       "      <th>...</th>\n",
       "      <th>AgreeDisagree2</th>\n",
       "      <th>AgreeDisagree3</th>\n",
       "      <th>UpdateCV</th>\n",
       "      <th>LastNewJob</th>\n",
       "      <th>SelfTaughtTypes</th>\n",
       "      <th>HackathonReasons</th>\n",
       "      <th>TimeAfterBootcamp</th>\n",
       "      <th>EducationTypes</th>\n",
       "      <th>HoursComputer</th>\n",
       "      <th>year</th>\n",
       "    </tr>\n",
       "  </thead>\n",
       "  <tbody>\n",
       "    <tr>\n",
       "      <th>0</th>\n",
       "      <td>No</td>\n",
       "      <td>Employed part-time</td>\n",
       "      <td>Bachelor’s degree (BA, BS, B.Eng., etc.)</td>\n",
       "      <td>Mathematics or statistics</td>\n",
       "      <td>Male</td>\n",
       "      <td>Never</td>\n",
       "      <td>Black or of African descent</td>\n",
       "      <td>25 - 34 years old</td>\n",
       "      <td>Kenya</td>\n",
       "      <td>NaN</td>\n",
       "      <td>...</td>\n",
       "      <td>Strongly agree</td>\n",
       "      <td>Neither Agree nor Disagree</td>\n",
       "      <td>My job status or other personal status changed</td>\n",
       "      <td>Less than a year ago</td>\n",
       "      <td>The official documentation and/or standards fo...</td>\n",
       "      <td>To build my professional network</td>\n",
       "      <td>NaN</td>\n",
       "      <td>Taught yourself a new language, framework, or ...</td>\n",
       "      <td>9 - 12 hours</td>\n",
       "      <td>2017</td>\n",
       "    </tr>\n",
       "    <tr>\n",
       "      <th>1</th>\n",
       "      <td>No</td>\n",
       "      <td>Employed full-time</td>\n",
       "      <td>Bachelor’s degree (BA, BS, B.Eng., etc.)</td>\n",
       "      <td>A natural science (ex. biology, chemistry, phy...</td>\n",
       "      <td>Male</td>\n",
       "      <td>Never</td>\n",
       "      <td>White or of European descent</td>\n",
       "      <td>35 - 44 years old</td>\n",
       "      <td>United Kingdom</td>\n",
       "      <td>70841.0</td>\n",
       "      <td>...</td>\n",
       "      <td>Agree</td>\n",
       "      <td>Neither Agree nor Disagree</td>\n",
       "      <td>I saw an employer’s advertisement</td>\n",
       "      <td>More than 4 years ago</td>\n",
       "      <td>The official documentation and/or standards fo...</td>\n",
       "      <td>NaN</td>\n",
       "      <td>NaN</td>\n",
       "      <td>Taught yourself a new language, framework, or ...</td>\n",
       "      <td>5 - 8 hours</td>\n",
       "      <td>2017</td>\n",
       "    </tr>\n",
       "    <tr>\n",
       "      <th>2</th>\n",
       "      <td>No</td>\n",
       "      <td>Employed full-time</td>\n",
       "      <td>Associate degree</td>\n",
       "      <td>Computer science, computer engineering, or sof...</td>\n",
       "      <td>NaN</td>\n",
       "      <td>NaN</td>\n",
       "      <td>NaN</td>\n",
       "      <td>NaN</td>\n",
       "      <td>United States</td>\n",
       "      <td>NaN</td>\n",
       "      <td>...</td>\n",
       "      <td>NaN</td>\n",
       "      <td>NaN</td>\n",
       "      <td>NaN</td>\n",
       "      <td>Less than a year ago</td>\n",
       "      <td>NaN</td>\n",
       "      <td>NaN</td>\n",
       "      <td>NaN</td>\n",
       "      <td>NaN</td>\n",
       "      <td>NaN</td>\n",
       "      <td>2017</td>\n",
       "    </tr>\n",
       "    <tr>\n",
       "      <th>3</th>\n",
       "      <td>No</td>\n",
       "      <td>Employed full-time</td>\n",
       "      <td>Bachelor’s degree (BA, BS, B.Eng., etc.)</td>\n",
       "      <td>Computer science, computer engineering, or sof...</td>\n",
       "      <td>Male</td>\n",
       "      <td>3 - 4 times per week</td>\n",
       "      <td>White or of European descent</td>\n",
       "      <td>35 - 44 years old</td>\n",
       "      <td>United States</td>\n",
       "      <td>NaN</td>\n",
       "      <td>...</td>\n",
       "      <td>Disagree</td>\n",
       "      <td>Strongly disagree</td>\n",
       "      <td>A recruiter contacted me</td>\n",
       "      <td>Less than a year ago</td>\n",
       "      <td>The official documentation and/or standards fo...</td>\n",
       "      <td>NaN</td>\n",
       "      <td>NaN</td>\n",
       "      <td>Completed an industry certification program (e...</td>\n",
       "      <td>9 - 12 hours</td>\n",
       "      <td>2017</td>\n",
       "    </tr>\n",
       "    <tr>\n",
       "      <th>4</th>\n",
       "      <td>Yes, part-time</td>\n",
       "      <td>Employed full-time</td>\n",
       "      <td>Some college/university study without earning ...</td>\n",
       "      <td>Computer science, computer engineering, or sof...</td>\n",
       "      <td>Male</td>\n",
       "      <td>Never</td>\n",
       "      <td>White or of European descent</td>\n",
       "      <td>18 - 24 years old</td>\n",
       "      <td>South Africa</td>\n",
       "      <td>21426.0</td>\n",
       "      <td>...</td>\n",
       "      <td>Agree</td>\n",
       "      <td>Strongly disagree</td>\n",
       "      <td>My job status or other personal status changed</td>\n",
       "      <td>Between 1 and 2 years ago</td>\n",
       "      <td>The official documentation and/or standards fo...</td>\n",
       "      <td>NaN</td>\n",
       "      <td>NaN</td>\n",
       "      <td>Taken a part-time in-person course in programm...</td>\n",
       "      <td>Over 12 hours</td>\n",
       "      <td>2017</td>\n",
       "    </tr>\n",
       "  </tbody>\n",
       "</table>\n",
       "<p>5 rows × 40 columns</p>\n",
       "</div>"
      ],
      "text/plain": [
       "          Student          Employment  \\\n",
       "0              No  Employed part-time   \n",
       "1              No  Employed full-time   \n",
       "2              No  Employed full-time   \n",
       "3              No  Employed full-time   \n",
       "4  Yes, part-time  Employed full-time   \n",
       "\n",
       "                                     FormalEducation  \\\n",
       "0           Bachelor’s degree (BA, BS, B.Eng., etc.)   \n",
       "1           Bachelor’s degree (BA, BS, B.Eng., etc.)   \n",
       "2                                   Associate degree   \n",
       "3           Bachelor’s degree (BA, BS, B.Eng., etc.)   \n",
       "4  Some college/university study without earning ...   \n",
       "\n",
       "                                      UndergradMajor Gender  \\\n",
       "0                          Mathematics or statistics   Male   \n",
       "1  A natural science (ex. biology, chemistry, phy...   Male   \n",
       "2  Computer science, computer engineering, or sof...    NaN   \n",
       "3  Computer science, computer engineering, or sof...   Male   \n",
       "4  Computer science, computer engineering, or sof...   Male   \n",
       "\n",
       "              SkipMeals                 RaceEthnicity                Age  \\\n",
       "0                 Never   Black or of African descent  25 - 34 years old   \n",
       "1                 Never  White or of European descent  35 - 44 years old   \n",
       "2                   NaN                           NaN                NaN   \n",
       "3  3 - 4 times per week  White or of European descent  35 - 44 years old   \n",
       "4                 Never  White or of European descent  18 - 24 years old   \n",
       "\n",
       "          Country  ConvertedSalary  ...   AgreeDisagree2  \\\n",
       "0           Kenya              NaN  ...   Strongly agree   \n",
       "1  United Kingdom          70841.0  ...            Agree   \n",
       "2   United States              NaN  ...              NaN   \n",
       "3   United States              NaN  ...         Disagree   \n",
       "4    South Africa          21426.0  ...            Agree   \n",
       "\n",
       "               AgreeDisagree3                                        UpdateCV  \\\n",
       "0  Neither Agree nor Disagree  My job status or other personal status changed   \n",
       "1  Neither Agree nor Disagree               I saw an employer’s advertisement   \n",
       "2                         NaN                                             NaN   \n",
       "3           Strongly disagree                        A recruiter contacted me   \n",
       "4           Strongly disagree  My job status or other personal status changed   \n",
       "\n",
       "                  LastNewJob  \\\n",
       "0       Less than a year ago   \n",
       "1      More than 4 years ago   \n",
       "2       Less than a year ago   \n",
       "3       Less than a year ago   \n",
       "4  Between 1 and 2 years ago   \n",
       "\n",
       "                                     SelfTaughtTypes  \\\n",
       "0  The official documentation and/or standards fo...   \n",
       "1  The official documentation and/or standards fo...   \n",
       "2                                                NaN   \n",
       "3  The official documentation and/or standards fo...   \n",
       "4  The official documentation and/or standards fo...   \n",
       "\n",
       "                   HackathonReasons TimeAfterBootcamp  \\\n",
       "0  To build my professional network               NaN   \n",
       "1                               NaN               NaN   \n",
       "2                               NaN               NaN   \n",
       "3                               NaN               NaN   \n",
       "4                               NaN               NaN   \n",
       "\n",
       "                                      EducationTypes  HoursComputer  year  \n",
       "0  Taught yourself a new language, framework, or ...   9 - 12 hours  2017  \n",
       "1  Taught yourself a new language, framework, or ...    5 - 8 hours  2017  \n",
       "2                                                NaN            NaN  2017  \n",
       "3  Completed an industry certification program (e...   9 - 12 hours  2017  \n",
       "4  Taken a part-time in-person course in programm...  Over 12 hours  2017  \n",
       "\n",
       "[5 rows x 40 columns]"
      ]
     },
     "execution_count": 57,
     "metadata": {},
     "output_type": "execute_result"
    }
   ],
   "source": [
    "df_2018_clean.head()"
   ]
  },
  {
   "cell_type": "code",
   "execution_count": 58,
   "metadata": {
    "scrolled": true
   },
   "outputs": [
    {
     "data": {
      "text/plain": [
       "(98855, 40)"
      ]
     },
     "execution_count": 58,
     "metadata": {},
     "output_type": "execute_result"
    }
   ],
   "source": [
    "df_2018_clean.shape"
   ]
  },
  {
   "cell_type": "markdown",
   "metadata": {},
   "source": [
    "<a id='3'></a>\n",
    "## 数据清洗步骤\n",
    "### 保存整合在一起的2018年数据"
   ]
  },
  {
   "cell_type": "code",
   "execution_count": 59,
   "metadata": {},
   "outputs": [],
   "source": [
    "df_2018_clean.to_csv('stackoverflow_2018.csv',index = False)"
   ]
  },
  {
   "cell_type": "code",
   "execution_count": 2,
   "metadata": {
    "scrolled": true
   },
   "outputs": [
    {
     "name": "stderr",
     "output_type": "stream",
     "text": [
      "D:\\anaconda3\\lib\\site-packages\\IPython\\core\\interactiveshell.py:2728: DtypeWarning: Columns (5,6,7,10,11,13,15,16,17,18,20,21,22,23,24,25,26,29,30,31,32,33,34,35,36,37,38) have mixed types. Specify dtype option on import or set low_memory=False.\n",
      "  interactivity=interactivity, compiler=compiler, result=result)\n"
     ]
    }
   ],
   "source": [
    "df_2018_clean = pd.read_csv('stackoverflow_2018.csv')"
   ]
  },
  {
   "cell_type": "markdown",
   "metadata": {},
   "source": [
    "### FormalEducation列的处理，跟17年统一"
   ]
  },
  {
   "cell_type": "code",
   "execution_count": 3,
   "metadata": {},
   "outputs": [
    {
     "data": {
      "text/plain": [
       "Bachelor's degree                                                    43659\n",
       "Master's degree                                                      21396\n",
       "Some college/university study without earning a bachelor's degree    11710\n",
       "Secondary school                                                      8951\n",
       "Associate degree                                                      2970\n",
       "Doctoral degree                                                       2214\n",
       "Primary/elementary school                                             1656\n",
       "Professional degree                                                   1447\n",
       "I never completed any formal education                                 700\n",
       "Name: FormalEducation, dtype: int64"
      ]
     },
     "execution_count": 3,
     "metadata": {},
     "output_type": "execute_result"
    }
   ],
   "source": [
    "df_2018_clean['FormalEducation'].value_counts()"
   ]
  },
  {
   "cell_type": "code",
   "execution_count": 42,
   "metadata": {
    "scrolled": true
   },
   "outputs": [
    {
     "data": {
      "text/plain": [
       "Bachelor's degree                                                    21609\n",
       "Master's degree                                                      11141\n",
       "Some college/university study without earning a bachelor's degree     8129\n",
       "Secondary school                                                      5908\n",
       "Doctoral degree                                                       1308\n",
       "I prefer not to answer                                                1109\n",
       "Primary/elementary school                                             1047\n",
       "Professional degree                                                    715\n",
       "I never completed any formal education                                 426\n",
       "Name: FormalEducation, dtype: int64"
      ]
     },
     "execution_count": 42,
     "metadata": {},
     "output_type": "execute_result"
    }
   ],
   "source": [
    "df_2017['FormalEducation'].value_counts()"
   ]
  },
  {
   "cell_type": "code",
   "execution_count": 78,
   "metadata": {},
   "outputs": [],
   "source": [
    "df_2018_clean['FormalEducation'] = df_2018_clean['FormalEducation'].map({\"Bachelor’s degree (BA, BS, B.Eng., etc.)\":\"Bachelor's degree\",\n",
    "                                                                         \"Master’s degree (MA, MS, M.Eng., MBA, etc.)\":\"Master's degree\", \n",
    "                                                                         \"Some college/university study without earning a degree\":\"Some college/university study without earning a bachelor's degree\", \n",
    "                                                                         \"Secondary school (e.g. American high school, German Realschule or Gymnasium, etc.)\":\"Secondary school \",\n",
    "                                                                         \"Associate degree\":\"Associate degree\",\n",
    "                                                                         \"Other doctoral degree (Ph.D, Ed.D., etc.)\": \"Doctoral degree\",\n",
    "                                                                         \"Primary/elementary school\":\"Primary/elementary school\",\n",
    "                                                                        \"Professional degree (JD, MD, etc.)\":\"Professional degree\",\n",
    "                                                                        \"I never completed any formal education\":\"I never completed any formal education\"})\n"
   ]
  },
  {
   "cell_type": "code",
   "execution_count": 79,
   "metadata": {
    "scrolled": true
   },
   "outputs": [
    {
     "data": {
      "text/plain": [
       "Bachelor's degree                                                    43659\n",
       "Master's degree                                                      21396\n",
       "Some college/university study without earning a bachelor's degree    11710\n",
       "Secondary school                                                      8951\n",
       "Associate degree                                                      2970\n",
       "Doctoral degree                                                       2214\n",
       "Primary/elementary school                                             1656\n",
       "Professional degree                                                   1447\n",
       "I never completed any formal education                                 700\n",
       "Name: FormalEducation, dtype: int64"
      ]
     },
     "execution_count": 79,
     "metadata": {},
     "output_type": "execute_result"
    }
   ],
   "source": [
    "df_2018_clean['FormalEducation'].value_counts()"
   ]
  },
  {
   "cell_type": "markdown",
   "metadata": {},
   "source": [
    "### Gender列的处理，处理Male和Female列，其他列全部归在一起"
   ]
  },
  {
   "cell_type": "code",
   "execution_count": 4,
   "metadata": {
    "scrolled": true
   },
   "outputs": [
    {
     "data": {
      "text/plain": [
       "Male          59458\n",
       "No_comment    35372\n",
       "Female         4025\n",
       "Name: Gender, dtype: int64"
      ]
     },
     "execution_count": 4,
     "metadata": {},
     "output_type": "execute_result"
    }
   ],
   "source": [
    "df_2018_clean['Gender'].value_counts()"
   ]
  },
  {
   "cell_type": "code",
   "execution_count": 80,
   "metadata": {
    "scrolled": true
   },
   "outputs": [],
   "source": [
    "df_2018_clean.loc[~df_2018_clean['Gender'].isin(['Male', 'Female']),'Gender']='No_comment'"
   ]
  },
  {
   "cell_type": "code",
   "execution_count": 63,
   "metadata": {},
   "outputs": [
    {
     "data": {
      "text/plain": [
       "(98855, 40)"
      ]
     },
     "execution_count": 63,
     "metadata": {},
     "output_type": "execute_result"
    }
   ],
   "source": [
    "df_2018_clean.shape"
   ]
  },
  {
   "cell_type": "code",
   "execution_count": 81,
   "metadata": {
    "scrolled": false
   },
   "outputs": [
    {
     "data": {
      "text/plain": [
       "Male          59458\n",
       "No_comment    35372\n",
       "Female         4025\n",
       "Name: Gender, dtype: int64"
      ]
     },
     "execution_count": 81,
     "metadata": {},
     "output_type": "execute_result"
    }
   ],
   "source": [
    "df_2018_clean['Gender'].value_counts()"
   ]
  },
  {
   "cell_type": "markdown",
   "metadata": {},
   "source": [
    "### JobSearchStatus列的处理，'m中多余空格的删除"
   ]
  },
  {
   "cell_type": "code",
   "execution_count": 5,
   "metadata": {},
   "outputs": [
    {
     "data": {
      "text/plain": [
       "I'm not actively looking, but I am open to new opportunities    47556\n",
       "I am not interested in new job opportunities                    19296\n",
       "I am actively looking for a job                                 12636\n",
       "Name: JobSearchStatus, dtype: int64"
      ]
     },
     "execution_count": 5,
     "metadata": {},
     "output_type": "execute_result"
    }
   ],
   "source": [
    "df_2018_clean['JobSearchStatus'].value_counts()"
   ]
  },
  {
   "cell_type": "code",
   "execution_count": 69,
   "metadata": {},
   "outputs": [
    {
     "data": {
      "text/plain": [
       "I'm not actively looking, but I am open to new opportunities    20729\n",
       "I am not interested in new job opportunities                     8280\n",
       "I am actively looking for a job                                  4371\n",
       "Name: JobSeekingStatus, dtype: int64"
      ]
     },
     "execution_count": 69,
     "metadata": {},
     "output_type": "execute_result"
    }
   ],
   "source": [
    "df_2017['JobSeekingStatus'].value_counts()"
   ]
  },
  {
   "cell_type": "code",
   "execution_count": 82,
   "metadata": {},
   "outputs": [],
   "source": [
    "df_2018_clean['JobSearchStatus'] = df_2018_clean['JobSearchStatus'].map({\"I’m not actively looking, but I am open to new opportunities\":\"I'm not actively looking, but I am open to new opportunities\",\n",
    "                                                                         \"I am not interested in new job opportunities\":\"I am not interested in new job opportunities\", \n",
    "                                                                         \"Some college/university study without earning a degree\":\"Some college/university study without earning a bachelor's degree\", \n",
    "                                                                         \"I am actively looking for a job\":\"I am actively looking for a job\"})\n"
   ]
  },
  {
   "cell_type": "code",
   "execution_count": 83,
   "metadata": {},
   "outputs": [
    {
     "data": {
      "text/plain": [
       "I'm not actively looking, but I am open to new opportunities    47556\n",
       "I am not interested in new job opportunities                    19296\n",
       "I am actively looking for a job                                 12636\n",
       "Name: JobSearchStatus, dtype: int64"
      ]
     },
     "execution_count": 83,
     "metadata": {},
     "output_type": "execute_result"
    }
   ],
   "source": [
    "df_2018_clean['JobSearchStatus'].value_counts()"
   ]
  },
  {
   "cell_type": "markdown",
   "metadata": {},
   "source": []
  },
  {
   "cell_type": "code",
   "execution_count": 9,
   "metadata": {
    "scrolled": true
   },
   "outputs": [
    {
     "name": "stderr",
     "output_type": "stream",
     "text": [
      "D:\\anaconda3\\lib\\site-packages\\IPython\\core\\interactiveshell.py:2728: DtypeWarning: Columns (5,6,7,10,11,13,15,16,17,18,20,21,22,23,24,25,26,29,30,31,32,33,34,35,36,37,38) have mixed types. Specify dtype option on import or set low_memory=False.\n",
      "  interactivity=interactivity, compiler=compiler, result=result)\n"
     ]
    }
   ],
   "source": [
    "df_2018_clean = pd.read_csv('stackoverflow_2018.csv')"
   ]
  },
  {
   "cell_type": "code",
   "execution_count": 6,
   "metadata": {},
   "outputs": [
    {
     "data": {
      "text/html": [
       "<div>\n",
       "<style scoped>\n",
       "    .dataframe tbody tr th:only-of-type {\n",
       "        vertical-align: middle;\n",
       "    }\n",
       "\n",
       "    .dataframe tbody tr th {\n",
       "        vertical-align: top;\n",
       "    }\n",
       "\n",
       "    .dataframe thead th {\n",
       "        text-align: right;\n",
       "    }\n",
       "</style>\n",
       "<table border=\"1\" class=\"dataframe\">\n",
       "  <thead>\n",
       "    <tr style=\"text-align: right;\">\n",
       "      <th></th>\n",
       "      <th>Student</th>\n",
       "      <th>Employment</th>\n",
       "      <th>FormalEducation</th>\n",
       "      <th>UndergradMajor</th>\n",
       "      <th>Gender</th>\n",
       "      <th>SkipMeals</th>\n",
       "      <th>RaceEthnicity</th>\n",
       "      <th>Age</th>\n",
       "      <th>Country</th>\n",
       "      <th>ConvertedSalary</th>\n",
       "      <th>...</th>\n",
       "      <th>AgreeDisagree2</th>\n",
       "      <th>AgreeDisagree3</th>\n",
       "      <th>UpdateCV</th>\n",
       "      <th>LastNewJob</th>\n",
       "      <th>SelfTaughtTypes</th>\n",
       "      <th>HackathonReasons</th>\n",
       "      <th>TimeAfterBootcamp</th>\n",
       "      <th>EducationTypes</th>\n",
       "      <th>HoursComputer</th>\n",
       "      <th>year</th>\n",
       "    </tr>\n",
       "  </thead>\n",
       "  <tbody>\n",
       "    <tr>\n",
       "      <th>0</th>\n",
       "      <td>No</td>\n",
       "      <td>Employed part-time</td>\n",
       "      <td>Bachelor's degree</td>\n",
       "      <td>Mathematics or statistics</td>\n",
       "      <td>Male</td>\n",
       "      <td>Never</td>\n",
       "      <td>Black or of African descent</td>\n",
       "      <td>25 - 34 years old</td>\n",
       "      <td>Kenya</td>\n",
       "      <td>NaN</td>\n",
       "      <td>...</td>\n",
       "      <td>Strongly agree</td>\n",
       "      <td>Neither Agree nor Disagree</td>\n",
       "      <td>My job status or other personal status changed</td>\n",
       "      <td>Less than a year ago</td>\n",
       "      <td>The official documentation and/or standards fo...</td>\n",
       "      <td>To build my professional network</td>\n",
       "      <td>NaN</td>\n",
       "      <td>Taught yourself a new language, framework, or ...</td>\n",
       "      <td>9 - 12 hours</td>\n",
       "      <td>2017</td>\n",
       "    </tr>\n",
       "    <tr>\n",
       "      <th>1</th>\n",
       "      <td>No</td>\n",
       "      <td>Employed full-time</td>\n",
       "      <td>Bachelor's degree</td>\n",
       "      <td>A natural science (ex. biology, chemistry, phy...</td>\n",
       "      <td>Male</td>\n",
       "      <td>Never</td>\n",
       "      <td>White or of European descent</td>\n",
       "      <td>35 - 44 years old</td>\n",
       "      <td>United Kingdom</td>\n",
       "      <td>70841.0</td>\n",
       "      <td>...</td>\n",
       "      <td>Agree</td>\n",
       "      <td>Neither Agree nor Disagree</td>\n",
       "      <td>I saw an employer’s advertisement</td>\n",
       "      <td>More than 4 years ago</td>\n",
       "      <td>The official documentation and/or standards fo...</td>\n",
       "      <td>NaN</td>\n",
       "      <td>NaN</td>\n",
       "      <td>Taught yourself a new language, framework, or ...</td>\n",
       "      <td>5 - 8 hours</td>\n",
       "      <td>2017</td>\n",
       "    </tr>\n",
       "    <tr>\n",
       "      <th>2</th>\n",
       "      <td>No</td>\n",
       "      <td>Employed full-time</td>\n",
       "      <td>Associate degree</td>\n",
       "      <td>Computer science, computer engineering, or sof...</td>\n",
       "      <td>No_comment</td>\n",
       "      <td>NaN</td>\n",
       "      <td>NaN</td>\n",
       "      <td>NaN</td>\n",
       "      <td>United States</td>\n",
       "      <td>NaN</td>\n",
       "      <td>...</td>\n",
       "      <td>NaN</td>\n",
       "      <td>NaN</td>\n",
       "      <td>NaN</td>\n",
       "      <td>Less than a year ago</td>\n",
       "      <td>NaN</td>\n",
       "      <td>NaN</td>\n",
       "      <td>NaN</td>\n",
       "      <td>NaN</td>\n",
       "      <td>NaN</td>\n",
       "      <td>2017</td>\n",
       "    </tr>\n",
       "    <tr>\n",
       "      <th>3</th>\n",
       "      <td>No</td>\n",
       "      <td>Employed full-time</td>\n",
       "      <td>Bachelor's degree</td>\n",
       "      <td>Computer science, computer engineering, or sof...</td>\n",
       "      <td>Male</td>\n",
       "      <td>3 - 4 times per week</td>\n",
       "      <td>White or of European descent</td>\n",
       "      <td>35 - 44 years old</td>\n",
       "      <td>United States</td>\n",
       "      <td>NaN</td>\n",
       "      <td>...</td>\n",
       "      <td>Disagree</td>\n",
       "      <td>Strongly disagree</td>\n",
       "      <td>A recruiter contacted me</td>\n",
       "      <td>Less than a year ago</td>\n",
       "      <td>The official documentation and/or standards fo...</td>\n",
       "      <td>NaN</td>\n",
       "      <td>NaN</td>\n",
       "      <td>Completed an industry certification program (e...</td>\n",
       "      <td>9 - 12 hours</td>\n",
       "      <td>2017</td>\n",
       "    </tr>\n",
       "    <tr>\n",
       "      <th>4</th>\n",
       "      <td>Yes, part-time</td>\n",
       "      <td>Employed full-time</td>\n",
       "      <td>Some college/university study without earning ...</td>\n",
       "      <td>Computer science, computer engineering, or sof...</td>\n",
       "      <td>Male</td>\n",
       "      <td>Never</td>\n",
       "      <td>White or of European descent</td>\n",
       "      <td>18 - 24 years old</td>\n",
       "      <td>South Africa</td>\n",
       "      <td>21426.0</td>\n",
       "      <td>...</td>\n",
       "      <td>Agree</td>\n",
       "      <td>Strongly disagree</td>\n",
       "      <td>My job status or other personal status changed</td>\n",
       "      <td>Between 1 and 2 years ago</td>\n",
       "      <td>The official documentation and/or standards fo...</td>\n",
       "      <td>NaN</td>\n",
       "      <td>NaN</td>\n",
       "      <td>Taken a part-time in-person course in programm...</td>\n",
       "      <td>Over 12 hours</td>\n",
       "      <td>2017</td>\n",
       "    </tr>\n",
       "  </tbody>\n",
       "</table>\n",
       "<p>5 rows × 40 columns</p>\n",
       "</div>"
      ],
      "text/plain": [
       "          Student          Employment  \\\n",
       "0              No  Employed part-time   \n",
       "1              No  Employed full-time   \n",
       "2              No  Employed full-time   \n",
       "3              No  Employed full-time   \n",
       "4  Yes, part-time  Employed full-time   \n",
       "\n",
       "                                     FormalEducation  \\\n",
       "0                                  Bachelor's degree   \n",
       "1                                  Bachelor's degree   \n",
       "2                                   Associate degree   \n",
       "3                                  Bachelor's degree   \n",
       "4  Some college/university study without earning ...   \n",
       "\n",
       "                                      UndergradMajor      Gender  \\\n",
       "0                          Mathematics or statistics        Male   \n",
       "1  A natural science (ex. biology, chemistry, phy...        Male   \n",
       "2  Computer science, computer engineering, or sof...  No_comment   \n",
       "3  Computer science, computer engineering, or sof...        Male   \n",
       "4  Computer science, computer engineering, or sof...        Male   \n",
       "\n",
       "              SkipMeals                 RaceEthnicity                Age  \\\n",
       "0                 Never   Black or of African descent  25 - 34 years old   \n",
       "1                 Never  White or of European descent  35 - 44 years old   \n",
       "2                   NaN                           NaN                NaN   \n",
       "3  3 - 4 times per week  White or of European descent  35 - 44 years old   \n",
       "4                 Never  White or of European descent  18 - 24 years old   \n",
       "\n",
       "          Country  ConvertedSalary  ...   AgreeDisagree2  \\\n",
       "0           Kenya              NaN  ...   Strongly agree   \n",
       "1  United Kingdom          70841.0  ...            Agree   \n",
       "2   United States              NaN  ...              NaN   \n",
       "3   United States              NaN  ...         Disagree   \n",
       "4    South Africa          21426.0  ...            Agree   \n",
       "\n",
       "               AgreeDisagree3                                        UpdateCV  \\\n",
       "0  Neither Agree nor Disagree  My job status or other personal status changed   \n",
       "1  Neither Agree nor Disagree               I saw an employer’s advertisement   \n",
       "2                         NaN                                             NaN   \n",
       "3           Strongly disagree                        A recruiter contacted me   \n",
       "4           Strongly disagree  My job status or other personal status changed   \n",
       "\n",
       "                  LastNewJob  \\\n",
       "0       Less than a year ago   \n",
       "1      More than 4 years ago   \n",
       "2       Less than a year ago   \n",
       "3       Less than a year ago   \n",
       "4  Between 1 and 2 years ago   \n",
       "\n",
       "                                     SelfTaughtTypes  \\\n",
       "0  The official documentation and/or standards fo...   \n",
       "1  The official documentation and/or standards fo...   \n",
       "2                                                NaN   \n",
       "3  The official documentation and/or standards fo...   \n",
       "4  The official documentation and/or standards fo...   \n",
       "\n",
       "                   HackathonReasons TimeAfterBootcamp  \\\n",
       "0  To build my professional network               NaN   \n",
       "1                               NaN               NaN   \n",
       "2                               NaN               NaN   \n",
       "3                               NaN               NaN   \n",
       "4                               NaN               NaN   \n",
       "\n",
       "                                      EducationTypes  HoursComputer  year  \n",
       "0  Taught yourself a new language, framework, or ...   9 - 12 hours  2017  \n",
       "1  Taught yourself a new language, framework, or ...    5 - 8 hours  2017  \n",
       "2                                                NaN            NaN  2017  \n",
       "3  Completed an industry certification program (e...   9 - 12 hours  2017  \n",
       "4  Taken a part-time in-person course in programm...  Over 12 hours  2017  \n",
       "\n",
       "[5 rows x 40 columns]"
      ]
     },
     "execution_count": 6,
     "metadata": {},
     "output_type": "execute_result"
    }
   ],
   "source": [
    "df_2018_clean.head()"
   ]
  },
  {
   "cell_type": "code",
   "execution_count": 7,
   "metadata": {},
   "outputs": [],
   "source": [
    "# 修改列名\n",
    "df_2018_clean.rename(columns={'Student':'University', 'RaceEthnicity':'Race', 'ConvertedSalary':'Salary','CurrencySymbol':'Currency',\n",
    "                             'Employment':'EmploymentStatus','DevType':'DeveloperType','JobSearchStatus':'JobSeekingStatus',\n",
    "                             'AgreeDisagree1':'KinshipDevelopers','AgreeDisagree2':'CompetePeers','AgreeDisagree3':'KinshipDevelopers'},\n",
    "                     inplace = True)"
   ]
  },
  {
   "cell_type": "code",
   "execution_count": 8,
   "metadata": {
    "scrolled": true
   },
   "outputs": [
    {
     "data": {
      "text/html": [
       "<div>\n",
       "<style scoped>\n",
       "    .dataframe tbody tr th:only-of-type {\n",
       "        vertical-align: middle;\n",
       "    }\n",
       "\n",
       "    .dataframe tbody tr th {\n",
       "        vertical-align: top;\n",
       "    }\n",
       "\n",
       "    .dataframe thead th {\n",
       "        text-align: right;\n",
       "    }\n",
       "</style>\n",
       "<table border=\"1\" class=\"dataframe\">\n",
       "  <thead>\n",
       "    <tr style=\"text-align: right;\">\n",
       "      <th></th>\n",
       "      <th>University</th>\n",
       "      <th>EmploymentStatus</th>\n",
       "      <th>FormalEducation</th>\n",
       "      <th>UndergradMajor</th>\n",
       "      <th>Gender</th>\n",
       "      <th>SkipMeals</th>\n",
       "      <th>Race</th>\n",
       "      <th>Age</th>\n",
       "      <th>Country</th>\n",
       "      <th>Salary</th>\n",
       "      <th>...</th>\n",
       "      <th>CompetePeers</th>\n",
       "      <th>KinshipDevelopers</th>\n",
       "      <th>UpdateCV</th>\n",
       "      <th>LastNewJob</th>\n",
       "      <th>SelfTaughtTypes</th>\n",
       "      <th>HackathonReasons</th>\n",
       "      <th>TimeAfterBootcamp</th>\n",
       "      <th>EducationTypes</th>\n",
       "      <th>HoursComputer</th>\n",
       "      <th>year</th>\n",
       "    </tr>\n",
       "  </thead>\n",
       "  <tbody>\n",
       "    <tr>\n",
       "      <th>0</th>\n",
       "      <td>No</td>\n",
       "      <td>Employed part-time</td>\n",
       "      <td>Bachelor's degree</td>\n",
       "      <td>Mathematics or statistics</td>\n",
       "      <td>Male</td>\n",
       "      <td>Never</td>\n",
       "      <td>Black or of African descent</td>\n",
       "      <td>25 - 34 years old</td>\n",
       "      <td>Kenya</td>\n",
       "      <td>NaN</td>\n",
       "      <td>...</td>\n",
       "      <td>Strongly agree</td>\n",
       "      <td>Neither Agree nor Disagree</td>\n",
       "      <td>My job status or other personal status changed</td>\n",
       "      <td>Less than a year ago</td>\n",
       "      <td>The official documentation and/or standards fo...</td>\n",
       "      <td>To build my professional network</td>\n",
       "      <td>NaN</td>\n",
       "      <td>Taught yourself a new language, framework, or ...</td>\n",
       "      <td>9 - 12 hours</td>\n",
       "      <td>2017</td>\n",
       "    </tr>\n",
       "    <tr>\n",
       "      <th>1</th>\n",
       "      <td>No</td>\n",
       "      <td>Employed full-time</td>\n",
       "      <td>Bachelor's degree</td>\n",
       "      <td>A natural science (ex. biology, chemistry, phy...</td>\n",
       "      <td>Male</td>\n",
       "      <td>Never</td>\n",
       "      <td>White or of European descent</td>\n",
       "      <td>35 - 44 years old</td>\n",
       "      <td>United Kingdom</td>\n",
       "      <td>70841.0</td>\n",
       "      <td>...</td>\n",
       "      <td>Agree</td>\n",
       "      <td>Neither Agree nor Disagree</td>\n",
       "      <td>I saw an employer’s advertisement</td>\n",
       "      <td>More than 4 years ago</td>\n",
       "      <td>The official documentation and/or standards fo...</td>\n",
       "      <td>NaN</td>\n",
       "      <td>NaN</td>\n",
       "      <td>Taught yourself a new language, framework, or ...</td>\n",
       "      <td>5 - 8 hours</td>\n",
       "      <td>2017</td>\n",
       "    </tr>\n",
       "    <tr>\n",
       "      <th>2</th>\n",
       "      <td>No</td>\n",
       "      <td>Employed full-time</td>\n",
       "      <td>Associate degree</td>\n",
       "      <td>Computer science, computer engineering, or sof...</td>\n",
       "      <td>No_comment</td>\n",
       "      <td>NaN</td>\n",
       "      <td>NaN</td>\n",
       "      <td>NaN</td>\n",
       "      <td>United States</td>\n",
       "      <td>NaN</td>\n",
       "      <td>...</td>\n",
       "      <td>NaN</td>\n",
       "      <td>NaN</td>\n",
       "      <td>NaN</td>\n",
       "      <td>Less than a year ago</td>\n",
       "      <td>NaN</td>\n",
       "      <td>NaN</td>\n",
       "      <td>NaN</td>\n",
       "      <td>NaN</td>\n",
       "      <td>NaN</td>\n",
       "      <td>2017</td>\n",
       "    </tr>\n",
       "    <tr>\n",
       "      <th>3</th>\n",
       "      <td>No</td>\n",
       "      <td>Employed full-time</td>\n",
       "      <td>Bachelor's degree</td>\n",
       "      <td>Computer science, computer engineering, or sof...</td>\n",
       "      <td>Male</td>\n",
       "      <td>3 - 4 times per week</td>\n",
       "      <td>White or of European descent</td>\n",
       "      <td>35 - 44 years old</td>\n",
       "      <td>United States</td>\n",
       "      <td>NaN</td>\n",
       "      <td>...</td>\n",
       "      <td>Disagree</td>\n",
       "      <td>Strongly disagree</td>\n",
       "      <td>A recruiter contacted me</td>\n",
       "      <td>Less than a year ago</td>\n",
       "      <td>The official documentation and/or standards fo...</td>\n",
       "      <td>NaN</td>\n",
       "      <td>NaN</td>\n",
       "      <td>Completed an industry certification program (e...</td>\n",
       "      <td>9 - 12 hours</td>\n",
       "      <td>2017</td>\n",
       "    </tr>\n",
       "    <tr>\n",
       "      <th>4</th>\n",
       "      <td>Yes, part-time</td>\n",
       "      <td>Employed full-time</td>\n",
       "      <td>Some college/university study without earning ...</td>\n",
       "      <td>Computer science, computer engineering, or sof...</td>\n",
       "      <td>Male</td>\n",
       "      <td>Never</td>\n",
       "      <td>White or of European descent</td>\n",
       "      <td>18 - 24 years old</td>\n",
       "      <td>South Africa</td>\n",
       "      <td>21426.0</td>\n",
       "      <td>...</td>\n",
       "      <td>Agree</td>\n",
       "      <td>Strongly disagree</td>\n",
       "      <td>My job status or other personal status changed</td>\n",
       "      <td>Between 1 and 2 years ago</td>\n",
       "      <td>The official documentation and/or standards fo...</td>\n",
       "      <td>NaN</td>\n",
       "      <td>NaN</td>\n",
       "      <td>Taken a part-time in-person course in programm...</td>\n",
       "      <td>Over 12 hours</td>\n",
       "      <td>2017</td>\n",
       "    </tr>\n",
       "  </tbody>\n",
       "</table>\n",
       "<p>5 rows × 40 columns</p>\n",
       "</div>"
      ],
      "text/plain": [
       "       University    EmploymentStatus  \\\n",
       "0              No  Employed part-time   \n",
       "1              No  Employed full-time   \n",
       "2              No  Employed full-time   \n",
       "3              No  Employed full-time   \n",
       "4  Yes, part-time  Employed full-time   \n",
       "\n",
       "                                     FormalEducation  \\\n",
       "0                                  Bachelor's degree   \n",
       "1                                  Bachelor's degree   \n",
       "2                                   Associate degree   \n",
       "3                                  Bachelor's degree   \n",
       "4  Some college/university study without earning ...   \n",
       "\n",
       "                                      UndergradMajor      Gender  \\\n",
       "0                          Mathematics or statistics        Male   \n",
       "1  A natural science (ex. biology, chemistry, phy...        Male   \n",
       "2  Computer science, computer engineering, or sof...  No_comment   \n",
       "3  Computer science, computer engineering, or sof...        Male   \n",
       "4  Computer science, computer engineering, or sof...        Male   \n",
       "\n",
       "              SkipMeals                          Race                Age  \\\n",
       "0                 Never   Black or of African descent  25 - 34 years old   \n",
       "1                 Never  White or of European descent  35 - 44 years old   \n",
       "2                   NaN                           NaN                NaN   \n",
       "3  3 - 4 times per week  White or of European descent  35 - 44 years old   \n",
       "4                 Never  White or of European descent  18 - 24 years old   \n",
       "\n",
       "          Country   Salary  ...     CompetePeers           KinshipDevelopers  \\\n",
       "0           Kenya      NaN  ...   Strongly agree  Neither Agree nor Disagree   \n",
       "1  United Kingdom  70841.0  ...            Agree  Neither Agree nor Disagree   \n",
       "2   United States      NaN  ...              NaN                         NaN   \n",
       "3   United States      NaN  ...         Disagree           Strongly disagree   \n",
       "4    South Africa  21426.0  ...            Agree           Strongly disagree   \n",
       "\n",
       "                                         UpdateCV                 LastNewJob  \\\n",
       "0  My job status or other personal status changed       Less than a year ago   \n",
       "1               I saw an employer’s advertisement      More than 4 years ago   \n",
       "2                                             NaN       Less than a year ago   \n",
       "3                        A recruiter contacted me       Less than a year ago   \n",
       "4  My job status or other personal status changed  Between 1 and 2 years ago   \n",
       "\n",
       "                                     SelfTaughtTypes  \\\n",
       "0  The official documentation and/or standards fo...   \n",
       "1  The official documentation and/or standards fo...   \n",
       "2                                                NaN   \n",
       "3  The official documentation and/or standards fo...   \n",
       "4  The official documentation and/or standards fo...   \n",
       "\n",
       "                   HackathonReasons TimeAfterBootcamp  \\\n",
       "0  To build my professional network               NaN   \n",
       "1                               NaN               NaN   \n",
       "2                               NaN               NaN   \n",
       "3                               NaN               NaN   \n",
       "4                               NaN               NaN   \n",
       "\n",
       "                                      EducationTypes  HoursComputer  year  \n",
       "0  Taught yourself a new language, framework, or ...   9 - 12 hours  2017  \n",
       "1  Taught yourself a new language, framework, or ...    5 - 8 hours  2017  \n",
       "2                                                NaN            NaN  2017  \n",
       "3  Completed an industry certification program (e...   9 - 12 hours  2017  \n",
       "4  Taken a part-time in-person course in programm...  Over 12 hours  2017  \n",
       "\n",
       "[5 rows x 40 columns]"
      ]
     },
     "execution_count": 8,
     "metadata": {},
     "output_type": "execute_result"
    }
   ],
   "source": [
    "df_2018_clean.head()"
   ]
  },
  {
   "cell_type": "code",
   "execution_count": 9,
   "metadata": {},
   "outputs": [
    {
     "data": {
      "text/plain": [
       "Male          59458\n",
       "No_comment    35372\n",
       "Female         4025\n",
       "Name: Gender, dtype: int64"
      ]
     },
     "execution_count": 9,
     "metadata": {},
     "output_type": "execute_result"
    }
   ],
   "source": [
    "# 修改Gender里面的nocomment\n",
    "df_2018_clean['Gender'].value_counts()"
   ]
  },
  {
   "cell_type": "code",
   "execution_count": 10,
   "metadata": {},
   "outputs": [],
   "source": [
    "df_2018_clean['Gender'] = df_2018_clean['Gender'].map({\"Male\":\"Male\",\"Female\":\"Female\", \"No_comment\":\"NoComment\"})"
   ]
  },
  {
   "cell_type": "code",
   "execution_count": 11,
   "metadata": {},
   "outputs": [
    {
     "data": {
      "text/plain": [
       "Male         59458\n",
       "NoComment    35372\n",
       "Female        4025\n",
       "Name: Gender, dtype: int64"
      ]
     },
     "execution_count": 11,
     "metadata": {},
     "output_type": "execute_result"
    }
   ],
   "source": [
    "df_2018_clean['Gender'].value_counts()"
   ]
  },
  {
   "cell_type": "code",
   "execution_count": 12,
   "metadata": {
    "scrolled": true
   },
   "outputs": [
    {
     "data": {
      "text/plain": [
       "White or of European descent                                                                                                                                                            40541\n",
       "South Asian                                                                                                                                                                              6213\n",
       "Hispanic or Latino/Latina                                                                                                                                                                2718\n",
       "East Asian                                                                                                                                                                               2350\n",
       "Middle Eastern                                                                                                                                                                           1774\n",
       "Black or of African descent                                                                                                                                                              1224\n",
       "Hispanic or Latino/Latina;White or of European descent                                                                                                                                    900\n",
       "Middle Eastern;White or of European descent                                                                                                                                               424\n",
       "East Asian;South Asian                                                                                                                                                                    204\n",
       "East Asian;White or of European descent                                                                                                                                                   199\n",
       "Native American, Pacific Islander, or Indigenous Australian;White or of European descent                                                                                                  163\n",
       "Black or of African descent;White or of European descent                                                                                                                                  124\n",
       "Native American, Pacific Islander, or Indigenous Australian                                                                                                                               123\n",
       "South Asian;White or of European descent                                                                                                                                                   88\n",
       "Black or of African descent;Hispanic or Latino/Latina                                                                                                                                      62\n",
       "Black or of African descent;East Asian;Hispanic or Latino/Latina;Middle Eastern;Native American, Pacific Islander, or Indigenous Australian;South Asian;White or of European descent       48\n",
       "Black or of African descent;Middle Eastern                                                                                                                                                 29\n",
       "East Asian;Middle Eastern                                                                                                                                                                  21\n",
       "Black or of African descent;Hispanic or Latino/Latina;White or of European descent                                                                                                         20\n",
       "Middle Eastern;South Asian                                                                                                                                                                 19\n",
       "Hispanic or Latino/Latina;Native American, Pacific Islander, or Indigenous Australian;White or of European descent                                                                         17\n",
       "East Asian;Native American, Pacific Islander, or Indigenous Australian;White or of European descent                                                                                        14\n",
       "East Asian;South Asian;White or of European descent                                                                                                                                        13\n",
       "East Asian;Hispanic or Latino/Latina                                                                                                                                                       13\n",
       "Hispanic or Latino/Latina;Middle Eastern                                                                                                                                                   11\n",
       "Hispanic or Latino/Latina;South Asian                                                                                                                                                      10\n",
       "Black or of African descent;Native American, Pacific Islander, or Indigenous Australian;White or of European descent                                                                       10\n",
       "East Asian;Native American, Pacific Islander, or Indigenous Australian                                                                                                                      9\n",
       "Black or of African descent;Middle Eastern;White or of European descent                                                                                                                     8\n",
       "East Asian;Hispanic or Latino/Latina;White or of European descent                                                                                                                           8\n",
       "                                                                                                                                                                                        ...  \n",
       "Hispanic or Latino/Latina;South Asian;White or of European descent                                                                                                                          4\n",
       "Black or of African descent;South Asian;White or of European descent                                                                                                                        4\n",
       "Hispanic or Latino/Latina;Middle Eastern;Native American, Pacific Islander, or Indigenous Australian;White or of European descent                                                           3\n",
       "Black or of African descent;East Asian;Middle Eastern;Native American, Pacific Islander, or Indigenous Australian;South Asian;White or of European descent                                  3\n",
       "East Asian;Hispanic or Latino/Latina;Native American, Pacific Islander, or Indigenous Australian;White or of European descent                                                               3\n",
       "Black or of African descent;Hispanic or Latino/Latina;Middle Eastern                                                                                                                        3\n",
       "Black or of African descent;East Asian;Native American, Pacific Islander, or Indigenous Australian;White or of European descent                                                             3\n",
       "East Asian;Middle Eastern;South Asian                                                                                                                                                       3\n",
       "Middle Eastern;South Asian;White or of European descent                                                                                                                                     2\n",
       "Native American, Pacific Islander, or Indigenous Australian;South Asian;White or of European descent                                                                                        2\n",
       "Black or of African descent;East Asian;Hispanic or Latino/Latina                                                                                                                            2\n",
       "Middle Eastern;Native American, Pacific Islander, or Indigenous Australian                                                                                                                  2\n",
       "East Asian;Hispanic or Latino/Latina;Native American, Pacific Islander, or Indigenous Australian                                                                                            2\n",
       "East Asian;Hispanic or Latino/Latina;Middle Eastern;Native American, Pacific Islander, or Indigenous Australian;South Asian;White or of European descent                                    2\n",
       "Black or of African descent;East Asian;Hispanic or Latino/Latina;Middle Eastern;Native American, Pacific Islander, or Indigenous Australian;White or of European descent                    1\n",
       "Black or of African descent;Hispanic or Latino/Latina;Native American, Pacific Islander, or Indigenous Australian;South Asian                                                               1\n",
       "Black or of African descent;East Asian;Hispanic or Latino/Latina;White or of European descent                                                                                               1\n",
       "Black or of African descent;East Asian;Hispanic or Latino/Latina;Middle Eastern;Native American, Pacific Islander, or Indigenous Australian;South Asian                                     1\n",
       "Hispanic or Latino/Latina;Middle Eastern;Native American, Pacific Islander, or Indigenous Australian                                                                                        1\n",
       "Black or of African descent;East Asian;Native American, Pacific Islander, or Indigenous Australian                                                                                          1\n",
       "Black or of African descent;East Asian;Hispanic or Latino/Latina;Middle Eastern;Native American, Pacific Islander, or Indigenous Australian                                                 1\n",
       "Black or of African descent;Hispanic or Latino/Latina;Middle Eastern;Native American, Pacific Islander, or Indigenous Australian;White or of European descent                               1\n",
       "East Asian;Hispanic or Latino/Latina;Native American, Pacific Islander, or Indigenous Australian;South Asian;White or of European descent                                                   1\n",
       "East Asian;Hispanic or Latino/Latina;Middle Eastern;Native American, Pacific Islander, or Indigenous Australian;White or of European descent                                                1\n",
       "Black or of African descent;East Asian;Native American, Pacific Islander, or Indigenous Australian;South Asian;White or of European descent                                                 1\n",
       "East Asian;Hispanic or Latino/Latina;Middle Eastern                                                                                                                                         1\n",
       "Black or of African descent;East Asian;South Asian                                                                                                                                          1\n",
       "Black or of African descent;Hispanic or Latino/Latina;South Asian                                                                                                                           1\n",
       "East Asian;Middle Eastern;South Asian;White or of European descent                                                                                                                          1\n",
       "Black or of African descent;Middle Eastern;Native American, Pacific Islander, or Indigenous Australian;White or of European descent                                                         1\n",
       "Name: Race, Length: 71, dtype: int64"
      ]
     },
     "execution_count": 12,
     "metadata": {},
     "output_type": "execute_result"
    }
   ],
   "source": [
    "# 修改Race\n",
    "df_2018_clean['Race'].value_counts()"
   ]
  },
  {
   "cell_type": "code",
   "execution_count": 36,
   "metadata": {},
   "outputs": [],
   "source": [
    "# 利用正则表达式删除含有‘I dont know’\n",
    "pattern = re.compile(r\"I don't know|I prefer not to say\")\n",
    "df_2018_clean.Race = df_2018_clean.Race.apply(preprocess.convert_single_func, args=(pattern, \"NoInfo\", True))"
   ]
  },
  {
   "cell_type": "code",
   "execution_count": 37,
   "metadata": {},
   "outputs": [],
   "source": [
    "# 取出；前一部分\n",
    "# preprocess是任锐大大写的脚本，很强\n",
    "df_2018_clean.Race = df_2018_clean.Race.str.split(\";\").apply(preprocess.convert_list_funct)"
   ]
  },
  {
   "cell_type": "code",
   "execution_count": 38,
   "metadata": {},
   "outputs": [
    {
     "data": {
      "text/plain": [
       "White or of European descent                                   40541\n",
       "South Asian                                                     6301\n",
       "Hispanic or Latino/Latina                                       3678\n",
       "East Asian                                                      2855\n",
       "Middle Eastern                                                  2221\n",
       "Black or of African descent                                     1585\n",
       "Native American, Pacific Islander, or Indigenous Australian      292\n",
       "Name: Race, dtype: int64"
      ]
     },
     "execution_count": 38,
     "metadata": {},
     "output_type": "execute_result"
    }
   ],
   "source": [
    "df_2018_clean.Race.value_counts()"
   ]
  },
  {
   "cell_type": "code",
   "execution_count": 21,
   "metadata": {},
   "outputs": [
    {
     "data": {
      "text/plain": [
       "USD    17330\n",
       "EUR    12781\n",
       "INR     6633\n",
       "GBP     4196\n",
       "CAD     2122\n",
       "Name: Currency, dtype: int64"
      ]
     },
     "execution_count": 21,
     "metadata": {},
     "output_type": "execute_result"
    }
   ],
   "source": [
    "# 处理18年货币是缩写问题，而且比17年多很多\n",
    "df_2018_clean.Currency.value_counts().head()"
   ]
  },
  {
   "cell_type": "code",
   "execution_count": 44,
   "metadata": {
    "scrolled": true
   },
   "outputs": [
    {
     "data": {
      "text/plain": [
       "408     BTC\n",
       "1085    BTC\n",
       "2836    BTC\n",
       "5498    BTC\n",
       "5986    BTC\n",
       "Name: Currency, dtype: object"
      ]
     },
     "execution_count": 44,
     "metadata": {},
     "output_type": "execute_result"
    }
   ],
   "source": [
    "df_2018_clean[df_2018_clean.Currency == 'BTC'].Currency.head()"
   ]
  },
  {
   "cell_type": "code",
   "execution_count": 22,
   "metadata": {},
   "outputs": [],
   "source": [
    "df_2018_clean.loc[~df_2018_clean['Currency'].isin(['USD', 'EUR','GBP','JPY','CNY','BRL','INR','MXN','ZAR','SEK',\n",
    "                                                  'AUD','CAD','SGD','RUB','CHF','BTC']),'Currency']='other currency'"
   ]
  },
  {
   "cell_type": "code",
   "execution_count": 23,
   "metadata": {
    "scrolled": true
   },
   "outputs": [
    {
     "ename": "NameError",
     "evalue": "name 'df_2017' is not defined",
     "output_type": "error",
     "traceback": [
      "\u001b[1;31m---------------------------------------------------------------------------\u001b[0m",
      "\u001b[1;31mNameError\u001b[0m                                 Traceback (most recent call last)",
      "\u001b[1;32m<ipython-input-23-7d9d9acbdd81>\u001b[0m in \u001b[0;36m<module>\u001b[1;34m()\u001b[0m\n\u001b[1;32m----> 1\u001b[1;33m \u001b[0mdf_2017\u001b[0m\u001b[1;33m.\u001b[0m\u001b[0mCurrency\u001b[0m\u001b[1;33m.\u001b[0m\u001b[0mvalue_counts\u001b[0m\u001b[1;33m(\u001b[0m\u001b[1;33m)\u001b[0m\u001b[1;33m\u001b[0m\u001b[0m\n\u001b[0m",
      "\u001b[1;31mNameError\u001b[0m: name 'df_2017' is not defined"
     ]
    }
   ],
   "source": [
    "df_2017.Currency.value_counts()"
   ]
  },
  {
   "cell_type": "code",
   "execution_count": 24,
   "metadata": {},
   "outputs": [],
   "source": [
    "df_2018_clean['Currency'] = df_2018_clean['Currency'].map({\"USD\":\"U.S. dollars\",\"EUR\":\"Euros\", \"GBP\":\"British pounds sterling\",\n",
    "                                                          'JPY':'Japanese yen','CNY':'Chinese yuan renminbi','BRL':'Brazilian reais','INR':'Indian rupees',\n",
    "                                                          'MXN':'Mexican pesos','ZAR':'South African rands','SEK':'Swedish kroner','AUD':'Australian dollars',\n",
    "                                                           'CAD':'Canadian dollars','SGD':'Singapore dollars','RUB ':'Russian rubles','CHF':'Swiss francs',\n",
    "                                                           'BTC':'Bitcoin','other currency':'other currency'})"
   ]
  },
  {
   "cell_type": "code",
   "execution_count": 25,
   "metadata": {
    "scrolled": true
   },
   "outputs": [
    {
     "data": {
      "text/plain": [
       "other currency             48352\n",
       "U.S. dollars               17330\n",
       "Euros                      12781\n",
       "Indian rupees               6633\n",
       "British pounds sterling     4196\n",
       "Canadian dollars            2122\n",
       "Brazilian reais             1477\n",
       "Australian dollars          1308\n",
       "Swedish kroner               789\n",
       "Swiss francs                 639\n",
       "South African rands          423\n",
       "Mexican pesos                408\n",
       "Chinese yuan renminbi        389\n",
       "Singapore dollars            215\n",
       "Japanese yen                 200\n",
       "Bitcoin                      109\n",
       "Name: Currency, dtype: int64"
      ]
     },
     "execution_count": 25,
     "metadata": {},
     "output_type": "execute_result"
    }
   ],
   "source": [
    "df_2018_clean.Currency.value_counts()"
   ]
  },
  {
   "cell_type": "code",
   "execution_count": 27,
   "metadata": {},
   "outputs": [
    {
     "data": {
      "text/plain": [
       "20 to 99 employees          16996\n",
       "100 to 499 employees        14011\n",
       "10,000 or more employees     9757\n",
       "10 to 19 employees           8007\n",
       "1,000 to 4,999 employees     7634\n",
       "Fewer than 10 employees      7479\n",
       "500 to 999 employees         4630\n",
       "5,000 to 9,999 employees     3017\n",
       "Name: CompanySize, dtype: int64"
      ]
     },
     "execution_count": 27,
     "metadata": {},
     "output_type": "execute_result"
    }
   ],
   "source": [
    "df_2018_clean.CompanySize.value_counts()"
   ]
  },
  {
   "cell_type": "code",
   "execution_count": null,
   "metadata": {},
   "outputs": [],
   "source": [
    "df_2018_clean.to_csv('stackoverflow_2018.csv',index = False)"
   ]
  },
  {
   "cell_type": "code",
   "execution_count": 42,
   "metadata": {},
   "outputs": [
    {
     "data": {
      "text/plain": [
       "Back-end developer                                                                                                                                                                                                                                        6417\n",
       "Full-stack developer                                                                                                                                                                                                                                      6104\n",
       "Back-end developer;Front-end developer;Full-stack developer                                                                                                                                                                                               4460\n",
       "Mobile developer                                                                                                                                                                                                                                          3518\n",
       "Student                                                                                                                                                                                                                                                   3222\n",
       "Back-end developer;Full-stack developer                                                                                                                                                                                                                   3128\n",
       "Front-end developer                                                                                                                                                                                                                                       2608\n",
       "Front-end developer;Full-stack developer                                                                                                                                                                                                                  1117\n",
       "Back-end developer;Front-end developer                                                                                                                                                                                                                    1030\n",
       "Back-end developer;Front-end developer;Full-stack developer;Mobile developer                                                                                                                                                                              1008\n",
       "Back-end developer;Desktop or enterprise applications developer;Front-end developer;Full-stack developer                                                                                                                                                   981\n",
       "Desktop or enterprise applications developer                                                                                                                                                                                                               896\n",
       "Data scientist or machine learning specialist                                                                                                                                                                                                              869\n",
       "Back-end developer;Desktop or enterprise applications developer                                                                                                                                                                                            779\n",
       "Embedded applications or devices developer                                                                                                                                                                                                                 708\n",
       "Back-end developer;Desktop or enterprise applications developer;Full-stack developer                                                                                                                                                                       677\n",
       "Back-end developer;Student                                                                                                                                                                                                                                 624\n",
       "Back-end developer;Designer;Front-end developer;Full-stack developer                                                                                                                                                                                       597\n",
       "Back-end developer;DevOps specialist                                                                                                                                                                                                                       593\n",
       "Back-end developer;Front-end developer;Full-stack developer;Student                                                                                                                                                                                        567\n",
       "QA or test developer                                                                                                                                                                                                                                       552\n",
       "Front-end developer;Mobile developer                                                                                                                                                                                                                       528\n",
       "Back-end developer;Mobile developer                                                                                                                                                                                                                        517\n",
       "Data or business analyst                                                                                                                                                                                                                                   499\n",
       "Back-end developer;Database administrator;Front-end developer;Full-stack developer                                                                                                                                                                         497\n",
       "Back-end developer;DevOps specialist;Full-stack developer                                                                                                                                                                                                  490\n",
       "Full-stack developer;Mobile developer                                                                                                                                                                                                                      456\n",
       "Data or business analyst;Data scientist or machine learning specialist                                                                                                                                                                                     448\n",
       "C-suite executive (CEO, CTO, etc.)                                                                                                                                                                                                                         438\n",
       "Back-end developer;DevOps specialist;Front-end developer;Full-stack developer                                                                                                                                                                              428\n",
       "                                                                                                                                                                                                                                                          ... \n",
       "Designer;Educator or academic researcher;Embedded applications or devices developer;Engineering manager;QA or test developer;Student                                                                                                                         1\n",
       "Data or business analyst;Data scientist or machine learning specialist;DevOps specialist;Engineering manager                                                                                                                                                 1\n",
       "Back-end developer;Designer;Desktop or enterprise applications developer;DevOps specialist;Engineering manager;Front-end developer;Mobile developer                                                                                                          1\n",
       "DevOps specialist;Engineering manager;Product manager;QA or test developer                                                                                                                                                                                   1\n",
       "Database administrator;Desktop or enterprise applications developer;DevOps specialist;Mobile developer;Student;System administrator                                                                                                                          1\n",
       "C-suite executive (CEO, CTO, etc.);Data or business analyst;Database administrator;Designer;DevOps specialist;Educator or academic researcher;Full-stack developer;Marketing or sales professional;Product manager;System administrator                      1\n",
       "Designer;Front-end developer;Full-stack developer;Mobile developer;QA or test developer;Student;System administrator                                                                                                                                         1\n",
       "Back-end developer;C-suite executive (CEO, CTO, etc.);Designer;Desktop or enterprise applications developer;Educator or academic researcher;Front-end developer;Full-stack developer;Game or graphics developer;Mobile developer                             1\n",
       "Database administrator;DevOps specialist;Full-stack developer;Marketing or sales professional                                                                                                                                                                1\n",
       "Data or business analyst;Data scientist or machine learning specialist;Desktop or enterprise applications developer;Engineering manager;Full-stack developer                                                                                                 1\n",
       "Back-end developer;C-suite executive (CEO, CTO, etc.);Database administrator;Designer;Desktop or enterprise applications developer;Front-end developer                                                                                                       1\n",
       "Back-end developer;Database administrator;Designer;Desktop or enterprise applications developer;Embedded applications or devices developer;Front-end developer;Full-stack developer;Mobile developer;QA or test developer;Student;System administrator       1\n",
       "Back-end developer;Data or business analyst;Database administrator;Desktop or enterprise applications developer;Educator or academic researcher;Front-end developer;Student                                                                                  1\n",
       "Designer;Front-end developer;Full-stack developer;Marketing or sales professional;Mobile developer                                                                                                                                                           1\n",
       "Back-end developer;C-suite executive (CEO, CTO, etc.);Data or business analyst;Database administrator;Desktop or enterprise applications developer;DevOps specialist;Front-end developer;Full-stack developer;Product manager                                1\n",
       "Back-end developer;C-suite executive (CEO, CTO, etc.);Designer;Front-end developer;Full-stack developer;Product manager;System administrator                                                                                                                 1\n",
       "Back-end developer;Database administrator;Desktop or enterprise applications developer;Full-stack developer;Mobile developer;QA or test developer                                                                                                            1\n",
       "C-suite executive (CEO, CTO, etc.);Embedded applications or devices developer;Game or graphics developer                                                                                                                                                     1\n",
       "C-suite executive (CEO, CTO, etc.);Data or business analyst;Desktop or enterprise applications developer;Mobile developer                                                                                                                                    1\n",
       "Back-end developer;DevOps specialist;Educator or academic researcher;Full-stack developer;Mobile developer                                                                                                                                                   1\n",
       "Back-end developer;Data scientist or machine learning specialist;Database administrator;Designer;DevOps specialist;Full-stack developer;QA or test developer;System administrator                                                                            1\n",
       "Back-end developer;C-suite executive (CEO, CTO, etc.);Database administrator;Designer;Full-stack developer;Marketing or sales professional;Product manager;System administrator                                                                              1\n",
       "Database administrator;Designer;Game or graphics developer;QA or test developer;Student;System administrator                                                                                                                                                 1\n",
       "Back-end developer;Data scientist or machine learning specialist;Database administrator;Designer;Embedded applications or devices developer;Front-end developer;Full-stack developer;Mobile developer;System administrator                                   1\n",
       "Back-end developer;Database administrator;Designer;Desktop or enterprise applications developer;Full-stack developer;Mobile developer;QA or test developer                                                                                                   1\n",
       "DevOps specialist;Game or graphics developer;Mobile developer;QA or test developer;Student;System administrator                                                                                                                                              1\n",
       "Designer;Embedded applications or devices developer;Full-stack developer;Mobile developer;Student                                                                                                                                                            1\n",
       "Back-end developer;Desktop or enterprise applications developer;Engineering manager;Full-stack developer;Game or graphics developer;System administrator                                                                                                     1\n",
       "Back-end developer;Designer;Embedded applications or devices developer;Front-end developer;Game or graphics developer                                                                                                                                        1\n",
       "Data scientist or machine learning specialist;Desktop or enterprise applications developer;Front-end developer;Full-stack developer;QA or test developer                                                                                                     1\n",
       "Name: DeveloperType, Length: 9568, dtype: int64"
      ]
     },
     "execution_count": 42,
     "metadata": {},
     "output_type": "execute_result"
    }
   ],
   "source": [
    "# DeveloperType待确认后处理\n",
    "df_2018_clean.DeveloperType.value_counts()"
   ]
  },
  {
   "cell_type": "code",
   "execution_count": 43,
   "metadata": {},
   "outputs": [
    {
     "data": {
      "text/plain": [
       "I'm not actively looking, but I am open to new opportunities    47556\n",
       "I am not interested in new job opportunities                    19296\n",
       "I am actively looking for a job                                 12636\n",
       "Name: JobSeekingStatus, dtype: int64"
      ]
     },
     "execution_count": 43,
     "metadata": {},
     "output_type": "execute_result"
    }
   ],
   "source": [
    "# JobSeekingStatus2018不用修改\n",
    "df_2018_clean.JobSeekingStatus.value_counts()"
   ]
  },
  {
   "cell_type": "code",
   "execution_count": 44,
   "metadata": {},
   "outputs": [
    {
     "data": {
      "text/plain": [
       "3-5 years           23313\n",
       "6-8 years           19338\n",
       "9-11 years          12169\n",
       "0-2 years           10682\n",
       "12-14 years          8030\n",
       "15-17 years          6117\n",
       "18-20 years          5072\n",
       "30 or more years     3544\n",
       "21-23 years          2648\n",
       "24-26 years          1862\n",
       "27-29 years          1060\n",
       "Name: YearsCoding, dtype: int64"
      ]
     },
     "execution_count": 44,
     "metadata": {},
     "output_type": "execute_result"
    }
   ],
   "source": [
    "# YearsCoding2018不用修改\n",
    "df_2018_clean.YearsCoding.value_counts()"
   ]
  },
  {
   "cell_type": "code",
   "execution_count": 45,
   "metadata": {},
   "outputs": [],
   "source": [
    "df_2018_clean.to_csv('stackoverflow_2018.csv',index = False)"
   ]
  },
  {
   "cell_type": "code",
   "execution_count": 2,
   "metadata": {},
   "outputs": [
    {
     "name": "stderr",
     "output_type": "stream",
     "text": [
      "D:\\anaconda3\\lib\\site-packages\\IPython\\core\\interactiveshell.py:2728: DtypeWarning: Columns (5,6,7,10,13,15,16,17,18,20,21,22,23,24,25,26,29,30,31,32,33,34,35,36,37,38) have mixed types. Specify dtype option on import or set low_memory=False.\n",
      "  interactivity=interactivity, compiler=compiler, result=result)\n"
     ]
    }
   ],
   "source": [
    "df_2018_clean = pd.read_csv('stackoverflow_2018.csv')"
   ]
  },
  {
   "cell_type": "code",
   "execution_count": null,
   "metadata": {},
   "outputs": [],
   "source": []
  }
 ],
 "metadata": {
  "kernelspec": {
   "display_name": "Python 3",
   "language": "python",
   "name": "python3"
  },
  "language_info": {
   "codemirror_mode": {
    "name": "ipython",
    "version": 3
   },
   "file_extension": ".py",
   "mimetype": "text/x-python",
   "name": "python",
   "nbconvert_exporter": "python",
   "pygments_lexer": "ipython3",
   "version": "3.6.4"
  }
 },
 "nbformat": 4,
 "nbformat_minor": 2
}
