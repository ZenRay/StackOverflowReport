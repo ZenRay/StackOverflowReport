{
 "cells": [
  {
   "cell_type": "markdown",
   "metadata": {},
   "source": [
    "\n",
    "# 项目：Stack OverFlow2018年数据处理\n",
    "\n",
    "## 目录\n",
    "<ul>\n",
    "<li><a href=\"#1\">17年18年数据对比查看</a></li>\n",
    "<li><a href=\"#2\">从原数据中提取需要的2018年数据</a></li>\n",
    "<li><a href=\"#3\">数据清洗步骤</a></li>\n",
    "<li><a href=\"#4\">数据整合</a></li>\n",
    "<li><a href=\"#5\">EDA</a></li>\n",
    "</ul>"
   ]
  },
  {
   "cell_type": "code",
   "execution_count": 1,
   "metadata": {},
   "outputs": [],
   "source": [
    "import pandas as pd\n",
    "import numpy as np\n",
    "import re\n",
    "import sys\n",
    "\n",
    "sys.path.append(\"preprocess.py\")\n",
    "\n",
    "import preprocess"
   ]
  },
  {
   "cell_type": "code",
   "execution_count": 24,
   "metadata": {
    "scrolled": true
   },
   "outputs": [
    {
     "name": "stderr",
     "output_type": "stream",
     "text": [
      "D:\\anaconda3\\lib\\site-packages\\IPython\\core\\interactiveshell.py:2728: DtypeWarning: Columns (8,12,13,14,15,16,50,51,52,53,55,56,57,58,59,60,61,62,63,64,65,66,67,68,69,70,71,72,73,74,75,76,77,78,79,80,81,82,83,84,85,93,94,95,96,97,98,99,100,101,102,103,104,105,106,107,108,109,110,111,112,113,114,115,116,117,118,119,120,121,122,123,124,125,126,127,128) have mixed types. Specify dtype option on import or set low_memory=False.\n",
      "  interactivity=interactivity, compiler=compiler, result=result)\n"
     ]
    }
   ],
   "source": [
    "df_2018 = pd.read_csv('survey_results_public.csv')"
   ]
  },
  {
   "cell_type": "code",
   "execution_count": 17,
   "metadata": {},
   "outputs": [],
   "source": [
    "df_2017 = pd.read_csv('survey_results_public_2017.csv')"
   ]
  },
  {
   "cell_type": "code",
   "execution_count": 3,
   "metadata": {
    "scrolled": true
   },
   "outputs": [
    {
     "data": {
      "text/plain": [
       "Index(['Respondent', 'Hobby', 'OpenSource', 'Country', 'Student', 'Employment',\n",
       "       'FormalEducation', 'UndergradMajor', 'CompanySize', 'DevType',\n",
       "       ...\n",
       "       'Exercise', 'Gender', 'SexualOrientation', 'EducationParents',\n",
       "       'RaceEthnicity', 'Age', 'Dependents', 'MilitaryUS', 'SurveyTooLong',\n",
       "       'SurveyEasy'],\n",
       "      dtype='object', length=129)"
      ]
     },
     "execution_count": 3,
     "metadata": {},
     "output_type": "execute_result"
    }
   ],
   "source": [
    "df_2018.columns"
   ]
  },
  {
   "cell_type": "code",
   "execution_count": 16,
   "metadata": {},
   "outputs": [
    {
     "data": {
      "text/plain": [
       "(98855, 129)"
      ]
     },
     "execution_count": 16,
     "metadata": {},
     "output_type": "execute_result"
    }
   ],
   "source": [
    "df_2018.shape"
   ]
  },
  {
   "cell_type": "code",
   "execution_count": 17,
   "metadata": {},
   "outputs": [],
   "source": [
    "df_2018.drop(['Currency','MilitaryUS','SurveyTooLong','SurveyEasy','SexualOrientation','HoursOutside','ErgonomicDevices','Dependents', 'EducationParents','HopeFiveYears','SalaryType','NumberMonitors','NumberMonitors','VersionControl','CheckInCode', 'EthicsChoice','EthicsReport','EthicsResponsible','EthicalImplications','JobContactPriorities1','JobContactPriorities2', 'JobContactPriorities3','JobContactPriorities4','JobContactPriorities5','JobEmailPriorities1','JobEmailPriorities2', 'JobEmailPriorities3','JobEmailPriorities4','JobEmailPriorities5','JobEmailPriorities6','JobEmailPriorities7'],axis= 1, inplace=True)"
   ]
  },
  {
   "cell_type": "code",
   "execution_count": 18,
   "metadata": {
    "scrolled": true
   },
   "outputs": [
    {
     "data": {
      "text/plain": [
       "Index(['Respondent', 'Hobby', 'OpenSource', 'Country', 'Student', 'Employment',\n",
       "       'FormalEducation', 'UndergradMajor', 'CompanySize', 'DevType',\n",
       "       'YearsCoding', 'YearsCodingProf', 'JobSatisfaction',\n",
       "       'CareerSatisfaction', 'JobSearchStatus', 'LastNewJob', 'AssessJob1',\n",
       "       'AssessJob2', 'AssessJob3', 'AssessJob4', 'AssessJob5', 'AssessJob6',\n",
       "       'AssessJob7', 'AssessJob8', 'AssessJob9', 'AssessJob10',\n",
       "       'AssessBenefits1', 'AssessBenefits2', 'AssessBenefits3',\n",
       "       'AssessBenefits4', 'AssessBenefits5', 'AssessBenefits6',\n",
       "       'AssessBenefits7', 'AssessBenefits8', 'AssessBenefits9',\n",
       "       'AssessBenefits10', 'AssessBenefits11', 'UpdateCV', 'Salary',\n",
       "       'ConvertedSalary', 'CurrencySymbol', 'CommunicationTools',\n",
       "       'TimeFullyProductive', 'EducationTypes', 'SelfTaughtTypes',\n",
       "       'TimeAfterBootcamp', 'HackathonReasons', 'AgreeDisagree1',\n",
       "       'AgreeDisagree2', 'AgreeDisagree3', 'LanguageWorkedWith',\n",
       "       'LanguageDesireNextYear', 'DatabaseWorkedWith',\n",
       "       'DatabaseDesireNextYear', 'PlatformWorkedWith',\n",
       "       'PlatformDesireNextYear', 'FrameworkWorkedWith',\n",
       "       'FrameworkDesireNextYear', 'IDE', 'OperatingSystem', 'Methodology',\n",
       "       'AdBlocker', 'AdBlockerDisable', 'AdBlockerReasons',\n",
       "       'AdsAgreeDisagree1', 'AdsAgreeDisagree2', 'AdsAgreeDisagree3',\n",
       "       'AdsActions', 'AdsPriorities1', 'AdsPriorities2', 'AdsPriorities3',\n",
       "       'AdsPriorities4', 'AdsPriorities5', 'AdsPriorities6', 'AdsPriorities7',\n",
       "       'AIDangerous', 'AIInteresting', 'AIResponsible', 'AIFuture',\n",
       "       'StackOverflowRecommend', 'StackOverflowVisit',\n",
       "       'StackOverflowHasAccount', 'StackOverflowParticipate',\n",
       "       'StackOverflowJobs', 'StackOverflowDevStory',\n",
       "       'StackOverflowJobsRecommend', 'StackOverflowConsiderMember',\n",
       "       'HypotheticalTools1', 'HypotheticalTools2', 'HypotheticalTools3',\n",
       "       'HypotheticalTools4', 'HypotheticalTools5', 'WakeTime', 'HoursComputer',\n",
       "       'SkipMeals', 'Exercise', 'Gender', 'RaceEthnicity', 'Age'],\n",
       "      dtype='object')"
      ]
     },
     "execution_count": 18,
     "metadata": {},
     "output_type": "execute_result"
    }
   ],
   "source": [
    "df_2018.columns"
   ]
  },
  {
   "cell_type": "code",
   "execution_count": 19,
   "metadata": {
    "scrolled": true
   },
   "outputs": [
    {
     "data": {
      "text/plain": [
       "(98855, 99)"
      ]
     },
     "execution_count": 19,
     "metadata": {},
     "output_type": "execute_result"
    }
   ],
   "source": [
    "df_2018.shape"
   ]
  },
  {
   "cell_type": "markdown",
   "metadata": {},
   "source": [
    "<a id='1'></a>\n",
    "### 17年18年数据对比查看"
   ]
  },
  {
   "cell_type": "markdown",
   "metadata": {
    "scrolled": true
   },
   "source": [
    "对比查看代码见另一个Ipynb：compare"
   ]
  },
  {
   "cell_type": "markdown",
   "metadata": {},
   "source": [
    "<a id='2'></a>\n",
    "## 从原数据中提取需要的2018年数据"
   ]
  },
  {
   "cell_type": "code",
   "execution_count": 46,
   "metadata": {},
   "outputs": [],
   "source": [
    "df_2018_clean = pd.DataFrame()"
   ]
  },
  {
   "cell_type": "code",
   "execution_count": 47,
   "metadata": {},
   "outputs": [],
   "source": [
    "out_columns = ['Student','Employment','FormalEducation','UndergradMajor','Gender','SkipMeals','RaceEthnicity','Age','Country',\n",
    "              'ConvertedSalary','SalaryType','CurrencySymbol','CompanySize','DevType','JobSatisfaction','CareerSatisfaction',\n",
    "              'JobSearchStatus','CommunicationTools','YearsCoding','LanguageWorkedWith','LanguageDesireNextYear',\n",
    "              'DatabaseWorkedWith','DatabaseDesireNextYear','PlatformWorkedWith','PlatformDesireNextYear','Methodology','Hobby',\n",
    "              'OpenSource','AgreeDisagree1','AgreeDisagree2','AgreeDisagree3','UpdateCV','LastNewJob','SelfTaughtTypes','HackathonReasons',\n",
    "               'TimeAfterBootcamp','EducationTypes','HoursComputer']"
   ]
  },
  {
   "cell_type": "code",
   "execution_count": 48,
   "metadata": {},
   "outputs": [
    {
     "name": "stderr",
     "output_type": "stream",
     "text": [
      "D:\\anaconda3\\lib\\site-packages\\ipykernel_launcher.py:2: SettingWithCopyWarning: \n",
      "A value is trying to be set on a copy of a slice from a DataFrame.\n",
      "Try using .loc[row_indexer,col_indexer] = value instead\n",
      "\n",
      "See the caveats in the documentation: http://pandas.pydata.org/pandas-docs/stable/indexing.html#indexing-view-versus-copy\n",
      "  \n"
     ]
    }
   ],
   "source": [
    "df_2018_clean = df_2018[out_columns]\n",
    "df_2018_clean['year'] = 2018"
   ]
  },
  {
   "cell_type": "code",
   "execution_count": 49,
   "metadata": {},
   "outputs": [
    {
     "data": {
      "text/html": [
       "<div>\n",
       "<style scoped>\n",
       "    .dataframe tbody tr th:only-of-type {\n",
       "        vertical-align: middle;\n",
       "    }\n",
       "\n",
       "    .dataframe tbody tr th {\n",
       "        vertical-align: top;\n",
       "    }\n",
       "\n",
       "    .dataframe thead th {\n",
       "        text-align: right;\n",
       "    }\n",
       "</style>\n",
       "<table border=\"1\" class=\"dataframe\">\n",
       "  <thead>\n",
       "    <tr style=\"text-align: right;\">\n",
       "      <th></th>\n",
       "      <th>Student</th>\n",
       "      <th>Employment</th>\n",
       "      <th>FormalEducation</th>\n",
       "      <th>UndergradMajor</th>\n",
       "      <th>Gender</th>\n",
       "      <th>SkipMeals</th>\n",
       "      <th>RaceEthnicity</th>\n",
       "      <th>Age</th>\n",
       "      <th>Country</th>\n",
       "      <th>ConvertedSalary</th>\n",
       "      <th>...</th>\n",
       "      <th>AgreeDisagree2</th>\n",
       "      <th>AgreeDisagree3</th>\n",
       "      <th>UpdateCV</th>\n",
       "      <th>LastNewJob</th>\n",
       "      <th>SelfTaughtTypes</th>\n",
       "      <th>HackathonReasons</th>\n",
       "      <th>TimeAfterBootcamp</th>\n",
       "      <th>EducationTypes</th>\n",
       "      <th>HoursComputer</th>\n",
       "      <th>year</th>\n",
       "    </tr>\n",
       "  </thead>\n",
       "  <tbody>\n",
       "    <tr>\n",
       "      <th>0</th>\n",
       "      <td>No</td>\n",
       "      <td>Employed part-time</td>\n",
       "      <td>Bachelor’s degree (BA, BS, B.Eng., etc.)</td>\n",
       "      <td>Mathematics or statistics</td>\n",
       "      <td>Male</td>\n",
       "      <td>Never</td>\n",
       "      <td>Black or of African descent</td>\n",
       "      <td>25 - 34 years old</td>\n",
       "      <td>Kenya</td>\n",
       "      <td>NaN</td>\n",
       "      <td>...</td>\n",
       "      <td>Strongly agree</td>\n",
       "      <td>Neither Agree nor Disagree</td>\n",
       "      <td>My job status or other personal status changed</td>\n",
       "      <td>Less than a year ago</td>\n",
       "      <td>The official documentation and/or standards fo...</td>\n",
       "      <td>To build my professional network</td>\n",
       "      <td>NaN</td>\n",
       "      <td>Taught yourself a new language, framework, or ...</td>\n",
       "      <td>9 - 12 hours</td>\n",
       "      <td>2018</td>\n",
       "    </tr>\n",
       "    <tr>\n",
       "      <th>1</th>\n",
       "      <td>No</td>\n",
       "      <td>Employed full-time</td>\n",
       "      <td>Bachelor’s degree (BA, BS, B.Eng., etc.)</td>\n",
       "      <td>A natural science (ex. biology, chemistry, phy...</td>\n",
       "      <td>Male</td>\n",
       "      <td>Never</td>\n",
       "      <td>White or of European descent</td>\n",
       "      <td>35 - 44 years old</td>\n",
       "      <td>United Kingdom</td>\n",
       "      <td>70841.0</td>\n",
       "      <td>...</td>\n",
       "      <td>Agree</td>\n",
       "      <td>Neither Agree nor Disagree</td>\n",
       "      <td>I saw an employer’s advertisement</td>\n",
       "      <td>More than 4 years ago</td>\n",
       "      <td>The official documentation and/or standards fo...</td>\n",
       "      <td>NaN</td>\n",
       "      <td>NaN</td>\n",
       "      <td>Taught yourself a new language, framework, or ...</td>\n",
       "      <td>5 - 8 hours</td>\n",
       "      <td>2018</td>\n",
       "    </tr>\n",
       "    <tr>\n",
       "      <th>2</th>\n",
       "      <td>No</td>\n",
       "      <td>Employed full-time</td>\n",
       "      <td>Associate degree</td>\n",
       "      <td>Computer science, computer engineering, or sof...</td>\n",
       "      <td>NaN</td>\n",
       "      <td>NaN</td>\n",
       "      <td>NaN</td>\n",
       "      <td>NaN</td>\n",
       "      <td>United States</td>\n",
       "      <td>NaN</td>\n",
       "      <td>...</td>\n",
       "      <td>NaN</td>\n",
       "      <td>NaN</td>\n",
       "      <td>NaN</td>\n",
       "      <td>Less than a year ago</td>\n",
       "      <td>NaN</td>\n",
       "      <td>NaN</td>\n",
       "      <td>NaN</td>\n",
       "      <td>NaN</td>\n",
       "      <td>NaN</td>\n",
       "      <td>2018</td>\n",
       "    </tr>\n",
       "    <tr>\n",
       "      <th>3</th>\n",
       "      <td>No</td>\n",
       "      <td>Employed full-time</td>\n",
       "      <td>Bachelor’s degree (BA, BS, B.Eng., etc.)</td>\n",
       "      <td>Computer science, computer engineering, or sof...</td>\n",
       "      <td>Male</td>\n",
       "      <td>3 - 4 times per week</td>\n",
       "      <td>White or of European descent</td>\n",
       "      <td>35 - 44 years old</td>\n",
       "      <td>United States</td>\n",
       "      <td>NaN</td>\n",
       "      <td>...</td>\n",
       "      <td>Disagree</td>\n",
       "      <td>Strongly disagree</td>\n",
       "      <td>A recruiter contacted me</td>\n",
       "      <td>Less than a year ago</td>\n",
       "      <td>The official documentation and/or standards fo...</td>\n",
       "      <td>NaN</td>\n",
       "      <td>NaN</td>\n",
       "      <td>Completed an industry certification program (e...</td>\n",
       "      <td>9 - 12 hours</td>\n",
       "      <td>2018</td>\n",
       "    </tr>\n",
       "    <tr>\n",
       "      <th>4</th>\n",
       "      <td>Yes, part-time</td>\n",
       "      <td>Employed full-time</td>\n",
       "      <td>Some college/university study without earning ...</td>\n",
       "      <td>Computer science, computer engineering, or sof...</td>\n",
       "      <td>Male</td>\n",
       "      <td>Never</td>\n",
       "      <td>White or of European descent</td>\n",
       "      <td>18 - 24 years old</td>\n",
       "      <td>South Africa</td>\n",
       "      <td>21426.0</td>\n",
       "      <td>...</td>\n",
       "      <td>Agree</td>\n",
       "      <td>Strongly disagree</td>\n",
       "      <td>My job status or other personal status changed</td>\n",
       "      <td>Between 1 and 2 years ago</td>\n",
       "      <td>The official documentation and/or standards fo...</td>\n",
       "      <td>NaN</td>\n",
       "      <td>NaN</td>\n",
       "      <td>Taken a part-time in-person course in programm...</td>\n",
       "      <td>Over 12 hours</td>\n",
       "      <td>2018</td>\n",
       "    </tr>\n",
       "  </tbody>\n",
       "</table>\n",
       "<p>5 rows × 39 columns</p>\n",
       "</div>"
      ],
      "text/plain": [
       "          Student          Employment  \\\n",
       "0              No  Employed part-time   \n",
       "1              No  Employed full-time   \n",
       "2              No  Employed full-time   \n",
       "3              No  Employed full-time   \n",
       "4  Yes, part-time  Employed full-time   \n",
       "\n",
       "                                     FormalEducation  \\\n",
       "0           Bachelor’s degree (BA, BS, B.Eng., etc.)   \n",
       "1           Bachelor’s degree (BA, BS, B.Eng., etc.)   \n",
       "2                                   Associate degree   \n",
       "3           Bachelor’s degree (BA, BS, B.Eng., etc.)   \n",
       "4  Some college/university study without earning ...   \n",
       "\n",
       "                                      UndergradMajor Gender  \\\n",
       "0                          Mathematics or statistics   Male   \n",
       "1  A natural science (ex. biology, chemistry, phy...   Male   \n",
       "2  Computer science, computer engineering, or sof...    NaN   \n",
       "3  Computer science, computer engineering, or sof...   Male   \n",
       "4  Computer science, computer engineering, or sof...   Male   \n",
       "\n",
       "              SkipMeals                 RaceEthnicity                Age  \\\n",
       "0                 Never   Black or of African descent  25 - 34 years old   \n",
       "1                 Never  White or of European descent  35 - 44 years old   \n",
       "2                   NaN                           NaN                NaN   \n",
       "3  3 - 4 times per week  White or of European descent  35 - 44 years old   \n",
       "4                 Never  White or of European descent  18 - 24 years old   \n",
       "\n",
       "          Country  ConvertedSalary  ...   AgreeDisagree2  \\\n",
       "0           Kenya              NaN  ...   Strongly agree   \n",
       "1  United Kingdom          70841.0  ...            Agree   \n",
       "2   United States              NaN  ...              NaN   \n",
       "3   United States              NaN  ...         Disagree   \n",
       "4    South Africa          21426.0  ...            Agree   \n",
       "\n",
       "               AgreeDisagree3                                        UpdateCV  \\\n",
       "0  Neither Agree nor Disagree  My job status or other personal status changed   \n",
       "1  Neither Agree nor Disagree               I saw an employer’s advertisement   \n",
       "2                         NaN                                             NaN   \n",
       "3           Strongly disagree                        A recruiter contacted me   \n",
       "4           Strongly disagree  My job status or other personal status changed   \n",
       "\n",
       "                  LastNewJob  \\\n",
       "0       Less than a year ago   \n",
       "1      More than 4 years ago   \n",
       "2       Less than a year ago   \n",
       "3       Less than a year ago   \n",
       "4  Between 1 and 2 years ago   \n",
       "\n",
       "                                     SelfTaughtTypes  \\\n",
       "0  The official documentation and/or standards fo...   \n",
       "1  The official documentation and/or standards fo...   \n",
       "2                                                NaN   \n",
       "3  The official documentation and/or standards fo...   \n",
       "4  The official documentation and/or standards fo...   \n",
       "\n",
       "                   HackathonReasons TimeAfterBootcamp  \\\n",
       "0  To build my professional network               NaN   \n",
       "1                               NaN               NaN   \n",
       "2                               NaN               NaN   \n",
       "3                               NaN               NaN   \n",
       "4                               NaN               NaN   \n",
       "\n",
       "                                      EducationTypes  HoursComputer  year  \n",
       "0  Taught yourself a new language, framework, or ...   9 - 12 hours  2018  \n",
       "1  Taught yourself a new language, framework, or ...    5 - 8 hours  2018  \n",
       "2                                                NaN            NaN  2018  \n",
       "3  Completed an industry certification program (e...   9 - 12 hours  2018  \n",
       "4  Taken a part-time in-person course in programm...  Over 12 hours  2018  \n",
       "\n",
       "[5 rows x 39 columns]"
      ]
     },
     "execution_count": 49,
     "metadata": {},
     "output_type": "execute_result"
    }
   ],
   "source": [
    "df_2018_clean.head()"
   ]
  },
  {
   "cell_type": "code",
   "execution_count": 50,
   "metadata": {
    "scrolled": true
   },
   "outputs": [
    {
     "data": {
      "text/plain": [
       "(98855, 39)"
      ]
     },
     "execution_count": 50,
     "metadata": {},
     "output_type": "execute_result"
    }
   ],
   "source": [
    "df_2018_clean.shape"
   ]
  },
  {
   "cell_type": "markdown",
   "metadata": {},
   "source": [
    "<a id='3'></a>\n",
    "## 数据清洗步骤\n",
    "### 保存整合在一起的2018年数据"
   ]
  },
  {
   "cell_type": "code",
   "execution_count": 51,
   "metadata": {},
   "outputs": [],
   "source": [
    "df_2018_clean.to_csv('stackoverflow_2018.csv',index = False)"
   ]
  },
  {
   "cell_type": "code",
   "execution_count": 31,
   "metadata": {
    "scrolled": true
   },
   "outputs": [
    {
     "name": "stderr",
     "output_type": "stream",
     "text": [
      "D:\\anaconda3\\lib\\site-packages\\IPython\\core\\interactiveshell.py:2728: DtypeWarning: Columns (4,5,6,7,10,11,12,14,15,16,17,19,20,21,22,23,24,25,28,29,30,31,32,33,34,35,36,37) have mixed types. Specify dtype option on import or set low_memory=False.\n",
      "  interactivity=interactivity, compiler=compiler, result=result)\n"
     ]
    }
   ],
   "source": [
    "df_2018_clean = pd.read_csv('stackoverflow_2018.csv')"
   ]
  },
  {
   "cell_type": "markdown",
   "metadata": {},
   "source": [
    "### FormalEducation列的处理，跟17年统一"
   ]
  },
  {
   "cell_type": "code",
   "execution_count": 52,
   "metadata": {},
   "outputs": [
    {
     "data": {
      "text/plain": [
       "Bachelor’s degree (BA, BS, B.Eng., etc.)                                              43659\n",
       "Master’s degree (MA, MS, M.Eng., MBA, etc.)                                           21396\n",
       "Some college/university study without earning a degree                                11710\n",
       "Secondary school (e.g. American high school, German Realschule or Gymnasium, etc.)     8951\n",
       "Associate degree                                                                       2970\n",
       "Other doctoral degree (Ph.D, Ed.D., etc.)                                              2214\n",
       "Primary/elementary school                                                              1656\n",
       "Professional degree (JD, MD, etc.)                                                     1447\n",
       "I never completed any formal education                                                  700\n",
       "Name: FormalEducation, dtype: int64"
      ]
     },
     "execution_count": 52,
     "metadata": {},
     "output_type": "execute_result"
    }
   ],
   "source": [
    "df_2018_clean['FormalEducation'].value_counts()"
   ]
  },
  {
   "cell_type": "code",
   "execution_count": 53,
   "metadata": {
    "scrolled": true
   },
   "outputs": [
    {
     "data": {
      "text/plain": [
       "Bachelor's degree                                                    21609\n",
       "Master's degree                                                      11141\n",
       "Some college/university study without earning a bachelor's degree     8129\n",
       "Secondary school                                                      5908\n",
       "Doctoral degree                                                       1308\n",
       "I prefer not to answer                                                1109\n",
       "Primary/elementary school                                             1047\n",
       "Professional degree                                                    715\n",
       "I never completed any formal education                                 426\n",
       "Name: FormalEducation, dtype: int64"
      ]
     },
     "execution_count": 53,
     "metadata": {},
     "output_type": "execute_result"
    }
   ],
   "source": [
    "df_2017['FormalEducation'].value_counts()"
   ]
  },
  {
   "cell_type": "code",
   "execution_count": 54,
   "metadata": {},
   "outputs": [
    {
     "name": "stderr",
     "output_type": "stream",
     "text": [
      "D:\\anaconda3\\lib\\site-packages\\ipykernel_launcher.py:9: SettingWithCopyWarning: \n",
      "A value is trying to be set on a copy of a slice from a DataFrame.\n",
      "Try using .loc[row_indexer,col_indexer] = value instead\n",
      "\n",
      "See the caveats in the documentation: http://pandas.pydata.org/pandas-docs/stable/indexing.html#indexing-view-versus-copy\n",
      "  if __name__ == '__main__':\n"
     ]
    }
   ],
   "source": [
    "df_2018_clean['FormalEducation'] = df_2018_clean['FormalEducation'].map({\"Bachelor’s degree (BA, BS, B.Eng., etc.)\":\"Bachelor's degree\",\n",
    "                                                                         \"Master’s degree (MA, MS, M.Eng., MBA, etc.)\":\"Master's degree\", \n",
    "                                                                         \"Some college/university study without earning a degree\":\"Some college/university study without earning a bachelor's degree\", \n",
    "                                                                         \"Secondary school (e.g. American high school, German Realschule or Gymnasium, etc.)\":\"Secondary school \",\n",
    "                                                                         \"Associate degree\":\"Associate degree\",\n",
    "                                                                         \"Other doctoral degree (Ph.D, Ed.D., etc.)\": \"Doctoral degree\",\n",
    "                                                                         \"Primary/elementary school\":\"Primary/elementary school\",\n",
    "                                                                        \"Professional degree (JD, MD, etc.)\":\"Professional degree\",\n",
    "                                                                        \"I never completed any formal education\":\"I never completed any formal education\"})\n"
   ]
  },
  {
   "cell_type": "code",
   "execution_count": 55,
   "metadata": {
    "scrolled": true
   },
   "outputs": [
    {
     "data": {
      "text/plain": [
       "Bachelor's degree                                                    43659\n",
       "Master's degree                                                      21396\n",
       "Some college/university study without earning a bachelor's degree    11710\n",
       "Secondary school                                                      8951\n",
       "Associate degree                                                      2970\n",
       "Doctoral degree                                                       2214\n",
       "Primary/elementary school                                             1656\n",
       "Professional degree                                                   1447\n",
       "I never completed any formal education                                 700\n",
       "Name: FormalEducation, dtype: int64"
      ]
     },
     "execution_count": 55,
     "metadata": {},
     "output_type": "execute_result"
    }
   ],
   "source": [
    "df_2018_clean['FormalEducation'].value_counts()"
   ]
  },
  {
   "cell_type": "markdown",
   "metadata": {},
   "source": [
    "### Gender列的处理，处理Male和Female列，其他列全部归在一起"
   ]
  },
  {
   "cell_type": "code",
   "execution_count": 56,
   "metadata": {
    "scrolled": true
   },
   "outputs": [
    {
     "data": {
      "text/plain": [
       "Male                                                                         59458\n",
       "Female                                                                        4025\n",
       "Non-binary, genderqueer, or gender non-conforming                              284\n",
       "Female;Transgender                                                             145\n",
       "Male;Non-binary, genderqueer, or gender non-conforming                         128\n",
       "Transgender                                                                    105\n",
       "Female;Male                                                                     98\n",
       "Transgender;Non-binary, genderqueer, or gender non-conforming                   51\n",
       "Female;Non-binary, genderqueer, or gender non-conforming                        50\n",
       "Female;Male;Transgender;Non-binary, genderqueer, or gender non-conforming       50\n",
       "Male;Transgender                                                                29\n",
       "Female;Transgender;Non-binary, genderqueer, or gender non-conforming            24\n",
       "Female;Male;Transgender                                                         14\n",
       "Male;Transgender;Non-binary, genderqueer, or gender non-conforming               5\n",
       "Female;Male;Non-binary, genderqueer, or gender non-conforming                    3\n",
       "Name: Gender, dtype: int64"
      ]
     },
     "execution_count": 56,
     "metadata": {},
     "output_type": "execute_result"
    }
   ],
   "source": [
    "df_2018_clean['Gender'].value_counts()"
   ]
  },
  {
   "cell_type": "code",
   "execution_count": 57,
   "metadata": {
    "scrolled": true
   },
   "outputs": [
    {
     "name": "stderr",
     "output_type": "stream",
     "text": [
      "D:\\anaconda3\\lib\\site-packages\\pandas\\core\\indexing.py:537: SettingWithCopyWarning: \n",
      "A value is trying to be set on a copy of a slice from a DataFrame.\n",
      "Try using .loc[row_indexer,col_indexer] = value instead\n",
      "\n",
      "See the caveats in the documentation: http://pandas.pydata.org/pandas-docs/stable/indexing.html#indexing-view-versus-copy\n",
      "  self.obj[item] = s\n"
     ]
    }
   ],
   "source": [
    "df_2018_clean.loc[~df_2018_clean['Gender'].isin(['Male', 'Female']),'Gender']='No_comment'"
   ]
  },
  {
   "cell_type": "code",
   "execution_count": 58,
   "metadata": {},
   "outputs": [
    {
     "data": {
      "text/plain": [
       "(98855, 39)"
      ]
     },
     "execution_count": 58,
     "metadata": {},
     "output_type": "execute_result"
    }
   ],
   "source": [
    "df_2018_clean.shape"
   ]
  },
  {
   "cell_type": "code",
   "execution_count": 59,
   "metadata": {
    "scrolled": false
   },
   "outputs": [
    {
     "data": {
      "text/plain": [
       "Male          59458\n",
       "No_comment    35372\n",
       "Female         4025\n",
       "Name: Gender, dtype: int64"
      ]
     },
     "execution_count": 59,
     "metadata": {},
     "output_type": "execute_result"
    }
   ],
   "source": [
    "df_2018_clean['Gender'].value_counts()"
   ]
  },
  {
   "cell_type": "markdown",
   "metadata": {},
   "source": [
    "### JobSearchStatus列的处理，'m中多余空格的删除"
   ]
  },
  {
   "cell_type": "code",
   "execution_count": 60,
   "metadata": {},
   "outputs": [
    {
     "data": {
      "text/plain": [
       "I’m not actively looking, but I am open to new opportunities    47556\n",
       "I am not interested in new job opportunities                    19296\n",
       "I am actively looking for a job                                 12636\n",
       "Name: JobSearchStatus, dtype: int64"
      ]
     },
     "execution_count": 60,
     "metadata": {},
     "output_type": "execute_result"
    }
   ],
   "source": [
    "df_2018_clean['JobSearchStatus'].value_counts()"
   ]
  },
  {
   "cell_type": "code",
   "execution_count": 61,
   "metadata": {},
   "outputs": [
    {
     "data": {
      "text/plain": [
       "I'm not actively looking, but I am open to new opportunities    20729\n",
       "I am not interested in new job opportunities                     8280\n",
       "I am actively looking for a job                                  4371\n",
       "Name: JobSeekingStatus, dtype: int64"
      ]
     },
     "execution_count": 61,
     "metadata": {},
     "output_type": "execute_result"
    }
   ],
   "source": [
    "df_2017['JobSeekingStatus'].value_counts()"
   ]
  },
  {
   "cell_type": "code",
   "execution_count": 62,
   "metadata": {},
   "outputs": [
    {
     "name": "stderr",
     "output_type": "stream",
     "text": [
      "D:\\anaconda3\\lib\\site-packages\\ipykernel_launcher.py:4: SettingWithCopyWarning: \n",
      "A value is trying to be set on a copy of a slice from a DataFrame.\n",
      "Try using .loc[row_indexer,col_indexer] = value instead\n",
      "\n",
      "See the caveats in the documentation: http://pandas.pydata.org/pandas-docs/stable/indexing.html#indexing-view-versus-copy\n",
      "  after removing the cwd from sys.path.\n"
     ]
    }
   ],
   "source": [
    "df_2018_clean['JobSearchStatus'] = df_2018_clean['JobSearchStatus'].map({\"I’m not actively looking, but I am open to new opportunities\":\"I'm not actively looking, but I am open to new opportunities\",\n",
    "                                                                         \"I am not interested in new job opportunities\":\"I am not interested in new job opportunities\", \n",
    "                                                                         \"Some college/university study without earning a degree\":\"Some college/university study without earning a bachelor's degree\", \n",
    "                                                                         \"I am actively looking for a job\":\"I am actively looking for a job\"})\n"
   ]
  },
  {
   "cell_type": "code",
   "execution_count": 63,
   "metadata": {},
   "outputs": [
    {
     "data": {
      "text/plain": [
       "I'm not actively looking, but I am open to new opportunities    47556\n",
       "I am not interested in new job opportunities                    19296\n",
       "I am actively looking for a job                                 12636\n",
       "Name: JobSearchStatus, dtype: int64"
      ]
     },
     "execution_count": 63,
     "metadata": {},
     "output_type": "execute_result"
    }
   ],
   "source": [
    "df_2018_clean['JobSearchStatus'].value_counts()"
   ]
  },
  {
   "cell_type": "code",
   "execution_count": 9,
   "metadata": {
    "scrolled": true
   },
   "outputs": [
    {
     "name": "stderr",
     "output_type": "stream",
     "text": [
      "D:\\anaconda3\\lib\\site-packages\\IPython\\core\\interactiveshell.py:2728: DtypeWarning: Columns (5,6,7,10,11,13,15,16,17,18,20,21,22,23,24,25,26,29,30,31,32,33,34,35,36,37,38) have mixed types. Specify dtype option on import or set low_memory=False.\n",
      "  interactivity=interactivity, compiler=compiler, result=result)\n"
     ]
    }
   ],
   "source": [
    "df_2018_clean = pd.read_csv('stackoverflow_2018.csv')"
   ]
  },
  {
   "cell_type": "code",
   "execution_count": 6,
   "metadata": {
    "scrolled": true
   },
   "outputs": [
    {
     "data": {
      "text/html": [
       "<div>\n",
       "<style scoped>\n",
       "    .dataframe tbody tr th:only-of-type {\n",
       "        vertical-align: middle;\n",
       "    }\n",
       "\n",
       "    .dataframe tbody tr th {\n",
       "        vertical-align: top;\n",
       "    }\n",
       "\n",
       "    .dataframe thead th {\n",
       "        text-align: right;\n",
       "    }\n",
       "</style>\n",
       "<table border=\"1\" class=\"dataframe\">\n",
       "  <thead>\n",
       "    <tr style=\"text-align: right;\">\n",
       "      <th></th>\n",
       "      <th>Student</th>\n",
       "      <th>Employment</th>\n",
       "      <th>FormalEducation</th>\n",
       "      <th>UndergradMajor</th>\n",
       "      <th>Gender</th>\n",
       "      <th>SkipMeals</th>\n",
       "      <th>RaceEthnicity</th>\n",
       "      <th>Age</th>\n",
       "      <th>Country</th>\n",
       "      <th>ConvertedSalary</th>\n",
       "      <th>...</th>\n",
       "      <th>AgreeDisagree2</th>\n",
       "      <th>AgreeDisagree3</th>\n",
       "      <th>UpdateCV</th>\n",
       "      <th>LastNewJob</th>\n",
       "      <th>SelfTaughtTypes</th>\n",
       "      <th>HackathonReasons</th>\n",
       "      <th>TimeAfterBootcamp</th>\n",
       "      <th>EducationTypes</th>\n",
       "      <th>HoursComputer</th>\n",
       "      <th>year</th>\n",
       "    </tr>\n",
       "  </thead>\n",
       "  <tbody>\n",
       "    <tr>\n",
       "      <th>0</th>\n",
       "      <td>No</td>\n",
       "      <td>Employed part-time</td>\n",
       "      <td>Bachelor's degree</td>\n",
       "      <td>Mathematics or statistics</td>\n",
       "      <td>Male</td>\n",
       "      <td>Never</td>\n",
       "      <td>Black or of African descent</td>\n",
       "      <td>25 - 34 years old</td>\n",
       "      <td>Kenya</td>\n",
       "      <td>NaN</td>\n",
       "      <td>...</td>\n",
       "      <td>Strongly agree</td>\n",
       "      <td>Neither Agree nor Disagree</td>\n",
       "      <td>My job status or other personal status changed</td>\n",
       "      <td>Less than a year ago</td>\n",
       "      <td>The official documentation and/or standards fo...</td>\n",
       "      <td>To build my professional network</td>\n",
       "      <td>NaN</td>\n",
       "      <td>Taught yourself a new language, framework, or ...</td>\n",
       "      <td>9 - 12 hours</td>\n",
       "      <td>2017</td>\n",
       "    </tr>\n",
       "    <tr>\n",
       "      <th>1</th>\n",
       "      <td>No</td>\n",
       "      <td>Employed full-time</td>\n",
       "      <td>Bachelor's degree</td>\n",
       "      <td>A natural science (ex. biology, chemistry, phy...</td>\n",
       "      <td>Male</td>\n",
       "      <td>Never</td>\n",
       "      <td>White or of European descent</td>\n",
       "      <td>35 - 44 years old</td>\n",
       "      <td>United Kingdom</td>\n",
       "      <td>70841.0</td>\n",
       "      <td>...</td>\n",
       "      <td>Agree</td>\n",
       "      <td>Neither Agree nor Disagree</td>\n",
       "      <td>I saw an employer’s advertisement</td>\n",
       "      <td>More than 4 years ago</td>\n",
       "      <td>The official documentation and/or standards fo...</td>\n",
       "      <td>NaN</td>\n",
       "      <td>NaN</td>\n",
       "      <td>Taught yourself a new language, framework, or ...</td>\n",
       "      <td>5 - 8 hours</td>\n",
       "      <td>2017</td>\n",
       "    </tr>\n",
       "    <tr>\n",
       "      <th>2</th>\n",
       "      <td>No</td>\n",
       "      <td>Employed full-time</td>\n",
       "      <td>Associate degree</td>\n",
       "      <td>Computer science, computer engineering, or sof...</td>\n",
       "      <td>No_comment</td>\n",
       "      <td>NaN</td>\n",
       "      <td>NaN</td>\n",
       "      <td>NaN</td>\n",
       "      <td>United States</td>\n",
       "      <td>NaN</td>\n",
       "      <td>...</td>\n",
       "      <td>NaN</td>\n",
       "      <td>NaN</td>\n",
       "      <td>NaN</td>\n",
       "      <td>Less than a year ago</td>\n",
       "      <td>NaN</td>\n",
       "      <td>NaN</td>\n",
       "      <td>NaN</td>\n",
       "      <td>NaN</td>\n",
       "      <td>NaN</td>\n",
       "      <td>2017</td>\n",
       "    </tr>\n",
       "    <tr>\n",
       "      <th>3</th>\n",
       "      <td>No</td>\n",
       "      <td>Employed full-time</td>\n",
       "      <td>Bachelor's degree</td>\n",
       "      <td>Computer science, computer engineering, or sof...</td>\n",
       "      <td>Male</td>\n",
       "      <td>3 - 4 times per week</td>\n",
       "      <td>White or of European descent</td>\n",
       "      <td>35 - 44 years old</td>\n",
       "      <td>United States</td>\n",
       "      <td>NaN</td>\n",
       "      <td>...</td>\n",
       "      <td>Disagree</td>\n",
       "      <td>Strongly disagree</td>\n",
       "      <td>A recruiter contacted me</td>\n",
       "      <td>Less than a year ago</td>\n",
       "      <td>The official documentation and/or standards fo...</td>\n",
       "      <td>NaN</td>\n",
       "      <td>NaN</td>\n",
       "      <td>Completed an industry certification program (e...</td>\n",
       "      <td>9 - 12 hours</td>\n",
       "      <td>2017</td>\n",
       "    </tr>\n",
       "    <tr>\n",
       "      <th>4</th>\n",
       "      <td>Yes, part-time</td>\n",
       "      <td>Employed full-time</td>\n",
       "      <td>Some college/university study without earning ...</td>\n",
       "      <td>Computer science, computer engineering, or sof...</td>\n",
       "      <td>Male</td>\n",
       "      <td>Never</td>\n",
       "      <td>White or of European descent</td>\n",
       "      <td>18 - 24 years old</td>\n",
       "      <td>South Africa</td>\n",
       "      <td>21426.0</td>\n",
       "      <td>...</td>\n",
       "      <td>Agree</td>\n",
       "      <td>Strongly disagree</td>\n",
       "      <td>My job status or other personal status changed</td>\n",
       "      <td>Between 1 and 2 years ago</td>\n",
       "      <td>The official documentation and/or standards fo...</td>\n",
       "      <td>NaN</td>\n",
       "      <td>NaN</td>\n",
       "      <td>Taken a part-time in-person course in programm...</td>\n",
       "      <td>Over 12 hours</td>\n",
       "      <td>2017</td>\n",
       "    </tr>\n",
       "  </tbody>\n",
       "</table>\n",
       "<p>5 rows × 40 columns</p>\n",
       "</div>"
      ],
      "text/plain": [
       "          Student          Employment  \\\n",
       "0              No  Employed part-time   \n",
       "1              No  Employed full-time   \n",
       "2              No  Employed full-time   \n",
       "3              No  Employed full-time   \n",
       "4  Yes, part-time  Employed full-time   \n",
       "\n",
       "                                     FormalEducation  \\\n",
       "0                                  Bachelor's degree   \n",
       "1                                  Bachelor's degree   \n",
       "2                                   Associate degree   \n",
       "3                                  Bachelor's degree   \n",
       "4  Some college/university study without earning ...   \n",
       "\n",
       "                                      UndergradMajor      Gender  \\\n",
       "0                          Mathematics or statistics        Male   \n",
       "1  A natural science (ex. biology, chemistry, phy...        Male   \n",
       "2  Computer science, computer engineering, or sof...  No_comment   \n",
       "3  Computer science, computer engineering, or sof...        Male   \n",
       "4  Computer science, computer engineering, or sof...        Male   \n",
       "\n",
       "              SkipMeals                 RaceEthnicity                Age  \\\n",
       "0                 Never   Black or of African descent  25 - 34 years old   \n",
       "1                 Never  White or of European descent  35 - 44 years old   \n",
       "2                   NaN                           NaN                NaN   \n",
       "3  3 - 4 times per week  White or of European descent  35 - 44 years old   \n",
       "4                 Never  White or of European descent  18 - 24 years old   \n",
       "\n",
       "          Country  ConvertedSalary  ...   AgreeDisagree2  \\\n",
       "0           Kenya              NaN  ...   Strongly agree   \n",
       "1  United Kingdom          70841.0  ...            Agree   \n",
       "2   United States              NaN  ...              NaN   \n",
       "3   United States              NaN  ...         Disagree   \n",
       "4    South Africa          21426.0  ...            Agree   \n",
       "\n",
       "               AgreeDisagree3                                        UpdateCV  \\\n",
       "0  Neither Agree nor Disagree  My job status or other personal status changed   \n",
       "1  Neither Agree nor Disagree               I saw an employer’s advertisement   \n",
       "2                         NaN                                             NaN   \n",
       "3           Strongly disagree                        A recruiter contacted me   \n",
       "4           Strongly disagree  My job status or other personal status changed   \n",
       "\n",
       "                  LastNewJob  \\\n",
       "0       Less than a year ago   \n",
       "1      More than 4 years ago   \n",
       "2       Less than a year ago   \n",
       "3       Less than a year ago   \n",
       "4  Between 1 and 2 years ago   \n",
       "\n",
       "                                     SelfTaughtTypes  \\\n",
       "0  The official documentation and/or standards fo...   \n",
       "1  The official documentation and/or standards fo...   \n",
       "2                                                NaN   \n",
       "3  The official documentation and/or standards fo...   \n",
       "4  The official documentation and/or standards fo...   \n",
       "\n",
       "                   HackathonReasons TimeAfterBootcamp  \\\n",
       "0  To build my professional network               NaN   \n",
       "1                               NaN               NaN   \n",
       "2                               NaN               NaN   \n",
       "3                               NaN               NaN   \n",
       "4                               NaN               NaN   \n",
       "\n",
       "                                      EducationTypes  HoursComputer  year  \n",
       "0  Taught yourself a new language, framework, or ...   9 - 12 hours  2017  \n",
       "1  Taught yourself a new language, framework, or ...    5 - 8 hours  2017  \n",
       "2                                                NaN            NaN  2017  \n",
       "3  Completed an industry certification program (e...   9 - 12 hours  2017  \n",
       "4  Taken a part-time in-person course in programm...  Over 12 hours  2017  \n",
       "\n",
       "[5 rows x 40 columns]"
      ]
     },
     "execution_count": 6,
     "metadata": {},
     "output_type": "execute_result"
    }
   ],
   "source": [
    "df_2018_clean.head()"
   ]
  },
  {
   "cell_type": "code",
   "execution_count": 64,
   "metadata": {},
   "outputs": [
    {
     "name": "stderr",
     "output_type": "stream",
     "text": [
      "D:\\anaconda3\\lib\\site-packages\\pandas\\core\\frame.py:3027: SettingWithCopyWarning: \n",
      "A value is trying to be set on a copy of a slice from a DataFrame\n",
      "\n",
      "See the caveats in the documentation: http://pandas.pydata.org/pandas-docs/stable/indexing.html#indexing-view-versus-copy\n",
      "  return super(DataFrame, self).rename(**kwargs)\n"
     ]
    }
   ],
   "source": [
    "# 修改列名\n",
    "df_2018_clean.rename(columns={'Student':'University', 'RaceEthnicity':'Race', 'ConvertedSalary':'Salary','CurrencySymbol':'Currency',\n",
    "                             'DevType':'DeveloperType','JobSearchStatus':'JobSeekingStatus',\n",
    "                             'AgreeDisagree1':'CompetePeers','AgreeDisagree2':'NotgoodasPeers','AgreeDisagree3':'KinshipDevelopers'},\n",
    "                     inplace = True)"
   ]
  },
  {
   "cell_type": "code",
   "execution_count": 65,
   "metadata": {
    "scrolled": true
   },
   "outputs": [
    {
     "data": {
      "text/html": [
       "<div>\n",
       "<style scoped>\n",
       "    .dataframe tbody tr th:only-of-type {\n",
       "        vertical-align: middle;\n",
       "    }\n",
       "\n",
       "    .dataframe tbody tr th {\n",
       "        vertical-align: top;\n",
       "    }\n",
       "\n",
       "    .dataframe thead th {\n",
       "        text-align: right;\n",
       "    }\n",
       "</style>\n",
       "<table border=\"1\" class=\"dataframe\">\n",
       "  <thead>\n",
       "    <tr style=\"text-align: right;\">\n",
       "      <th></th>\n",
       "      <th>University</th>\n",
       "      <th>Employment</th>\n",
       "      <th>FormalEducation</th>\n",
       "      <th>UndergradMajor</th>\n",
       "      <th>Gender</th>\n",
       "      <th>SkipMeals</th>\n",
       "      <th>Race</th>\n",
       "      <th>Age</th>\n",
       "      <th>Country</th>\n",
       "      <th>Salary</th>\n",
       "      <th>...</th>\n",
       "      <th>NotgoodasPeers</th>\n",
       "      <th>KinshipDevelopers</th>\n",
       "      <th>UpdateCV</th>\n",
       "      <th>LastNewJob</th>\n",
       "      <th>SelfTaughtTypes</th>\n",
       "      <th>HackathonReasons</th>\n",
       "      <th>TimeAfterBootcamp</th>\n",
       "      <th>EducationTypes</th>\n",
       "      <th>HoursComputer</th>\n",
       "      <th>year</th>\n",
       "    </tr>\n",
       "  </thead>\n",
       "  <tbody>\n",
       "    <tr>\n",
       "      <th>0</th>\n",
       "      <td>No</td>\n",
       "      <td>Employed part-time</td>\n",
       "      <td>Bachelor's degree</td>\n",
       "      <td>Mathematics or statistics</td>\n",
       "      <td>Male</td>\n",
       "      <td>Never</td>\n",
       "      <td>Black or of African descent</td>\n",
       "      <td>25 - 34 years old</td>\n",
       "      <td>Kenya</td>\n",
       "      <td>NaN</td>\n",
       "      <td>...</td>\n",
       "      <td>Strongly agree</td>\n",
       "      <td>Neither Agree nor Disagree</td>\n",
       "      <td>My job status or other personal status changed</td>\n",
       "      <td>Less than a year ago</td>\n",
       "      <td>The official documentation and/or standards fo...</td>\n",
       "      <td>To build my professional network</td>\n",
       "      <td>NaN</td>\n",
       "      <td>Taught yourself a new language, framework, or ...</td>\n",
       "      <td>9 - 12 hours</td>\n",
       "      <td>2018</td>\n",
       "    </tr>\n",
       "    <tr>\n",
       "      <th>1</th>\n",
       "      <td>No</td>\n",
       "      <td>Employed full-time</td>\n",
       "      <td>Bachelor's degree</td>\n",
       "      <td>A natural science (ex. biology, chemistry, phy...</td>\n",
       "      <td>Male</td>\n",
       "      <td>Never</td>\n",
       "      <td>White or of European descent</td>\n",
       "      <td>35 - 44 years old</td>\n",
       "      <td>United Kingdom</td>\n",
       "      <td>70841.0</td>\n",
       "      <td>...</td>\n",
       "      <td>Agree</td>\n",
       "      <td>Neither Agree nor Disagree</td>\n",
       "      <td>I saw an employer’s advertisement</td>\n",
       "      <td>More than 4 years ago</td>\n",
       "      <td>The official documentation and/or standards fo...</td>\n",
       "      <td>NaN</td>\n",
       "      <td>NaN</td>\n",
       "      <td>Taught yourself a new language, framework, or ...</td>\n",
       "      <td>5 - 8 hours</td>\n",
       "      <td>2018</td>\n",
       "    </tr>\n",
       "    <tr>\n",
       "      <th>2</th>\n",
       "      <td>No</td>\n",
       "      <td>Employed full-time</td>\n",
       "      <td>Associate degree</td>\n",
       "      <td>Computer science, computer engineering, or sof...</td>\n",
       "      <td>No_comment</td>\n",
       "      <td>NaN</td>\n",
       "      <td>NaN</td>\n",
       "      <td>NaN</td>\n",
       "      <td>United States</td>\n",
       "      <td>NaN</td>\n",
       "      <td>...</td>\n",
       "      <td>NaN</td>\n",
       "      <td>NaN</td>\n",
       "      <td>NaN</td>\n",
       "      <td>Less than a year ago</td>\n",
       "      <td>NaN</td>\n",
       "      <td>NaN</td>\n",
       "      <td>NaN</td>\n",
       "      <td>NaN</td>\n",
       "      <td>NaN</td>\n",
       "      <td>2018</td>\n",
       "    </tr>\n",
       "    <tr>\n",
       "      <th>3</th>\n",
       "      <td>No</td>\n",
       "      <td>Employed full-time</td>\n",
       "      <td>Bachelor's degree</td>\n",
       "      <td>Computer science, computer engineering, or sof...</td>\n",
       "      <td>Male</td>\n",
       "      <td>3 - 4 times per week</td>\n",
       "      <td>White or of European descent</td>\n",
       "      <td>35 - 44 years old</td>\n",
       "      <td>United States</td>\n",
       "      <td>NaN</td>\n",
       "      <td>...</td>\n",
       "      <td>Disagree</td>\n",
       "      <td>Strongly disagree</td>\n",
       "      <td>A recruiter contacted me</td>\n",
       "      <td>Less than a year ago</td>\n",
       "      <td>The official documentation and/or standards fo...</td>\n",
       "      <td>NaN</td>\n",
       "      <td>NaN</td>\n",
       "      <td>Completed an industry certification program (e...</td>\n",
       "      <td>9 - 12 hours</td>\n",
       "      <td>2018</td>\n",
       "    </tr>\n",
       "    <tr>\n",
       "      <th>4</th>\n",
       "      <td>Yes, part-time</td>\n",
       "      <td>Employed full-time</td>\n",
       "      <td>Some college/university study without earning ...</td>\n",
       "      <td>Computer science, computer engineering, or sof...</td>\n",
       "      <td>Male</td>\n",
       "      <td>Never</td>\n",
       "      <td>White or of European descent</td>\n",
       "      <td>18 - 24 years old</td>\n",
       "      <td>South Africa</td>\n",
       "      <td>21426.0</td>\n",
       "      <td>...</td>\n",
       "      <td>Agree</td>\n",
       "      <td>Strongly disagree</td>\n",
       "      <td>My job status or other personal status changed</td>\n",
       "      <td>Between 1 and 2 years ago</td>\n",
       "      <td>The official documentation and/or standards fo...</td>\n",
       "      <td>NaN</td>\n",
       "      <td>NaN</td>\n",
       "      <td>Taken a part-time in-person course in programm...</td>\n",
       "      <td>Over 12 hours</td>\n",
       "      <td>2018</td>\n",
       "    </tr>\n",
       "  </tbody>\n",
       "</table>\n",
       "<p>5 rows × 39 columns</p>\n",
       "</div>"
      ],
      "text/plain": [
       "       University          Employment  \\\n",
       "0              No  Employed part-time   \n",
       "1              No  Employed full-time   \n",
       "2              No  Employed full-time   \n",
       "3              No  Employed full-time   \n",
       "4  Yes, part-time  Employed full-time   \n",
       "\n",
       "                                     FormalEducation  \\\n",
       "0                                  Bachelor's degree   \n",
       "1                                  Bachelor's degree   \n",
       "2                                   Associate degree   \n",
       "3                                  Bachelor's degree   \n",
       "4  Some college/university study without earning ...   \n",
       "\n",
       "                                      UndergradMajor      Gender  \\\n",
       "0                          Mathematics or statistics        Male   \n",
       "1  A natural science (ex. biology, chemistry, phy...        Male   \n",
       "2  Computer science, computer engineering, or sof...  No_comment   \n",
       "3  Computer science, computer engineering, or sof...        Male   \n",
       "4  Computer science, computer engineering, or sof...        Male   \n",
       "\n",
       "              SkipMeals                          Race                Age  \\\n",
       "0                 Never   Black or of African descent  25 - 34 years old   \n",
       "1                 Never  White or of European descent  35 - 44 years old   \n",
       "2                   NaN                           NaN                NaN   \n",
       "3  3 - 4 times per week  White or of European descent  35 - 44 years old   \n",
       "4                 Never  White or of European descent  18 - 24 years old   \n",
       "\n",
       "          Country   Salary  ...   NotgoodasPeers           KinshipDevelopers  \\\n",
       "0           Kenya      NaN  ...   Strongly agree  Neither Agree nor Disagree   \n",
       "1  United Kingdom  70841.0  ...            Agree  Neither Agree nor Disagree   \n",
       "2   United States      NaN  ...              NaN                         NaN   \n",
       "3   United States      NaN  ...         Disagree           Strongly disagree   \n",
       "4    South Africa  21426.0  ...            Agree           Strongly disagree   \n",
       "\n",
       "                                         UpdateCV                 LastNewJob  \\\n",
       "0  My job status or other personal status changed       Less than a year ago   \n",
       "1               I saw an employer’s advertisement      More than 4 years ago   \n",
       "2                                             NaN       Less than a year ago   \n",
       "3                        A recruiter contacted me       Less than a year ago   \n",
       "4  My job status or other personal status changed  Between 1 and 2 years ago   \n",
       "\n",
       "                                     SelfTaughtTypes  \\\n",
       "0  The official documentation and/or standards fo...   \n",
       "1  The official documentation and/or standards fo...   \n",
       "2                                                NaN   \n",
       "3  The official documentation and/or standards fo...   \n",
       "4  The official documentation and/or standards fo...   \n",
       "\n",
       "                   HackathonReasons TimeAfterBootcamp  \\\n",
       "0  To build my professional network               NaN   \n",
       "1                               NaN               NaN   \n",
       "2                               NaN               NaN   \n",
       "3                               NaN               NaN   \n",
       "4                               NaN               NaN   \n",
       "\n",
       "                                      EducationTypes  HoursComputer  year  \n",
       "0  Taught yourself a new language, framework, or ...   9 - 12 hours  2018  \n",
       "1  Taught yourself a new language, framework, or ...    5 - 8 hours  2018  \n",
       "2                                                NaN            NaN  2018  \n",
       "3  Completed an industry certification program (e...   9 - 12 hours  2018  \n",
       "4  Taken a part-time in-person course in programm...  Over 12 hours  2018  \n",
       "\n",
       "[5 rows x 39 columns]"
      ]
     },
     "execution_count": 65,
     "metadata": {},
     "output_type": "execute_result"
    }
   ],
   "source": [
    "df_2018_clean.head()"
   ]
  },
  {
   "cell_type": "code",
   "execution_count": 66,
   "metadata": {},
   "outputs": [
    {
     "data": {
      "text/plain": [
       "Male          59458\n",
       "No_comment    35372\n",
       "Female         4025\n",
       "Name: Gender, dtype: int64"
      ]
     },
     "execution_count": 66,
     "metadata": {},
     "output_type": "execute_result"
    }
   ],
   "source": [
    "# 修改Gender里面的nocomment\n",
    "df_2018_clean['Gender'].value_counts()"
   ]
  },
  {
   "cell_type": "code",
   "execution_count": 67,
   "metadata": {},
   "outputs": [
    {
     "name": "stderr",
     "output_type": "stream",
     "text": [
      "D:\\anaconda3\\lib\\site-packages\\ipykernel_launcher.py:1: SettingWithCopyWarning: \n",
      "A value is trying to be set on a copy of a slice from a DataFrame.\n",
      "Try using .loc[row_indexer,col_indexer] = value instead\n",
      "\n",
      "See the caveats in the documentation: http://pandas.pydata.org/pandas-docs/stable/indexing.html#indexing-view-versus-copy\n",
      "  \"\"\"Entry point for launching an IPython kernel.\n"
     ]
    }
   ],
   "source": [
    "df_2018_clean['Gender'] = df_2018_clean['Gender'].map({\"Male\":\"Male\",\"Female\":\"Female\", \"No_comment\":\"NoComment\"})"
   ]
  },
  {
   "cell_type": "code",
   "execution_count": 68,
   "metadata": {},
   "outputs": [
    {
     "data": {
      "text/plain": [
       "Male         59458\n",
       "NoComment    35372\n",
       "Female        4025\n",
       "Name: Gender, dtype: int64"
      ]
     },
     "execution_count": 68,
     "metadata": {},
     "output_type": "execute_result"
    }
   ],
   "source": [
    "df_2018_clean['Gender'].value_counts()"
   ]
  },
  {
   "cell_type": "code",
   "execution_count": 69,
   "metadata": {
    "scrolled": true
   },
   "outputs": [
    {
     "data": {
      "text/plain": [
       "White or of European descent                                                                                                                                                            40541\n",
       "South Asian                                                                                                                                                                              6213\n",
       "Hispanic or Latino/Latina                                                                                                                                                                2718\n",
       "East Asian                                                                                                                                                                               2350\n",
       "Middle Eastern                                                                                                                                                                           1774\n",
       "Black or of African descent                                                                                                                                                              1224\n",
       "Hispanic or Latino/Latina;White or of European descent                                                                                                                                    900\n",
       "Middle Eastern;White or of European descent                                                                                                                                               424\n",
       "East Asian;South Asian                                                                                                                                                                    204\n",
       "East Asian;White or of European descent                                                                                                                                                   199\n",
       "Native American, Pacific Islander, or Indigenous Australian;White or of European descent                                                                                                  163\n",
       "Black or of African descent;White or of European descent                                                                                                                                  124\n",
       "Native American, Pacific Islander, or Indigenous Australian                                                                                                                               123\n",
       "South Asian;White or of European descent                                                                                                                                                   88\n",
       "Black or of African descent;Hispanic or Latino/Latina                                                                                                                                      62\n",
       "Black or of African descent;East Asian;Hispanic or Latino/Latina;Middle Eastern;Native American, Pacific Islander, or Indigenous Australian;South Asian;White or of European descent       48\n",
       "Black or of African descent;Middle Eastern                                                                                                                                                 29\n",
       "East Asian;Middle Eastern                                                                                                                                                                  21\n",
       "Black or of African descent;Hispanic or Latino/Latina;White or of European descent                                                                                                         20\n",
       "Middle Eastern;South Asian                                                                                                                                                                 19\n",
       "Hispanic or Latino/Latina;Native American, Pacific Islander, or Indigenous Australian;White or of European descent                                                                         17\n",
       "East Asian;Native American, Pacific Islander, or Indigenous Australian;White or of European descent                                                                                        14\n",
       "East Asian;South Asian;White or of European descent                                                                                                                                        13\n",
       "East Asian;Hispanic or Latino/Latina                                                                                                                                                       13\n",
       "Hispanic or Latino/Latina;Middle Eastern                                                                                                                                                   11\n",
       "Hispanic or Latino/Latina;South Asian                                                                                                                                                      10\n",
       "Black or of African descent;Native American, Pacific Islander, or Indigenous Australian;White or of European descent                                                                       10\n",
       "East Asian;Native American, Pacific Islander, or Indigenous Australian                                                                                                                      9\n",
       "East Asian;Hispanic or Latino/Latina;White or of European descent                                                                                                                           8\n",
       "Black or of African descent;East Asian;White or of European descent                                                                                                                         8\n",
       "                                                                                                                                                                                        ...  \n",
       "Native American, Pacific Islander, or Indigenous Australian;South Asian                                                                                                                     4\n",
       "Black or of African descent;Hispanic or Latino/Latina;Native American, Pacific Islander, or Indigenous Australian                                                                           4\n",
       "Black or of African descent;Hispanic or Latino/Latina;Middle Eastern                                                                                                                        3\n",
       "Black or of African descent;East Asian;Native American, Pacific Islander, or Indigenous Australian;White or of European descent                                                             3\n",
       "Hispanic or Latino/Latina;Middle Eastern;Native American, Pacific Islander, or Indigenous Australian;White or of European descent                                                           3\n",
       "East Asian;Hispanic or Latino/Latina;Native American, Pacific Islander, or Indigenous Australian;White or of European descent                                                               3\n",
       "Black or of African descent;East Asian;Middle Eastern;Native American, Pacific Islander, or Indigenous Australian;South Asian;White or of European descent                                  3\n",
       "East Asian;Middle Eastern;South Asian                                                                                                                                                       3\n",
       "Black or of African descent;East Asian;Hispanic or Latino/Latina                                                                                                                            2\n",
       "East Asian;Hispanic or Latino/Latina;Native American, Pacific Islander, or Indigenous Australian                                                                                            2\n",
       "Middle Eastern;South Asian;White or of European descent                                                                                                                                     2\n",
       "Middle Eastern;Native American, Pacific Islander, or Indigenous Australian                                                                                                                  2\n",
       "Native American, Pacific Islander, or Indigenous Australian;South Asian;White or of European descent                                                                                        2\n",
       "East Asian;Hispanic or Latino/Latina;Middle Eastern;Native American, Pacific Islander, or Indigenous Australian;South Asian;White or of European descent                                    2\n",
       "Black or of African descent;Hispanic or Latino/Latina;Native American, Pacific Islander, or Indigenous Australian;South Asian                                                               1\n",
       "Black or of African descent;East Asian;Hispanic or Latino/Latina;Middle Eastern;Native American, Pacific Islander, or Indigenous Australian;White or of European descent                    1\n",
       "Black or of African descent;Hispanic or Latino/Latina;South Asian                                                                                                                           1\n",
       "Hispanic or Latino/Latina;Middle Eastern;Native American, Pacific Islander, or Indigenous Australian                                                                                        1\n",
       "East Asian;Middle Eastern;South Asian;White or of European descent                                                                                                                          1\n",
       "Black or of African descent;East Asian;Native American, Pacific Islander, or Indigenous Australian                                                                                          1\n",
       "East Asian;Hispanic or Latino/Latina;Native American, Pacific Islander, or Indigenous Australian;South Asian;White or of European descent                                                   1\n",
       "Black or of African descent;Hispanic or Latino/Latina;Middle Eastern;Native American, Pacific Islander, or Indigenous Australian;White or of European descent                               1\n",
       "Black or of African descent;East Asian;Hispanic or Latino/Latina;Middle Eastern;Native American, Pacific Islander, or Indigenous Australian                                                 1\n",
       "East Asian;Hispanic or Latino/Latina;Middle Eastern                                                                                                                                         1\n",
       "Black or of African descent;East Asian;Hispanic or Latino/Latina;Middle Eastern;Native American, Pacific Islander, or Indigenous Australian;South Asian                                     1\n",
       "East Asian;Hispanic or Latino/Latina;Middle Eastern;Native American, Pacific Islander, or Indigenous Australian;White or of European descent                                                1\n",
       "Black or of African descent;East Asian;Hispanic or Latino/Latina;White or of European descent                                                                                               1\n",
       "Black or of African descent;East Asian;South Asian                                                                                                                                          1\n",
       "Black or of African descent;East Asian;Native American, Pacific Islander, or Indigenous Australian;South Asian;White or of European descent                                                 1\n",
       "Black or of African descent;Middle Eastern;Native American, Pacific Islander, or Indigenous Australian;White or of European descent                                                         1\n",
       "Name: Race, Length: 71, dtype: int64"
      ]
     },
     "execution_count": 69,
     "metadata": {},
     "output_type": "execute_result"
    }
   ],
   "source": [
    "# 修改Race\n",
    "df_2018_clean['Race'].value_counts()"
   ]
  },
  {
   "cell_type": "code",
   "execution_count": 70,
   "metadata": {},
   "outputs": [
    {
     "name": "stderr",
     "output_type": "stream",
     "text": [
      "D:\\anaconda3\\lib\\site-packages\\pandas\\core\\generic.py:3643: SettingWithCopyWarning: \n",
      "A value is trying to be set on a copy of a slice from a DataFrame.\n",
      "Try using .loc[row_indexer,col_indexer] = value instead\n",
      "\n",
      "See the caveats in the documentation: http://pandas.pydata.org/pandas-docs/stable/indexing.html#indexing-view-versus-copy\n",
      "  self[name] = value\n"
     ]
    }
   ],
   "source": [
    "# 利用正则表达式删除含有‘I dont know’\n",
    "pattern = re.compile(r\"I don't know|I prefer not to say\")\n",
    "df_2018_clean.Race = df_2018_clean.Race.apply(preprocess.convert_single_func, args=(pattern, \"NoInfo\", True))"
   ]
  },
  {
   "cell_type": "code",
   "execution_count": 71,
   "metadata": {},
   "outputs": [
    {
     "name": "stderr",
     "output_type": "stream",
     "text": [
      "D:\\anaconda3\\lib\\site-packages\\pandas\\core\\generic.py:3643: SettingWithCopyWarning: \n",
      "A value is trying to be set on a copy of a slice from a DataFrame.\n",
      "Try using .loc[row_indexer,col_indexer] = value instead\n",
      "\n",
      "See the caveats in the documentation: http://pandas.pydata.org/pandas-docs/stable/indexing.html#indexing-view-versus-copy\n",
      "  self[name] = value\n"
     ]
    }
   ],
   "source": [
    "# 取出；前一部分\n",
    "# preprocess是任锐大大写的脚本，很强\n",
    "df_2018_clean.Race = df_2018_clean.Race.str.split(\";\").apply(preprocess.convert_list_funct)"
   ]
  },
  {
   "cell_type": "code",
   "execution_count": 72,
   "metadata": {},
   "outputs": [
    {
     "data": {
      "text/plain": [
       "White or of European descent                                   40541\n",
       "South Asian                                                     6301\n",
       "Hispanic or Latino/Latina                                       3678\n",
       "East Asian                                                      2855\n",
       "Middle Eastern                                                  2221\n",
       "Black or of African descent                                     1585\n",
       "Native American, Pacific Islander, or Indigenous Australian      292\n",
       "Name: Race, dtype: int64"
      ]
     },
     "execution_count": 72,
     "metadata": {},
     "output_type": "execute_result"
    }
   ],
   "source": [
    "df_2018_clean.Race.value_counts()"
   ]
  },
  {
   "cell_type": "code",
   "execution_count": 73,
   "metadata": {},
   "outputs": [
    {
     "data": {
      "text/plain": [
       "USD    17330\n",
       "EUR    12781\n",
       "INR     6633\n",
       "GBP     4196\n",
       "CAD     2122\n",
       "Name: Currency, dtype: int64"
      ]
     },
     "execution_count": 73,
     "metadata": {},
     "output_type": "execute_result"
    }
   ],
   "source": [
    "# 处理18年货币是缩写问题，而且比17年多很多\n",
    "df_2018_clean.Currency.value_counts().head()"
   ]
  },
  {
   "cell_type": "code",
   "execution_count": 74,
   "metadata": {
    "scrolled": true
   },
   "outputs": [
    {
     "data": {
      "text/plain": [
       "408     BTC\n",
       "1085    BTC\n",
       "2836    BTC\n",
       "5498    BTC\n",
       "5986    BTC\n",
       "Name: Currency, dtype: object"
      ]
     },
     "execution_count": 74,
     "metadata": {},
     "output_type": "execute_result"
    }
   ],
   "source": [
    "df_2018_clean[df_2018_clean.Currency == 'BTC'].Currency.head()"
   ]
  },
  {
   "cell_type": "code",
   "execution_count": 75,
   "metadata": {},
   "outputs": [
    {
     "name": "stderr",
     "output_type": "stream",
     "text": [
      "D:\\anaconda3\\lib\\site-packages\\pandas\\core\\indexing.py:537: SettingWithCopyWarning: \n",
      "A value is trying to be set on a copy of a slice from a DataFrame.\n",
      "Try using .loc[row_indexer,col_indexer] = value instead\n",
      "\n",
      "See the caveats in the documentation: http://pandas.pydata.org/pandas-docs/stable/indexing.html#indexing-view-versus-copy\n",
      "  self.obj[item] = s\n"
     ]
    }
   ],
   "source": [
    "df_2018_clean.loc[~df_2018_clean['Currency'].isin(['USD', 'EUR','GBP','JPY','CNY','BRL','INR','MXN','ZAR','SEK',\n",
    "                                                  'AUD','CAD','SGD','RUB','CHF','BTC']),'Currency']='other currency'"
   ]
  },
  {
   "cell_type": "code",
   "execution_count": 23,
   "metadata": {
    "scrolled": true
   },
   "outputs": [
    {
     "ename": "NameError",
     "evalue": "name 'df_2017' is not defined",
     "output_type": "error",
     "traceback": [
      "\u001b[1;31m---------------------------------------------------------------------------\u001b[0m",
      "\u001b[1;31mNameError\u001b[0m                                 Traceback (most recent call last)",
      "\u001b[1;32m<ipython-input-23-7d9d9acbdd81>\u001b[0m in \u001b[0;36m<module>\u001b[1;34m()\u001b[0m\n\u001b[1;32m----> 1\u001b[1;33m \u001b[0mdf_2017\u001b[0m\u001b[1;33m.\u001b[0m\u001b[0mCurrency\u001b[0m\u001b[1;33m.\u001b[0m\u001b[0mvalue_counts\u001b[0m\u001b[1;33m(\u001b[0m\u001b[1;33m)\u001b[0m\u001b[1;33m\u001b[0m\u001b[0m\n\u001b[0m",
      "\u001b[1;31mNameError\u001b[0m: name 'df_2017' is not defined"
     ]
    }
   ],
   "source": [
    "df_2017.Currency.value_counts()"
   ]
  },
  {
   "cell_type": "code",
   "execution_count": 76,
   "metadata": {},
   "outputs": [
    {
     "name": "stderr",
     "output_type": "stream",
     "text": [
      "D:\\anaconda3\\lib\\site-packages\\ipykernel_launcher.py:5: SettingWithCopyWarning: \n",
      "A value is trying to be set on a copy of a slice from a DataFrame.\n",
      "Try using .loc[row_indexer,col_indexer] = value instead\n",
      "\n",
      "See the caveats in the documentation: http://pandas.pydata.org/pandas-docs/stable/indexing.html#indexing-view-versus-copy\n",
      "  \"\"\"\n"
     ]
    }
   ],
   "source": [
    "df_2018_clean['Currency'] = df_2018_clean['Currency'].map({\"USD\":\"U.S. dollars\",\"EUR\":\"Euros\", \"GBP\":\"British pounds sterling\",\n",
    "                                                          'JPY':'Japanese yen','CNY':'Chinese yuan renminbi','BRL':'Brazilian reais','INR':'Indian rupees',\n",
    "                                                          'MXN':'Mexican pesos','ZAR':'South African rands','SEK':'Swedish kroner','AUD':'Australian dollars',\n",
    "                                                           'CAD':'Canadian dollars','SGD':'Singapore dollars','RUB ':'Russian rubles','CHF':'Swiss francs',\n",
    "                                                           'BTC':'Bitcoin','other currency':'other currency'})"
   ]
  },
  {
   "cell_type": "code",
   "execution_count": 77,
   "metadata": {
    "scrolled": true
   },
   "outputs": [
    {
     "data": {
      "text/plain": [
       "other currency             48352\n",
       "U.S. dollars               17330\n",
       "Euros                      12781\n",
       "Indian rupees               6633\n",
       "British pounds sterling     4196\n",
       "Canadian dollars            2122\n",
       "Brazilian reais             1477\n",
       "Australian dollars          1308\n",
       "Swedish kroner               789\n",
       "Swiss francs                 639\n",
       "South African rands          423\n",
       "Mexican pesos                408\n",
       "Chinese yuan renminbi        389\n",
       "Singapore dollars            215\n",
       "Japanese yen                 200\n",
       "Bitcoin                      109\n",
       "Name: Currency, dtype: int64"
      ]
     },
     "execution_count": 77,
     "metadata": {},
     "output_type": "execute_result"
    }
   ],
   "source": [
    "df_2018_clean.Currency.value_counts()"
   ]
  },
  {
   "cell_type": "code",
   "execution_count": 78,
   "metadata": {},
   "outputs": [
    {
     "data": {
      "text/plain": [
       "20 to 99 employees          16996\n",
       "100 to 499 employees        14011\n",
       "10,000 or more employees     9757\n",
       "10 to 19 employees           8007\n",
       "1,000 to 4,999 employees     7634\n",
       "Fewer than 10 employees      7479\n",
       "500 to 999 employees         4630\n",
       "5,000 to 9,999 employees     3017\n",
       "Name: CompanySize, dtype: int64"
      ]
     },
     "execution_count": 78,
     "metadata": {},
     "output_type": "execute_result"
    }
   ],
   "source": [
    "df_2018_clean.CompanySize.value_counts()"
   ]
  },
  {
   "cell_type": "code",
   "execution_count": 79,
   "metadata": {},
   "outputs": [],
   "source": [
    "df_2018_clean.to_csv('stackoverflow_2018.csv',index = False)"
   ]
  },
  {
   "cell_type": "code",
   "execution_count": 80,
   "metadata": {},
   "outputs": [
    {
     "data": {
      "text/plain": [
       "Back-end developer                                                                                                                                                                                                                                                                                                     6417\n",
       "Full-stack developer                                                                                                                                                                                                                                                                                                   6104\n",
       "Back-end developer;Front-end developer;Full-stack developer                                                                                                                                                                                                                                                            4460\n",
       "Mobile developer                                                                                                                                                                                                                                                                                                       3518\n",
       "Student                                                                                                                                                                                                                                                                                                                3222\n",
       "Back-end developer;Full-stack developer                                                                                                                                                                                                                                                                                3128\n",
       "Front-end developer                                                                                                                                                                                                                                                                                                    2608\n",
       "Front-end developer;Full-stack developer                                                                                                                                                                                                                                                                               1117\n",
       "Back-end developer;Front-end developer                                                                                                                                                                                                                                                                                 1030\n",
       "Back-end developer;Front-end developer;Full-stack developer;Mobile developer                                                                                                                                                                                                                                           1008\n",
       "Back-end developer;Desktop or enterprise applications developer;Front-end developer;Full-stack developer                                                                                                                                                                                                                981\n",
       "Desktop or enterprise applications developer                                                                                                                                                                                                                                                                            896\n",
       "Data scientist or machine learning specialist                                                                                                                                                                                                                                                                           869\n",
       "Back-end developer;Desktop or enterprise applications developer                                                                                                                                                                                                                                                         779\n",
       "Embedded applications or devices developer                                                                                                                                                                                                                                                                              708\n",
       "Back-end developer;Desktop or enterprise applications developer;Full-stack developer                                                                                                                                                                                                                                    677\n",
       "Back-end developer;Student                                                                                                                                                                                                                                                                                              624\n",
       "Back-end developer;Designer;Front-end developer;Full-stack developer                                                                                                                                                                                                                                                    597\n",
       "Back-end developer;DevOps specialist                                                                                                                                                                                                                                                                                    593\n",
       "Back-end developer;Front-end developer;Full-stack developer;Student                                                                                                                                                                                                                                                     567\n",
       "QA or test developer                                                                                                                                                                                                                                                                                                    552\n",
       "Front-end developer;Mobile developer                                                                                                                                                                                                                                                                                    528\n",
       "Back-end developer;Mobile developer                                                                                                                                                                                                                                                                                     517\n",
       "Data or business analyst                                                                                                                                                                                                                                                                                                499\n",
       "Back-end developer;Database administrator;Front-end developer;Full-stack developer                                                                                                                                                                                                                                      497\n",
       "Back-end developer;DevOps specialist;Full-stack developer                                                                                                                                                                                                                                                               490\n",
       "Full-stack developer;Mobile developer                                                                                                                                                                                                                                                                                   456\n",
       "Data or business analyst;Data scientist or machine learning specialist                                                                                                                                                                                                                                                  448\n",
       "C-suite executive (CEO, CTO, etc.)                                                                                                                                                                                                                                                                                      438\n",
       "Back-end developer;DevOps specialist;Front-end developer;Full-stack developer                                                                                                                                                                                                                                           428\n",
       "                                                                                                                                                                                                                                                                                                                       ... \n",
       "Back-end developer;Data scientist or machine learning specialist;Database administrator;DevOps specialist;Educator or academic researcher;Engineering manager;Full-stack developer;Mobile developer;Product manager                                                                                                       1\n",
       "Back-end developer;Designer;Educator or academic researcher;QA or test developer;System administrator                                                                                                                                                                                                                     1\n",
       "Back-end developer;Data scientist or machine learning specialist;Database administrator;Designer;Desktop or enterprise applications developer;Front-end developer;Full-stack developer;Product manager;QA or test developer;System administrator                                                                          1\n",
       "Back-end developer;Designer;Educator or academic researcher;Front-end developer;Full-stack developer;Game or graphics developer;Mobile developer                                                                                                                                                                          1\n",
       "Back-end developer;Data or business analyst;Database administrator;Engineering manager;Front-end developer;Full-stack developer;Mobile developer;Product manager;QA or test developer                                                                                                                                     1\n",
       "Back-end developer;C-suite executive (CEO, CTO, etc.);Designer;Desktop or enterprise applications developer;DevOps specialist;Educator or academic researcher;Game or graphics developer;Product manager;System administrator                                                                                             1\n",
       "Back-end developer;Data or business analyst;Data scientist or machine learning specialist;Full-stack developer;Mobile developer                                                                                                                                                                                           1\n",
       "Back-end developer;C-suite executive (CEO, CTO, etc.);Data scientist or machine learning specialist;Educator or academic researcher;Embedded applications or devices developer;Front-end developer;Student                                                                                                                1\n",
       "Desktop or enterprise applications developer;Engineering manager;System administrator                                                                                                                                                                                                                                     1\n",
       "Back-end developer;Data or business analyst;Data scientist or machine learning specialist;Database administrator;Designer;Desktop or enterprise applications developer;DevOps specialist;Engineering manager;Front-end developer;Mobile developer;Product manager;QA or test developer;Student;System administrator       1\n",
       "Back-end developer;Embedded applications or devices developer;Front-end developer;Mobile developer;System administrator                                                                                                                                                                                                   1\n",
       "Back-end developer;Database administrator;Designer;Front-end developer;Full-stack developer;Mobile developer;Product manager;Student                                                                                                                                                                                      1\n",
       "Back-end developer;Data scientist or machine learning specialist;Desktop or enterprise applications developer;Educator or academic researcher;Embedded applications or devices developer                                                                                                                                  1\n",
       "Back-end developer;Database administrator;DevOps specialist;Front-end developer;Full-stack developer;Mobile developer;Product manager;Student;System administrator                                                                                                                                                        1\n",
       "Back-end developer;Data scientist or machine learning specialist;Database administrator;Designer;Desktop or enterprise applications developer;DevOps specialist;Front-end developer;Full-stack developer;System administrator                                                                                             1\n",
       "Back-end developer;Data or business analyst;Database administrator;DevOps specialist;Embedded applications or devices developer;Engineering manager;Front-end developer;Full-stack developer;QA or test developer;System administrator                                                                                    1\n",
       "Back-end developer;Data scientist or machine learning specialist;Database administrator;Designer;Mobile developer;QA or test developer;Student                                                                                                                                                                            1\n",
       "Back-end developer;C-suite executive (CEO, CTO, etc.);Database administrator;Desktop or enterprise applications developer;Front-end developer;Full-stack developer;Product manager;System administrator                                                                                                                   1\n",
       "Designer;Embedded applications or devices developer;Full-stack developer;Mobile developer;Student                                                                                                                                                                                                                         1\n",
       "Back-end developer;C-suite executive (CEO, CTO, etc.);Embedded applications or devices developer;Mobile developer;System administrator                                                                                                                                                                                    1\n",
       "Back-end developer;C-suite executive (CEO, CTO, etc.);Data or business analyst;Database administrator;DevOps specialist;Educator or academic researcher                                                                                                                                                                   1\n",
       "Data or business analyst;Designer;Full-stack developer;Mobile developer;Student                                                                                                                                                                                                                                           1\n",
       "Data or business analyst;Front-end developer;Full-stack developer;Mobile developer;System administrator                                                                                                                                                                                                                   1\n",
       "C-suite executive (CEO, CTO, etc.);Database administrator;Full-stack developer;QA or test developer;System administrator                                                                                                                                                                                                  1\n",
       "Back-end developer;Data scientist or machine learning specialist;Desktop or enterprise applications developer;QA or test developer;Student                                                                                                                                                                                1\n",
       "Back-end developer;Embedded applications or devices developer;Engineering manager;Game or graphics developer;Mobile developer                                                                                                                                                                                             1\n",
       "Data or business analyst;Designer;Desktop or enterprise applications developer;Full-stack developer                                                                                                                                                                                                                       1\n",
       "Back-end developer;Data scientist or machine learning specialist;Educator or academic researcher;Front-end developer;Full-stack developer;Game or graphics developer;Mobile developer;QA or test developer                                                                                                                1\n",
       "Database administrator;Front-end developer;Full-stack developer;QA or test developer;System administrator                                                                                                                                                                                                                 1\n",
       "Back-end developer;C-suite executive (CEO, CTO, etc.);Desktop or enterprise applications developer;Game or graphics developer;Mobile developer;QA or test developer                                                                                                                                                       1\n",
       "Name: DeveloperType, Length: 9568, dtype: int64"
      ]
     },
     "execution_count": 80,
     "metadata": {},
     "output_type": "execute_result"
    }
   ],
   "source": [
    "# DeveloperType待确认后处理\n",
    "df_2018_clean.DeveloperType.value_counts()"
   ]
  },
  {
   "cell_type": "code",
   "execution_count": 81,
   "metadata": {},
   "outputs": [
    {
     "data": {
      "text/plain": [
       "I'm not actively looking, but I am open to new opportunities    47556\n",
       "I am not interested in new job opportunities                    19296\n",
       "I am actively looking for a job                                 12636\n",
       "Name: JobSeekingStatus, dtype: int64"
      ]
     },
     "execution_count": 81,
     "metadata": {},
     "output_type": "execute_result"
    }
   ],
   "source": [
    "# JobSeekingStatus2018不用修改\n",
    "df_2018_clean.JobSeekingStatus.value_counts()"
   ]
  },
  {
   "cell_type": "code",
   "execution_count": 82,
   "metadata": {
    "scrolled": true
   },
   "outputs": [
    {
     "data": {
      "text/plain": [
       "3-5 years           23313\n",
       "6-8 years           19338\n",
       "9-11 years          12169\n",
       "0-2 years           10682\n",
       "12-14 years          8030\n",
       "15-17 years          6117\n",
       "18-20 years          5072\n",
       "30 or more years     3544\n",
       "21-23 years          2648\n",
       "24-26 years          1862\n",
       "27-29 years          1060\n",
       "Name: YearsCoding, dtype: int64"
      ]
     },
     "execution_count": 82,
     "metadata": {},
     "output_type": "execute_result"
    }
   ],
   "source": [
    "# YearsCoding2018不用修改\n",
    "df_2018_clean.YearsCoding.value_counts()"
   ]
  },
  {
   "cell_type": "code",
   "execution_count": 9,
   "metadata": {},
   "outputs": [],
   "source": [
    "df_2018_clean.loc[~df_2018_clean['YearsCoding'].isin(['3-5 years', '6-8 years','9-11 years','0-2 years','12-14 years','15-17 years',\n",
    "                                                     '18-20 years']),'YearsCoding']='20 or more years'"
   ]
  },
  {
   "cell_type": "code",
   "execution_count": 10,
   "metadata": {},
   "outputs": [
    {
     "data": {
      "text/plain": [
       "3-5 years           23313\n",
       "6-8 years           19338\n",
       "20 or more years    14134\n",
       "9-11 years          12169\n",
       "0-2 years           10682\n",
       "12-14 years          8030\n",
       "15-17 years          6117\n",
       "18-20 years          5072\n",
       "Name: YearsCoding, dtype: int64"
      ]
     },
     "execution_count": 10,
     "metadata": {},
     "output_type": "execute_result"
    }
   ],
   "source": [
    "df_2018_clean.YearsCoding.value_counts()"
   ]
  },
  {
   "cell_type": "code",
   "execution_count": 11,
   "metadata": {},
   "outputs": [],
   "source": [
    "df_2018_clean.to_csv('stackoverflow_2018.csv',index = False)"
   ]
  },
  {
   "cell_type": "code",
   "execution_count": 8,
   "metadata": {},
   "outputs": [
    {
     "name": "stderr",
     "output_type": "stream",
     "text": [
      "D:\\anaconda3\\lib\\site-packages\\IPython\\core\\interactiveshell.py:2728: DtypeWarning: Columns (5,6,7,10,12,14,15,16,17,19,20,21,22,23,24,25,28,29,30,31,32,33,34,35,36,37) have mixed types. Specify dtype option on import or set low_memory=False.\n",
      "  interactivity=interactivity, compiler=compiler, result=result)\n"
     ]
    }
   ],
   "source": [
    "df_2018_clean = pd.read_csv('stackoverflow_2018.csv')"
   ]
  },
  {
   "cell_type": "markdown",
   "metadata": {},
   "source": [
    "### 对拿到的2017年的数据进行预处理"
   ]
  },
  {
   "cell_type": "code",
   "execution_count": 12,
   "metadata": {
    "scrolled": false
   },
   "outputs": [
    {
     "name": "stderr",
     "output_type": "stream",
     "text": [
      "D:\\anaconda3\\lib\\site-packages\\IPython\\core\\interactiveshell.py:2728: DtypeWarning: Columns (5,6,7,10,12,14,15,16,17,19,20,21,22,23,24,25,28,29,30,31,32,33,34,35,36,37) have mixed types. Specify dtype option on import or set low_memory=False.\n",
      "  interactivity=interactivity, compiler=compiler, result=result)\n"
     ]
    }
   ],
   "source": [
    "df2018 = pd.read_csv('stackoverflow_2018.csv')"
   ]
  },
  {
   "cell_type": "code",
   "execution_count": 5,
   "metadata": {},
   "outputs": [],
   "source": [
    "df2017 = pd.read_csv('survey2017.csv')"
   ]
  },
  {
   "cell_type": "code",
   "execution_count": 13,
   "metadata": {
    "scrolled": true
   },
   "outputs": [
    {
     "data": {
      "text/plain": [
       "3-5 years           23313\n",
       "6-8 years           19338\n",
       "20 or more years    14134\n",
       "9-11 years          12169\n",
       "0-2 years           10682\n",
       "12-14 years          8030\n",
       "15-17 years          6117\n",
       "18-20 years          5072\n",
       "Name: YearsCoding, dtype: int64"
      ]
     },
     "execution_count": 13,
     "metadata": {},
     "output_type": "execute_result"
    }
   ],
   "source": [
    "df2018.YearsCoding.value_counts()"
   ]
  },
  {
   "cell_type": "code",
   "execution_count": 7,
   "metadata": {},
   "outputs": [
    {
     "data": {
      "text/plain": [
       "1 to 2 years        5368\n",
       "2 to 3 years        4845\n",
       "3 to 4 years        4067\n",
       "4 to 5 years        3471\n",
       "20 or more years    3221\n",
       "Less than a year    3089\n",
       "5 to 6 years        3038\n",
       "9 to 10 years       2015\n",
       "6 to 7 years        1940\n",
       "10 to 11 years      1728\n",
       "7 to 8 years        1682\n",
       "8 to 9 years        1315\n",
       "15 to 16 years       885\n",
       "14 to 15 years       879\n",
       "11 to 12 years       865\n",
       "12 to 13 years       761\n",
       "16 to 17 years       713\n",
       "17 to 18 years       564\n",
       "13 to 14 years       548\n",
       "19 to 20 years       450\n",
       "18 to 19 years       409\n",
       "Name: YearsCoding, dtype: int64"
      ]
     },
     "execution_count": 7,
     "metadata": {},
     "output_type": "execute_result"
    }
   ],
   "source": [
    "df2017.YearsCoding.value_counts()"
   ]
  },
  {
   "cell_type": "code",
   "execution_count": 86,
   "metadata": {},
   "outputs": [
    {
     "data": {
      "text/plain": [
       "Index(['University', 'Employment', 'FormalEducation', 'UndergradMajor',\n",
       "       'Gender', 'SkipMeals', 'Race', 'Age', 'Country', 'Salary', 'SalaryType',\n",
       "       'Currency', 'CompanySize', 'DeveloperType', 'JobSatisfaction',\n",
       "       'CareerSatisfaction', 'JobSeekingStatus', 'CommunicationTools',\n",
       "       'YearsCoding', 'LanguageWorkedWith', 'LanguageDesireNextYear',\n",
       "       'DatabaseWorkedWith', 'DatabaseDesireNextYear', 'PlatformWorkedWith',\n",
       "       'PlatformDesireNextYear', 'Methodology', 'Hobby', 'OpenSource',\n",
       "       'CompetePeers', 'NotgoodasPeers', 'KinshipDevelopers', 'UpdateCV',\n",
       "       'LastNewJob', 'SelfTaughtTypes', 'HackathonReasons',\n",
       "       'TimeAfterBootcamp', 'EducationTypes', 'HoursComputer', 'year'],\n",
       "      dtype='object')"
      ]
     },
     "execution_count": 86,
     "metadata": {},
     "output_type": "execute_result"
    }
   ],
   "source": [
    "df2018.columns"
   ]
  },
  {
   "cell_type": "code",
   "execution_count": 105,
   "metadata": {},
   "outputs": [
    {
     "data": {
      "text/plain": [
       "Index(['Professional', 'University', 'Employment', 'FormalEducation',\n",
       "       'UndergradMajor', 'Gender', 'Race', 'Country', 'Salary', 'Currency',\n",
       "       'CompanySize', 'DeveloperType', 'JobSatisfaction', 'JobSeekingStatus',\n",
       "       'LanguageDesireNextYear', 'LanguageWorkedWith',\n",
       "       'DatabaseDesireNextYear', 'DatabaseWorkedWith', 'PlatformWorkedWith',\n",
       "       'PlatformDesireNextYear', 'SalaryType', 'YearsCoding', 'year'],\n",
       "      dtype='object')"
      ]
     },
     "execution_count": 105,
     "metadata": {},
     "output_type": "execute_result"
    }
   ],
   "source": [
    "df2017.columns"
   ]
  },
  {
   "cell_type": "code",
   "execution_count": 14,
   "metadata": {},
   "outputs": [],
   "source": [
    "df2017 = df2017.drop('Employment.1', axis = 1)"
   ]
  },
  {
   "cell_type": "code",
   "execution_count": 15,
   "metadata": {},
   "outputs": [],
   "source": [
    "df2017 = df2017.drop('UndergradMajor.1', axis = 1)"
   ]
  },
  {
   "cell_type": "code",
   "execution_count": 18,
   "metadata": {},
   "outputs": [],
   "source": [
    "# 给2017年后面加上KinshipDevelopers和CompetePeers列/UpdateCV等列\n",
    "df2017['KinshipDevelopers'] = df_2017['KinshipDevelopers']\n",
    "df2017['CompetePeers'] = df_2017['CompetePeers']\n",
    "df2017['UpdateCV'] = df_2017['ResumePrompted']\n",
    "df2017['LastNewJob'] = df_2017['LastNewJob']\n",
    "df2017['WorkStart'] = df_2017['WorkStart']\n",
    "df2017['MetricAssess'] = df_2017['MetricAssess']\n",
    "df2017['LastNewJob'] = df_2017['LastNewJob']\n",
    "df2017['SelfTaughtTypes'] = df_2017['SelfTaughtTypes']\n",
    "df2017['TimeAfterBootcamp'] = df_2017['TimeAfterBootcamp']\n",
    "df2017['EducationTypes'] = df_2017['EducationTypes']"
   ]
  },
  {
   "cell_type": "code",
   "execution_count": 19,
   "metadata": {},
   "outputs": [],
   "source": [
    "# 给2017年数据加上年份列\n",
    "df2017['year'] = 2017"
   ]
  },
  {
   "cell_type": "code",
   "execution_count": 25,
   "metadata": {},
   "outputs": [],
   "source": [
    "df_2017new = pd.read_csv('survey2017_raynew.csv')"
   ]
  },
  {
   "cell_type": "code",
   "execution_count": 30,
   "metadata": {},
   "outputs": [
    {
     "data": {
      "text/plain": [
       "0-2 years           13302\n",
       "3-5 years           10576\n",
       "6-8 years            4937\n",
       "9-11 years           4608\n",
       "20 or more years     3221\n",
       "12-14 years          2188\n",
       "15-17 years          2162\n",
       "18-20 years           859\n",
       "Name: YearsCoding, dtype: int64"
      ]
     },
     "execution_count": 30,
     "metadata": {},
     "output_type": "execute_result"
    }
   ],
   "source": [
    "df2017.YearsCoding.value_counts()"
   ]
  },
  {
   "cell_type": "code",
   "execution_count": 29,
   "metadata": {},
   "outputs": [],
   "source": [
    "df2017['YearsCoding'] = df_2017new['YearsCoding']"
   ]
  },
  {
   "cell_type": "code",
   "execution_count": 139,
   "metadata": {},
   "outputs": [
    {
     "data": {
      "text/plain": [
       "Index(['Professional', 'University', 'Employment', 'FormalEducation',\n",
       "       'UndergradMajor', 'Gender', 'Race', 'Country', 'Salary', 'Currency',\n",
       "       'CompanySize', 'DeveloperType', 'JobSatisfaction', 'JobSeekingStatus',\n",
       "       'LanguageDesireNextYear', 'LanguageWorkedWith',\n",
       "       'DatabaseDesireNextYear', 'DatabaseWorkedWith', 'PlatformWorkedWith',\n",
       "       'PlatformDesireNextYear', 'SalaryType', 'YearsCoding',\n",
       "       'KinshipDevelopers', 'CompetePeers', 'UpdateCV', 'LastNewJob',\n",
       "       'WorkStart', 'MetricAssess', 'SelfTaughtTypes', 'TimeAfterBootcamp',\n",
       "       'EducationTypes', 'year'],\n",
       "      dtype='object')"
      ]
     },
     "execution_count": 139,
     "metadata": {},
     "output_type": "execute_result"
    }
   ],
   "source": [
    "df2017.columns"
   ]
  },
  {
   "cell_type": "markdown",
   "metadata": {},
   "source": [
    "<a id='4'></a>\n",
    "## 数据整合\n",
    "> 整合2017年和2018年的数据"
   ]
  },
  {
   "cell_type": "code",
   "execution_count": 31,
   "metadata": {},
   "outputs": [],
   "source": [
    "dfMerge = df2018.append(df2017)"
   ]
  },
  {
   "cell_type": "code",
   "execution_count": 21,
   "metadata": {},
   "outputs": [
    {
     "data": {
      "text/html": [
       "<div>\n",
       "<style scoped>\n",
       "    .dataframe tbody tr th:only-of-type {\n",
       "        vertical-align: middle;\n",
       "    }\n",
       "\n",
       "    .dataframe tbody tr th {\n",
       "        vertical-align: top;\n",
       "    }\n",
       "\n",
       "    .dataframe thead th {\n",
       "        text-align: right;\n",
       "    }\n",
       "</style>\n",
       "<table border=\"1\" class=\"dataframe\">\n",
       "  <thead>\n",
       "    <tr style=\"text-align: right;\">\n",
       "      <th></th>\n",
       "      <th>Age</th>\n",
       "      <th>CareerSatisfaction</th>\n",
       "      <th>CommunicationTools</th>\n",
       "      <th>CompanySize</th>\n",
       "      <th>CompetePeers</th>\n",
       "      <th>Country</th>\n",
       "      <th>Currency</th>\n",
       "      <th>DatabaseDesireNextYear</th>\n",
       "      <th>DatabaseWorkedWith</th>\n",
       "      <th>DeveloperType</th>\n",
       "      <th>...</th>\n",
       "      <th>SalaryType</th>\n",
       "      <th>SelfTaughtTypes</th>\n",
       "      <th>SkipMeals</th>\n",
       "      <th>TimeAfterBootcamp</th>\n",
       "      <th>UndergradMajor</th>\n",
       "      <th>University</th>\n",
       "      <th>UpdateCV</th>\n",
       "      <th>WorkStart</th>\n",
       "      <th>YearsCoding</th>\n",
       "      <th>year</th>\n",
       "    </tr>\n",
       "  </thead>\n",
       "  <tbody>\n",
       "    <tr>\n",
       "      <th>0</th>\n",
       "      <td>25 - 34 years old</td>\n",
       "      <td>Extremely satisfied</td>\n",
       "      <td>Slack</td>\n",
       "      <td>20 to 99 employees</td>\n",
       "      <td>Strongly agree</td>\n",
       "      <td>Kenya</td>\n",
       "      <td>other currency</td>\n",
       "      <td>Redis;SQL Server;MySQL;PostgreSQL;Amazon RDS/A...</td>\n",
       "      <td>Redis;SQL Server;MySQL;PostgreSQL;Amazon RDS/A...</td>\n",
       "      <td>Full-stack developer</td>\n",
       "      <td>...</td>\n",
       "      <td>Monthly</td>\n",
       "      <td>The official documentation and/or standards fo...</td>\n",
       "      <td>Never</td>\n",
       "      <td>NaN</td>\n",
       "      <td>Mathematics or statistics</td>\n",
       "      <td>No</td>\n",
       "      <td>My job status or other personal status changed</td>\n",
       "      <td>NaN</td>\n",
       "      <td>3-5 years</td>\n",
       "      <td>2018</td>\n",
       "    </tr>\n",
       "    <tr>\n",
       "      <th>1</th>\n",
       "      <td>35 - 44 years old</td>\n",
       "      <td>Neither satisfied nor dissatisfied</td>\n",
       "      <td>Confluence;Office / productivity suite (Micros...</td>\n",
       "      <td>10,000 or more employees</td>\n",
       "      <td>Agree</td>\n",
       "      <td>United Kingdom</td>\n",
       "      <td>British pounds sterling</td>\n",
       "      <td>PostgreSQL</td>\n",
       "      <td>Redis;PostgreSQL;Memcached</td>\n",
       "      <td>Database administrator;DevOps specialist;Full-...</td>\n",
       "      <td>...</td>\n",
       "      <td>Yearly</td>\n",
       "      <td>The official documentation and/or standards fo...</td>\n",
       "      <td>Never</td>\n",
       "      <td>NaN</td>\n",
       "      <td>A natural science (ex. biology, chemistry, phy...</td>\n",
       "      <td>No</td>\n",
       "      <td>I saw an employer’s advertisement</td>\n",
       "      <td>NaN</td>\n",
       "      <td>20 or more years</td>\n",
       "      <td>2018</td>\n",
       "    </tr>\n",
       "  </tbody>\n",
       "</table>\n",
       "<p>2 rows × 42 columns</p>\n",
       "</div>"
      ],
      "text/plain": [
       "                 Age                  CareerSatisfaction  \\\n",
       "0  25 - 34 years old                 Extremely satisfied   \n",
       "1  35 - 44 years old  Neither satisfied nor dissatisfied   \n",
       "\n",
       "                                  CommunicationTools  \\\n",
       "0                                              Slack   \n",
       "1  Confluence;Office / productivity suite (Micros...   \n",
       "\n",
       "                CompanySize    CompetePeers         Country  \\\n",
       "0        20 to 99 employees  Strongly agree           Kenya   \n",
       "1  10,000 or more employees           Agree  United Kingdom   \n",
       "\n",
       "                  Currency                             DatabaseDesireNextYear  \\\n",
       "0           other currency  Redis;SQL Server;MySQL;PostgreSQL;Amazon RDS/A...   \n",
       "1  British pounds sterling                                         PostgreSQL   \n",
       "\n",
       "                                  DatabaseWorkedWith  \\\n",
       "0  Redis;SQL Server;MySQL;PostgreSQL;Amazon RDS/A...   \n",
       "1                         Redis;PostgreSQL;Memcached   \n",
       "\n",
       "                                       DeveloperType  ...  SalaryType  \\\n",
       "0                               Full-stack developer  ...     Monthly   \n",
       "1  Database administrator;DevOps specialist;Full-...  ...      Yearly   \n",
       "\n",
       "                                     SelfTaughtTypes SkipMeals  \\\n",
       "0  The official documentation and/or standards fo...     Never   \n",
       "1  The official documentation and/or standards fo...     Never   \n",
       "\n",
       "  TimeAfterBootcamp                                     UndergradMajor  \\\n",
       "0               NaN                          Mathematics or statistics   \n",
       "1               NaN  A natural science (ex. biology, chemistry, phy...   \n",
       "\n",
       "  University                                        UpdateCV WorkStart  \\\n",
       "0         No  My job status or other personal status changed       NaN   \n",
       "1         No               I saw an employer’s advertisement       NaN   \n",
       "\n",
       "        YearsCoding  year  \n",
       "0         3-5 years  2018  \n",
       "1  20 or more years  2018  \n",
       "\n",
       "[2 rows x 42 columns]"
      ]
     },
     "execution_count": 21,
     "metadata": {},
     "output_type": "execute_result"
    }
   ],
   "source": [
    "dfMerge.head(2)"
   ]
  },
  {
   "cell_type": "code",
   "execution_count": 22,
   "metadata": {},
   "outputs": [
    {
     "data": {
      "text/plain": [
       "(150247, 42)"
      ]
     },
     "execution_count": 22,
     "metadata": {},
     "output_type": "execute_result"
    }
   ],
   "source": [
    "dfMerge.shape"
   ]
  },
  {
   "cell_type": "code",
   "execution_count": 150,
   "metadata": {},
   "outputs": [
    {
     "data": {
      "text/html": [
       "<div>\n",
       "<style scoped>\n",
       "    .dataframe tbody tr th:only-of-type {\n",
       "        vertical-align: middle;\n",
       "    }\n",
       "\n",
       "    .dataframe tbody tr th {\n",
       "        vertical-align: top;\n",
       "    }\n",
       "\n",
       "    .dataframe thead th {\n",
       "        text-align: right;\n",
       "    }\n",
       "</style>\n",
       "<table border=\"1\" class=\"dataframe\">\n",
       "  <thead>\n",
       "    <tr style=\"text-align: right;\">\n",
       "      <th></th>\n",
       "      <th>Age</th>\n",
       "      <th>CareerSatisfaction</th>\n",
       "      <th>CommunicationTools</th>\n",
       "      <th>CompanySize</th>\n",
       "      <th>CompetePeers</th>\n",
       "      <th>Country</th>\n",
       "      <th>Currency</th>\n",
       "      <th>DatabaseDesireNextYear</th>\n",
       "      <th>DatabaseWorkedWith</th>\n",
       "      <th>DeveloperType</th>\n",
       "      <th>...</th>\n",
       "      <th>SalaryType</th>\n",
       "      <th>SelfTaughtTypes</th>\n",
       "      <th>SkipMeals</th>\n",
       "      <th>TimeAfterBootcamp</th>\n",
       "      <th>UndergradMajor</th>\n",
       "      <th>University</th>\n",
       "      <th>UpdateCV</th>\n",
       "      <th>WorkStart</th>\n",
       "      <th>YearsCoding</th>\n",
       "      <th>year</th>\n",
       "    </tr>\n",
       "  </thead>\n",
       "  <tbody>\n",
       "    <tr>\n",
       "      <th>44791</th>\n",
       "      <td>NaN</td>\n",
       "      <td>NaN</td>\n",
       "      <td>NaN</td>\n",
       "      <td>20 to 99 employees</td>\n",
       "      <td>NaN</td>\n",
       "      <td>United Kingdom</td>\n",
       "      <td>British pounds sterling</td>\n",
       "      <td>NaN</td>\n",
       "      <td>NaN</td>\n",
       "      <td>Web developer</td>\n",
       "      <td>...</td>\n",
       "      <td>Yearly</td>\n",
       "      <td>Official documentation; Stack Overflow Q&amp;A; St...</td>\n",
       "      <td>NaN</td>\n",
       "      <td>NaN</td>\n",
       "      <td>NaN</td>\n",
       "      <td>No</td>\n",
       "      <td>A friend told me about a job opportunity</td>\n",
       "      <td>11:00 AM</td>\n",
       "      <td>4 to 5 years</td>\n",
       "      <td>2017</td>\n",
       "    </tr>\n",
       "    <tr>\n",
       "      <th>76247</th>\n",
       "      <td>25 - 34 years old</td>\n",
       "      <td>Slightly satisfied</td>\n",
       "      <td>Confluence;Office / productivity suite (Micros...</td>\n",
       "      <td>NaN</td>\n",
       "      <td>Strongly agree</td>\n",
       "      <td>India</td>\n",
       "      <td>Indian rupees</td>\n",
       "      <td>MongoDB;Elasticsearch</td>\n",
       "      <td>MongoDB;SQL Server;MySQL;PostgreSQL;MariaDB;IB...</td>\n",
       "      <td>Back-end developer;C-suite executive (CEO, CTO...</td>\n",
       "      <td>...</td>\n",
       "      <td>Monthly</td>\n",
       "      <td>The official documentation and/or standards fo...</td>\n",
       "      <td>3 - 4 times per week</td>\n",
       "      <td>NaN</td>\n",
       "      <td>Computer science, computer engineering, or sof...</td>\n",
       "      <td>No</td>\n",
       "      <td>I had a negative experience or interaction at ...</td>\n",
       "      <td>NaN</td>\n",
       "      <td>12-14 years</td>\n",
       "      <td>2018</td>\n",
       "    </tr>\n",
       "    <tr>\n",
       "      <th>28629</th>\n",
       "      <td>NaN</td>\n",
       "      <td>NaN</td>\n",
       "      <td>NaN</td>\n",
       "      <td>20 to 99 employees</td>\n",
       "      <td>NaN</td>\n",
       "      <td>India</td>\n",
       "      <td>Indian rupees</td>\n",
       "      <td>MongoDB;MySQL;PostgreSQL</td>\n",
       "      <td>MongoDB;Redis</td>\n",
       "      <td>Web developer; Mobile developer</td>\n",
       "      <td>...</td>\n",
       "      <td>Yearly</td>\n",
       "      <td>Official documentation; Trade book; Textbook; ...</td>\n",
       "      <td>NaN</td>\n",
       "      <td>NaN</td>\n",
       "      <td>A non-computer-focused engineering discipline</td>\n",
       "      <td>No</td>\n",
       "      <td>NaN</td>\n",
       "      <td>11:00 AM</td>\n",
       "      <td>1 to 2 years</td>\n",
       "      <td>2017</td>\n",
       "    </tr>\n",
       "  </tbody>\n",
       "</table>\n",
       "<p>3 rows × 42 columns</p>\n",
       "</div>"
      ],
      "text/plain": [
       "                     Age  CareerSatisfaction  \\\n",
       "44791                NaN                 NaN   \n",
       "76247  25 - 34 years old  Slightly satisfied   \n",
       "28629                NaN                 NaN   \n",
       "\n",
       "                                      CommunicationTools         CompanySize  \\\n",
       "44791                                                NaN  20 to 99 employees   \n",
       "76247  Confluence;Office / productivity suite (Micros...                 NaN   \n",
       "28629                                                NaN  20 to 99 employees   \n",
       "\n",
       "         CompetePeers         Country                  Currency  \\\n",
       "44791             NaN  United Kingdom  British pounds sterling    \n",
       "76247  Strongly agree           India             Indian rupees   \n",
       "28629             NaN           India            Indian rupees    \n",
       "\n",
       "         DatabaseDesireNextYear  \\\n",
       "44791                       NaN   \n",
       "76247     MongoDB;Elasticsearch   \n",
       "28629  MongoDB;MySQL;PostgreSQL   \n",
       "\n",
       "                                      DatabaseWorkedWith  \\\n",
       "44791                                                NaN   \n",
       "76247  MongoDB;SQL Server;MySQL;PostgreSQL;MariaDB;IB...   \n",
       "28629                                      MongoDB;Redis   \n",
       "\n",
       "                                           DeveloperType  ...  SalaryType  \\\n",
       "44791                                      Web developer  ...      Yearly   \n",
       "76247  Back-end developer;C-suite executive (CEO, CTO...  ...     Monthly   \n",
       "28629                    Web developer; Mobile developer  ...      Yearly   \n",
       "\n",
       "                                         SelfTaughtTypes  \\\n",
       "44791  Official documentation; Stack Overflow Q&A; St...   \n",
       "76247  The official documentation and/or standards fo...   \n",
       "28629  Official documentation; Trade book; Textbook; ...   \n",
       "\n",
       "                  SkipMeals TimeAfterBootcamp  \\\n",
       "44791                   NaN               NaN   \n",
       "76247  3 - 4 times per week               NaN   \n",
       "28629                   NaN               NaN   \n",
       "\n",
       "                                          UndergradMajor University  \\\n",
       "44791                                                NaN         No   \n",
       "76247  Computer science, computer engineering, or sof...         No   \n",
       "28629      A non-computer-focused engineering discipline         No   \n",
       "\n",
       "                                                UpdateCV WorkStart  \\\n",
       "44791           A friend told me about a job opportunity  11:00 AM   \n",
       "76247  I had a negative experience or interaction at ...       NaN   \n",
       "28629                                                NaN  11:00 AM   \n",
       "\n",
       "        YearsCoding  year  \n",
       "44791  4 to 5 years  2017  \n",
       "76247   12-14 years  2018  \n",
       "28629  1 to 2 years  2017  \n",
       "\n",
       "[3 rows x 42 columns]"
      ]
     },
     "execution_count": 150,
     "metadata": {},
     "output_type": "execute_result"
    }
   ],
   "source": [
    "dfMerge.sample(3)"
   ]
  },
  {
   "cell_type": "code",
   "execution_count": 33,
   "metadata": {},
   "outputs": [],
   "source": [
    "dfMerge.to_csv('stackoverflow_merge20172018.csv',index = False)"
   ]
  },
  {
   "cell_type": "markdown",
   "metadata": {},
   "source": [
    "<a id='5'></a>\n",
    "## EDA\n",
    "> 对整合后的数据进行探索性数据分析"
   ]
  },
  {
   "cell_type": "code",
   "execution_count": 2,
   "metadata": {},
   "outputs": [
    {
     "name": "stderr",
     "output_type": "stream",
     "text": [
      "D:\\anaconda3\\lib\\site-packages\\IPython\\core\\interactiveshell.py:2728: DtypeWarning: Columns (0,1,2,3,14,15,16,17,23,24,25,26,29,34,39) have mixed types. Specify dtype option on import or set low_memory=False.\n",
      "  interactivity=interactivity, compiler=compiler, result=result)\n"
     ]
    }
   ],
   "source": [
    "dfMerge = pd.read_csv('stackoverflow_merge20172018.csv')"
   ]
  },
  {
   "cell_type": "markdown",
   "metadata": {},
   "source": [
    "#### 看一下两个的调查数据量"
   ]
  },
  {
   "cell_type": "code",
   "execution_count": 32,
   "metadata": {},
   "outputs": [
    {
     "data": {
      "text/plain": [
       "3-5 years           33889\n",
       "6-8 years           24275\n",
       "0-2 years           23984\n",
       "20 or more years    17355\n",
       "9-11 years          16777\n",
       "12-14 years         10218\n",
       "15-17 years          8279\n",
       "18-20 years          5931\n",
       "Name: YearsCoding, dtype: int64"
      ]
     },
     "execution_count": 32,
     "metadata": {},
     "output_type": "execute_result"
    }
   ],
   "source": [
    "dfMerge.YearsCoding.value_counts()"
   ]
  },
  {
   "cell_type": "markdown",
   "metadata": {},
   "source": [
    "#### 输出语言的词云"
   ]
  },
  {
   "cell_type": "code",
   "execution_count": 163,
   "metadata": {
    "scrolled": true
   },
   "outputs": [
    {
     "data": {
      "text/plain": [
       "Java                                                                                                      1943\n",
       "C#;JavaScript;SQL                                                                                         1470\n",
       "C#;JavaScript;SQL;HTML;CSS                                                                                1347\n",
       "JavaScript;PHP;SQL;HTML;CSS                                                                               1235\n",
       "JavaScript;PHP;SQL                                                                                        1199\n",
       "C#                                                                                                        1031\n",
       "JavaScript                                                                                                1022\n",
       "Python                                                                                                     928\n",
       "JavaScript;HTML;CSS                                                                                        881\n",
       "C#;SQL                                                                                                     859\n",
       "C#;JavaScript;SQL;TypeScript;HTML;CSS                                                                      828\n",
       "Java;JavaScript                                                                                            826\n",
       "Java;JavaScript;SQL                                                                                        780\n",
       "JavaScript;PHP;SQL;HTML;CSS;Bash/Shell                                                                     768\n",
       "JavaScript;PHP                                                                                             764\n",
       "JavaScript;PHP;HTML;CSS                                                                                    725\n",
       "C#;JavaScript                                                                                              632\n",
       "Java;SQL                                                                                                   627\n",
       "Java;JavaScript;SQL;HTML;CSS                                                                               530\n",
       "Objective-C;Swift                                                                                          499\n",
       "C#;JavaScript;SQL;TypeScript                                                                               494\n",
       "JavaScript;Python                                                                                          492\n",
       "C++                                                                                                        441\n",
       "JavaScript;TypeScript;HTML;CSS                                                                             394\n",
       "Java;JavaScript;HTML;CSS                                                                                   377\n",
       "Java;Python                                                                                                368\n",
       "Java;JavaScript;PHP;SQL                                                                                    366\n",
       "Java;JavaScript;PHP;SQL;HTML;CSS                                                                           350\n",
       "PHP                                                                                                        349\n",
       "C++;Python                                                                                                 348\n",
       "                                                                                                          ... \n",
       "C;Java;JavaScript;Matlab;PHP;Python;R;Scala;SQL                                                              1\n",
       "C++;Haskell;JavaScript;PHP;HTML;CSS                                                                          1\n",
       "C#;Clojure;Java;JavaScript;SQL;TypeScript;HTML;CSS                                                           1\n",
       "C#;Java;JavaScript;Lua;PHP;Python;SQL;TypeScript;Kotlin;CSS;Bash/Shell                                       1\n",
       "C++;C#;JavaScript;Matlab;Python;VBA                                                                          1\n",
       "Groovy;Haskell;Java;JavaScript;Python;Scala;TypeScript;HTML;CSS;Bash/Shell                                   1\n",
       "C++;C#;JavaScript;PHP;Python;SQL;TypeScript;VB.NET;HTML;CSS                                                  1\n",
       "C#;JavaScript;PHP;Python;Ruby;SQL;VBA;VB.NET;HTML;CSS                                                        1\n",
       "C;C++;JavaScript;Ruby;Rust;HTML;CSS;Bash/Shell                                                               1\n",
       "C#;Groovy;Java;JavaScript;Python;Rust;HTML;CSS;Bash/Shell                                                    1\n",
       "C;C++;Hack;Java;JavaScript;PHP;Python;SQL                                                                    1\n",
       "C++;C#;JavaScript;PHP;Python;TypeScript;HTML;CSS                                                             1\n",
       "C++;C#;Java;JavaScript;PHP;Python;Ruby;SQL;TypeScript;VB.NET;Visual Basic 6;HTML;CSS                         1\n",
       "Haskell;Java;JavaScript;SQL                                                                                  1\n",
       "C++;Java;PHP;Python;Ruby;SQL;Kotlin                                                                          1\n",
       "C#;Java;JavaScript;SQL;VB.NET;Delphi/Object Pascal;HTML;CSS                                                  1\n",
       "C;C++;Java;SQL;Kotlin;Bash/Shell                                                                             1\n",
       "Clojure;Erlang;Haskell;PHP;Ruby;Scala                                                                        1\n",
       "Assembly;C;C++;C#;JavaScript;Objective-C;Perl;PHP;Python;SQL;VB.NET;Visual Basic 6;HTML;CSS;Bash/Shell       1\n",
       "CoffeeScript;Groovy;Java;JavaScript;Python;Ruby;SQL                                                          1\n",
       "C++;PHP;SQL;VB.NET;Visual Basic 6;HTML;CSS                                                                   1\n",
       "Assembly;Go;Python;Rust                                                                                      1\n",
       "C++;Java;JavaScript;Matlab;PHP;SQL;TypeScript;Kotlin;HTML;CSS                                                1\n",
       "Assembly;C;C++;C#;Java;Matlab;SQL;VB.NET;Bash/Shell                                                          1\n",
       "C;C++;C#;Java;JavaScript;Objective-C;SQL;TypeScript;HTML;CSS;Bash/Shell                                      1\n",
       "C#;Go;Perl;Bash/Shell                                                                                        1\n",
       "C#;F#;JavaScript;SQL;Kotlin;CSS;Bash/Shell                                                                   1\n",
       "Haskell;Java;JavaScript;Python;Ocaml;HTML                                                                    1\n",
       "C;C++;JavaScript;Objective-C;Python;SQL;Swift;Bash/Shell                                                     1\n",
       "JavaScript;Lua;Matlab;Perl;PHP;Python;R;SQL;HTML;CSS;Bash/Shell                                              1\n",
       "Name: LanguageWorkedWith, Length: 33494, dtype: int64"
      ]
     },
     "execution_count": 163,
     "metadata": {},
     "output_type": "execute_result"
    }
   ],
   "source": [
    "dfMerge.LanguageWorkedWith.value_counts()"
   ]
  },
  {
   "cell_type": "code",
   "execution_count": 192,
   "metadata": {},
   "outputs": [],
   "source": [
    "dfMerge_dropnan = dfMerge.dropna(subset = ['LanguageWorkedWith'])"
   ]
  },
  {
   "cell_type": "code",
   "execution_count": 199,
   "metadata": {},
   "outputs": [],
   "source": [
    "ftext = dfMerge_dropnan['LanguageWorkedWith'].values.tolist()"
   ]
  },
  {
   "cell_type": "code",
   "execution_count": 203,
   "metadata": {},
   "outputs": [],
   "source": [
    "# 写成txt格式\n",
    "file = open('LanguageWorkedWith.txt','w')\n",
    "file.write(str(ftext))\n",
    "file.close()"
   ]
  },
  {
   "cell_type": "code",
   "execution_count": 4,
   "metadata": {},
   "outputs": [],
   "source": [
    "with open(\"LanguageWorkedWith.txt\",\"rb\") as f:   \n",
    "    ftext = f.read()"
   ]
  },
  {
   "cell_type": "code",
   "execution_count": 5,
   "metadata": {},
   "outputs": [],
   "source": [
    "# 导入词云和分词的包\n",
    "import matplotlib.pyplot as plt\n",
    "from wordcloud import WordCloud\n",
    "import jieba"
   ]
  },
  {
   "cell_type": "code",
   "execution_count": 6,
   "metadata": {},
   "outputs": [],
   "source": [
    "# 对文件进行分词\n",
    "wordlist_after_jieba = jieba.cut(ftext, cut_all = True)\n",
    "wl_space_split = \" \".join(wordlist_after_jieba)"
   ]
  },
  {
   "cell_type": "code",
   "execution_count": 13,
   "metadata": {},
   "outputs": [
    {
     "data": {
      "image/png": "[encoded data removed]",
      "text/plain": [
       "<matplotlib.figure.Figure at 0x18e47710>"
      ]
     },
     "metadata": {},
     "output_type": "display_data"
    }
   ],
   "source": [
    "\n",
    "my_wordcloud = WordCloud(background_color='white',width=800,height=800,\n",
    "                         max_words = 200,collocations=False).generate(wl_space_split)\n",
    "#collocations=False控制有无重复的词频\n",
    "plt.imshow(my_wordcloud)\n",
    "plt.axis(\"off\")\n",
    "\n",
    "plt.show()\n"
   ]
  },
  {
   "cell_type": "markdown",
   "metadata": {},
   "source": [
    "> 计算频率转用Tableau，Python有点麻烦，但代码不删除，见下"
   ]
  },
  {
   "cell_type": "code",
   "execution_count": 32,
   "metadata": {},
   "outputs": [],
   "source": [
    "# 输出每个语言的频率\n",
    "import nltk\n",
    "\n",
    "a = list(jieba.cut(ftext))\n",
    "cfd = nltk.FreqDist(a)"
   ]
  },
  {
   "cell_type": "code",
   "execution_count": 40,
   "metadata": {},
   "outputs": [
    {
     "data": {
      "text/plain": [
       "509373"
      ]
     },
     "execution_count": 40,
     "metadata": {},
     "output_type": "execute_result"
    }
   ],
   "source": [
    "cfd.pop(' ')\n",
    "cfd.pop('#')\n",
    "cfd.pop(\"'\")\n",
    "cfd.pop(',')\n",
    "cfd.pop('-')\n",
    "cfd.pop('.')\n",
    "cfd.pop('/')\n",
    "cfd.pop('6')\n",
    "cfd.pop(';')"
   ]
  },
  {
   "cell_type": "code",
   "execution_count": 45,
   "metadata": {},
   "outputs": [],
   "source": [
    "# 字典转化成dataframe\n",
    "df = pd.DataFrame(cfd,index=[0])"
   ]
  },
  {
   "cell_type": "code",
   "execution_count": 63,
   "metadata": {},
   "outputs": [
    {
     "name": "stdout",
     "output_type": "stream",
     "text": [
      "[[7583, 31172, 4158, 32875, 39430, 28027, 50979, 1423, 590, 3795, 273, 145, 2025, 380, 1167, 1572, 7089, 4566, 53628, 361, 2610, 50045, 77561, 568, 3508, 273, 3772, 6133, 7527, 2025, 7859, 470, 34361, 2025, 4865, 42063, 6447, 11235, 2273, 63424, 4729, 31172, 327, 8678, 17114, 7527, 5384, 4158]]\n"
     ]
    }
   ],
   "source": [
    "df1 = np.array(df)\n",
    "df2 = df1.tolist()\n",
    "print(df2)"
   ]
  },
  {
   "cell_type": "code",
   "execution_count": 66,
   "metadata": {},
   "outputs": [
    {
     "data": {
      "text/plain": [
       "Index(['Assembly', 'Bash', 'Basic', 'C', 'C#', 'C++', 'CSS', 'Clojure',\n",
       "       'Cobol', 'CoffeeScript', 'Common', 'Dart', 'Delphi', 'Elixir', 'Erlang',\n",
       "       'F', 'Go', 'Groovy', 'HTML', 'Hack', 'Haskell', 'Java', 'JavaScript',\n",
       "       'Julia', 'Kotlin', 'Lisp', 'Lua', 'Matlab', 'NET', 'Object',\n",
       "       'Objective', 'Ocaml', 'PHP', 'Pascal', 'Perl', 'Python', 'R', 'Ruby',\n",
       "       'Rust', 'SQL', 'Scala', 'Shell', 'Smalltalk', 'Swift', 'TypeScript',\n",
       "       'VB', 'VBA', 'Visual'],\n",
       "      dtype='object')"
      ]
     },
     "execution_count": 66,
     "metadata": {},
     "output_type": "execute_result"
    }
   ],
   "source": [
    "df.columns"
   ]
  },
  {
   "cell_type": "code",
   "execution_count": 67,
   "metadata": {},
   "outputs": [],
   "source": [
    "import matplotlib.pyplot as plt\n",
    "%matplotlib inline"
   ]
  },
  {
   "cell_type": "code",
   "execution_count": 69,
   "metadata": {},
   "outputs": [
    {
     "data": {
      "image/png": "[encoded data removed]",
      "text/plain": [
       "<matplotlib.figure.Figure at 0xe0ea518>"
      ]
     },
     "metadata": {},
     "output_type": "display_data"
    }
   ],
   "source": [
    "plt.figure(figsize=(16, 6), dpi=80)\n",
    "# 柱子总数\n",
    "N = df.shape[1] \n",
    "# 包含每个柱子对应值的序列\n",
    "values = (7583, 31172, 4158, 32875, 39430, 28027, 50979, 1423, 590, 3795, 273, 145, 2025, 380, 1167, 1572, 7089, 4566, 53628, 361, 2610, \n",
    "          50045, 77561, 568, 3508, 273, 3772, 6133, 7527, 2025, 7859, 470, 34361, 2025, 4865, 42063, 6447, 11235, 2273, 63424, 4729, 31172, \n",
    "          327, 8678, 17114, 7527, 5384, 4158)\n",
    "\n",
    "# 包含每个柱子下标的序列\n",
    "index = np.arange(N)\n",
    "# 柱子的宽度\n",
    "width = 0.15\n",
    "\n",
    "# 绘制柱状图, 每根柱子的颜色为紫罗兰色\n",
    "p2 = plt.bar(index, values, width, label=\"rainfall\", color=\"#87CEFA\")\n",
    "\n",
    "# 设置横轴标签\n",
    "plt.xlabel('WorkLanguage')\n",
    "# 设置纵轴标签\n",
    "plt.ylabel('Count')\n",
    "\n",
    "# 添加标题\n",
    "plt.title('Work Language Usage Count')\n",
    "\n",
    "# 添加纵横轴的刻度\n",
    "plt.xticks(index, ('Assembly', 'Bash', 'Basic', 'C', 'C#', 'C++', 'CSS', 'Clojure',\n",
    "       'Cobol', 'CoffeeScript', 'Common', 'Dart', 'Delphi', 'Elixir', 'Erlang',\n",
    "       'F', 'Go', 'Groovy', 'HTML', 'Hack', 'Haskell', 'Java', 'JavaScript',\n",
    "       'Julia', 'Kotlin', 'Lisp', 'Lua', 'Matlab', 'NET', 'Object',\n",
    "       'Objective', 'Ocaml', 'PHP', 'Pascal', 'Perl', 'Python', 'R', 'Ruby',\n",
    "       'Rust', 'SQL', 'Scala', 'Shell', 'Smalltalk', 'Swift', 'TypeScript',\n",
    "       'VB', 'VBA', 'Visual'))\n",
    "\n",
    "plt.show()\n"
   ]
  },
  {
   "cell_type": "code",
   "execution_count": null,
   "metadata": {},
   "outputs": [],
   "source": []
  }
 ],
 "metadata": {
  "kernelspec": {
   "display_name": "Python 3",
   "language": "python",
   "name": "python3"
  },
  "language_info": {
   "codemirror_mode": {
    "name": "ipython",
    "version": 3
   },
   "file_extension": ".py",
   "mimetype": "text/x-python",
   "name": "python",
   "nbconvert_exporter": "python",
   "pygments_lexer": "ipython3",
   "version": "3.6.4"
  }
 },
 "nbformat": 4,
 "nbformat_minor": 2
}
