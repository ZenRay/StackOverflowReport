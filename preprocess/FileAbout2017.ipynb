{
 "cells": [
  {
   "cell_type": "code",
   "execution_count": 1,
   "metadata": {},
   "outputs": [],
   "source": [
    "# import packages\n",
    "import pandas as pd\n",
    "import numpy as np\n",
    "import sys\n",
    "import re\n",
    "\n",
    "sys.path.append(\"../tool/\")\n",
    "\n",
    "import preprocess"
   ]
  },
  {
   "cell_type": "code",
   "execution_count": 2,
   "metadata": {
    "scrolled": true
   },
   "outputs": [
    {
     "name": "stderr",
     "output_type": "stream",
     "text": [
      "/Users/renrui/anaconda3/lib/python3.6/site-packages/IPython/core/interactiveshell.py:2785: DtypeWarning: Columns (8,12,13,14,15,16,50,51,52,53,55,56,57,58,59,60,61,62,63,64,65,66,67,68,69,70,71,72,73,74,75,76,77,78,79,80,81,82,83,84,85,93,94,95,96,97,98,99,100,101,102,103,104,105,106,107,108,109,110,111,112,113,114,115,116,117,118,119,120,121,122,123,124,125,126,127,128) have mixed types. Specify dtype option on import or set low_memory=False.\n",
      "  interactivity=interactivity, compiler=compiler, result=result)\n"
     ]
    }
   ],
   "source": [
    "# load data\n",
    "df2017 = pd.read_csv(\"../data/OriginalData/developer_survey_2017/survey_results_public_2017.csv\")\n",
    "df2018 = pd.read_csv(\"../data/OriginalData/developer_survey_2018/survey_results_public.csv\")"
   ]
  },
  {
   "cell_type": "code",
   "execution_count": 3,
   "metadata": {},
   "outputs": [],
   "source": [
    "# choose the fields\n",
    "columns = [\n",
    "    \"Professional\",\n",
    "    \"University\",\n",
    "    \"EmploymentStatus\",\n",
    "    \"FormalEducation\",\n",
    "    \"MajorUndergrad\",\n",
    "    \"Gender\",\n",
    "    \"Race\",\n",
    "    \"Country\",\n",
    "    \"Salary\",\n",
    "    \"Currency\",\n",
    "    \"CompanySize\",\n",
    "    \"DeveloperType\",\n",
    "    \"JobSatisfaction\",\n",
    "    \"JobSeekingStatus\",\n",
    "]\n",
    "\n",
    "# field with single value\n",
    "add_columns = {\n",
    "    \"SalaryType\": \"Yearly\"\n",
    "}\n",
    "\n",
    "# rename the fields mapper\n",
    "rename_columns = {\n",
    "    \"EmploymentStatus\":\"Employment\",\n",
    "    \"MajorUndergrad\" : \"UndergradMajor\",\n",
    "    \n",
    "}"
   ]
  },
  {
   "cell_type": "code",
   "execution_count": 4,
   "metadata": {},
   "outputs": [],
   "source": [
    "# get the dataframe contained the fields choosed\n",
    "df2017_certain = df2017.filter(items=columns, axis=1).copy()\n",
    "\n",
    "# add the new fild SalaryType into the dataframe\n",
    "for key, value in add_columns.items():\n",
    "    df2017_certain[key] = value\n",
    "    \n",
    "# rename the columns name\n",
    "df2017_certain.rename(rename_columns, axis=1, inplace=True)"
   ]
  },
  {
   "cell_type": "code",
   "execution_count": 5,
   "metadata": {
    "scrolled": true
   },
   "outputs": [
    {
     "data": {
      "text/html": [
       "<div>\n",
       "<style scoped>\n",
       "    .dataframe tbody tr th:only-of-type {\n",
       "        vertical-align: middle;\n",
       "    }\n",
       "\n",
       "    .dataframe tbody tr th {\n",
       "        vertical-align: top;\n",
       "    }\n",
       "\n",
       "    .dataframe thead th {\n",
       "        text-align: right;\n",
       "    }\n",
       "</style>\n",
       "<table border=\"1\" class=\"dataframe\">\n",
       "  <thead>\n",
       "    <tr style=\"text-align: right;\">\n",
       "      <th></th>\n",
       "      <th>Professional</th>\n",
       "      <th>University</th>\n",
       "      <th>Employment</th>\n",
       "      <th>FormalEducation</th>\n",
       "      <th>UndergradMajor</th>\n",
       "      <th>Gender</th>\n",
       "      <th>Race</th>\n",
       "      <th>Country</th>\n",
       "      <th>Salary</th>\n",
       "      <th>Currency</th>\n",
       "      <th>CompanySize</th>\n",
       "      <th>DeveloperType</th>\n",
       "      <th>JobSatisfaction</th>\n",
       "      <th>JobSeekingStatus</th>\n",
       "      <th>SalaryType</th>\n",
       "    </tr>\n",
       "  </thead>\n",
       "  <tbody>\n",
       "    <tr>\n",
       "      <th>0</th>\n",
       "      <td>Student</td>\n",
       "      <td>No</td>\n",
       "      <td>Not employed, and not looking for work</td>\n",
       "      <td>Secondary school</td>\n",
       "      <td>NaN</td>\n",
       "      <td>Male</td>\n",
       "      <td>White or of European descent</td>\n",
       "      <td>United States</td>\n",
       "      <td>NaN</td>\n",
       "      <td>NaN</td>\n",
       "      <td>NaN</td>\n",
       "      <td>NaN</td>\n",
       "      <td>NaN</td>\n",
       "      <td>I'm not actively looking, but I am open to new...</td>\n",
       "      <td>Yearly</td>\n",
       "    </tr>\n",
       "    <tr>\n",
       "      <th>1</th>\n",
       "      <td>Student</td>\n",
       "      <td>Yes, full-time</td>\n",
       "      <td>Employed part-time</td>\n",
       "      <td>Some college/university study without earning ...</td>\n",
       "      <td>Computer science or software engineering</td>\n",
       "      <td>Male</td>\n",
       "      <td>White or of European descent</td>\n",
       "      <td>United Kingdom</td>\n",
       "      <td>NaN</td>\n",
       "      <td>British pounds sterling (£)</td>\n",
       "      <td>20 to 99 employees</td>\n",
       "      <td>NaN</td>\n",
       "      <td>NaN</td>\n",
       "      <td>NaN</td>\n",
       "      <td>Yearly</td>\n",
       "    </tr>\n",
       "    <tr>\n",
       "      <th>2</th>\n",
       "      <td>Professional developer</td>\n",
       "      <td>No</td>\n",
       "      <td>Employed full-time</td>\n",
       "      <td>Bachelor's degree</td>\n",
       "      <td>Computer science or software engineering</td>\n",
       "      <td>Male</td>\n",
       "      <td>White or of European descent</td>\n",
       "      <td>United Kingdom</td>\n",
       "      <td>113750.0</td>\n",
       "      <td>British pounds sterling (£)</td>\n",
       "      <td>10,000 or more employees</td>\n",
       "      <td>Other</td>\n",
       "      <td>9.0</td>\n",
       "      <td>NaN</td>\n",
       "      <td>Yearly</td>\n",
       "    </tr>\n",
       "    <tr>\n",
       "      <th>3</th>\n",
       "      <td>Professional non-developer who sometimes write...</td>\n",
       "      <td>No</td>\n",
       "      <td>Employed full-time</td>\n",
       "      <td>Doctoral degree</td>\n",
       "      <td>A non-computer-focused engineering discipline</td>\n",
       "      <td>Male</td>\n",
       "      <td>White or of European descent</td>\n",
       "      <td>United States</td>\n",
       "      <td>NaN</td>\n",
       "      <td>NaN</td>\n",
       "      <td>10,000 or more employees</td>\n",
       "      <td>NaN</td>\n",
       "      <td>3.0</td>\n",
       "      <td>I am actively looking for a job</td>\n",
       "      <td>Yearly</td>\n",
       "    </tr>\n",
       "    <tr>\n",
       "      <th>4</th>\n",
       "      <td>Professional developer</td>\n",
       "      <td>No</td>\n",
       "      <td>Employed full-time</td>\n",
       "      <td>Master's degree</td>\n",
       "      <td>Computer science or software engineering</td>\n",
       "      <td>NaN</td>\n",
       "      <td>NaN</td>\n",
       "      <td>Switzerland</td>\n",
       "      <td>NaN</td>\n",
       "      <td>NaN</td>\n",
       "      <td>10 to 19 employees</td>\n",
       "      <td>Mobile developer; Graphics programming; Deskto...</td>\n",
       "      <td>8.0</td>\n",
       "      <td>NaN</td>\n",
       "      <td>Yearly</td>\n",
       "    </tr>\n",
       "  </tbody>\n",
       "</table>\n",
       "</div>"
      ],
      "text/plain": [
       "                                        Professional      University  \\\n",
       "0                                            Student              No   \n",
       "1                                            Student  Yes, full-time   \n",
       "2                             Professional developer              No   \n",
       "3  Professional non-developer who sometimes write...              No   \n",
       "4                             Professional developer              No   \n",
       "\n",
       "                               Employment  \\\n",
       "0  Not employed, and not looking for work   \n",
       "1                      Employed part-time   \n",
       "2                      Employed full-time   \n",
       "3                      Employed full-time   \n",
       "4                      Employed full-time   \n",
       "\n",
       "                                     FormalEducation  \\\n",
       "0                                   Secondary school   \n",
       "1  Some college/university study without earning ...   \n",
       "2                                  Bachelor's degree   \n",
       "3                                    Doctoral degree   \n",
       "4                                    Master's degree   \n",
       "\n",
       "                                  UndergradMajor Gender  \\\n",
       "0                                            NaN   Male   \n",
       "1       Computer science or software engineering   Male   \n",
       "2       Computer science or software engineering   Male   \n",
       "3  A non-computer-focused engineering discipline   Male   \n",
       "4       Computer science or software engineering    NaN   \n",
       "\n",
       "                           Race         Country    Salary  \\\n",
       "0  White or of European descent   United States       NaN   \n",
       "1  White or of European descent  United Kingdom       NaN   \n",
       "2  White or of European descent  United Kingdom  113750.0   \n",
       "3  White or of European descent   United States       NaN   \n",
       "4                           NaN     Switzerland       NaN   \n",
       "\n",
       "                      Currency               CompanySize  \\\n",
       "0                          NaN                       NaN   \n",
       "1  British pounds sterling (£)        20 to 99 employees   \n",
       "2  British pounds sterling (£)  10,000 or more employees   \n",
       "3                          NaN  10,000 or more employees   \n",
       "4                          NaN        10 to 19 employees   \n",
       "\n",
       "                                       DeveloperType  JobSatisfaction  \\\n",
       "0                                                NaN              NaN   \n",
       "1                                                NaN              NaN   \n",
       "2                                              Other              9.0   \n",
       "3                                                NaN              3.0   \n",
       "4  Mobile developer; Graphics programming; Deskto...              8.0   \n",
       "\n",
       "                                    JobSeekingStatus SalaryType  \n",
       "0  I'm not actively looking, but I am open to new...     Yearly  \n",
       "1                                                NaN     Yearly  \n",
       "2                                                NaN     Yearly  \n",
       "3                    I am actively looking for a job     Yearly  \n",
       "4                                                NaN     Yearly  "
      ]
     },
     "execution_count": 5,
     "metadata": {},
     "output_type": "execute_result"
    }
   ],
   "source": [
    "df2017_certain.head()"
   ]
  },
  {
   "cell_type": "code",
   "execution_count": 6,
   "metadata": {
    "scrolled": true
   },
   "outputs": [],
   "source": [
    "# convert the element that is not Male or Female into NoComment\n",
    "df2017_certain.Gender = df2017_certain.Gender.apply(preprocess.convert_single_func, \n",
    "                                                    args=([\"Male\", \"Female\"], \n",
    "                                                         \"NoComment\"))\n",
    "# convert the Race no information value into NoInfo\n",
    "# regrex pattern\n",
    "pattern = re.compile(r\"I don’t know|I prefer not to say\")\n",
    "df2017_certain.Race = df2017_certain.Race.apply(preprocess.convert_single_func, args=(pattern, \"NoInfo\", True))\n",
    "\n",
    "# extract the value in the front of the first ;\n",
    "df2017_certain.Race = df2017_certain.Race.str.split(\";\").apply(preprocess.convert_list_funct)\n",
    "\n",
    "\n",
    "# extract the currecy value that is a alphabet value without a sign\n",
    "pattern = re.compile(r\"(\\w*.*\\s+\\w*)+\")\n",
    "df2017_certain.Currency = df2017_certain.Currency.apply(preprocess.convert_single_func, args=(pattern, False, True))"
   ]
  },
  {
   "cell_type": "code",
   "execution_count": 7,
   "metadata": {},
   "outputs": [],
   "source": [
    "# convert the COmpanySize no information value into NoInfo\n",
    "pattern = re.compile(r\"(I don't know)|(I prefer not to answer)\")\n",
    "df2017_certain.CompanySize = df2017_certain.CompanySize.apply(preprocess.convert_single_func, args=(pattern, \"NoInfo\", True))"
   ]
  },
  {
   "cell_type": "code",
   "execution_count": 8,
   "metadata": {},
   "outputs": [],
   "source": [
    "# convert value about the JobSatisfaction field\n",
    "def convert_job(x):\n",
    "    # convert the x value into a string value according by the int value\n",
    "    \n",
    "    if x == 0:\n",
    "        return \"Extremely dissatisfied\"\n",
    "    elif x <= 2:\n",
    "        return \"Moderately dissatisfied\"\n",
    "    elif x <= 4:\n",
    "        return \"Slightly dissatisfied\"\n",
    "    elif x == 5:\n",
    "        return \"Neither satisfied nor dissatisfied\"\n",
    "    elif x <= 7:\n",
    "        return \"Slightly satisfied\"\n",
    "    elif x <= 9:\n",
    "        return \"Moderately satisfied\"\n",
    "    elif x == 10:\n",
    "        return \"Extremely satisfied\"\n",
    "    else:\n",
    "        return x\n",
    "\n",
    "df2017_certain.JobSatisfaction = df2017_certain.JobSatisfaction.apply(convert_job)"
   ]
  },
  {
   "cell_type": "code",
   "execution_count": null,
   "metadata": {},
   "outputs": [],
   "source": []
  },
  {
   "cell_type": "code",
   "execution_count": null,
   "metadata": {},
   "outputs": [],
   "source": []
  },
  {
   "cell_type": "code",
   "execution_count": null,
   "metadata": {},
   "outputs": [],
   "source": []
  },
  {
   "cell_type": "code",
   "execution_count": 9,
   "metadata": {
    "scrolled": false
   },
   "outputs": [
    {
     "data": {
      "text/plain": [
       "Web developer                                            10683\n",
       "Mobile developer                                          1556\n",
       "Desktop applications developer                            1433\n",
       "Other                                                     1174\n",
       "Embedded applications/devices developer                    664\n",
       "Developer with a statistics or mathematics background      485\n",
       "Data scientist                                             249\n",
       "DevOps specialist                                          192\n",
       "Quality assurance engineer                                 102\n",
       "Database administrator                                      73\n",
       "Graphics programming                                        55\n",
       "Machine learning specialist                                 44\n",
       "Systems administrator                                       31\n",
       "Graphic designer                                             6\n",
       "Name: DeveloperType, dtype: int64"
      ]
     },
     "execution_count": 9,
     "metadata": {},
     "output_type": "execute_result"
    }
   ],
   "source": [
    "df2017_certain[~(df2017_certain.DeveloperType.str.find(\";\")>0)].DeveloperType.value_counts()"
   ]
  },
  {
   "cell_type": "code",
   "execution_count": 10,
   "metadata": {},
   "outputs": [
    {
     "data": {
      "text/plain": [
       "Back-end developer                               6417\n",
       "Full-stack developer                             6104\n",
       "Mobile developer                                 3518\n",
       "Student                                          3222\n",
       "Front-end developer                              2608\n",
       "Desktop or enterprise applications developer      896\n",
       "Data scientist or machine learning specialist     869\n",
       "Embedded applications or devices developer        708\n",
       "QA or test developer                              552\n",
       "Data or business analyst                          499\n",
       "C-suite executive (CEO, CTO, etc.)                438\n",
       "DevOps specialist                                 374\n",
       "Engineering manager                               367\n",
       "Educator or academic researcher                   351\n",
       "System administrator                              305\n",
       "Game or graphics developer                        220\n",
       "Designer                                          168\n",
       "Product manager                                   167\n",
       "Database administrator                            109\n",
       "Marketing or sales professional                    68\n",
       "Name: DevType, dtype: int64"
      ]
     },
     "execution_count": 10,
     "metadata": {},
     "output_type": "execute_result"
    }
   ],
   "source": [
    "df2018[~(df2018.DevType.str.find(\";\")>0)].DevType.value_counts()"
   ]
  },
  {
   "cell_type": "code",
   "execution_count": null,
   "metadata": {},
   "outputs": [],
   "source": []
  },
  {
   "cell_type": "code",
   "execution_count": null,
   "metadata": {},
   "outputs": [],
   "source": []
  },
  {
   "cell_type": "code",
   "execution_count": 11,
   "metadata": {},
   "outputs": [
    {
     "ename": "RuntimeError",
     "evalue": "No active exception to reraise",
     "output_type": "error",
     "traceback": [
      "\u001b[0;31m---------------------------------------------------------------------------\u001b[0m",
      "\u001b[0;31mRuntimeError\u001b[0m                              Traceback (most recent call last)",
      "\u001b[0;32m<ipython-input-11-9c9a2cba73bf>\u001b[0m in \u001b[0;36m<module>\u001b[0;34m()\u001b[0m\n\u001b[0;32m----> 1\u001b[0;31m \u001b[0;32mraise\u001b[0m\u001b[0;34m\u001b[0m\u001b[0m\n\u001b[0m",
      "\u001b[0;31mRuntimeError\u001b[0m: No active exception to reraise"
     ]
    }
   ],
   "source": [
    "raise"
   ]
  },
  {
   "cell_type": "code",
   "execution_count": 12,
   "metadata": {
    "scrolled": true
   },
   "outputs": [
    {
     "name": "stdout",
     "output_type": "stream",
     "text": [
      "<class 'pandas.core.frame.DataFrame'>\n",
      "RangeIndex: 51392 entries, 0 to 51391\n",
      "Data columns (total 15 columns):\n",
      "Professional        51392 non-null object\n",
      "University          51392 non-null object\n",
      "Employment          51392 non-null object\n",
      "FormalEducation     51392 non-null object\n",
      "UndergradMajor      42841 non-null object\n",
      "Gender              35047 non-null object\n",
      "Race                33033 non-null object\n",
      "Country             51392 non-null object\n",
      "Salary              12891 non-null float64\n",
      "Currency            21408 non-null object\n",
      "CompanySize         38922 non-null object\n",
      "DeveloperType       36125 non-null object\n",
      "JobSatisfaction     40376 non-null object\n",
      "JobSeekingStatus    33380 non-null object\n",
      "SalaryType          51392 non-null object\n",
      "dtypes: float64(1), object(14)\n",
      "memory usage: 5.9+ MB\n"
     ]
    }
   ],
   "source": [
    "df2017_certain.info()"
   ]
  },
  {
   "cell_type": "code",
   "execution_count": 13,
   "metadata": {},
   "outputs": [],
   "source": [
    "# store the data\n",
    "df2017_certain.to_csv(\"../data/survey2017.csv\", index=False)"
   ]
  }
 ],
 "metadata": {
  "kernelspec": {
   "display_name": "Python [default]",
   "language": "python",
   "name": "python3"
  },
  "language_info": {
   "codemirror_mode": {
    "name": "ipython",
    "version": 3
   },
   "file_extension": ".py",
   "mimetype": "text/x-python",
   "name": "python",
   "nbconvert_exporter": "python",
   "pygments_lexer": "ipython3",
   "version": "3.6.6"
  }
 },
 "nbformat": 4,
 "nbformat_minor": 2
}
