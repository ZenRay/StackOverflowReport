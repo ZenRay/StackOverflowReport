{
 "cells": [
  {
   "cell_type": "code",
   "execution_count": 1,
   "metadata": {},
   "outputs": [],
   "source": [
    "# import packages\n",
    "import pandas as pd\n",
    "import numpy as np\n",
    "import sys\n",
    "import re\n",
    "import functools\n",
    "\n",
    "sys.path.append(\"../tool/\")\n",
    "\n",
    "import preprocess"
   ]
  },
  {
   "cell_type": "code",
   "execution_count": 2,
   "metadata": {
    "scrolled": true
   },
   "outputs": [
    {
     "name": "stderr",
     "output_type": "stream",
     "text": [
      "/Users/renrui/anaconda3/lib/python3.6/site-packages/IPython/core/interactiveshell.py:2785: DtypeWarning: Columns (8,12,13,14,15,16,50,51,52,53,55,56,57,58,59,60,61,62,63,64,65,66,67,68,69,70,71,72,73,74,75,76,77,78,79,80,81,82,83,84,85,93,94,95,96,97,98,99,100,101,102,103,104,105,106,107,108,109,110,111,112,113,114,115,116,117,118,119,120,121,122,123,124,125,126,127,128) have mixed types. Specify dtype option on import or set low_memory=False.\n",
      "  interactivity=interactivity, compiler=compiler, result=result)\n"
     ]
    }
   ],
   "source": [
    "# load data\n",
    "df2017 = pd.read_csv(\"../data/OriginalData/developer_survey_2017/survey_results_public_2017.csv\")\n",
    "df2018 = pd.read_csv(\"../data/OriginalData/developer_survey_2018/survey_results_public.csv\")"
   ]
  },
  {
   "cell_type": "code",
   "execution_count": 3,
   "metadata": {},
   "outputs": [],
   "source": [
    "# choose the fields\n",
    "columns = [\n",
    "    \"Professional\",\n",
    "    \"University\",\n",
    "    \"FormalEducation\",\n",
    "    \"Gender\",\n",
    "    \"Race\",\n",
    "    \"Country\",\n",
    "    \"Salary\",\n",
    "    \"Currency\",\n",
    "    \"CompanySize\",\n",
    "    \"DeveloperType\",\n",
    "    \"JobSatisfaction\",\n",
    "    \"JobSeekingStatus\",\n",
    "    \"Methodology\",\n",
    "    \"WorkStart\",\n",
    "    \"MetricAssess\",\n",
    "    \"LastNewJob\",\n",
    "    \"SelfTaughtTypes\",\n",
    "    \"TimeAfterBootcamp\",\n",
    "    \"EducationTypes\"\n",
    "    \n",
    "]\n",
    "\n",
    "# field with single value\n",
    "add_columns = {\n",
    "    \"SalaryType\": \"Yearly\",\n",
    "    \"YearsCoding\": np.nan,\n",
    "    \"OpenSource\":np.nan,\n",
    "}\n",
    "\n",
    "# rename the fields mapper\n",
    "rename_columns = {\n",
    "    \"EmploymentStatus\":\"Employment\",\n",
    "    \"MajorUndergrad\" : \"UndergradMajor\",\n",
    "    \"WantWorkLanguage\": \"LanguageDesireNextYear\",\n",
    "    \"HaveWorkedLanguage\" : \"LanguageWorkedWith\",\n",
    "    \"WantWorkDatabase\" : \"DatabaseDesireNextYear\",\n",
    "    \"HaveWorkedDatabase\" : \"DatabaseWorkedWith\",\n",
    "    \"HaveWorkedPlatform\" : \"PlatformWorkedWith\",\n",
    "    \"WantWorkPlatform\" : \"PlatformDesireNextYear\",\n",
    "    \"ProgramHobby\" : \"Hobby\",\n",
    "    \"ResumePrompted\" : \"UpdateCV\"\n",
    "}"
   ]
  },
  {
   "cell_type": "code",
   "execution_count": 4,
   "metadata": {},
   "outputs": [],
   "source": [
    "# get the dataframe contained the fields choosed\n",
    "for column in rename_columns.keys():\n",
    "    columns.append(column)\n",
    "    \n",
    "df2017_certain = preprocess.extract_data(df2017, columns)\n",
    "# df2017.filter(items=columns, axis=1).copy()\n",
    "\n",
    "# add the new filds\n",
    "for key, value in add_columns.items():\n",
    "    df2017_certain[key] = value\n",
    "    \n",
    "# rename the columns name\n",
    "df2017_certain.rename(rename_columns, axis=1, inplace=True)"
   ]
  },
  {
   "cell_type": "code",
   "execution_count": 5,
   "metadata": {
    "scrolled": true
   },
   "outputs": [
    {
     "data": {
      "text/html": [
       "<div>\n",
       "<style scoped>\n",
       "    .dataframe tbody tr th:only-of-type {\n",
       "        vertical-align: middle;\n",
       "    }\n",
       "\n",
       "    .dataframe tbody tr th {\n",
       "        vertical-align: top;\n",
       "    }\n",
       "\n",
       "    .dataframe thead th {\n",
       "        text-align: right;\n",
       "    }\n",
       "</style>\n",
       "<table border=\"1\" class=\"dataframe\">\n",
       "  <thead>\n",
       "    <tr style=\"text-align: right;\">\n",
       "      <th></th>\n",
       "      <th>Professional</th>\n",
       "      <th>University</th>\n",
       "      <th>FormalEducation</th>\n",
       "      <th>Gender</th>\n",
       "      <th>Race</th>\n",
       "      <th>Country</th>\n",
       "      <th>Salary</th>\n",
       "      <th>Currency</th>\n",
       "      <th>CompanySize</th>\n",
       "      <th>DeveloperType</th>\n",
       "      <th>...</th>\n",
       "      <th>LanguageWorkedWith</th>\n",
       "      <th>DatabaseDesireNextYear</th>\n",
       "      <th>DatabaseWorkedWith</th>\n",
       "      <th>PlatformWorkedWith</th>\n",
       "      <th>PlatformDesireNextYear</th>\n",
       "      <th>Hobby</th>\n",
       "      <th>UpdateCV</th>\n",
       "      <th>SalaryType</th>\n",
       "      <th>YearsCoding</th>\n",
       "      <th>OpenSource</th>\n",
       "    </tr>\n",
       "  </thead>\n",
       "  <tbody>\n",
       "    <tr>\n",
       "      <th>0</th>\n",
       "      <td>Student</td>\n",
       "      <td>No</td>\n",
       "      <td>Secondary school</td>\n",
       "      <td>Male</td>\n",
       "      <td>White or of European descent</td>\n",
       "      <td>United States</td>\n",
       "      <td>NaN</td>\n",
       "      <td>NaN</td>\n",
       "      <td>NaN</td>\n",
       "      <td>NaN</td>\n",
       "      <td>...</td>\n",
       "      <td>Swift</td>\n",
       "      <td>NaN</td>\n",
       "      <td>NaN</td>\n",
       "      <td>iOS</td>\n",
       "      <td>iOS</td>\n",
       "      <td>Yes, both</td>\n",
       "      <td>NaN</td>\n",
       "      <td>Yearly</td>\n",
       "      <td>NaN</td>\n",
       "      <td>NaN</td>\n",
       "    </tr>\n",
       "    <tr>\n",
       "      <th>1</th>\n",
       "      <td>Student</td>\n",
       "      <td>Yes, full-time</td>\n",
       "      <td>Some college/university study without earning ...</td>\n",
       "      <td>Male</td>\n",
       "      <td>White or of European descent</td>\n",
       "      <td>United Kingdom</td>\n",
       "      <td>NaN</td>\n",
       "      <td>British pounds sterling (£)</td>\n",
       "      <td>20 to 99 employees</td>\n",
       "      <td>NaN</td>\n",
       "      <td>...</td>\n",
       "      <td>JavaScript; Python; Ruby; SQL</td>\n",
       "      <td>MySQL; SQLite</td>\n",
       "      <td>MySQL; SQLite</td>\n",
       "      <td>Amazon Web Services (AWS)</td>\n",
       "      <td>Linux Desktop; Raspberry Pi; Amazon Web Servic...</td>\n",
       "      <td>Yes, both</td>\n",
       "      <td>NaN</td>\n",
       "      <td>Yearly</td>\n",
       "      <td>NaN</td>\n",
       "      <td>NaN</td>\n",
       "    </tr>\n",
       "    <tr>\n",
       "      <th>2</th>\n",
       "      <td>Professional developer</td>\n",
       "      <td>No</td>\n",
       "      <td>Bachelor's degree</td>\n",
       "      <td>Male</td>\n",
       "      <td>White or of European descent</td>\n",
       "      <td>United Kingdom</td>\n",
       "      <td>113750.0</td>\n",
       "      <td>British pounds sterling (£)</td>\n",
       "      <td>10,000 or more employees</td>\n",
       "      <td>Other</td>\n",
       "      <td>...</td>\n",
       "      <td>Java; PHP; Python</td>\n",
       "      <td>NaN</td>\n",
       "      <td>MySQL</td>\n",
       "      <td>NaN</td>\n",
       "      <td>NaN</td>\n",
       "      <td>Yes, both</td>\n",
       "      <td>NaN</td>\n",
       "      <td>Yearly</td>\n",
       "      <td>NaN</td>\n",
       "      <td>NaN</td>\n",
       "    </tr>\n",
       "    <tr>\n",
       "      <th>3</th>\n",
       "      <td>Professional non-developer who sometimes write...</td>\n",
       "      <td>No</td>\n",
       "      <td>Doctoral degree</td>\n",
       "      <td>Male</td>\n",
       "      <td>White or of European descent</td>\n",
       "      <td>United States</td>\n",
       "      <td>NaN</td>\n",
       "      <td>NaN</td>\n",
       "      <td>10,000 or more employees</td>\n",
       "      <td>NaN</td>\n",
       "      <td>...</td>\n",
       "      <td>Matlab; Python; R; SQL</td>\n",
       "      <td>MongoDB; Redis; SQL Server; MySQL; SQLite</td>\n",
       "      <td>MongoDB; Redis; SQL Server; MySQL; SQLite</td>\n",
       "      <td>Windows Desktop; Linux Desktop; Mac OS; Amazon...</td>\n",
       "      <td>Windows Desktop; Linux Desktop; Mac OS; Amazon...</td>\n",
       "      <td>Yes, both</td>\n",
       "      <td>NaN</td>\n",
       "      <td>Yearly</td>\n",
       "      <td>NaN</td>\n",
       "      <td>NaN</td>\n",
       "    </tr>\n",
       "    <tr>\n",
       "      <th>4</th>\n",
       "      <td>Professional developer</td>\n",
       "      <td>No</td>\n",
       "      <td>Master's degree</td>\n",
       "      <td>NaN</td>\n",
       "      <td>NaN</td>\n",
       "      <td>Switzerland</td>\n",
       "      <td>NaN</td>\n",
       "      <td>NaN</td>\n",
       "      <td>10 to 19 employees</td>\n",
       "      <td>Mobile developer; Graphics programming; Deskto...</td>\n",
       "      <td>...</td>\n",
       "      <td>NaN</td>\n",
       "      <td>NaN</td>\n",
       "      <td>NaN</td>\n",
       "      <td>NaN</td>\n",
       "      <td>NaN</td>\n",
       "      <td>Yes, I program as a hobby</td>\n",
       "      <td>NaN</td>\n",
       "      <td>Yearly</td>\n",
       "      <td>NaN</td>\n",
       "      <td>NaN</td>\n",
       "    </tr>\n",
       "  </tbody>\n",
       "</table>\n",
       "<p>5 rows × 32 columns</p>\n",
       "</div>"
      ],
      "text/plain": [
       "                                        Professional      University  \\\n",
       "0                                            Student              No   \n",
       "1                                            Student  Yes, full-time   \n",
       "2                             Professional developer              No   \n",
       "3  Professional non-developer who sometimes write...              No   \n",
       "4                             Professional developer              No   \n",
       "\n",
       "                                     FormalEducation Gender  \\\n",
       "0                                   Secondary school   Male   \n",
       "1  Some college/university study without earning ...   Male   \n",
       "2                                  Bachelor's degree   Male   \n",
       "3                                    Doctoral degree   Male   \n",
       "4                                    Master's degree    NaN   \n",
       "\n",
       "                           Race         Country    Salary  \\\n",
       "0  White or of European descent   United States       NaN   \n",
       "1  White or of European descent  United Kingdom       NaN   \n",
       "2  White or of European descent  United Kingdom  113750.0   \n",
       "3  White or of European descent   United States       NaN   \n",
       "4                           NaN     Switzerland       NaN   \n",
       "\n",
       "                      Currency               CompanySize  \\\n",
       "0                          NaN                       NaN   \n",
       "1  British pounds sterling (£)        20 to 99 employees   \n",
       "2  British pounds sterling (£)  10,000 or more employees   \n",
       "3                          NaN  10,000 or more employees   \n",
       "4                          NaN        10 to 19 employees   \n",
       "\n",
       "                                       DeveloperType    ...      \\\n",
       "0                                                NaN    ...       \n",
       "1                                                NaN    ...       \n",
       "2                                              Other    ...       \n",
       "3                                                NaN    ...       \n",
       "4  Mobile developer; Graphics programming; Deskto...    ...       \n",
       "\n",
       "              LanguageWorkedWith                     DatabaseDesireNextYear  \\\n",
       "0                          Swift                                        NaN   \n",
       "1  JavaScript; Python; Ruby; SQL                              MySQL; SQLite   \n",
       "2              Java; PHP; Python                                        NaN   \n",
       "3         Matlab; Python; R; SQL  MongoDB; Redis; SQL Server; MySQL; SQLite   \n",
       "4                            NaN                                        NaN   \n",
       "\n",
       "                          DatabaseWorkedWith  \\\n",
       "0                                        NaN   \n",
       "1                              MySQL; SQLite   \n",
       "2                                      MySQL   \n",
       "3  MongoDB; Redis; SQL Server; MySQL; SQLite   \n",
       "4                                        NaN   \n",
       "\n",
       "                                  PlatformWorkedWith  \\\n",
       "0                                                iOS   \n",
       "1                          Amazon Web Services (AWS)   \n",
       "2                                                NaN   \n",
       "3  Windows Desktop; Linux Desktop; Mac OS; Amazon...   \n",
       "4                                                NaN   \n",
       "\n",
       "                              PlatformDesireNextYear  \\\n",
       "0                                                iOS   \n",
       "1  Linux Desktop; Raspberry Pi; Amazon Web Servic...   \n",
       "2                                                NaN   \n",
       "3  Windows Desktop; Linux Desktop; Mac OS; Amazon...   \n",
       "4                                                NaN   \n",
       "\n",
       "                       Hobby UpdateCV SalaryType YearsCoding OpenSource  \n",
       "0                  Yes, both      NaN     Yearly         NaN        NaN  \n",
       "1                  Yes, both      NaN     Yearly         NaN        NaN  \n",
       "2                  Yes, both      NaN     Yearly         NaN        NaN  \n",
       "3                  Yes, both      NaN     Yearly         NaN        NaN  \n",
       "4  Yes, I program as a hobby      NaN     Yearly         NaN        NaN  \n",
       "\n",
       "[5 rows x 32 columns]"
      ]
     },
     "execution_count": 5,
     "metadata": {},
     "output_type": "execute_result"
    }
   ],
   "source": [
    "df2017_certain.head()"
   ]
  },
  {
   "cell_type": "code",
   "execution_count": 6,
   "metadata": {
    "scrolled": true
   },
   "outputs": [],
   "source": [
    "# convert the element that is not Male or Female into NoComment\n",
    "df2017_certain.Gender = df2017_certain.Gender.apply(preprocess.convert_single_func, \n",
    "                                                    args=([\"Male\", \"Female\"], \n",
    "                                                         \"NoComment\"))\n",
    "# convert the Race no information value into NoInfo\n",
    "# regrex pattern\n",
    "pattern = re.compile(r\"I don’t know|I prefer not to say\")\n",
    "df2017_certain.Race = df2017_certain.Race.apply(preprocess.convert_single_func, args=(pattern, \"NoInfo\", True))\n",
    "\n",
    "# extract the value in the front of the first ;\n",
    "df2017_certain.Race = df2017_certain.Race.str.split(\";\").apply(preprocess.convert_list_funct)\n",
    "\n",
    "\n",
    "# extract the currecy value that is a alphabet value without a sign\n",
    "pattern = re.compile(r\"(\\w*.*\\s+\\w*)+\")\n",
    "df2017_certain.Currency = df2017_certain.Currency.apply(preprocess.convert_single_func, args=(pattern, False, True))"
   ]
  },
  {
   "cell_type": "code",
   "execution_count": 7,
   "metadata": {},
   "outputs": [],
   "source": [
    "# convert the COmpanySize no information value into NoInfo\n",
    "pattern = re.compile(r\"(I don't know)|(I prefer not to answer)\")\n",
    "df2017_certain.CompanySize = df2017_certain.CompanySize.apply(preprocess.convert_single_func, args=(pattern, \"NoInfo\", True))"
   ]
  },
  {
   "cell_type": "code",
   "execution_count": 8,
   "metadata": {},
   "outputs": [],
   "source": [
    "# convert value about the JobSatisfaction field\n",
    "def convert_job(x):\n",
    "    # convert the x value into a string value according by the int value\n",
    "    \n",
    "    if x == 0:\n",
    "        return \"Extremely dissatisfied\"\n",
    "    elif x <= 2:\n",
    "        return \"Moderately dissatisfied\"\n",
    "    elif x <= 4:\n",
    "        return \"Slightly dissatisfied\"\n",
    "    elif x == 5:\n",
    "        return \"Neither satisfied nor dissatisfied\"\n",
    "    elif x <= 7:\n",
    "        return \"Slightly satisfied\"\n",
    "    elif x <= 9:\n",
    "        return \"Moderately satisfied\"\n",
    "    elif x == 10:\n",
    "        return \"Extremely satisfied\"\n",
    "    else:\n",
    "        return x\n",
    "\n",
    "df2017_certain.JobSatisfaction = df2017_certain.JobSatisfaction.apply(convert_job)"
   ]
  },
  {
   "cell_type": "code",
   "execution_count": 9,
   "metadata": {
    "scrolled": true
   },
   "outputs": [],
   "source": [
    "# merge the value about YearsCodedJob and YearsCodedJobPast into the field YearsCoding\n",
    "years_coding = []\n",
    "for index, row in df2017[[\"YearsCodedJob\", \"YearsCodedJobPast\"]].iterrows():\n",
    "    if not pd.isnull(row.YearsCodedJobPast) and pd.isnull(row.YearsCodedJob):\n",
    "        years_coding.append(row.YearsCodedJobPast)\n",
    "    else:\n",
    "        years_coding.append(row.YearsCodedJob)\n",
    "        \n",
    "df2017_certain.YearsCoding = years_coding"
   ]
  },
  {
   "cell_type": "code",
   "execution_count": 10,
   "metadata": {},
   "outputs": [],
   "source": [
    "# Todo: Fix the values into uniform about YearsCoding field\n",
    "years_coding_dict = {\n",
    "    \"Less than a year\": \"0-2 years\",\n",
    "    \"1 to 2 years\": \"0-2 years\",\n",
    "    \"2 to 3 years\" : \"0-2 years\",\n",
    "    \"3 to 4 years\" : \"3-5 years\",\n",
    "    \"4 to 5 years\" : \"3-5 years\", \n",
    "    \"5 to 6 years\" : \"3-5 years\", \n",
    "    \"6 to 7 years\" : \"6-8 years\", \n",
    "    \"7 to 8 years\" : \"6-8 years\", \n",
    "    \"8 to 9 years\" : \"6-8 years\", \n",
    "    \"9 to 10 years\" : \"9-11 years\",\n",
    "    \"10 to 11 years\" : \"9-11 years\",\n",
    "    \"11 to 12 years\" : \"9-11 years\",\n",
    "    \"12 to 13 years\" : \"12-14 years\",\n",
    "    \"13 to 14 years\" : \"12-14 years\",\n",
    "    \"14 to 15 years\" : \"12-14 years\",\n",
    "    \"15 to 16 years\" : \"15-17 years\",\n",
    "    \"16 to 17 years\" : \"15-17 years\",\n",
    "    \"17 to 18 years\" : \"15-17 years\",\n",
    "    \"18 to 19 years\" : \"18-20 years\",\n",
    "    \"19 to 20 years\" : \"18-20 years\",\n",
    "}\n",
    "\n",
    "df2017_certain.YearsCoding.replace(years_coding_dict, inplace=True)"
   ]
  },
  {
   "cell_type": "code",
   "execution_count": 11,
   "metadata": {},
   "outputs": [],
   "source": [
    "# Todo: fix the value into uniform about DeveloperType field\n"
   ]
  },
  {
   "cell_type": "code",
   "execution_count": 12,
   "metadata": {},
   "outputs": [],
   "source": [
    "# Todo: fix the value with redundant space\n",
    "for pattern, replacement in zip([r\"^ | $\", r\"; \", r\" ;\"], [\"\", \";\", \";\"]):\n",
    "    for field in [\"LanguageDesireNextYear\", \"LanguageWorkedWith\", \n",
    "                  \"DatabaseWorkedWith\", \"DatabaseWorkedWith\", \n",
    "                  \"PlatformWorkedWith\", \"PlatformDesireNextYear\",\n",
    "                 \"MetricAssess\", \"SelfTaughtTypes\", \"EducationTypes\"]:\n",
    "        \n",
    "        preprocess.remove_string_space(df2017_certain, pattern, replacement, field, inplace=True)\n",
    "        \n",
    "        \n",
    "#     df2017_certain.LanguageDesireNextYear = \\\n",
    "#         df2017_certain.LanguageDesireNextYear.str.replace(re.compile(pattern), replacement)\n",
    "#     df2017_certain.LanguageWorkedWith = \\\n",
    "#         df2017_certain.LanguageWorkedWith.str.replace(re.compile(pattern), replacement)\n",
    "    \n",
    "#     df2017_certain.DatabaseDesireNextYear = \\\n",
    "#         df2017_certain.DatabaseDesireNextYear.str.replace(re.compile(pattern), replacement)\n",
    "#     df2017_certain.DatabaseWorkedWith = \\\n",
    "#         df2017_certain.DatabaseWorkedWith.str.replace(re.compile(pattern), replacement)\n",
    "    \n",
    "#     df2017_certain.PlatformWorkedWith = \\\n",
    "#         df2017_certain.PlatformWorkedWith.str.replace(re.compile(pattern), replacement)\n",
    "#     df2017_certain.PlatformDesireNextYear = \\\n",
    "#         df2017_certain.PlatformDesireNextYear.str.replace(re.compile(pattern), replacement)    \n"
   ]
  },
  {
   "cell_type": "code",
   "execution_count": 13,
   "metadata": {},
   "outputs": [],
   "source": [
    "# Todo: extract values from the field ProgramHobby to new fields  Hobby and OpenSource\n",
    "df2017_certain.OpenSource = df2017_certain.Hobby.replace({\n",
    "    \"Yes, I program as a hobby\":\"No\", \n",
    "    \"Yes, both\":\"Yes\",\n",
    "    \"Yes, I contribute to open source projects\":\"Yes\"\n",
    "})\n",
    "\n",
    "df2017_certain.Hobby.replace({\n",
    "    \"Yes, I program as a hobby\":\"Yes\", \n",
    "    \"Yes, both\":\"Yes\",\n",
    "    \"Yes, I contribute to open source projects\":\"No\"\n",
    "}, inplace=True)"
   ]
  },
  {
   "cell_type": "code",
   "execution_count": 14,
   "metadata": {},
   "outputs": [],
   "source": [
    "# Todo: replace value about Not applicable/ never with I've never had a job\n",
    "df2017_certain.LastNewJob.replace({\n",
    "    \"Not applicable/ never\": \"I've never had a job\"\n",
    "}, inplace=True)"
   ]
  },
  {
   "cell_type": "code",
   "execution_count": 15,
   "metadata": {},
   "outputs": [],
   "source": [
    "# Todo: replace value about field TimeAfterBootcamp\n",
    "df2017_certain.TimeAfterBootcamp.replace({\n",
    "    \"I already had a job as a developer when I started the program\" : \"I already had a full-time job as a developer when I began the program\",\n",
    "    \"Immediately upon graduating\":\"Immediately after graduating\",\n",
    "    \"I haven't gotten a job as a developer yet\": \"I haven’t gotten a developer job\",\n",
    "}, inplace=True)"
   ]
  },
  {
   "cell_type": "code",
   "execution_count": null,
   "metadata": {},
   "outputs": [],
   "source": []
  },
  {
   "cell_type": "code",
   "execution_count": null,
   "metadata": {},
   "outputs": [],
   "source": []
  },
  {
   "cell_type": "code",
   "execution_count": null,
   "metadata": {},
   "outputs": [],
   "source": []
  },
  {
   "cell_type": "code",
   "execution_count": 16,
   "metadata": {},
   "outputs": [
    {
     "data": {
      "text/plain": [
       "Index([], dtype='object')"
      ]
     },
     "execution_count": 16,
     "metadata": {},
     "output_type": "execute_result"
    }
   ],
   "source": [
    "df2017_certain.LastNewJob.value_counts(dropna=False).index.difference(df2018.LastNewJob.value_counts(dropna=False).index)"
   ]
  },
  {
   "cell_type": "code",
   "execution_count": 17,
   "metadata": {
    "scrolled": true
   },
   "outputs": [
    {
     "data": {
      "text/plain": [
       "0-2 years           13302\n",
       "3-5 years           10576\n",
       "NaN                  9539\n",
       "6-8 years            4937\n",
       "9-11 years           4608\n",
       "20 or more years     3221\n",
       "12-14 years          2188\n",
       "15-17 years          2162\n",
       "18-20 years           859\n",
       "Name: YearsCoding, dtype: int64"
      ]
     },
     "execution_count": 17,
     "metadata": {},
     "output_type": "execute_result"
    }
   ],
   "source": [
    "df2017_certain.YearsCoding.value_counts(dropna=False)"
   ]
  },
  {
   "cell_type": "code",
   "execution_count": 18,
   "metadata": {},
   "outputs": [
    {
     "data": {
      "text/plain": [
       "3-5 years           23313\n",
       "6-8 years           19338\n",
       "9-11 years          12169\n",
       "0-2 years           10682\n",
       "12-14 years          8030\n",
       "15-17 years          6117\n",
       "18-20 years          5072\n",
       "NaN                  5020\n",
       "30 or more years     3544\n",
       "21-23 years          2648\n",
       "24-26 years          1862\n",
       "27-29 years          1060\n",
       "Name: YearsCoding, dtype: int64"
      ]
     },
     "execution_count": 18,
     "metadata": {},
     "output_type": "execute_result"
    }
   ],
   "source": [
    "df2018.YearsCoding.value_counts(dropna=False)"
   ]
  },
  {
   "cell_type": "code",
   "execution_count": 19,
   "metadata": {},
   "outputs": [
    {
     "ename": "RuntimeError",
     "evalue": "No active exception to reraise",
     "output_type": "error",
     "traceback": [
      "\u001b[0;31m---------------------------------------------------------------------------\u001b[0m",
      "\u001b[0;31mRuntimeError\u001b[0m                              Traceback (most recent call last)",
      "\u001b[0;32m<ipython-input-19-9c9a2cba73bf>\u001b[0m in \u001b[0;36m<module>\u001b[0;34m()\u001b[0m\n\u001b[0;32m----> 1\u001b[0;31m \u001b[0;32mraise\u001b[0m\u001b[0;34m\u001b[0m\u001b[0m\n\u001b[0m",
      "\u001b[0;31mRuntimeError\u001b[0m: No active exception to reraise"
     ]
    }
   ],
   "source": [
    "raise"
   ]
  },
  {
   "cell_type": "code",
   "execution_count": null,
   "metadata": {},
   "outputs": [],
   "source": [
    "testset = set()\n",
    "for i in df2017_certain.EducationTypes.str.split(\";\"):\n",
    "    if isinstance(i, list):\n",
    "            for x in i:\n",
    "                testset.add(x)"
   ]
  },
  {
   "cell_type": "code",
   "execution_count": null,
   "metadata": {
    "scrolled": true
   },
   "outputs": [],
   "source": [
    "testset"
   ]
  },
  {
   "cell_type": "code",
   "execution_count": null,
   "metadata": {},
   "outputs": [],
   "source": [
    "testset2 = set()\n",
    "for i in df2018.EducationTypes.str.split(\";\"):\n",
    "    if isinstance(i, list):\n",
    "            for x in i:\n",
    "                testset2.add(x)"
   ]
  },
  {
   "cell_type": "code",
   "execution_count": null,
   "metadata": {},
   "outputs": [],
   "source": [
    "testset2"
   ]
  },
  {
   "cell_type": "code",
   "execution_count": null,
   "metadata": {
    "scrolled": true
   },
   "outputs": [],
   "source": [
    "testset2.difference(testset)"
   ]
  },
  {
   "cell_type": "code",
   "execution_count": null,
   "metadata": {},
   "outputs": [],
   "source": [
    "testset.difference(testset2)"
   ]
  },
  {
   "cell_type": "code",
   "execution_count": null,
   "metadata": {},
   "outputs": [],
   "source": []
  },
  {
   "cell_type": "code",
   "execution_count": null,
   "metadata": {},
   "outputs": [],
   "source": []
  },
  {
   "cell_type": "code",
   "execution_count": null,
   "metadata": {},
   "outputs": [],
   "source": []
  },
  {
   "cell_type": "code",
   "execution_count": null,
   "metadata": {},
   "outputs": [],
   "source": []
  },
  {
   "cell_type": "code",
   "execution_count": null,
   "metadata": {
    "scrolled": false
   },
   "outputs": [],
   "source": [
    "df2017_certain[~(df2017_certain.DeveloperType.str.find(\";\")>0)].DeveloperType.value_counts()"
   ]
  },
  {
   "cell_type": "code",
   "execution_count": null,
   "metadata": {},
   "outputs": [],
   "source": [
    "df2018[~(df2018.DevType.str.find(\";\")>0)].DevType.value_counts()"
   ]
  },
  {
   "cell_type": "code",
   "execution_count": null,
   "metadata": {},
   "outputs": [],
   "source": []
  },
  {
   "cell_type": "code",
   "execution_count": null,
   "metadata": {},
   "outputs": [],
   "source": []
  },
  {
   "cell_type": "code",
   "execution_count": null,
   "metadata": {},
   "outputs": [],
   "source": [
    "raise"
   ]
  },
  {
   "cell_type": "code",
   "execution_count": null,
   "metadata": {
    "scrolled": true
   },
   "outputs": [],
   "source": [
    "df2017_certain.info()"
   ]
  },
  {
   "cell_type": "code",
   "execution_count": 20,
   "metadata": {},
   "outputs": [],
   "source": [
    "# store the data\n",
    "df2017_certain.to_csv(\"../data/survey2017.csv\", index=False)"
   ]
  }
 ],
 "metadata": {
  "kernelspec": {
   "display_name": "Python [default]",
   "language": "python",
   "name": "python3"
  },
  "language_info": {
   "codemirror_mode": {
    "name": "ipython",
    "version": 3
   },
   "file_extension": ".py",
   "mimetype": "text/x-python",
   "name": "python",
   "nbconvert_exporter": "python",
   "pygments_lexer": "ipython3",
   "version": "3.6.6"
  }
 },
 "nbformat": 4,
 "nbformat_minor": 2
}
