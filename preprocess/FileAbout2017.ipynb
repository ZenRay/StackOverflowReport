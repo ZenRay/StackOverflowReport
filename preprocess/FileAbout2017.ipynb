{
 "cells": [
  {
   "cell_type": "code",
   "execution_count": null,
   "metadata": {},
   "outputs": [],
   "source": [
    "# import packages\n",
    "import pandas as pd\n",
    "import numpy as np\n",
    "import sys\n",
    "import re\n",
    "import functools\n",
    "\n",
    "sys.path.append(\"../tool/\")\n",
    "\n",
    "import preprocess"
   ]
  },
  {
   "cell_type": "code",
   "execution_count": null,
   "metadata": {
    "scrolled": true
   },
   "outputs": [],
   "source": [
    "# load data\n",
    "df2017 = pd.read_csv(\"../data/OriginalData/developer_survey_2017/survey_results_public_2017.csv\")\n",
    "df2018 = pd.read_csv(\"../data/OriginalData/developer_survey_2018/survey_results_public.csv\")"
   ]
  },
  {
   "cell_type": "code",
   "execution_count": null,
   "metadata": {},
   "outputs": [],
   "source": [
    "# choose the fields\n",
    "columns = [\n",
    "    \"Professional\",\n",
    "    \"University\",\n",
    "    \"FormalEducation\",\n",
    "    \"Gender\",\n",
    "    \"Race\",\n",
    "    \"Country\",\n",
    "    \"Salary\",\n",
    "    \"Currency\",\n",
    "    \"CompanySize\",\n",
    "    \"DeveloperType\",\n",
    "    \"JobSatisfaction\",\n",
    "    \"JobSeekingStatus\",\n",
    "    \"Methodology\",\n",
    "    \"WorkStart\",\n",
    "    \"MetricAssess\",\n",
    "    \"LastNewJob\",\n",
    "    \"SelfTaughtTypes\",\n",
    "    \"TimeAfterBootcamp\",\n",
    "    \"EducationTypes\"\n",
    "    \n",
    "]\n",
    "\n",
    "# field with single value\n",
    "add_columns = {\n",
    "    \"SalaryType\": \"Yearly\",\n",
    "    \"YearsCoding\": np.nan,\n",
    "    \"OpenSource\":np.nan,\n",
    "}\n",
    "\n",
    "# rename the fields mapper\n",
    "rename_columns = {\n",
    "    \"EmploymentStatus\":\"Employment\",\n",
    "    \"MajorUndergrad\" : \"UndergradMajor\",\n",
    "    \"WantWorkLanguage\": \"LanguageDesireNextYear\",\n",
    "    \"HaveWorkedLanguage\" : \"LanguageWorkedWith\",\n",
    "    \"WantWorkDatabase\" : \"DatabaseDesireNextYear\",\n",
    "    \"HaveWorkedDatabase\" : \"DatabaseWorkedWith\",\n",
    "    \"HaveWorkedPlatform\" : \"PlatformWorkedWith\",\n",
    "    \"WantWorkPlatform\" : \"PlatformDesireNextYear\",\n",
    "    \"ProgramHobby\" : \"Hobby\",\n",
    "    \"ResumePrompted\" : \"UpdateCV\"\n",
    "}"
   ]
  },
  {
   "cell_type": "code",
   "execution_count": null,
   "metadata": {},
   "outputs": [],
   "source": [
    "# get the dataframe contained the fields choosed\n",
    "for column in rename_columns.keys():\n",
    "    columns.append(column)\n",
    "    \n",
    "df2017_certain = preprocess.extract_data(df2017, columns)\n",
    "# df2017.filter(items=columns, axis=1).copy()\n",
    "\n",
    "# add the new filds\n",
    "for key, value in add_columns.items():\n",
    "    df2017_certain[key] = value\n",
    "    \n",
    "# rename the columns name\n",
    "df2017_certain.rename(rename_columns, axis=1, inplace=True)"
   ]
  },
  {
   "cell_type": "code",
   "execution_count": null,
   "metadata": {
    "scrolled": true
   },
   "outputs": [],
   "source": [
    "df2017_certain.head()"
   ]
  },
  {
   "cell_type": "code",
   "execution_count": null,
   "metadata": {
    "scrolled": true
   },
   "outputs": [],
   "source": [
    "# convert the element that is not Male or Female into NoComment\n",
    "df2017_certain.Gender = df2017_certain.Gender.apply(preprocess.convert_single_func, \n",
    "                                                    args=([\"Male\", \"Female\"], \n",
    "                                                         \"NoComment\"))\n",
    "# convert the Race no information value into NoInfo\n",
    "# regrex pattern\n",
    "pattern = re.compile(r\"I don’t know|I prefer not to say\")\n",
    "df2017_certain.Race = df2017_certain.Race.apply(preprocess.convert_single_func, args=(pattern, \"NoInfo\", True))\n",
    "\n",
    "# extract the value in the front of the first ;\n",
    "df2017_certain.Race = df2017_certain.Race.str.split(\";\").apply(preprocess.convert_list_funct)\n",
    "\n",
    "\n",
    "# extract the currecy value that is a alphabet value without a sign\n",
    "pattern = re.compile(r\"(\\w*.*\\s+\\w*)+\")\n",
    "df2017_certain.Currency = df2017_certain.Currency.apply(preprocess.convert_single_func, args=(pattern, False, True))"
   ]
  },
  {
   "cell_type": "code",
   "execution_count": null,
   "metadata": {},
   "outputs": [],
   "source": [
    "# convert the COmpanySize no information value into NoInfo\n",
    "pattern = re.compile(r\"(I don't know)|(I prefer not to answer)\")\n",
    "df2017_certain.CompanySize = df2017_certain.CompanySize.apply(preprocess.convert_single_func, args=(pattern, \"NoInfo\", True))"
   ]
  },
  {
   "cell_type": "code",
   "execution_count": null,
   "metadata": {},
   "outputs": [],
   "source": [
    "# convert value about the JobSatisfaction field\n",
    "def convert_job(x):\n",
    "    # convert the x value into a string value according by the int value\n",
    "    \n",
    "    if x == 0:\n",
    "        return \"Extremely dissatisfied\"\n",
    "    elif x <= 2:\n",
    "        return \"Moderately dissatisfied\"\n",
    "    elif x <= 4:\n",
    "        return \"Slightly dissatisfied\"\n",
    "    elif x == 5:\n",
    "        return \"Neither satisfied nor dissatisfied\"\n",
    "    elif x <= 7:\n",
    "        return \"Slightly satisfied\"\n",
    "    elif x <= 9:\n",
    "        return \"Moderately satisfied\"\n",
    "    elif x == 10:\n",
    "        return \"Extremely satisfied\"\n",
    "    else:\n",
    "        return x\n",
    "\n",
    "df2017_certain.JobSatisfaction = df2017_certain.JobSatisfaction.apply(convert_job)"
   ]
  },
  {
   "cell_type": "code",
   "execution_count": null,
   "metadata": {
    "scrolled": true
   },
   "outputs": [],
   "source": [
    "# merge the value about YearsCodedJob and YearsCodedJobPast into the field YearsCoding\n",
    "years_coding = []\n",
    "for index, row in df2017[[\"YearsCodedJob\", \"YearsCodedJobPast\"]].iterrows():\n",
    "    if not pd.isnull(row.YearsCodedJobPast) and pd.isnull(row.YearsCodedJob):\n",
    "        years_coding.append(row.YearsCodedJobPast)\n",
    "    else:\n",
    "        years_coding.append(row.YearsCodedJob)\n",
    "        \n",
    "df2017_certain.YearsCoding = years_coding"
   ]
  },
  {
   "cell_type": "code",
   "execution_count": null,
   "metadata": {},
   "outputs": [],
   "source": [
    "# Todo: Fix the values into uniform about YearsCoding field\n",
    "years_coding_dict = {\n",
    "    \"Less than a year\": \"0-2 years\",\n",
    "    \"1 to 2 years\": \"0-2 years\",\n",
    "    \"2 to 3 years\" : \"0-2 years\",\n",
    "    \"3 to 4 years\" : \"3-5 years\",\n",
    "    \"4 to 5 years\" : \"3-5 years\", \n",
    "    \"5 to 6 years\" : \"3-5 years\", \n",
    "    \"6 to 7 years\" : \"6-8 years\", \n",
    "    \"7 to 8 years\" : \"6-8 years\", \n",
    "    \"8 to 9 years\" : \"6-8 years\", \n",
    "    \"9 to 10 years\" : \"9-11 years\",\n",
    "    \"10 to 11 years\" : \"9-11 years\",\n",
    "    \"11 to 12 years\" : \"9-11 years\",\n",
    "    \"12 to 13 years\" : \"12-14 years\",\n",
    "    \"13 to 14 years\" : \"12-14 years\",\n",
    "    \"14 to 15 years\" : \"12-14 years\",\n",
    "    \"15 to 16 years\" : \"15-17 years\",\n",
    "    \"16 to 17 years\" : \"15-17 years\",\n",
    "    \"17 to 18 years\" : \"15-17 years\",\n",
    "    \"18 to 19 years\" : \"18-20 years\",\n",
    "    \"19 to 20 years\" : \"18-20 years\",\n",
    "}\n",
    "\n",
    "df2017_certain.YearsCoding.replace(years_coding_dict, inplace=True)"
   ]
  },
  {
   "cell_type": "code",
   "execution_count": null,
   "metadata": {},
   "outputs": [],
   "source": [
    "# ToDO: fix the values into uniform about UpdateCV field\n",
    "update_cv = {\n",
    "    'I received bad news about the future of my company or depart' : 'I received bad news about the future of my company or department',\n",
    "    'I completed a major project, assignment, or contract' : 'My job status or other personal status changed',\n",
    "    \"I saw an employer's advertisement\" : 'I saw an employer’s advertisement'\n",
    "}\n",
    "\n",
    "df2017_certain.UpdateCV.replace(update_cv, inplace=True)"
   ]
  },
  {
   "cell_type": "code",
   "execution_count": null,
   "metadata": {},
   "outputs": [],
   "source": [
    "# Todo: fix the value into uniform about DeveloperType field\n",
    "develop_type = {\n",
    "    'Web developer': 'Web developer',\n",
    "    'Mobile developer': 'Mobile developer',\n",
    "    'Desktop applications developer': 'Desktop or enterprise applications developer',\n",
    "    'Other': 'Other',\n",
    "    'Embedded applications/devices developer': 'Embedded applications or devices developer',\n",
    "    'Developer with a statistics or mathematics background': 'Developer with a statistics or mathematics background',\n",
    "    'Data scientist': 'Data scientist or machine learning specialist',\n",
    "    'DevOps specialist': 'DevOps specialist',\n",
    "    'Quality assurance engineer': 'QA or test developer',\n",
    "    'Database administrator': 'Database administrator',\n",
    "    'Graphics programming': 'Graphics programming',\n",
    "    'Machine learning specialist': 'Data scientist or machine learning specialist',\n",
    "    'Systems administrator': 'Systems administrator',\n",
    "    'Graphic designer': 'Designer',\n",
    "    'Systems administrator' : 'System administrator',\n",
    "    'Developer with a statistics or mathematics background': 'Educator or academic researcher',\n",
    "    'Graphics programming' : 'Game or graphics developer'\n",
    "}\n",
    "\n",
    "for pat, repl in develop_type.items():\n",
    "    preprocess.replace_value(df2017_certain, pat, repl, \"DeveloperType\", inplace=True)\n",
    "# df2017_certain.DeveloperType.replace(develop_type, inplace=True)"
   ]
  },
  {
   "cell_type": "code",
   "execution_count": null,
   "metadata": {},
   "outputs": [],
   "source": [
    "# Todo: fix the value with redundant space\n",
    "for pattern, replacement in zip([r\"^ | $\", r\"; \", r\" ;\"], [\"\", \";\", \";\"]):\n",
    "    for field in [\"LanguageDesireNextYear\", \"LanguageWorkedWith\", \n",
    "                  \"DatabaseWorkedWith\", \"DatabaseWorkedWith\", \n",
    "                  \"PlatformWorkedWith\", \"PlatformDesireNextYear\",\n",
    "                 \"MetricAssess\", \"SelfTaughtTypes\", \"EducationTypes\",\n",
    "                 \"DeveloperType\"]:\n",
    "        \n",
    "        preprocess.replace_value(df2017_certain, pattern, replacement, field, inplace=True)\n"
   ]
  },
  {
   "cell_type": "code",
   "execution_count": null,
   "metadata": {},
   "outputs": [],
   "source": [
    "# Todo: extract values from the field ProgramHobby to new fields  Hobby and OpenSource\n",
    "df2017_certain.OpenSource = df2017_certain.Hobby.replace({\n",
    "    \"Yes, I program as a hobby\":\"No\", \n",
    "    \"Yes, both\":\"Yes\",\n",
    "    \"Yes, I contribute to open source projects\":\"Yes\"\n",
    "})\n",
    "\n",
    "df2017_certain.Hobby.replace({\n",
    "    \"Yes, I program as a hobby\":\"Yes\", \n",
    "    \"Yes, both\":\"Yes\",\n",
    "    \"Yes, I contribute to open source projects\":\"No\"\n",
    "}, inplace=True)"
   ]
  },
  {
   "cell_type": "code",
   "execution_count": null,
   "metadata": {},
   "outputs": [],
   "source": [
    "# Todo: replace value about Not applicable/ never with I've never had a job\n",
    "df2017_certain.LastNewJob.replace({\n",
    "    \"Not applicable/ never\": \"I've never had a job\"\n",
    "}, inplace=True)"
   ]
  },
  {
   "cell_type": "code",
   "execution_count": null,
   "metadata": {},
   "outputs": [],
   "source": [
    "# Todo: replace value about field TimeAfterBootcamp\n",
    "df2017_certain.TimeAfterBootcamp.replace({\n",
    "    \"I already had a job as a developer when I started the program\" : \"I already had a full-time job as a developer when I began the program\",\n",
    "    \"Immediately upon graduating\":\"Immediately after graduating\",\n",
    "    \"I haven't gotten a job as a developer yet\": \"I haven’t gotten a developer job\",\n",
    "}, inplace=True)"
   ]
  },
  {
   "cell_type": "code",
   "execution_count": null,
   "metadata": {},
   "outputs": [],
   "source": []
  },
  {
   "cell_type": "markdown",
   "metadata": {},
   "source": [
    "**There are three fields in the 2018, that have to converte the values**\n",
    "\n",
    "* DeveloperType\n",
    "* SelfTaughtTypes\n",
    "* YearsCoding"
   ]
  },
  {
   "cell_type": "code",
   "execution_count": null,
   "metadata": {},
   "outputs": [],
   "source": [
    "develop_type ={\n",
    "    'Web developer': 'Web developer',\n",
    "    'Mobile developer': 'Mobile developer',\n",
    "    'Desktop applications developer': 'Desktop or enterprise applications developer',\n",
    "    'Other': 'Other',\n",
    "    'Embedded applications/devices developer': 'Embedded applications or devices developer',\n",
    "    'Developer with a statistics or mathematics background': 'Developer with a statistics or mathematics background',\n",
    "    'Data scientist': 'Data scientist or machine learning specialist',\n",
    "    'DevOps specialist': 'DevOps specialist',\n",
    "    'Quality assurance engineer': 'QA or test developer',\n",
    "    'Database administrator': 'Database administrator',\n",
    "    'Graphics programming': 'Graphics programming',\n",
    "    'Machine learning specialist': 'Data scientist or machine learning specialist',\n",
    "    'Systems administrator': 'Systems administrator',\n",
    "    'Graphic designer': 'Designer'\n",
    "}"
   ]
  },
  {
   "cell_type": "code",
   "execution_count": null,
   "metadata": {},
   "outputs": [],
   "source": [
    "self_taught = {\n",
    "    'A book or e-book from O’Reilly, Apress, or a similar publisher' : \"Textbook\",\n",
    "    'A college/university computer science or software engineering book' : 'Trade book',\n",
    "    'Internal Wikis, chat rooms, or documentation set up by my company for employees' :'Company internal community',\n",
    "    'Online developer communities other than Stack Overflow (ex. forums, listservs, IRC channels, etc.)' : 'Non-Stack online communities',\n",
    "    'Pre-scheduled tutoring or mentoring sessions with a friend or colleague': 'Tutoring/mentoring',\n",
    "    'Questions & answers on Stack Overflow':'Stack Overflow Q&A',\n",
    "    'Tapping your network of friends, family, and peers versed in the technology' : 'Friends network',\n",
    "    'The official documentation and/or standards for the technology' : 'Official documentation',\n",
    "    'The technology’s online help system' : 'Built-in help',\n",
    "}"
   ]
  },
  {
   "cell_type": "code",
   "execution_count": null,
   "metadata": {},
   "outputs": [],
   "source": [
    "education_types = {\n",
    "    'Completed an industry certification program (e.g. MCPD)':'Industry certification',\n",
    "    'Contributed to open source software' :'Open source contributions',\n",
    "    'Participated in a full-time developer training program or bootcamp' : 'Bootcamp',\n",
    "    'Participated in a hackathon' : 'Hackathon',\n",
    "    'Participated in online coding competitions (e.g. HackerRank, CodeChef, TopCoder)' : 'Coding competition',\n",
    "    'Received on-the-job training in software development' : 'On-the-job training',\n",
    "    'Taken a part-time in-person course in programming or software development' : 'Part-time/evening course',\n",
    "    'Taken an online course in programming or software development (e.g. a MOOC)' : 'Online course',\n",
    "     'Taught yourself a new language, framework, or tool without taking a formal course' : 'Self-taught',\n",
    "}"
   ]
  },
  {
   "cell_type": "code",
   "execution_count": null,
   "metadata": {},
   "outputs": [],
   "source": [
    "years_coding = {\n",
    "    '21-23 years':'20 or more years',\n",
    "    '24-26 years':'20 or more years',\n",
    "    '27-29 years':'20 or more years',\n",
    "    '30 or more years':'20 or more years', \n",
    "}"
   ]
  },
  {
   "cell_type": "code",
   "execution_count": null,
   "metadata": {},
   "outputs": [],
   "source": []
  },
  {
   "cell_type": "code",
   "execution_count": null,
   "metadata": {},
   "outputs": [],
   "source": []
  },
  {
   "cell_type": "code",
   "execution_count": null,
   "metadata": {},
   "outputs": [],
   "source": []
  },
  {
   "cell_type": "code",
   "execution_count": null,
   "metadata": {},
   "outputs": [],
   "source": [
    "raise"
   ]
  },
  {
   "cell_type": "code",
   "execution_count": null,
   "metadata": {},
   "outputs": [],
   "source": [
    "df2017_certain.LastNewJob.value_counts(dropna=False).index.difference(df2018.LastNewJob.value_counts(dropna=False).index)"
   ]
  },
  {
   "cell_type": "code",
   "execution_count": null,
   "metadata": {
    "scrolled": true
   },
   "outputs": [],
   "source": [
    "df2017_certain.YearsCoding.value_counts(dropna=False)"
   ]
  },
  {
   "cell_type": "code",
   "execution_count": null,
   "metadata": {},
   "outputs": [],
   "source": [
    "df2018.YearsCoding.value_counts(dropna=False)"
   ]
  },
  {
   "cell_type": "code",
   "execution_count": null,
   "metadata": {},
   "outputs": [],
   "source": [
    "raise"
   ]
  },
  {
   "cell_type": "code",
   "execution_count": null,
   "metadata": {},
   "outputs": [],
   "source": [
    "testset = set()\n",
    "for i in df2017_certain.YearsCoding.str.split(\";\"):\n",
    "    if isinstance(i, list):\n",
    "            for x in i:\n",
    "                testset.add(x)"
   ]
  },
  {
   "cell_type": "code",
   "execution_count": null,
   "metadata": {
    "scrolled": true
   },
   "outputs": [],
   "source": [
    "testset"
   ]
  },
  {
   "cell_type": "code",
   "execution_count": null,
   "metadata": {},
   "outputs": [],
   "source": [
    "testset2 = set()\n",
    "for i in df2018.YearsCoding.str.split(\";\"):\n",
    "    if isinstance(i, list):\n",
    "            for x in i:\n",
    "                testset2.add(x)"
   ]
  },
  {
   "cell_type": "code",
   "execution_count": null,
   "metadata": {
    "scrolled": true
   },
   "outputs": [],
   "source": [
    "testset2"
   ]
  },
  {
   "cell_type": "code",
   "execution_count": null,
   "metadata": {
    "scrolled": true
   },
   "outputs": [],
   "source": [
    "testset2.difference(testset)"
   ]
  },
  {
   "cell_type": "code",
   "execution_count": null,
   "metadata": {},
   "outputs": [],
   "source": [
    "df2018.YearsCoding.replace(years_coding, inplace=True)"
   ]
  },
  {
   "cell_type": "code",
   "execution_count": null,
   "metadata": {
    "scrolled": false
   },
   "outputs": [],
   "source": [
    "testset.difference(testset2)"
   ]
  },
  {
   "cell_type": "code",
   "execution_count": null,
   "metadata": {
    "scrolled": true
   },
   "outputs": [],
   "source": [
    "testset.union(testset2)"
   ]
  },
  {
   "cell_type": "code",
   "execution_count": null,
   "metadata": {},
   "outputs": [],
   "source": []
  },
  {
   "cell_type": "code",
   "execution_count": null,
   "metadata": {},
   "outputs": [],
   "source": [
    "'I saw an employer’s advertisement'\n",
    "\"I saw an employer's advertisement\""
   ]
  },
  {
   "cell_type": "code",
   "execution_count": null,
   "metadata": {},
   "outputs": [],
   "source": []
  },
  {
   "cell_type": "code",
   "execution_count": null,
   "metadata": {
    "scrolled": false
   },
   "outputs": [],
   "source": [
    "df2017_certain[~(df2017_certain.DeveloperType.str.find(\";\")>0)].DeveloperType.value_counts()"
   ]
  },
  {
   "cell_type": "code",
   "execution_count": null,
   "metadata": {},
   "outputs": [],
   "source": [
    "df2018[~(df2018.DevType.str.find(\";\")>0)].DevType.value_counts()"
   ]
  },
  {
   "cell_type": "code",
   "execution_count": null,
   "metadata": {},
   "outputs": [],
   "source": []
  },
  {
   "cell_type": "code",
   "execution_count": null,
   "metadata": {},
   "outputs": [],
   "source": []
  },
  {
   "cell_type": "code",
   "execution_count": null,
   "metadata": {},
   "outputs": [],
   "source": [
    "raise"
   ]
  },
  {
   "cell_type": "code",
   "execution_count": null,
   "metadata": {
    "scrolled": false
   },
   "outputs": [],
   "source": [
    "df2017_certain.info()"
   ]
  },
  {
   "cell_type": "code",
   "execution_count": null,
   "metadata": {},
   "outputs": [],
   "source": [
    "# store the data\n",
    "df2017_certain.to_csv(\"../data/survey2017.csv\", index=False)"
   ]
  }
 ],
 "metadata": {
  "kernelspec": {
   "display_name": "Python [default]",
   "language": "python",
   "name": "python3"
  },
  "language_info": {
   "codemirror_mode": {
    "name": "ipython",
    "version": 3
   },
   "file_extension": ".py",
   "mimetype": "text/x-python",
   "name": "python",
   "nbconvert_exporter": "python",
   "pygments_lexer": "ipython3",
   "version": "3.6.6"
  }
 },
 "nbformat": 4,
 "nbformat_minor": 2
}
